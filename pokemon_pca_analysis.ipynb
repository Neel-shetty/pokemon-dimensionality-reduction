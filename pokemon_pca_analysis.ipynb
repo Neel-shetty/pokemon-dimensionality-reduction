{
 "cells": [
  {
   "cell_type": "markdown",
   "id": "246cf4c3",
   "metadata": {},
   "source": [
    "# Principal Component Analysis (PCA) on Pokémon Dataset\n",
    "\n",
    "This notebook demonstrates the application of Principal Component Analysis (PCA) for dimensionality reduction and feature analysis using the Pokémon dataset."
   ]
  },
  {
   "cell_type": "markdown",
   "id": "34906077",
   "metadata": {},
   "source": [
    "## Import Required Libraries\n",
    "\n",
    "Import libraries such as pandas, numpy, matplotlib, seaborn, and sklearn for data manipulation, visualization, and PCA."
   ]
  },
  {
   "cell_type": "code",
   "execution_count": 178,
   "id": "c588a06e",
   "metadata": {},
   "outputs": [],
   "source": [
    "# Import necessary libraries\n",
    "import pandas as pd\n",
    "import numpy as np\n",
    "import matplotlib.pyplot as plt\n",
    "import seaborn as sns\n",
    "\n",
    "# For PCA and preprocessing\n",
    "from sklearn.decomposition import PCA\n",
    "from sklearn.preprocessing import StandardScaler\n",
    "\n",
    "# For visualization\n",
    "import plotly.express as px\n",
    "import plotly.graph_objects as go\n",
    "\n",
    "# For displaying plots inline\n",
    "%matplotlib inline\n",
    "\n",
    "# Set styling for better visualizations\n",
    "# plt.style.use('')\n",
    "sns.set_style(\"whitegrid\")\n",
    "plt.rcParams['figure.figsize'] = (12, 8)"
   ]
  },
  {
   "cell_type": "markdown",
   "id": "677069e3",
   "metadata": {},
   "source": [
    "## Load and Explore Dataset\n",
    "\n",
    "Load the Pokémon dataset from a CSV file and perform initial exploration, including checking for missing values and understanding the data structure."
   ]
  },
  {
   "cell_type": "code",
   "execution_count": 179,
   "id": "83f87f7d",
   "metadata": {},
   "outputs": [
    {
     "name": "stdout",
     "output_type": "stream",
     "text": [
      "First 5 rows of the dataset:\n"
     ]
    },
    {
     "data": {
      "text/html": [
       "<div>\n",
       "<style scoped>\n",
       "    .dataframe tbody tr th:only-of-type {\n",
       "        vertical-align: middle;\n",
       "    }\n",
       "\n",
       "    .dataframe tbody tr th {\n",
       "        vertical-align: top;\n",
       "    }\n",
       "\n",
       "    .dataframe thead th {\n",
       "        text-align: right;\n",
       "    }\n",
       "</style>\n",
       "<table border=\"1\" class=\"dataframe\">\n",
       "  <thead>\n",
       "    <tr style=\"text-align: right;\">\n",
       "      <th></th>\n",
       "      <th>abilities</th>\n",
       "      <th>against_bug</th>\n",
       "      <th>against_dark</th>\n",
       "      <th>against_dragon</th>\n",
       "      <th>against_electric</th>\n",
       "      <th>against_fairy</th>\n",
       "      <th>against_fight</th>\n",
       "      <th>against_fire</th>\n",
       "      <th>against_flying</th>\n",
       "      <th>against_ghost</th>\n",
       "      <th>...</th>\n",
       "      <th>percentage_male</th>\n",
       "      <th>pokedex_number</th>\n",
       "      <th>sp_attack</th>\n",
       "      <th>sp_defense</th>\n",
       "      <th>speed</th>\n",
       "      <th>type1</th>\n",
       "      <th>type2</th>\n",
       "      <th>weight_kg</th>\n",
       "      <th>generation</th>\n",
       "      <th>is_legendary</th>\n",
       "    </tr>\n",
       "  </thead>\n",
       "  <tbody>\n",
       "    <tr>\n",
       "      <th>0</th>\n",
       "      <td>['Overgrow', 'Chlorophyll']</td>\n",
       "      <td>1.0</td>\n",
       "      <td>1.0</td>\n",
       "      <td>1.0</td>\n",
       "      <td>0.5</td>\n",
       "      <td>0.5</td>\n",
       "      <td>0.5</td>\n",
       "      <td>2.0</td>\n",
       "      <td>2.0</td>\n",
       "      <td>1.0</td>\n",
       "      <td>...</td>\n",
       "      <td>88.1</td>\n",
       "      <td>1</td>\n",
       "      <td>65</td>\n",
       "      <td>65</td>\n",
       "      <td>45</td>\n",
       "      <td>grass</td>\n",
       "      <td>poison</td>\n",
       "      <td>6.9</td>\n",
       "      <td>1</td>\n",
       "      <td>0</td>\n",
       "    </tr>\n",
       "    <tr>\n",
       "      <th>1</th>\n",
       "      <td>['Overgrow', 'Chlorophyll']</td>\n",
       "      <td>1.0</td>\n",
       "      <td>1.0</td>\n",
       "      <td>1.0</td>\n",
       "      <td>0.5</td>\n",
       "      <td>0.5</td>\n",
       "      <td>0.5</td>\n",
       "      <td>2.0</td>\n",
       "      <td>2.0</td>\n",
       "      <td>1.0</td>\n",
       "      <td>...</td>\n",
       "      <td>88.1</td>\n",
       "      <td>2</td>\n",
       "      <td>80</td>\n",
       "      <td>80</td>\n",
       "      <td>60</td>\n",
       "      <td>grass</td>\n",
       "      <td>poison</td>\n",
       "      <td>13.0</td>\n",
       "      <td>1</td>\n",
       "      <td>0</td>\n",
       "    </tr>\n",
       "    <tr>\n",
       "      <th>2</th>\n",
       "      <td>['Overgrow', 'Chlorophyll']</td>\n",
       "      <td>1.0</td>\n",
       "      <td>1.0</td>\n",
       "      <td>1.0</td>\n",
       "      <td>0.5</td>\n",
       "      <td>0.5</td>\n",
       "      <td>0.5</td>\n",
       "      <td>2.0</td>\n",
       "      <td>2.0</td>\n",
       "      <td>1.0</td>\n",
       "      <td>...</td>\n",
       "      <td>88.1</td>\n",
       "      <td>3</td>\n",
       "      <td>122</td>\n",
       "      <td>120</td>\n",
       "      <td>80</td>\n",
       "      <td>grass</td>\n",
       "      <td>poison</td>\n",
       "      <td>100.0</td>\n",
       "      <td>1</td>\n",
       "      <td>0</td>\n",
       "    </tr>\n",
       "    <tr>\n",
       "      <th>3</th>\n",
       "      <td>['Blaze', 'Solar Power']</td>\n",
       "      <td>0.5</td>\n",
       "      <td>1.0</td>\n",
       "      <td>1.0</td>\n",
       "      <td>1.0</td>\n",
       "      <td>0.5</td>\n",
       "      <td>1.0</td>\n",
       "      <td>0.5</td>\n",
       "      <td>1.0</td>\n",
       "      <td>1.0</td>\n",
       "      <td>...</td>\n",
       "      <td>88.1</td>\n",
       "      <td>4</td>\n",
       "      <td>60</td>\n",
       "      <td>50</td>\n",
       "      <td>65</td>\n",
       "      <td>fire</td>\n",
       "      <td>NaN</td>\n",
       "      <td>8.5</td>\n",
       "      <td>1</td>\n",
       "      <td>0</td>\n",
       "    </tr>\n",
       "    <tr>\n",
       "      <th>4</th>\n",
       "      <td>['Blaze', 'Solar Power']</td>\n",
       "      <td>0.5</td>\n",
       "      <td>1.0</td>\n",
       "      <td>1.0</td>\n",
       "      <td>1.0</td>\n",
       "      <td>0.5</td>\n",
       "      <td>1.0</td>\n",
       "      <td>0.5</td>\n",
       "      <td>1.0</td>\n",
       "      <td>1.0</td>\n",
       "      <td>...</td>\n",
       "      <td>88.1</td>\n",
       "      <td>5</td>\n",
       "      <td>80</td>\n",
       "      <td>65</td>\n",
       "      <td>80</td>\n",
       "      <td>fire</td>\n",
       "      <td>NaN</td>\n",
       "      <td>19.0</td>\n",
       "      <td>1</td>\n",
       "      <td>0</td>\n",
       "    </tr>\n",
       "  </tbody>\n",
       "</table>\n",
       "<p>5 rows × 41 columns</p>\n",
       "</div>"
      ],
      "text/plain": [
       "                     abilities  against_bug  against_dark  against_dragon  \\\n",
       "0  ['Overgrow', 'Chlorophyll']          1.0           1.0             1.0   \n",
       "1  ['Overgrow', 'Chlorophyll']          1.0           1.0             1.0   \n",
       "2  ['Overgrow', 'Chlorophyll']          1.0           1.0             1.0   \n",
       "3     ['Blaze', 'Solar Power']          0.5           1.0             1.0   \n",
       "4     ['Blaze', 'Solar Power']          0.5           1.0             1.0   \n",
       "\n",
       "   against_electric  against_fairy  against_fight  against_fire  \\\n",
       "0               0.5            0.5            0.5           2.0   \n",
       "1               0.5            0.5            0.5           2.0   \n",
       "2               0.5            0.5            0.5           2.0   \n",
       "3               1.0            0.5            1.0           0.5   \n",
       "4               1.0            0.5            1.0           0.5   \n",
       "\n",
       "   against_flying  against_ghost  ...  percentage_male  pokedex_number  \\\n",
       "0             2.0            1.0  ...             88.1               1   \n",
       "1             2.0            1.0  ...             88.1               2   \n",
       "2             2.0            1.0  ...             88.1               3   \n",
       "3             1.0            1.0  ...             88.1               4   \n",
       "4             1.0            1.0  ...             88.1               5   \n",
       "\n",
       "   sp_attack  sp_defense  speed  type1   type2  weight_kg  generation  \\\n",
       "0         65          65     45  grass  poison        6.9           1   \n",
       "1         80          80     60  grass  poison       13.0           1   \n",
       "2        122         120     80  grass  poison      100.0           1   \n",
       "3         60          50     65   fire     NaN        8.5           1   \n",
       "4         80          65     80   fire     NaN       19.0           1   \n",
       "\n",
       "   is_legendary  \n",
       "0             0  \n",
       "1             0  \n",
       "2             0  \n",
       "3             0  \n",
       "4             0  \n",
       "\n",
       "[5 rows x 41 columns]"
      ]
     },
     "metadata": {},
     "output_type": "display_data"
    },
    {
     "name": "stdout",
     "output_type": "stream",
     "text": [
      "\n",
      "Dataset information:\n",
      "<class 'pandas.core.frame.DataFrame'>\n",
      "RangeIndex: 801 entries, 0 to 800\n",
      "Data columns (total 41 columns):\n",
      " #   Column             Non-Null Count  Dtype  \n",
      "---  ------             --------------  -----  \n",
      " 0   abilities          801 non-null    object \n",
      " 1   against_bug        801 non-null    float64\n",
      " 2   against_dark       801 non-null    float64\n",
      " 3   against_dragon     801 non-null    float64\n",
      " 4   against_electric   801 non-null    float64\n",
      " 5   against_fairy      801 non-null    float64\n",
      " 6   against_fight      801 non-null    float64\n",
      " 7   against_fire       801 non-null    float64\n",
      " 8   against_flying     801 non-null    float64\n",
      " 9   against_ghost      801 non-null    float64\n",
      " 10  against_grass      801 non-null    float64\n",
      " 11  against_ground     801 non-null    float64\n",
      " 12  against_ice        801 non-null    float64\n",
      " 13  against_normal     801 non-null    float64\n",
      " 14  against_poison     801 non-null    float64\n",
      " 15  against_psychic    801 non-null    float64\n",
      " 16  against_rock       801 non-null    float64\n",
      " 17  against_steel      801 non-null    float64\n",
      " 18  against_water      801 non-null    float64\n",
      " 19  attack             801 non-null    int64  \n",
      " 20  base_egg_steps     801 non-null    int64  \n",
      " 21  base_happiness     801 non-null    int64  \n",
      " 22  base_total         801 non-null    int64  \n",
      " 23  capture_rate       801 non-null    object \n",
      " 24  classfication      801 non-null    object \n",
      " 25  defense            801 non-null    int64  \n",
      " 26  experience_growth  801 non-null    int64  \n",
      " 27  height_m           781 non-null    float64\n",
      " 28  hp                 801 non-null    int64  \n",
      " 29  japanese_name      801 non-null    object \n",
      " 30  name               801 non-null    object \n",
      " 31  percentage_male    703 non-null    float64\n",
      " 32  pokedex_number     801 non-null    int64  \n",
      " 33  sp_attack          801 non-null    int64  \n",
      " 34  sp_defense         801 non-null    int64  \n",
      " 35  speed              801 non-null    int64  \n",
      " 36  type1              801 non-null    object \n",
      " 37  type2              417 non-null    object \n",
      " 38  weight_kg          781 non-null    float64\n",
      " 39  generation         801 non-null    int64  \n",
      " 40  is_legendary       801 non-null    int64  \n",
      "dtypes: float64(21), int64(13), object(7)\n",
      "memory usage: 256.7+ KB\n"
     ]
    },
    {
     "data": {
      "text/plain": [
       "None"
      ]
     },
     "metadata": {},
     "output_type": "display_data"
    },
    {
     "name": "stdout",
     "output_type": "stream",
     "text": [
      "\n",
      "Missing values in each column:\n"
     ]
    },
    {
     "data": {
      "text/plain": [
       "abilities              0\n",
       "against_bug            0\n",
       "against_dark           0\n",
       "against_dragon         0\n",
       "against_electric       0\n",
       "against_fairy          0\n",
       "against_fight          0\n",
       "against_fire           0\n",
       "against_flying         0\n",
       "against_ghost          0\n",
       "against_grass          0\n",
       "against_ground         0\n",
       "against_ice            0\n",
       "against_normal         0\n",
       "against_poison         0\n",
       "against_psychic        0\n",
       "against_rock           0\n",
       "against_steel          0\n",
       "against_water          0\n",
       "attack                 0\n",
       "base_egg_steps         0\n",
       "base_happiness         0\n",
       "base_total             0\n",
       "capture_rate           0\n",
       "classfication          0\n",
       "defense                0\n",
       "experience_growth      0\n",
       "height_m              20\n",
       "hp                     0\n",
       "japanese_name          0\n",
       "name                   0\n",
       "percentage_male       98\n",
       "pokedex_number         0\n",
       "sp_attack              0\n",
       "sp_defense             0\n",
       "speed                  0\n",
       "type1                  0\n",
       "type2                384\n",
       "weight_kg             20\n",
       "generation             0\n",
       "is_legendary           0\n",
       "dtype: int64"
      ]
     },
     "metadata": {},
     "output_type": "display_data"
    },
    {
     "name": "stdout",
     "output_type": "stream",
     "text": [
      "\n",
      "Statistical summary of numerical features:\n"
     ]
    },
    {
     "data": {
      "text/html": [
       "<div>\n",
       "<style scoped>\n",
       "    .dataframe tbody tr th:only-of-type {\n",
       "        vertical-align: middle;\n",
       "    }\n",
       "\n",
       "    .dataframe tbody tr th {\n",
       "        vertical-align: top;\n",
       "    }\n",
       "\n",
       "    .dataframe thead th {\n",
       "        text-align: right;\n",
       "    }\n",
       "</style>\n",
       "<table border=\"1\" class=\"dataframe\">\n",
       "  <thead>\n",
       "    <tr style=\"text-align: right;\">\n",
       "      <th></th>\n",
       "      <th>against_bug</th>\n",
       "      <th>against_dark</th>\n",
       "      <th>against_dragon</th>\n",
       "      <th>against_electric</th>\n",
       "      <th>against_fairy</th>\n",
       "      <th>against_fight</th>\n",
       "      <th>against_fire</th>\n",
       "      <th>against_flying</th>\n",
       "      <th>against_ghost</th>\n",
       "      <th>against_grass</th>\n",
       "      <th>...</th>\n",
       "      <th>height_m</th>\n",
       "      <th>hp</th>\n",
       "      <th>percentage_male</th>\n",
       "      <th>pokedex_number</th>\n",
       "      <th>sp_attack</th>\n",
       "      <th>sp_defense</th>\n",
       "      <th>speed</th>\n",
       "      <th>weight_kg</th>\n",
       "      <th>generation</th>\n",
       "      <th>is_legendary</th>\n",
       "    </tr>\n",
       "  </thead>\n",
       "  <tbody>\n",
       "    <tr>\n",
       "      <th>count</th>\n",
       "      <td>801.000000</td>\n",
       "      <td>801.000000</td>\n",
       "      <td>801.000000</td>\n",
       "      <td>801.000000</td>\n",
       "      <td>801.000000</td>\n",
       "      <td>801.000000</td>\n",
       "      <td>801.000000</td>\n",
       "      <td>801.000000</td>\n",
       "      <td>801.000000</td>\n",
       "      <td>801.000000</td>\n",
       "      <td>...</td>\n",
       "      <td>781.000000</td>\n",
       "      <td>801.000000</td>\n",
       "      <td>703.000000</td>\n",
       "      <td>801.000000</td>\n",
       "      <td>801.000000</td>\n",
       "      <td>801.000000</td>\n",
       "      <td>801.000000</td>\n",
       "      <td>781.000000</td>\n",
       "      <td>801.000000</td>\n",
       "      <td>801.000000</td>\n",
       "    </tr>\n",
       "    <tr>\n",
       "      <th>mean</th>\n",
       "      <td>0.996255</td>\n",
       "      <td>1.057116</td>\n",
       "      <td>0.968789</td>\n",
       "      <td>1.073970</td>\n",
       "      <td>1.068976</td>\n",
       "      <td>1.065543</td>\n",
       "      <td>1.135456</td>\n",
       "      <td>1.192884</td>\n",
       "      <td>0.985019</td>\n",
       "      <td>1.034020</td>\n",
       "      <td>...</td>\n",
       "      <td>1.163892</td>\n",
       "      <td>68.958801</td>\n",
       "      <td>55.155761</td>\n",
       "      <td>401.000000</td>\n",
       "      <td>71.305868</td>\n",
       "      <td>70.911361</td>\n",
       "      <td>66.334582</td>\n",
       "      <td>61.378105</td>\n",
       "      <td>3.690387</td>\n",
       "      <td>0.087391</td>\n",
       "    </tr>\n",
       "    <tr>\n",
       "      <th>std</th>\n",
       "      <td>0.597248</td>\n",
       "      <td>0.438142</td>\n",
       "      <td>0.353058</td>\n",
       "      <td>0.654962</td>\n",
       "      <td>0.522167</td>\n",
       "      <td>0.717251</td>\n",
       "      <td>0.691853</td>\n",
       "      <td>0.604488</td>\n",
       "      <td>0.558256</td>\n",
       "      <td>0.788896</td>\n",
       "      <td>...</td>\n",
       "      <td>1.080326</td>\n",
       "      <td>26.576015</td>\n",
       "      <td>20.261623</td>\n",
       "      <td>231.373075</td>\n",
       "      <td>32.353826</td>\n",
       "      <td>27.942501</td>\n",
       "      <td>28.907662</td>\n",
       "      <td>109.354766</td>\n",
       "      <td>1.930420</td>\n",
       "      <td>0.282583</td>\n",
       "    </tr>\n",
       "    <tr>\n",
       "      <th>min</th>\n",
       "      <td>0.250000</td>\n",
       "      <td>0.250000</td>\n",
       "      <td>0.000000</td>\n",
       "      <td>0.000000</td>\n",
       "      <td>0.250000</td>\n",
       "      <td>0.000000</td>\n",
       "      <td>0.250000</td>\n",
       "      <td>0.250000</td>\n",
       "      <td>0.000000</td>\n",
       "      <td>0.250000</td>\n",
       "      <td>...</td>\n",
       "      <td>0.100000</td>\n",
       "      <td>1.000000</td>\n",
       "      <td>0.000000</td>\n",
       "      <td>1.000000</td>\n",
       "      <td>10.000000</td>\n",
       "      <td>20.000000</td>\n",
       "      <td>5.000000</td>\n",
       "      <td>0.100000</td>\n",
       "      <td>1.000000</td>\n",
       "      <td>0.000000</td>\n",
       "    </tr>\n",
       "    <tr>\n",
       "      <th>25%</th>\n",
       "      <td>0.500000</td>\n",
       "      <td>1.000000</td>\n",
       "      <td>1.000000</td>\n",
       "      <td>0.500000</td>\n",
       "      <td>1.000000</td>\n",
       "      <td>0.500000</td>\n",
       "      <td>0.500000</td>\n",
       "      <td>1.000000</td>\n",
       "      <td>1.000000</td>\n",
       "      <td>0.500000</td>\n",
       "      <td>...</td>\n",
       "      <td>0.600000</td>\n",
       "      <td>50.000000</td>\n",
       "      <td>50.000000</td>\n",
       "      <td>201.000000</td>\n",
       "      <td>45.000000</td>\n",
       "      <td>50.000000</td>\n",
       "      <td>45.000000</td>\n",
       "      <td>9.000000</td>\n",
       "      <td>2.000000</td>\n",
       "      <td>0.000000</td>\n",
       "    </tr>\n",
       "    <tr>\n",
       "      <th>50%</th>\n",
       "      <td>1.000000</td>\n",
       "      <td>1.000000</td>\n",
       "      <td>1.000000</td>\n",
       "      <td>1.000000</td>\n",
       "      <td>1.000000</td>\n",
       "      <td>1.000000</td>\n",
       "      <td>1.000000</td>\n",
       "      <td>1.000000</td>\n",
       "      <td>1.000000</td>\n",
       "      <td>1.000000</td>\n",
       "      <td>...</td>\n",
       "      <td>1.000000</td>\n",
       "      <td>65.000000</td>\n",
       "      <td>50.000000</td>\n",
       "      <td>401.000000</td>\n",
       "      <td>65.000000</td>\n",
       "      <td>66.000000</td>\n",
       "      <td>65.000000</td>\n",
       "      <td>27.300000</td>\n",
       "      <td>4.000000</td>\n",
       "      <td>0.000000</td>\n",
       "    </tr>\n",
       "    <tr>\n",
       "      <th>75%</th>\n",
       "      <td>1.000000</td>\n",
       "      <td>1.000000</td>\n",
       "      <td>1.000000</td>\n",
       "      <td>1.000000</td>\n",
       "      <td>1.000000</td>\n",
       "      <td>1.000000</td>\n",
       "      <td>2.000000</td>\n",
       "      <td>1.000000</td>\n",
       "      <td>1.000000</td>\n",
       "      <td>1.000000</td>\n",
       "      <td>...</td>\n",
       "      <td>1.500000</td>\n",
       "      <td>80.000000</td>\n",
       "      <td>50.000000</td>\n",
       "      <td>601.000000</td>\n",
       "      <td>91.000000</td>\n",
       "      <td>90.000000</td>\n",
       "      <td>85.000000</td>\n",
       "      <td>64.800000</td>\n",
       "      <td>5.000000</td>\n",
       "      <td>0.000000</td>\n",
       "    </tr>\n",
       "    <tr>\n",
       "      <th>max</th>\n",
       "      <td>4.000000</td>\n",
       "      <td>4.000000</td>\n",
       "      <td>2.000000</td>\n",
       "      <td>4.000000</td>\n",
       "      <td>4.000000</td>\n",
       "      <td>4.000000</td>\n",
       "      <td>4.000000</td>\n",
       "      <td>4.000000</td>\n",
       "      <td>4.000000</td>\n",
       "      <td>4.000000</td>\n",
       "      <td>...</td>\n",
       "      <td>14.500000</td>\n",
       "      <td>255.000000</td>\n",
       "      <td>100.000000</td>\n",
       "      <td>801.000000</td>\n",
       "      <td>194.000000</td>\n",
       "      <td>230.000000</td>\n",
       "      <td>180.000000</td>\n",
       "      <td>999.900000</td>\n",
       "      <td>7.000000</td>\n",
       "      <td>1.000000</td>\n",
       "    </tr>\n",
       "  </tbody>\n",
       "</table>\n",
       "<p>8 rows × 34 columns</p>\n",
       "</div>"
      ],
      "text/plain": [
       "       against_bug  against_dark  against_dragon  against_electric  \\\n",
       "count   801.000000    801.000000      801.000000        801.000000   \n",
       "mean      0.996255      1.057116        0.968789          1.073970   \n",
       "std       0.597248      0.438142        0.353058          0.654962   \n",
       "min       0.250000      0.250000        0.000000          0.000000   \n",
       "25%       0.500000      1.000000        1.000000          0.500000   \n",
       "50%       1.000000      1.000000        1.000000          1.000000   \n",
       "75%       1.000000      1.000000        1.000000          1.000000   \n",
       "max       4.000000      4.000000        2.000000          4.000000   \n",
       "\n",
       "       against_fairy  against_fight  against_fire  against_flying  \\\n",
       "count     801.000000     801.000000    801.000000      801.000000   \n",
       "mean        1.068976       1.065543      1.135456        1.192884   \n",
       "std         0.522167       0.717251      0.691853        0.604488   \n",
       "min         0.250000       0.000000      0.250000        0.250000   \n",
       "25%         1.000000       0.500000      0.500000        1.000000   \n",
       "50%         1.000000       1.000000      1.000000        1.000000   \n",
       "75%         1.000000       1.000000      2.000000        1.000000   \n",
       "max         4.000000       4.000000      4.000000        4.000000   \n",
       "\n",
       "       against_ghost  against_grass  ...    height_m          hp  \\\n",
       "count     801.000000     801.000000  ...  781.000000  801.000000   \n",
       "mean        0.985019       1.034020  ...    1.163892   68.958801   \n",
       "std         0.558256       0.788896  ...    1.080326   26.576015   \n",
       "min         0.000000       0.250000  ...    0.100000    1.000000   \n",
       "25%         1.000000       0.500000  ...    0.600000   50.000000   \n",
       "50%         1.000000       1.000000  ...    1.000000   65.000000   \n",
       "75%         1.000000       1.000000  ...    1.500000   80.000000   \n",
       "max         4.000000       4.000000  ...   14.500000  255.000000   \n",
       "\n",
       "       percentage_male  pokedex_number   sp_attack  sp_defense       speed  \\\n",
       "count       703.000000      801.000000  801.000000  801.000000  801.000000   \n",
       "mean         55.155761      401.000000   71.305868   70.911361   66.334582   \n",
       "std          20.261623      231.373075   32.353826   27.942501   28.907662   \n",
       "min           0.000000        1.000000   10.000000   20.000000    5.000000   \n",
       "25%          50.000000      201.000000   45.000000   50.000000   45.000000   \n",
       "50%          50.000000      401.000000   65.000000   66.000000   65.000000   \n",
       "75%          50.000000      601.000000   91.000000   90.000000   85.000000   \n",
       "max         100.000000      801.000000  194.000000  230.000000  180.000000   \n",
       "\n",
       "        weight_kg  generation  is_legendary  \n",
       "count  781.000000  801.000000    801.000000  \n",
       "mean    61.378105    3.690387      0.087391  \n",
       "std    109.354766    1.930420      0.282583  \n",
       "min      0.100000    1.000000      0.000000  \n",
       "25%      9.000000    2.000000      0.000000  \n",
       "50%     27.300000    4.000000      0.000000  \n",
       "75%     64.800000    5.000000      0.000000  \n",
       "max    999.900000    7.000000      1.000000  \n",
       "\n",
       "[8 rows x 34 columns]"
      ]
     },
     "metadata": {},
     "output_type": "display_data"
    },
    {
     "name": "stdout",
     "output_type": "stream",
     "text": [
      "\n",
      "Unique Pokémon types:\n"
     ]
    },
    {
     "data": {
      "text/plain": [
       "type1\n",
       "water       114\n",
       "normal      105\n",
       "grass        78\n",
       "bug          72\n",
       "psychic      53\n",
       "fire         52\n",
       "rock         45\n",
       "electric     39\n",
       "poison       32\n",
       "ground       32\n",
       "dark         29\n",
       "fighting     28\n",
       "dragon       27\n",
       "ghost        27\n",
       "steel        24\n",
       "ice          23\n",
       "fairy        18\n",
       "flying        3\n",
       "Name: count, dtype: int64"
      ]
     },
     "metadata": {},
     "output_type": "display_data"
    },
    {
     "name": "stdout",
     "output_type": "stream",
     "text": [
      "\n",
      "Unique generations:\n"
     ]
    },
    {
     "data": {
      "text/plain": [
       "generation\n",
       "5    156\n",
       "1    151\n",
       "3    135\n",
       "4    107\n",
       "2    100\n",
       "7     80\n",
       "6     72\n",
       "Name: count, dtype: int64"
      ]
     },
     "metadata": {},
     "output_type": "display_data"
    },
    {
     "name": "stdout",
     "output_type": "stream",
     "text": [
      "\n",
      "Legendary Pokémon count:\n"
     ]
    },
    {
     "data": {
      "text/plain": [
       "is_legendary\n",
       "0    731\n",
       "1     70\n",
       "Name: count, dtype: int64"
      ]
     },
     "metadata": {},
     "output_type": "display_data"
    }
   ],
   "source": [
    "# Load the Pokémon dataset\n",
    "# Note: Adjust the file path if needed\n",
    "try:\n",
    "    df = pd.read_csv('data/pokemon.csv')\n",
    "except FileNotFoundError:\n",
    "    try:\n",
    "        # Alternative path if the file is not in the current directory\n",
    "        df = pd.read_csv('/home/neel/code/python/pr-assignment/pokemon.csv')\n",
    "    except FileNotFoundError:\n",
    "        print(\"Please download the Pokémon dataset and place it in the appropriate directory\")\n",
    "        # You can add code to download the dataset if needed\n",
    "        # For example:\n",
    "        # !wget https://raw.githubusercontent.com/path/to/pokemon.csv\n",
    "\n",
    "# Display the first few rows of the dataset\n",
    "print(\"First 5 rows of the dataset:\")\n",
    "display(df.head())\n",
    "\n",
    "# Get basic information about the dataset\n",
    "print(\"\\nDataset information:\")\n",
    "display(df.info())\n",
    "\n",
    "# Check for missing values\n",
    "print(\"\\nMissing values in each column:\")\n",
    "display(df.isna().sum())\n",
    "\n",
    "# Get statistical summary of numerical features\n",
    "print(\"\\nStatistical summary of numerical features:\")\n",
    "display(df.describe())\n",
    "\n",
    "# Get unique values for categorical columns\n",
    "print(\"\\nUnique Pokémon types:\")\n",
    "if 'type1' in df.columns:\n",
    "    display(df['type1'].value_counts())\n",
    "    \n",
    "print(\"\\nUnique generations:\")\n",
    "if 'generation' in df.columns:\n",
    "    display(df['generation'].value_counts())\n",
    "    \n",
    "print(\"\\nLegendary Pokémon count:\")\n",
    "if 'is_legendary' in df.columns:\n",
    "    display(df['is_legendary'].value_counts())"
   ]
  },
  {
   "cell_type": "markdown",
   "id": "cc143aa7",
   "metadata": {},
   "source": [
    "### Data Visualization\n",
    "\n",
    "Let's visualize the distribution of some important features to better understand our dataset."
   ]
  },
  {
   "cell_type": "markdown",
   "id": "5130c0b5",
   "metadata": {},
   "source": [
    "# Principal Component Analysis on Pokémon Dataset\n",
    "\n",
    "This notebook implements PCA on the Pokémon dataset to analyze:\n",
    "1. Core battle stats (attack, defense, hp, etc.)\n",
    "2. Type effectiveness profiles (weaknesses and resistances)\n",
    "\n",
    "We'll explore how different Pokémon types and generations cluster together in reduced dimensions."
   ]
  },
  {
   "cell_type": "markdown",
   "id": "b03c8542",
   "metadata": {},
   "source": [
    "## 1. Load and Explore Dataset\n",
    "\n",
    "First, let's import necessary libraries and load the Pokémon dataset."
   ]
  },
  {
   "cell_type": "code",
   "execution_count": 180,
   "id": "8c9fc8eb",
   "metadata": {},
   "outputs": [],
   "source": [
    "# Import required libraries\n",
    "import numpy as np\n",
    "import pandas as pd\n",
    "import matplotlib.pyplot as plt\n",
    "import seaborn as sns\n",
    "from sklearn.preprocessing import StandardScaler\n",
    "from sklearn.decomposition import PCA\n",
    "import plotly.express as px\n",
    "import plotly.graph_objects as go\n",
    "from plotly.subplots import make_subplots\n",
    "\n",
    "# Set the style for matplotlib plots\n",
    "plt.style.use('ggplot')\n",
    "sns.set(style=\"whitegrid\")\n",
    "\n",
    "# Suppress warnings\n",
    "import warnings\n",
    "warnings.filterwarnings('ignore')"
   ]
  },
  {
   "cell_type": "code",
   "execution_count": 181,
   "id": "21cba9ec",
   "metadata": {},
   "outputs": [
    {
     "name": "stdout",
     "output_type": "stream",
     "text": [
      "Dataset Preview:\n"
     ]
    },
    {
     "data": {
      "text/html": [
       "<div>\n",
       "<style scoped>\n",
       "    .dataframe tbody tr th:only-of-type {\n",
       "        vertical-align: middle;\n",
       "    }\n",
       "\n",
       "    .dataframe tbody tr th {\n",
       "        vertical-align: top;\n",
       "    }\n",
       "\n",
       "    .dataframe thead th {\n",
       "        text-align: right;\n",
       "    }\n",
       "</style>\n",
       "<table border=\"1\" class=\"dataframe\">\n",
       "  <thead>\n",
       "    <tr style=\"text-align: right;\">\n",
       "      <th></th>\n",
       "      <th>abilities</th>\n",
       "      <th>against_bug</th>\n",
       "      <th>against_dark</th>\n",
       "      <th>against_dragon</th>\n",
       "      <th>against_electric</th>\n",
       "      <th>against_fairy</th>\n",
       "      <th>against_fight</th>\n",
       "      <th>against_fire</th>\n",
       "      <th>against_flying</th>\n",
       "      <th>against_ghost</th>\n",
       "      <th>...</th>\n",
       "      <th>percentage_male</th>\n",
       "      <th>pokedex_number</th>\n",
       "      <th>sp_attack</th>\n",
       "      <th>sp_defense</th>\n",
       "      <th>speed</th>\n",
       "      <th>type1</th>\n",
       "      <th>type2</th>\n",
       "      <th>weight_kg</th>\n",
       "      <th>generation</th>\n",
       "      <th>is_legendary</th>\n",
       "    </tr>\n",
       "  </thead>\n",
       "  <tbody>\n",
       "    <tr>\n",
       "      <th>0</th>\n",
       "      <td>['Overgrow', 'Chlorophyll']</td>\n",
       "      <td>1.0</td>\n",
       "      <td>1.0</td>\n",
       "      <td>1.0</td>\n",
       "      <td>0.5</td>\n",
       "      <td>0.5</td>\n",
       "      <td>0.5</td>\n",
       "      <td>2.0</td>\n",
       "      <td>2.0</td>\n",
       "      <td>1.0</td>\n",
       "      <td>...</td>\n",
       "      <td>88.1</td>\n",
       "      <td>1</td>\n",
       "      <td>65</td>\n",
       "      <td>65</td>\n",
       "      <td>45</td>\n",
       "      <td>grass</td>\n",
       "      <td>poison</td>\n",
       "      <td>6.9</td>\n",
       "      <td>1</td>\n",
       "      <td>0</td>\n",
       "    </tr>\n",
       "    <tr>\n",
       "      <th>1</th>\n",
       "      <td>['Overgrow', 'Chlorophyll']</td>\n",
       "      <td>1.0</td>\n",
       "      <td>1.0</td>\n",
       "      <td>1.0</td>\n",
       "      <td>0.5</td>\n",
       "      <td>0.5</td>\n",
       "      <td>0.5</td>\n",
       "      <td>2.0</td>\n",
       "      <td>2.0</td>\n",
       "      <td>1.0</td>\n",
       "      <td>...</td>\n",
       "      <td>88.1</td>\n",
       "      <td>2</td>\n",
       "      <td>80</td>\n",
       "      <td>80</td>\n",
       "      <td>60</td>\n",
       "      <td>grass</td>\n",
       "      <td>poison</td>\n",
       "      <td>13.0</td>\n",
       "      <td>1</td>\n",
       "      <td>0</td>\n",
       "    </tr>\n",
       "    <tr>\n",
       "      <th>2</th>\n",
       "      <td>['Overgrow', 'Chlorophyll']</td>\n",
       "      <td>1.0</td>\n",
       "      <td>1.0</td>\n",
       "      <td>1.0</td>\n",
       "      <td>0.5</td>\n",
       "      <td>0.5</td>\n",
       "      <td>0.5</td>\n",
       "      <td>2.0</td>\n",
       "      <td>2.0</td>\n",
       "      <td>1.0</td>\n",
       "      <td>...</td>\n",
       "      <td>88.1</td>\n",
       "      <td>3</td>\n",
       "      <td>122</td>\n",
       "      <td>120</td>\n",
       "      <td>80</td>\n",
       "      <td>grass</td>\n",
       "      <td>poison</td>\n",
       "      <td>100.0</td>\n",
       "      <td>1</td>\n",
       "      <td>0</td>\n",
       "    </tr>\n",
       "    <tr>\n",
       "      <th>3</th>\n",
       "      <td>['Blaze', 'Solar Power']</td>\n",
       "      <td>0.5</td>\n",
       "      <td>1.0</td>\n",
       "      <td>1.0</td>\n",
       "      <td>1.0</td>\n",
       "      <td>0.5</td>\n",
       "      <td>1.0</td>\n",
       "      <td>0.5</td>\n",
       "      <td>1.0</td>\n",
       "      <td>1.0</td>\n",
       "      <td>...</td>\n",
       "      <td>88.1</td>\n",
       "      <td>4</td>\n",
       "      <td>60</td>\n",
       "      <td>50</td>\n",
       "      <td>65</td>\n",
       "      <td>fire</td>\n",
       "      <td>NaN</td>\n",
       "      <td>8.5</td>\n",
       "      <td>1</td>\n",
       "      <td>0</td>\n",
       "    </tr>\n",
       "    <tr>\n",
       "      <th>4</th>\n",
       "      <td>['Blaze', 'Solar Power']</td>\n",
       "      <td>0.5</td>\n",
       "      <td>1.0</td>\n",
       "      <td>1.0</td>\n",
       "      <td>1.0</td>\n",
       "      <td>0.5</td>\n",
       "      <td>1.0</td>\n",
       "      <td>0.5</td>\n",
       "      <td>1.0</td>\n",
       "      <td>1.0</td>\n",
       "      <td>...</td>\n",
       "      <td>88.1</td>\n",
       "      <td>5</td>\n",
       "      <td>80</td>\n",
       "      <td>65</td>\n",
       "      <td>80</td>\n",
       "      <td>fire</td>\n",
       "      <td>NaN</td>\n",
       "      <td>19.0</td>\n",
       "      <td>1</td>\n",
       "      <td>0</td>\n",
       "    </tr>\n",
       "  </tbody>\n",
       "</table>\n",
       "<p>5 rows × 41 columns</p>\n",
       "</div>"
      ],
      "text/plain": [
       "                     abilities  against_bug  against_dark  against_dragon  \\\n",
       "0  ['Overgrow', 'Chlorophyll']          1.0           1.0             1.0   \n",
       "1  ['Overgrow', 'Chlorophyll']          1.0           1.0             1.0   \n",
       "2  ['Overgrow', 'Chlorophyll']          1.0           1.0             1.0   \n",
       "3     ['Blaze', 'Solar Power']          0.5           1.0             1.0   \n",
       "4     ['Blaze', 'Solar Power']          0.5           1.0             1.0   \n",
       "\n",
       "   against_electric  against_fairy  against_fight  against_fire  \\\n",
       "0               0.5            0.5            0.5           2.0   \n",
       "1               0.5            0.5            0.5           2.0   \n",
       "2               0.5            0.5            0.5           2.0   \n",
       "3               1.0            0.5            1.0           0.5   \n",
       "4               1.0            0.5            1.0           0.5   \n",
       "\n",
       "   against_flying  against_ghost  ...  percentage_male  pokedex_number  \\\n",
       "0             2.0            1.0  ...             88.1               1   \n",
       "1             2.0            1.0  ...             88.1               2   \n",
       "2             2.0            1.0  ...             88.1               3   \n",
       "3             1.0            1.0  ...             88.1               4   \n",
       "4             1.0            1.0  ...             88.1               5   \n",
       "\n",
       "   sp_attack  sp_defense  speed  type1   type2  weight_kg  generation  \\\n",
       "0         65          65     45  grass  poison        6.9           1   \n",
       "1         80          80     60  grass  poison       13.0           1   \n",
       "2        122         120     80  grass  poison      100.0           1   \n",
       "3         60          50     65   fire     NaN        8.5           1   \n",
       "4         80          65     80   fire     NaN       19.0           1   \n",
       "\n",
       "   is_legendary  \n",
       "0             0  \n",
       "1             0  \n",
       "2             0  \n",
       "3             0  \n",
       "4             0  \n",
       "\n",
       "[5 rows x 41 columns]"
      ]
     },
     "execution_count": 181,
     "metadata": {},
     "output_type": "execute_result"
    }
   ],
   "source": [
    "# Load the Pokémon dataset\n",
    "# Note: You may need to adjust the file path based on your actual data location\n",
    "try:\n",
    "    pokemon_df = pd.read_csv('data/pokemon.csv')\n",
    "except FileNotFoundError:\n",
    "    # Alternative location\n",
    "    pokemon_df = pd.read_csv('../data/pokemon.csv')\n",
    "    \n",
    "# Display the first few rows\n",
    "print(\"Dataset Preview:\")\n",
    "pokemon_df.head()"
   ]
  },
  {
   "cell_type": "code",
   "execution_count": 182,
   "id": "2fad783a",
   "metadata": {},
   "outputs": [
    {
     "name": "stdout",
     "output_type": "stream",
     "text": [
      "Dataset shape: (801, 41)\n",
      "\n",
      "Basic Statistics:\n"
     ]
    },
    {
     "data": {
      "text/html": [
       "<div>\n",
       "<style scoped>\n",
       "    .dataframe tbody tr th:only-of-type {\n",
       "        vertical-align: middle;\n",
       "    }\n",
       "\n",
       "    .dataframe tbody tr th {\n",
       "        vertical-align: top;\n",
       "    }\n",
       "\n",
       "    .dataframe thead th {\n",
       "        text-align: right;\n",
       "    }\n",
       "</style>\n",
       "<table border=\"1\" class=\"dataframe\">\n",
       "  <thead>\n",
       "    <tr style=\"text-align: right;\">\n",
       "      <th></th>\n",
       "      <th>against_bug</th>\n",
       "      <th>against_dark</th>\n",
       "      <th>against_dragon</th>\n",
       "      <th>against_electric</th>\n",
       "      <th>against_fairy</th>\n",
       "      <th>against_fight</th>\n",
       "      <th>against_fire</th>\n",
       "      <th>against_flying</th>\n",
       "      <th>against_ghost</th>\n",
       "      <th>against_grass</th>\n",
       "      <th>...</th>\n",
       "      <th>height_m</th>\n",
       "      <th>hp</th>\n",
       "      <th>percentage_male</th>\n",
       "      <th>pokedex_number</th>\n",
       "      <th>sp_attack</th>\n",
       "      <th>sp_defense</th>\n",
       "      <th>speed</th>\n",
       "      <th>weight_kg</th>\n",
       "      <th>generation</th>\n",
       "      <th>is_legendary</th>\n",
       "    </tr>\n",
       "  </thead>\n",
       "  <tbody>\n",
       "    <tr>\n",
       "      <th>count</th>\n",
       "      <td>801.000000</td>\n",
       "      <td>801.000000</td>\n",
       "      <td>801.000000</td>\n",
       "      <td>801.000000</td>\n",
       "      <td>801.000000</td>\n",
       "      <td>801.000000</td>\n",
       "      <td>801.000000</td>\n",
       "      <td>801.000000</td>\n",
       "      <td>801.000000</td>\n",
       "      <td>801.000000</td>\n",
       "      <td>...</td>\n",
       "      <td>781.000000</td>\n",
       "      <td>801.000000</td>\n",
       "      <td>703.000000</td>\n",
       "      <td>801.000000</td>\n",
       "      <td>801.000000</td>\n",
       "      <td>801.000000</td>\n",
       "      <td>801.000000</td>\n",
       "      <td>781.000000</td>\n",
       "      <td>801.000000</td>\n",
       "      <td>801.000000</td>\n",
       "    </tr>\n",
       "    <tr>\n",
       "      <th>mean</th>\n",
       "      <td>0.996255</td>\n",
       "      <td>1.057116</td>\n",
       "      <td>0.968789</td>\n",
       "      <td>1.073970</td>\n",
       "      <td>1.068976</td>\n",
       "      <td>1.065543</td>\n",
       "      <td>1.135456</td>\n",
       "      <td>1.192884</td>\n",
       "      <td>0.985019</td>\n",
       "      <td>1.034020</td>\n",
       "      <td>...</td>\n",
       "      <td>1.163892</td>\n",
       "      <td>68.958801</td>\n",
       "      <td>55.155761</td>\n",
       "      <td>401.000000</td>\n",
       "      <td>71.305868</td>\n",
       "      <td>70.911361</td>\n",
       "      <td>66.334582</td>\n",
       "      <td>61.378105</td>\n",
       "      <td>3.690387</td>\n",
       "      <td>0.087391</td>\n",
       "    </tr>\n",
       "    <tr>\n",
       "      <th>std</th>\n",
       "      <td>0.597248</td>\n",
       "      <td>0.438142</td>\n",
       "      <td>0.353058</td>\n",
       "      <td>0.654962</td>\n",
       "      <td>0.522167</td>\n",
       "      <td>0.717251</td>\n",
       "      <td>0.691853</td>\n",
       "      <td>0.604488</td>\n",
       "      <td>0.558256</td>\n",
       "      <td>0.788896</td>\n",
       "      <td>...</td>\n",
       "      <td>1.080326</td>\n",
       "      <td>26.576015</td>\n",
       "      <td>20.261623</td>\n",
       "      <td>231.373075</td>\n",
       "      <td>32.353826</td>\n",
       "      <td>27.942501</td>\n",
       "      <td>28.907662</td>\n",
       "      <td>109.354766</td>\n",
       "      <td>1.930420</td>\n",
       "      <td>0.282583</td>\n",
       "    </tr>\n",
       "    <tr>\n",
       "      <th>min</th>\n",
       "      <td>0.250000</td>\n",
       "      <td>0.250000</td>\n",
       "      <td>0.000000</td>\n",
       "      <td>0.000000</td>\n",
       "      <td>0.250000</td>\n",
       "      <td>0.000000</td>\n",
       "      <td>0.250000</td>\n",
       "      <td>0.250000</td>\n",
       "      <td>0.000000</td>\n",
       "      <td>0.250000</td>\n",
       "      <td>...</td>\n",
       "      <td>0.100000</td>\n",
       "      <td>1.000000</td>\n",
       "      <td>0.000000</td>\n",
       "      <td>1.000000</td>\n",
       "      <td>10.000000</td>\n",
       "      <td>20.000000</td>\n",
       "      <td>5.000000</td>\n",
       "      <td>0.100000</td>\n",
       "      <td>1.000000</td>\n",
       "      <td>0.000000</td>\n",
       "    </tr>\n",
       "    <tr>\n",
       "      <th>25%</th>\n",
       "      <td>0.500000</td>\n",
       "      <td>1.000000</td>\n",
       "      <td>1.000000</td>\n",
       "      <td>0.500000</td>\n",
       "      <td>1.000000</td>\n",
       "      <td>0.500000</td>\n",
       "      <td>0.500000</td>\n",
       "      <td>1.000000</td>\n",
       "      <td>1.000000</td>\n",
       "      <td>0.500000</td>\n",
       "      <td>...</td>\n",
       "      <td>0.600000</td>\n",
       "      <td>50.000000</td>\n",
       "      <td>50.000000</td>\n",
       "      <td>201.000000</td>\n",
       "      <td>45.000000</td>\n",
       "      <td>50.000000</td>\n",
       "      <td>45.000000</td>\n",
       "      <td>9.000000</td>\n",
       "      <td>2.000000</td>\n",
       "      <td>0.000000</td>\n",
       "    </tr>\n",
       "    <tr>\n",
       "      <th>50%</th>\n",
       "      <td>1.000000</td>\n",
       "      <td>1.000000</td>\n",
       "      <td>1.000000</td>\n",
       "      <td>1.000000</td>\n",
       "      <td>1.000000</td>\n",
       "      <td>1.000000</td>\n",
       "      <td>1.000000</td>\n",
       "      <td>1.000000</td>\n",
       "      <td>1.000000</td>\n",
       "      <td>1.000000</td>\n",
       "      <td>...</td>\n",
       "      <td>1.000000</td>\n",
       "      <td>65.000000</td>\n",
       "      <td>50.000000</td>\n",
       "      <td>401.000000</td>\n",
       "      <td>65.000000</td>\n",
       "      <td>66.000000</td>\n",
       "      <td>65.000000</td>\n",
       "      <td>27.300000</td>\n",
       "      <td>4.000000</td>\n",
       "      <td>0.000000</td>\n",
       "    </tr>\n",
       "    <tr>\n",
       "      <th>75%</th>\n",
       "      <td>1.000000</td>\n",
       "      <td>1.000000</td>\n",
       "      <td>1.000000</td>\n",
       "      <td>1.000000</td>\n",
       "      <td>1.000000</td>\n",
       "      <td>1.000000</td>\n",
       "      <td>2.000000</td>\n",
       "      <td>1.000000</td>\n",
       "      <td>1.000000</td>\n",
       "      <td>1.000000</td>\n",
       "      <td>...</td>\n",
       "      <td>1.500000</td>\n",
       "      <td>80.000000</td>\n",
       "      <td>50.000000</td>\n",
       "      <td>601.000000</td>\n",
       "      <td>91.000000</td>\n",
       "      <td>90.000000</td>\n",
       "      <td>85.000000</td>\n",
       "      <td>64.800000</td>\n",
       "      <td>5.000000</td>\n",
       "      <td>0.000000</td>\n",
       "    </tr>\n",
       "    <tr>\n",
       "      <th>max</th>\n",
       "      <td>4.000000</td>\n",
       "      <td>4.000000</td>\n",
       "      <td>2.000000</td>\n",
       "      <td>4.000000</td>\n",
       "      <td>4.000000</td>\n",
       "      <td>4.000000</td>\n",
       "      <td>4.000000</td>\n",
       "      <td>4.000000</td>\n",
       "      <td>4.000000</td>\n",
       "      <td>4.000000</td>\n",
       "      <td>...</td>\n",
       "      <td>14.500000</td>\n",
       "      <td>255.000000</td>\n",
       "      <td>100.000000</td>\n",
       "      <td>801.000000</td>\n",
       "      <td>194.000000</td>\n",
       "      <td>230.000000</td>\n",
       "      <td>180.000000</td>\n",
       "      <td>999.900000</td>\n",
       "      <td>7.000000</td>\n",
       "      <td>1.000000</td>\n",
       "    </tr>\n",
       "  </tbody>\n",
       "</table>\n",
       "<p>8 rows × 34 columns</p>\n",
       "</div>"
      ],
      "text/plain": [
       "       against_bug  against_dark  against_dragon  against_electric  \\\n",
       "count   801.000000    801.000000      801.000000        801.000000   \n",
       "mean      0.996255      1.057116        0.968789          1.073970   \n",
       "std       0.597248      0.438142        0.353058          0.654962   \n",
       "min       0.250000      0.250000        0.000000          0.000000   \n",
       "25%       0.500000      1.000000        1.000000          0.500000   \n",
       "50%       1.000000      1.000000        1.000000          1.000000   \n",
       "75%       1.000000      1.000000        1.000000          1.000000   \n",
       "max       4.000000      4.000000        2.000000          4.000000   \n",
       "\n",
       "       against_fairy  against_fight  against_fire  against_flying  \\\n",
       "count     801.000000     801.000000    801.000000      801.000000   \n",
       "mean        1.068976       1.065543      1.135456        1.192884   \n",
       "std         0.522167       0.717251      0.691853        0.604488   \n",
       "min         0.250000       0.000000      0.250000        0.250000   \n",
       "25%         1.000000       0.500000      0.500000        1.000000   \n",
       "50%         1.000000       1.000000      1.000000        1.000000   \n",
       "75%         1.000000       1.000000      2.000000        1.000000   \n",
       "max         4.000000       4.000000      4.000000        4.000000   \n",
       "\n",
       "       against_ghost  against_grass  ...    height_m          hp  \\\n",
       "count     801.000000     801.000000  ...  781.000000  801.000000   \n",
       "mean        0.985019       1.034020  ...    1.163892   68.958801   \n",
       "std         0.558256       0.788896  ...    1.080326   26.576015   \n",
       "min         0.000000       0.250000  ...    0.100000    1.000000   \n",
       "25%         1.000000       0.500000  ...    0.600000   50.000000   \n",
       "50%         1.000000       1.000000  ...    1.000000   65.000000   \n",
       "75%         1.000000       1.000000  ...    1.500000   80.000000   \n",
       "max         4.000000       4.000000  ...   14.500000  255.000000   \n",
       "\n",
       "       percentage_male  pokedex_number   sp_attack  sp_defense       speed  \\\n",
       "count       703.000000      801.000000  801.000000  801.000000  801.000000   \n",
       "mean         55.155761      401.000000   71.305868   70.911361   66.334582   \n",
       "std          20.261623      231.373075   32.353826   27.942501   28.907662   \n",
       "min           0.000000        1.000000   10.000000   20.000000    5.000000   \n",
       "25%          50.000000      201.000000   45.000000   50.000000   45.000000   \n",
       "50%          50.000000      401.000000   65.000000   66.000000   65.000000   \n",
       "75%          50.000000      601.000000   91.000000   90.000000   85.000000   \n",
       "max         100.000000      801.000000  194.000000  230.000000  180.000000   \n",
       "\n",
       "        weight_kg  generation  is_legendary  \n",
       "count  781.000000  801.000000    801.000000  \n",
       "mean    61.378105    3.690387      0.087391  \n",
       "std    109.354766    1.930420      0.282583  \n",
       "min      0.100000    1.000000      0.000000  \n",
       "25%      9.000000    2.000000      0.000000  \n",
       "50%     27.300000    4.000000      0.000000  \n",
       "75%     64.800000    5.000000      0.000000  \n",
       "max    999.900000    7.000000      1.000000  \n",
       "\n",
       "[8 rows x 34 columns]"
      ]
     },
     "execution_count": 182,
     "metadata": {},
     "output_type": "execute_result"
    }
   ],
   "source": [
    "# Check the shape of the dataset\n",
    "print(f\"Dataset shape: {pokemon_df.shape}\")\n",
    "\n",
    "# Check for basic statistics\n",
    "print(\"\\nBasic Statistics:\")\n",
    "pokemon_df.describe()"
   ]
  },
  {
   "cell_type": "code",
   "execution_count": 183,
   "id": "be95d70e",
   "metadata": {},
   "outputs": [
    {
     "name": "stdout",
     "output_type": "stream",
     "text": [
      "Missing values in each column:\n"
     ]
    },
    {
     "data": {
      "text/plain": [
       "abilities              0\n",
       "against_bug            0\n",
       "against_dark           0\n",
       "against_dragon         0\n",
       "against_electric       0\n",
       "against_fairy          0\n",
       "against_fight          0\n",
       "against_fire           0\n",
       "against_flying         0\n",
       "against_ghost          0\n",
       "against_grass          0\n",
       "against_ground         0\n",
       "against_ice            0\n",
       "against_normal         0\n",
       "against_poison         0\n",
       "against_psychic        0\n",
       "against_rock           0\n",
       "against_steel          0\n",
       "against_water          0\n",
       "attack                 0\n",
       "base_egg_steps         0\n",
       "base_happiness         0\n",
       "base_total             0\n",
       "capture_rate           0\n",
       "classfication          0\n",
       "defense                0\n",
       "experience_growth      0\n",
       "height_m              20\n",
       "hp                     0\n",
       "japanese_name          0\n",
       "name                   0\n",
       "percentage_male       98\n",
       "pokedex_number         0\n",
       "sp_attack              0\n",
       "sp_defense             0\n",
       "speed                  0\n",
       "type1                  0\n",
       "type2                384\n",
       "weight_kg             20\n",
       "generation             0\n",
       "is_legendary           0\n",
       "dtype: int64"
      ]
     },
     "execution_count": 183,
     "metadata": {},
     "output_type": "execute_result"
    }
   ],
   "source": [
    "# Check for missing values\n",
    "print(\"Missing values in each column:\")\n",
    "pokemon_df.isnull().sum()"
   ]
  },
  {
   "cell_type": "code",
   "execution_count": 184,
   "id": "9df05463",
   "metadata": {},
   "outputs": [
    {
     "name": "stdout",
     "output_type": "stream",
     "text": [
      "Column names and data types:\n",
      "<class 'pandas.core.frame.DataFrame'>\n",
      "RangeIndex: 801 entries, 0 to 800\n",
      "Data columns (total 41 columns):\n",
      " #   Column             Non-Null Count  Dtype  \n",
      "---  ------             --------------  -----  \n",
      " 0   abilities          801 non-null    object \n",
      " 1   against_bug        801 non-null    float64\n",
      " 2   against_dark       801 non-null    float64\n",
      " 3   against_dragon     801 non-null    float64\n",
      " 4   against_electric   801 non-null    float64\n",
      " 5   against_fairy      801 non-null    float64\n",
      " 6   against_fight      801 non-null    float64\n",
      " 7   against_fire       801 non-null    float64\n",
      " 8   against_flying     801 non-null    float64\n",
      " 9   against_ghost      801 non-null    float64\n",
      " 10  against_grass      801 non-null    float64\n",
      " 11  against_ground     801 non-null    float64\n",
      " 12  against_ice        801 non-null    float64\n",
      " 13  against_normal     801 non-null    float64\n",
      " 14  against_poison     801 non-null    float64\n",
      " 15  against_psychic    801 non-null    float64\n",
      " 16  against_rock       801 non-null    float64\n",
      " 17  against_steel      801 non-null    float64\n",
      " 18  against_water      801 non-null    float64\n",
      " 19  attack             801 non-null    int64  \n",
      " 20  base_egg_steps     801 non-null    int64  \n",
      " 21  base_happiness     801 non-null    int64  \n",
      " 22  base_total         801 non-null    int64  \n",
      " 23  capture_rate       801 non-null    object \n",
      " 24  classfication      801 non-null    object \n",
      " 25  defense            801 non-null    int64  \n",
      " 26  experience_growth  801 non-null    int64  \n",
      " 27  height_m           781 non-null    float64\n",
      " 28  hp                 801 non-null    int64  \n",
      " 29  japanese_name      801 non-null    object \n",
      " 30  name               801 non-null    object \n",
      " 31  percentage_male    703 non-null    float64\n",
      " 32  pokedex_number     801 non-null    int64  \n",
      " 33  sp_attack          801 non-null    int64  \n",
      " 34  sp_defense         801 non-null    int64  \n",
      " 35  speed              801 non-null    int64  \n",
      " 36  type1              801 non-null    object \n",
      " 37  type2              417 non-null    object \n",
      " 38  weight_kg          781 non-null    float64\n",
      " 39  generation         801 non-null    int64  \n",
      " 40  is_legendary       801 non-null    int64  \n",
      "dtypes: float64(21), int64(13), object(7)\n",
      "memory usage: 256.7+ KB\n"
     ]
    }
   ],
   "source": [
    "# Explore the dataset structure\n",
    "print(\"Column names and data types:\")\n",
    "pokemon_df.info()"
   ]
  },
  {
   "cell_type": "markdown",
   "id": "044fc61c",
   "metadata": {},
   "source": [
    "## 2. Preprocess Data\n",
    "\n",
    "Now we'll preprocess the data:\n",
    "- Handle missing values\n",
    "- Log-transform skewed features (e.g., height_m, weight_kg)\n",
    "- Scale numerical features using StandardScaler"
   ]
  },
  {
   "cell_type": "code",
   "execution_count": 185,
   "id": "e74f4150",
   "metadata": {},
   "outputs": [
    {
     "name": "stdout",
     "output_type": "stream",
     "text": [
      "Missing values after handling: 0\n"
     ]
    }
   ],
   "source": [
    "# Create a copy of the original dataframe\n",
    "pokemon_clean = pokemon_df.copy()\n",
    "\n",
    "# Handle missing values\n",
    "# For numerical columns, fill with median\n",
    "numeric_cols = pokemon_clean.select_dtypes(include=['int64', 'float64']).columns\n",
    "pokemon_clean[numeric_cols] = pokemon_clean[numeric_cols].fillna(pokemon_clean[numeric_cols].median())\n",
    "\n",
    "# For categorical columns, fill with mode\n",
    "categorical_cols = pokemon_clean.select_dtypes(include=['object']).columns\n",
    "for col in categorical_cols:\n",
    "    pokemon_clean[col] = pokemon_clean[col].fillna(pokemon_clean[col].mode()[0])\n",
    "\n",
    "# Check if all missing values have been addressed\n",
    "print(f\"Missing values after handling: {pokemon_clean.isnull().sum().sum()}\")"
   ]
  },
  {
   "cell_type": "code",
   "execution_count": 186,
   "id": "e57095ef",
   "metadata": {},
   "outputs": [
    {
     "data": {
      "image/png": "[encoded data removed]",
      "text/plain": [
       "<Figure size 1200x400 with 2 Axes>"
      ]
     },
     "metadata": {},
     "output_type": "display_data"
    },
    {
     "data": {
      "image/png": "[encoded data removed]",
      "text/plain": [
       "<Figure size 1200x400 with 2 Axes>"
      ]
     },
     "metadata": {},
     "output_type": "display_data"
    }
   ],
   "source": [
    "# Log-transform skewed features like height and weight (if they exist)\n",
    "skewed_features = ['height_m', 'weight_kg']\n",
    "for feature in skewed_features:\n",
    "    if feature in pokemon_clean.columns:\n",
    "        # Add a small constant to avoid log(0)\n",
    "        pokemon_clean[f'{feature}_log'] = np.log1p(pokemon_clean[feature].replace(0, 0.01))\n",
    "        \n",
    "        # Plot original vs log-transformed distribution\n",
    "        fig, ax = plt.subplots(1, 2, figsize=(12, 4))\n",
    "        sns.histplot(pokemon_clean[feature], ax=ax[0], kde=True)\n",
    "        ax[0].set_title(f'Original {feature} Distribution')\n",
    "        \n",
    "        sns.histplot(pokemon_clean[f'{feature}_log'], ax=ax[1], kde=True)\n",
    "        ax[1].set_title(f'Log-Transformed {feature} Distribution')\n",
    "        plt.tight_layout()\n",
    "        plt.show()"
   ]
  },
  {
   "cell_type": "markdown",
   "id": "8f352d9f",
   "metadata": {},
   "source": [
    "## 3. PCA on Core Battle Stats\n",
    "\n",
    "In this section, we'll apply PCA to the core battle stats:\n",
    "- HP\n",
    "- Attack\n",
    "- Defense\n",
    "- Special Attack\n",
    "- Special Defense\n",
    "- Speed\n",
    "- Base Total (if available)\n",
    "\n",
    "We'll determine the number of components needed to explain 95% of the variance and interpret the principal components."
   ]
  },
  {
   "cell_type": "code",
   "execution_count": 187,
   "id": "98cc9f6c",
   "metadata": {},
   "outputs": [
    {
     "name": "stdout",
     "output_type": "stream",
     "text": [
      "Core battle stats to analyze: ['hp', 'attack', 'defense', 'sp_attack', 'sp_defense', 'speed', 'base_total']\n"
     ]
    }
   ],
   "source": [
    "# Define core battle stats columns\n",
    "battle_stats = ['hp', 'attack', 'defense', 'sp_attack', 'sp_defense', 'speed']\n",
    "\n",
    "# Add base_total if it exists, otherwise calculate it\n",
    "if 'base_total' in pokemon_clean.columns:\n",
    "    battle_stats.append('base_total')\n",
    "elif all(stat in pokemon_clean.columns for stat in battle_stats):\n",
    "    pokemon_clean['base_total'] = pokemon_clean[battle_stats].sum(axis=1)\n",
    "    battle_stats.append('base_total')\n",
    "\n",
    "# Check if we have all the required columns\n",
    "missing_cols = [col for col in battle_stats if col not in pokemon_clean.columns]\n",
    "if missing_cols:\n",
    "    print(f\"Warning: Missing columns {missing_cols}. Proceeding with available columns.\")\n",
    "    battle_stats = [col for col in battle_stats if col in pokemon_clean.columns]\n",
    "\n",
    "# Extract battle stats data\n",
    "battle_data = pokemon_clean[battle_stats].copy()\n",
    "\n",
    "# Scale the data\n",
    "scaler = StandardScaler()\n",
    "battle_data_scaled = scaler.fit_transform(battle_data)\n",
    "\n",
    "print(\"Core battle stats to analyze:\", battle_stats)"
   ]
  },
  {
   "cell_type": "code",
   "execution_count": 188,
   "id": "0fe43d11",
   "metadata": {},
   "outputs": [
    {
     "name": "stdout",
     "output_type": "stream",
     "text": [
      "Number of components needed for 90% variance: 4\n",
      "Number of components needed for 95% variance: 5\n"
     ]
    },
    {
     "data": {
      "image/png": "[encoded data removed]",
      "text/plain": [
       "<Figure size 1000x600 with 1 Axes>"
      ]
     },
     "metadata": {},
     "output_type": "display_data"
    }
   ],
   "source": [
    "# Apply PCA to battle stats\n",
    "pca_battle = PCA()\n",
    "battle_pca = pca_battle.fit_transform(battle_data_scaled)\n",
    "\n",
    "# Calculate explained variance\n",
    "explained_variance = pca_battle.explained_variance_ratio_\n",
    "cumulative_variance = np.cumsum(explained_variance)\n",
    "\n",
    "# Find number of components for 90% and 95% variance\n",
    "components_90 = np.argmax(cumulative_variance >= 0.9) + 1\n",
    "components_95 = np.argmax(cumulative_variance >= 0.95) + 1\n",
    "\n",
    "print(f\"Number of components needed for 90% variance: {components_90}\")\n",
    "print(f\"Number of components needed for 95% variance: {components_95}\")\n",
    "\n",
    "# Plot explained variance\n",
    "plt.figure(figsize=(10, 6))\n",
    "plt.bar(range(1, len(explained_variance) + 1), explained_variance, alpha=0.7, label='Individual explained variance')\n",
    "plt.step(range(1, len(cumulative_variance) + 1), cumulative_variance, where='mid', label='Cumulative explained variance')\n",
    "plt.axhline(y=0.9, linestyle='--', color='k', label='90% Threshold')\n",
    "plt.axhline(y=0.95, linestyle='--', color='r', label='95% Threshold')\n",
    "plt.xlabel('Number of Principal Components')\n",
    "plt.ylabel('Explained Variance Ratio')\n",
    "plt.title('Explained Variance by Components (Battle Stats)')\n",
    "plt.legend()\n",
    "plt.tight_layout()\n",
    "plt.show()"
   ]
  },
  {
   "cell_type": "code",
   "execution_count": 189,
   "id": "96d770c8",
   "metadata": {},
   "outputs": [
    {
     "data": {
      "image/png": "[encoded data removed]",
      "text/plain": [
       "<Figure size 1200x800 with 2 Axes>"
      ]
     },
     "metadata": {},
     "output_type": "display_data"
    },
    {
     "name": "stdout",
     "output_type": "stream",
     "text": [
      "Top 3 Principal Components Interpretation:\n",
      "\n",
      "PC1 most influential features:\n",
      "  - base_total: 0.521\n",
      "  - sp_attack: 0.388\n",
      "  - sp_defense: 0.383\n",
      "\n",
      "PC2 most influential features:\n",
      "  - speed: 0.701\n",
      "  - defense: -0.603\n",
      "  - sp_attack: 0.293\n",
      "\n",
      "PC3 most influential features:\n",
      "  - attack: 0.643\n",
      "  - sp_defense: -0.582\n",
      "  - sp_attack: -0.362\n"
     ]
    }
   ],
   "source": [
    "# Analyze PCA components for battle stats\n",
    "component_df = pd.DataFrame(\n",
    "    pca_battle.components_,\n",
    "    columns=battle_stats,\n",
    "    index=[f'PC{i+1}' for i in range(len(battle_stats))]\n",
    ")\n",
    "\n",
    "plt.figure(figsize=(12, 8))\n",
    "sns.heatmap(component_df.iloc[:5], cmap='coolwarm', annot=True, fmt='.2f')\n",
    "plt.title('PCA Components for Battle Stats')\n",
    "plt.tight_layout()\n",
    "plt.show()\n",
    "\n",
    "# Detailed analysis of the first 3 principal components\n",
    "print(\"Top 3 Principal Components Interpretation:\")\n",
    "for i in range(3):\n",
    "    pc = component_df.iloc[i].abs().sort_values(ascending=False)\n",
    "    print(f\"\\nPC{i+1} most influential features:\")\n",
    "    for feat, val in pc.head(3).items():\n",
    "        print(f\"  - {feat}: {component_df.iloc[i][feat]:.3f}\")"
   ]
  },
  {
   "cell_type": "markdown",
   "id": "82b730da",
   "metadata": {},
   "source": [
    "## 4. PCA on Type Effectiveness Profile\n",
    "\n",
    "Now, let's apply PCA to the type effectiveness columns (`against_*`). These columns represent how vulnerable a Pokémon is to different attack types."
   ]
  },
  {
   "cell_type": "code",
   "execution_count": 190,
   "id": "31fbfe58",
   "metadata": {},
   "outputs": [
    {
     "name": "stdout",
     "output_type": "stream",
     "text": [
      "Found 18 type effectiveness columns:\n",
      "against_bug, against_dark, against_dragon, against_electric, against_fairy, against_fight, against_fire, against_flying, against_ghost, against_grass, against_ground, against_ice, against_normal, against_poison, against_psychic, against_rock, against_steel, against_water\n"
     ]
    }
   ],
   "source": [
    "# Get type effectiveness columns (columns that start with 'against_')\n",
    "type_cols = [col for col in pokemon_clean.columns if col.startswith('against_')]\n",
    "\n",
    "# Check if we have type effectiveness columns\n",
    "if not type_cols:\n",
    "    print(\"No 'against_*' columns found in the dataset. This part of the analysis will be skipped.\")\n",
    "else:\n",
    "    print(f\"Found {len(type_cols)} type effectiveness columns:\")\n",
    "    print(\", \".join(type_cols))\n",
    "    \n",
    "    # Extract type effectiveness data\n",
    "    type_data = pokemon_clean[type_cols].copy()\n",
    "    \n",
    "    # Scale the data\n",
    "    type_data_scaled = StandardScaler().fit_transform(type_data)"
   ]
  },
  {
   "cell_type": "code",
   "execution_count": 191,
   "id": "6dd4efb2",
   "metadata": {},
   "outputs": [
    {
     "name": "stdout",
     "output_type": "stream",
     "text": [
      "Number of components needed for 90% variance: 10\n",
      "Number of components needed for 95% variance: 12\n"
     ]
    },
    {
     "data": {
      "image/png": "[encoded data removed]",
      "text/plain": [
       "<Figure size 1000x600 with 1 Axes>"
      ]
     },
     "metadata": {},
     "output_type": "display_data"
    }
   ],
   "source": [
    "# If we have type effectiveness columns, apply PCA\n",
    "if len(type_cols) > 0:\n",
    "    # Apply PCA to type effectiveness data\n",
    "    pca_type = PCA()\n",
    "    type_pca = pca_type.fit_transform(type_data_scaled)\n",
    "    \n",
    "    # Calculate explained variance\n",
    "    explained_variance_type = pca_type.explained_variance_ratio_\n",
    "    cumulative_variance_type = np.cumsum(explained_variance_type)\n",
    "    \n",
    "    # Find number of components for 90% and 95% variance\n",
    "    components_90_type = np.argmax(cumulative_variance_type >= 0.9) + 1\n",
    "    components_95_type = np.argmax(cumulative_variance_type >= 0.95) + 1\n",
    "    \n",
    "    print(f\"Number of components needed for 90% variance: {components_90_type}\")\n",
    "    print(f\"Number of components needed for 95% variance: {components_95_type}\")\n",
    "    \n",
    "    # Plot explained variance\n",
    "    plt.figure(figsize=(10, 6))\n",
    "    plt.bar(range(1, len(explained_variance_type) + 1), explained_variance_type, alpha=0.7, label='Individual explained variance')\n",
    "    plt.step(range(1, len(cumulative_variance_type) + 1), cumulative_variance_type, where='mid', label='Cumulative explained variance')\n",
    "    plt.axhline(y=0.9, linestyle='--', color='k', label='90% Threshold')\n",
    "    plt.axhline(y=0.95, linestyle='--', color='r', label='95% Threshold')\n",
    "    plt.xlabel('Number of Principal Components')\n",
    "    plt.ylabel('Explained Variance Ratio')\n",
    "    plt.title('Explained Variance by Components (Type Effectiveness)')\n",
    "    plt.legend()\n",
    "    plt.tight_layout()\n",
    "    plt.show()"
   ]
  },
  {
   "cell_type": "code",
   "execution_count": 192,
   "id": "d89cef98",
   "metadata": {},
   "outputs": [
    {
     "data": {
      "image/png": "[encoded data removed]",
      "text/plain": [
       "<Figure size 1400x1000 with 2 Axes>"
      ]
     },
     "metadata": {},
     "output_type": "display_data"
    },
    {
     "name": "stdout",
     "output_type": "stream",
     "text": [
      "Top 3 Principal Components Interpretation:\n",
      "\n",
      "PC1 most influential features:\n",
      "  - against_flying: 0.410\n",
      "  - against_ground: -0.406\n",
      "  - against_poison: 0.374\n",
      "\n",
      "PC2 most influential features:\n",
      "  - against_ghost: 0.502\n",
      "  - against_dark: 0.491\n",
      "  - against_fight: -0.453\n",
      "\n",
      "PC3 most influential features:\n",
      "  - against_bug: 0.497\n",
      "  - against_electric: -0.407\n",
      "  - against_rock: -0.345\n"
     ]
    }
   ],
   "source": [
    "# Analyze PCA components for type effectiveness\n",
    "if len(type_cols) > 0:\n",
    "    type_component_df = pd.DataFrame(\n",
    "        pca_type.components_,\n",
    "        columns=type_cols,\n",
    "        index=[f'PC{i+1}' for i in range(len(type_cols))]\n",
    "    )\n",
    "    \n",
    "    # Display the first 4 principal components\n",
    "    plt.figure(figsize=(14, 10))\n",
    "    sns.heatmap(type_component_df.iloc[:4], cmap='coolwarm', annot=True, fmt='.2f')\n",
    "    plt.title('PCA Components for Type Effectiveness')\n",
    "    plt.tight_layout()\n",
    "    plt.show()\n",
    "    \n",
    "    # Detailed analysis of the first 3 principal components\n",
    "    print(\"Top 3 Principal Components Interpretation:\")\n",
    "    for i in range(3):\n",
    "        pc = type_component_df.iloc[i].abs().sort_values(ascending=False)\n",
    "        print(f\"\\nPC{i+1} most influential features:\")\n",
    "        for feat, val in pc.head(3).items():\n",
    "            print(f\"  - {feat}: {type_component_df.iloc[i][feat]:.3f}\")"
   ]
  },
  {
   "cell_type": "markdown",
   "id": "a8d001b8",
   "metadata": {},
   "source": [
    "## 5. Visualize PCA Results\n",
    "\n",
    "Let's create scatter plots to visualize the PCA results. We'll color-code the points by type, legendary status, and generation to identify patterns."
   ]
  },
  {
   "cell_type": "code",
   "execution_count": 193,
   "id": "9345394e",
   "metadata": {},
   "outputs": [],
   "source": [
    "# Add principal components to the original dataframe\n",
    "pokemon_clean['battle_pc1'] = battle_pca[:, 0]\n",
    "pokemon_clean['battle_pc2'] = battle_pca[:, 1]\n",
    "\n",
    "if len(type_cols) > 0:\n",
    "    pokemon_clean['type_pc1'] = type_pca[:, 0]\n",
    "    pokemon_clean['type_pc2'] = type_pca[:, 1]"
   ]
  },
  {
   "cell_type": "code",
   "execution_count": 194,
   "id": "70933271",
   "metadata": {},
   "outputs": [
    {
     "data": {
      "application/vnd.plotly.v1+json": {
       "config": {
        "plotlyServerURL": "https://plot.ly"
       },
       "data": [
        {
         "hovertemplate": "<b>%{hovertext}</b><br><br>type1=grass<br>PC1=%{x}<br>PC2=%{y}<extra></extra>",
         "hovertext": [
          "Bulbasaur",
          "Ivysaur",
          "Venusaur",
          "Oddish",
          "Gloom",
          "Vileplume",
          "Bellsprout",
          "Weepinbell",
          "Victreebel",
          "Exeggcute",
          "Exeggutor",
          "Tangela",
          "Chikorita",
          "Bayleef",
          "Meganium",
          "Bellossom",
          "Hoppip",
          "Skiploom",
          "Jumpluff",
          "Sunkern",
          "Sunflora",
          "Treecko",
          "Grovyle",
          "Sceptile",
          "Seedot",
          "Nuzleaf",
          "Shiftry",
          "Shroomish",
          "Breloom",
          "Roselia",
          "Cacnea",
          "Cacturne",
          "Tropius",
          "Turtwig",
          "Grotle",
          "Torterra",
          "Budew",
          "Roserade",
          "Cherubi",
          "Cherrim",
          "Carnivine",
          "Snover",
          "Abomasnow",
          "Tangrowth",
          "Leafeon",
          "Shaymin",
          "Snivy",
          "Servine",
          "Serperior",
          "Pansage",
          "Simisage",
          "Cottonee",
          "Whimsicott",
          "Petilil",
          "Lilligant",
          "Maractus",
          "Foongus",
          "Amoonguss",
          "Ferroseed",
          "Ferrothorn",
          "Virizion",
          "Chespin",
          "Quilladin",
          "Chesnaught",
          "Skiddo",
          "Gogoat",
          "Rowlet",
          "Dartrix",
          "Decidueye",
          "Fomantis",
          "Lurantis",
          "Morelull",
          "Shiinotic",
          "Bounsweet",
          "Steenee",
          "Tsareena",
          "Tapu Bulu",
          "Kartana"
         ],
         "legendgroup": "grass",
         "marker": {
          "color": "#636efa",
          "symbol": "circle"
         },
         "mode": "markers",
         "name": "grass",
         "orientation": "v",
         "showlegend": true,
         "type": "scatter",
         "x": {
          "bdata": "1WzOCZa0+7+xBn984o3VvwjNwxbIlwlAWDBloAKy+r+f6NzMquzdvzgRcdPmGvE/a+YZrZ57AMDtxD+7Z8njv+RltqJnEvA/uKwAMvW5+r9IpXvhH2P7P0PQxiQ61pU/O4x4V8kJ/L8iDJKG/PfWvyFgy9liBfk/HAJDDEMs8T+DlUwhX+YGwFltFtN/Uve/ikgzN2Fm3T8Ldm5XL+UPwPZYxzOnxrY/dZE/SlTT/r+XD4Dyi8bbv0aexr/g3whAhY4Kk63bCsCdG+HbQv72v0Z0Ar2s6+k/akuZUm/FAMB6VPF5FpHdP0ZATw4pV9q/FMWvFQx5979YIWVJGvboP0JL8GLdw+I/GvlPK1a8+78aNc1P5CzVv+OVfOcoePk/4Gz+mWrKAsDpwzESscf2Pz5E/l4HXgPAILeft0Dx1D+47ADJeBzePx+oDeH5bfe/bJfP35SBBkCGLDkuEQb7P4M+arInmPY/ZhCBC3dLBUAHeVFwz3H/vx8Rc7LReNK/ZGG790Fq+D+eT5JVB3H9v5o7kQIuvfA/xJnrOreLA8D88m34L6XmP1QZfs8qtALAfLVJiqpj6T+IFYQwR6PhP3fC7TRaaADAx+ebYGfJ5j+CNyzY2fn9vzQxiCl6xPE/QBWVCa3XA0D5+dkgS5f9vz5Bq8awZ9q/oZBJ3FjI+T98I1BL7r/zv8qclZAWjvs/I640ktR4+79TYsJ+SpK5v9hbQYI1I/s/3ZKGm9PXBsDtse931uTsPwNIiYMedwHAZv70Y1wTz7/fT2ker/ELwCnm6T77CwLApw63hvow9T9vWn2YdSMCQEQN1JBgPgBA",
          "dtype": "f8"
         },
         "xaxis": "x",
         "y": {
          "bdata": "Slf0URt9VL/zhkXP8gayP3LIS5PtXeO/J/IMq3IZ2b+m7xU1X+/dv5fJydigidy/IAuSynKo3T/Gn4rh9nrgP4TsmovF/94/TGNd/zRt5L+0L8KtyvbWvzHA6QLp39u/Awa7Zj1w3b8JQU6cv6/av31Qn/twSNa/eCC78MwH7b/yTwbJfFzAP3nuikXHGuQ/bI4M5p6i6D+OC+1z42t4P/aHuiRhtNa/lnwiVpA87z+uDkjiGXX3P9U0JvNZegNAkp2FrNIh2r90uWbd6WDkP4uZWYtJb+k/JpE2qu/A5b9F7DkprFutvxiPBArsAOg/cW8DotcF0z+eL+n9liLdP/8AaSudSOi/RpqDgUx/6L8+hJm0mnzxvxzIbQzHYvC/8Hwp+lOR1j8DYzizrRfvP5j/GnQOo7e/bMZUBAFW4z94bNw1KTnVv52mN6c+Y8W/EQRz7kOx9L+zq/RW3Jzuv8t99J/uu92/nJcEyeuA/D88gAfLljvMP+1QAskBYtA/E8QEXNYj4T+H+1FO3OvfP83YQDRnU/U/h4CHIcsjxz8gU+wbnVvwP/bMFh/4Rcu/+rkAUF246z9p6ldYGhvTP2fBh0lmGue/gBrnfHMs7L9OGNolM8YBwBhW0FFCcgbAWoWCpsa45T/ervNIjyHgv9QnIjYbh+W/1a943ecd8b85Ca+28GrGP9ubfZAV+dE/9Tcy1iyf0L+w3TWAEmrav69E1ZoqHag/Kcpubot0wj+7nbbIYAvuvxQA/GenWe2/flAuY6vz8L/WxK5qosDIv7ViETI/FtU/IhCJjBUv6b8FR+upvDzmv7aMZmW4kr4/",
          "dtype": "f8"
         },
         "yaxis": "y"
        },
        {
         "hovertemplate": "<b>%{hovertext}</b><br><br>type1=fire<br>PC1=%{x}<br>PC2=%{y}<extra></extra>",
         "hovertext": [
          "Charmander",
          "Charmeleon",
          "Charizard",
          "Vulpix",
          "Ninetales",
          "Growlithe",
          "Arcanine",
          "Ponyta",
          "Rapidash",
          "Magmar",
          "Flareon",
          "Moltres",
          "Cyndaquil",
          "Quilava",
          "Typhlosion",
          "Slugma",
          "Magcargo",
          "Magby",
          "Entei",
          "Ho-Oh",
          "Torchic",
          "Combusken",
          "Blaziken",
          "Numel",
          "Camerupt",
          "Torkoal",
          "Chimchar",
          "Monferno",
          "Infernape",
          "Magmortar",
          "Heatran",
          "Tepig",
          "Pignite",
          "Emboar",
          "Pansear",
          "Simisear",
          "Darumaka",
          "Darmanitan",
          "Heatmor",
          "Fennekin",
          "Braixen",
          "Delphox",
          "Fletchinder",
          "Talonflame",
          "Litleo",
          "Pyroar",
          "Volcanion",
          "Litten",
          "Torracat",
          "Incineroar",
          "Oricorio",
          "Turtonator"
         ],
         "legendgroup": "fire",
         "marker": {
          "color": "#EF553B",
          "symbol": "circle"
         },
         "mode": "markers",
         "name": "fire",
         "orientation": "v",
         "showlegend": true,
         "type": "scatter",
         "x": {
          "bdata": "AtrTuTU5/78n5gg4Virav23sk3NkvgpAqI0ZPFKpAMBCCiPIyCLzP5+gkFGiTfS/4I7SBDMIAEDS3CW7DefWvytzyg3GWPE/azk2vgz28D8hNeYRjm/6P1WgQemNZANAAtrTuTU5/78n5gg4Virav1iNyS7Dk/o/+secoUF8BsCvgh5bfQq0P0OwvpoBG/G/brMWp7QmA0DfotQYVLUQQE3wg2zeEv6/WMWiIr0X17/8erHn0pkJQJS9daO7Av+/VV4kfltGAkDGdH/QTbTmP3q5C5wkPf+/ZjgzKvxZ279I0CAiUej5PzoWtA02SP0/mnCgXtFsBkBnJt4VZbj+vwvoc3Xz78G//0Nyvfcz+j+eT5JVB3H9v5o7kQIuvfA/+zpoI8kt/b/dLx6HOGb+Pyh5lpqgSe0/tZEyv4gq/7/gIWZ+uynUv8HEllZU//o/AW8cDl4R6r85nvh4SxHwP7W+MBAvs++/b6FyTgf98j94LfZgWh8GQN6gzfbgx/y/OAzfRzWOyr8XJcOKjgn7PzKbG0S/9eY/IZk9LN007j8=",
          "dtype": "f8"
         },
         "xaxis": "x",
         "y": {
          "bdata": "ukXaqHAx5j+08nrZtRDpP9ya1hNXTfI/iAGmvZVW4T9IbPqrOyLrP7gKaqnwquI/ipAJnBtP5j+SBgDHHq3uP2TQoCHuKfA/OmbzouTW8T9v/TMFtCi8P6qiefWrWuI/ukXaqHAx5j+08nrZtRDpP/jJHrY17e0/naOEeDLlxb+ewY7upcj6v1fkRX8XfPQ/jS4eiNif4z/LULlVMMLGv0TUffOsvtU/v6E1Ggrjyj83QumE2qXxP3S3YU9WHa0/Sb/PtMVY9L/WRxdPKW8CwHozmUWlA+M/VjpIaX7W7z++PmtcS1f1P24Q3xitruk/03nXw3Ycx7/xU/214vd8P2ikKjcS7sE/l1mEoVEm1T+H+1FO3OvfP83YQDRnU/U/P5VZBl5yxb/TUirCC4jjv2a9GiXGcdo/pOOKyeMb4j8gr8PpTzblP/HHfN4JV/E/WUqJvmEC6j+PEgzx3T/4P8OXyc1qfuM/RlnKJsZ39T93wJMtQFDevyU+zK+XCe4/nlZ27Z6L9D+170YoIDfkvy8zBLIyfO4/cmO3GkfB/b8=",
          "dtype": "f8"
         },
         "yaxis": "y"
        },
        {
         "hovertemplate": "<b>%{hovertext}</b><br><br>type1=water<br>PC1=%{x}<br>PC2=%{y}<extra></extra>",
         "hovertext": [
          "Squirtle",
          "Wartortle",
          "Blastoise",
          "Psyduck",
          "Golduck",
          "Poliwag",
          "Poliwhirl",
          "Poliwrath",
          "Tentacool",
          "Tentacruel",
          "Slowpoke",
          "Slowbro",
          "Seel",
          "Dewgong",
          "Shellder",
          "Cloyster",
          "Krabby",
          "Kingler",
          "Horsea",
          "Seadra",
          "Goldeen",
          "Seaking",
          "Staryu",
          "Starmie",
          "Magikarp",
          "Gyarados",
          "Lapras",
          "Vaporeon",
          "Totodile",
          "Croconaw",
          "Feraligatr",
          "Chinchou",
          "Lanturn",
          "Marill",
          "Azumarill",
          "Politoed",
          "Wooper",
          "Quagsire",
          "Slowking",
          "Qwilfish",
          "Corsola",
          "Remoraid",
          "Octillery",
          "Mantine",
          "Kingdra",
          "Suicune",
          "Mudkip",
          "Marshtomp",
          "Swampert",
          "Lotad",
          "Lombre",
          "Ludicolo",
          "Wingull",
          "Pelipper",
          "Carvanha",
          "Sharpedo",
          "Wailmer",
          "Wailord",
          "Barboach",
          "Whiscash",
          "Corphish",
          "Crawdaunt",
          "Feebas",
          "Milotic",
          "Clamperl",
          "Huntail",
          "Gorebyss",
          "Relicanth",
          "Luvdisc",
          "Kyogre",
          "Piplup",
          "Prinplup",
          "Empoleon",
          "Buizel",
          "Floatzel",
          "Shellos",
          "Gastrodon",
          "Finneon",
          "Lumineon",
          "Mantyke",
          "Palkia",
          "Phione",
          "Manaphy",
          "Oshawott",
          "Dewott",
          "Samurott",
          "Panpour",
          "Simipour",
          "Tympole",
          "Palpitoad",
          "Seismitoad",
          "Basculin",
          "Tirtouga",
          "Carracosta",
          "Ducklett",
          "Swanna",
          "Frillish",
          "Jellicent",
          "Alomomola",
          "Keldeo",
          "Froakie",
          "Frogadier",
          "Greninja",
          "Clauncher",
          "Clawitzer",
          "Popplio",
          "Brionne",
          "Primarina",
          "Wishiwashi",
          "Dewpider",
          "Araquanid",
          "Pyukumuku",
          "Bruxish",
          "Tapu Fini"
         ],
         "legendgroup": "water",
         "marker": {
          "color": "#00cc96",
          "symbol": "circle"
         },
         "mode": "markers",
         "name": "water",
         "orientation": "v",
         "showlegend": true,
         "type": "scatter",
         "x": {
          "bdata": "AkrX3WAI/b/AJSYdI6/Wv/lRTJ2XPQpAaKYrpjX3+79WLvxS3S3yP2G2s6TRZgHAzm76xDRo6b8auJOk4Ff1P049NJMUBfe/tSO1EkPq9j8stCW89g38v9/BzvfJ/wRAbnz/HQW2+b8Ov5i4anzpP5HxyWEfngDAD6D+jO3+9T9/Bmdv/mD8v+2qyRV4JuQ/+fifPFP4AcBDsKvyrxSxP+WA3ABwpPy//U0k0AsT2D/mueO4exL4v9gaRECXEvY/wzT/+xWxDsAjwG7MbL8LQHlDJJzHDf0/rP2kQS28+j+WknAZ83z9v7ZRtGL3sti/S/sI5QTg+T84Q6XO3z35v6v5HvqeUOI/j/7vNyi4BsAXDI/Z52+xvxYLUsBvgfM/kSwAEFDWC8B5tYhZ0Qa3P+CWHClQvPI/ey4e2rrGtz/c96qjfu/Jv2Gknyhn9ADACbCXw6LB7D+SWdqXVujwP8ZwowAXnvw/iOFul6C8A0Ccx/cKVRb+v5JtXrOTvNW/dJg0Q30PC0A1FjceN1oKwEFJ/kAM8fW/uCI08bqp7D+LamuM9TYFwNCzOG0plcQ/uNrkrH9fAMAaRubQHj8AQE5aylSjt9u/aRtgGCh88z9X1t6lCVYCwBAoFzrjzeU/h5UmOZU4/7+gZVyAdtjjP5saImwh2w3Af/1lXSI6/j/VLz2DDkP1vybLlgKtS+0/hcz92X147T96rPDxayzsP/b1HDg1wfq/Ww3KLTKbFkCCNGccm9X8v4HFr97eu9S/Uclnn81v+z8izgQOruL6v1xevMnHce4/86z/HmpG+b8nMFllB/rrPz1Ms0YeqPm/f/m9m+mf3j8WXp3EuDjzv5GsUFHFTRBAppd1iyw86j9+V5UgvPAFQOj2gHpPwP6/7vCOMfjvzb9bUj8FrLj5P55PklUHcf2/mjuRAi698D/sYEbTu54BwE+8MLTlYee//p5yRb4E9T8Z3YrOB5jaP3dJyBoS0vK/NGHSaOFV8T+4FajulNH/vykEq0BFvOQ/uG6Zmz5q9r8hfEAyeBzuP18cQLBud+U/GAtPzyQoA0D/y6fqyUT+v4DCc1X1id2/INv05CBFCkDJgmh5g9X4v8m/AfRSRPM/u3JoO2FR+7/85/uTkOKyv3Y4LWn2Kvw/ejoxbGzlCUA0RILjPdUDwJmfCcOcC+I/J7OUFZHFvb+Ct6nFtx7mPwNPFIBJiQJA",
          "dtype": "f8"
         },
         "xaxis": "x",
         "y": {
          "bdata": "hwXEgZZI37+pXg0O34Hcv9QXbs3futu/N9w8d8Tp1z8NRUNouoTeP9X9XipEIvQ/ie6/ZgoZ5z82XyJanufhvwZrJ00MBd4/k6WqljI65D81+ikZFNHyv7i2iC3gdATAenDneMjI2L/KwwwwpkfTvwMwyVw6Iu6/bEaEktjP+b8E2XRaamnmv62CBzbZqOO/l3D1ad6W1z8A4c5K0rnfP/ongEYjtLA/ViYgVCB7oT8/dgFillvwP3QQQ95TAvI/xkdaZErW5j82pEzZmoHtv6q5DVP5CuC/t4W/XiGSzz9Kg9Svtl3avxhZEyurTti/KqOPASMB1L+F7p9z0anlP6ugtlyPVMg/2ZBaEEnX3r8BGGxGH8vov4MqkEqtyK+/0EoeKJT35r9XAHwJ3RjxvzCHRrBWMvK/B3mu3Fdxyj9y230rlO32v510jsIMYPA/8TKc+ep50796knFtZUzXv2a9u+Kw554/4H+U+4LO479G2G1zIH/Gvz+s8lbtSNy/qmc3Cqxh6r/wl9ClZa+2v91WU4ysSJS/R8TLi/JArj/emBKdOuz4P8TJ78GoVNO/bKB5wYOH9j+Un1iclDD2P92mD12ndOc/Zl/Ru5hx4T97iJKue4nfP7pkBotZG8q/myqeDdcF3b+SNQPtTWfKv4mvFEq07vA/0cL6X+mLgj87mNdGZrvqvy6V1uRLu+i/GdvyTMGe4r8z06oUYW/6v16M0Vax0O0/8m0IP4JK2z9C05FYyF7Hv1MT2Xgfms6/Y763lQlA178UyLWYe2T3P8eXlJE1rvw/i++mHhSb17+y7NnLVR7iv8F8LJbjHNA/zPyg5Bqz2T+/YnSMM9XYv5g2EoqL7OE/IRsKP+jHxj89/GeAhZbPP1i+rxB/X8k/VHMLvlIg0j8/8wA8tpjBP4f7UU7c698/zdhANGdT9T8TJBu6gi/mPwHGWqDLm94/IG8ggTzcwz+FcBCZZSLyPxbdpaHraPm/MrDzji/m/b8y04TYntC9PzpTtNxllfI/SAfCOMjr1L8WPyo6mhrUvwf09d9RXd2/oVDmPL0/8D+k0Fm2FbzuP5g3PFNV0fY/G8IXhvORA0AaiZEQG7LVv1KC68HEGca/GXmi/j01w7+3Ky9lx4HJv+OZ5eSaNLC/CSHy3cSo/b++UKsbYpzovyEuESBPh/q/hnd6ilR9C8DFz0QzQ5TlPwg87pMdIOS/",
          "dtype": "f8"
         },
         "yaxis": "y"
        },
        {
         "hovertemplate": "<b>%{hovertext}</b><br><br>type1=bug<br>PC1=%{x}<br>PC2=%{y}<extra></extra>",
         "hovertext": [
          "Caterpie",
          "Metapod",
          "Butterfree",
          "Weedle",
          "Kakuna",
          "Beedrill",
          "Paras",
          "Parasect",
          "Venonat",
          "Venomoth",
          "Scyther",
          "Pinsir",
          "Ledyba",
          "Ledian",
          "Spinarak",
          "Ariados",
          "Yanma",
          "Pineco",
          "Forretress",
          "Scizor",
          "Shuckle",
          "Heracross",
          "Wurmple",
          "Silcoon",
          "Beautifly",
          "Cascoon",
          "Dustox",
          "Surskit",
          "Masquerain",
          "Nincada",
          "Ninjask",
          "Shedinja",
          "Volbeat",
          "Illumise",
          "Kricketot",
          "Kricketune",
          "Burmy",
          "Wormadam",
          "Mothim",
          "Combee",
          "Vespiquen",
          "Yanmega",
          "Sewaddle",
          "Swadloon",
          "Leavanny",
          "Venipede",
          "Whirlipede",
          "Scolipede",
          "Dwebble",
          "Crustle",
          "Karrablast",
          "Escavalier",
          "Joltik",
          "Galvantula",
          "Shelmet",
          "Accelgor",
          "Durant",
          "Larvesta",
          "Volcarona",
          "Genesect",
          "Scatterbug",
          "Spewpa",
          "Vivillon",
          "Grubbin",
          "Charjabug",
          "Vikavolt",
          "Cutiefly",
          "Ribombee",
          "Wimpod",
          "Golisopod",
          "Buzzwole",
          "Pheromosa"
         ],
         "legendgroup": "bug",
         "marker": {
          "color": "#ab63fa",
          "symbol": "circle"
         },
         "mode": "markers",
         "name": "bug",
         "orientation": "v",
         "showlegend": true,
         "type": "scatter",
         "x": {
          "bdata": "7TsuP4BhDsDrHmhEeN0MwCvTER6GJOC/bzV6HHx1DsBtGLQhdPEMwNv61ds5mu0/l2WLlRsKAsAxqt+xpJ7Svw6VeanfVP+/b65UT+iI1D+XR3VCwiDxPyk5IRKOQQVApGgNoqqKBMBCmwC4mVDiv5jcVwQDvAbAB3/TLH5q2b/o84lr9aTmvyQVUppnwgHAj0Ca3GLq4T/j6Ob3SNQFQJx2fEHRqvc/V7q8O1UdBkBAF7BSOMMNwMVweakLlwzAb4e5iRqb4b/FcHmpC5cMwF7jZR5TSuW/4Jm8+QGnBMArqhamxQ7bP+bDTP03gAXAkD04mAtFyj/lVwVa3ycJwBp+rpX2dwg/vEHsvEhSfT/UYqg7ruMNwA2kMXXEQee/TjCEycgsCsD5Vfx3y1eSP89FtfkGs7S/TRgvYRpNCMD3cnBUrIvqP/BOTlR87vQ/p6DAraJE/r9Y+BvGCpXnv4XeTL6sufE/ygQsUxMxBsBjjgxhVYLxvxtvKGXzzeg/f0kEh7zl+798tHjiNjrtP5LknxjXp/2/0EylZ4te8z9y6MBHW6j8v48AKYgvX+M/aVTTi4H2/r+jYFr2rmXtP8ZNKDKWTuY/ClnN02zS8b/Nvvhh2bz/P9Jn8sj4zQVAOl4Z+dOJDcBP5HcQO80LwL/O8PnAj9W/tDHLNBF8AMC8Ai3Qhn3av/rGovB4jPM/CXVuvX6+AMDsSnDXXPfcP9PpGDmwggrAJXJ/yYyk+j/9POq6cFQBQIqga3XlkwBA",
          "dtype": "f8"
         },
         "xaxis": "x",
         "y": {
          "bdata": "LkoDg+yezT+IaiDIadrgv5PMEEm9R+U/2fhPczd23T9NgXJeEg7Tvwch5zOaRP8/ZjOpLK4s5r/zkkU0CAHzv5sDpiEkN8q/diQNT8AW7z/4GCZl20LiP7xhH8Vljcm/+Vi/UW3Q0T/BCMkQdXLeP9PIHBRv5sq/o0bTLBQC5r8hO5P38xL4P52hAru3PPm/TrZIvKei/79a8WOaUJv2v7lAQHPWKxnAD1igVxa48789MtOwI9Xdv0O/h+Mquuy/Bn4FmeP46z9Dv4fjKrrsv+1bKQxVI9O/5xqtG+uz6T9cFxdVTDHnPzOR3AaEiO2/LFa8+t+RBkAql/JXd5VzP8ZcZ2+GVLY/Abv2WfB41T9VZEYkB8Tev1oWk7d31tg/gyT7m9LM0r+baikvYdb1v4z2GxWUBeo/WZihCo/U5D+xIYLKPyn2v87iiApyQO4/45aoWayO5b9jEgXpyI/yv0LxP7PEfdg/Ip1g9KOMlz/oZAoqnCz0v5ulQTIC2eU/19yOvW8a4L9RD9OGASb6vw3YapeT2tY/K3WXc6BEAcDdOGQF3jbgPzAfFeizhvk/8l5E4bHb9r+7XUdMdCkHQGXn+SuRa9E/82NJ+cxIxD+Lf/F5zhX0P18MWHmCVOM/4KnWEmGGsr+oiF3mhiHlv4ixE2ekQvU/+LP50G4OxT8TVxtbUTv1vzp2EJzMM9G/i+ADBt0H9D/EzVA45KL+P1aLzOC7Zu4/O0FpuD7hAcBc4pq3g5fxvxGu2qpSCg1A",
          "dtype": "f8"
         },
         "yaxis": "y"
        },
        {
         "hovertemplate": "<b>%{hovertext}</b><br><br>type1=normal<br>PC1=%{x}<br>PC2=%{y}<extra></extra>",
         "hovertext": [
          "Pidgey",
          "Pidgeotto",
          "Pidgeot",
          "Rattata",
          "Raticate",
          "Spearow",
          "Fearow",
          "Jigglypuff",
          "Wigglytuff",
          "Meowth",
          "Persian",
          "Farfetch'd",
          "Doduo",
          "Dodrio",
          "Lickitung",
          "Chansey",
          "Kangaskhan",
          "Tauros",
          "Ditto",
          "Eevee",
          "Porygon",
          "Snorlax",
          "Sentret",
          "Furret",
          "Hoothoot",
          "Noctowl",
          "Igglybuff",
          "Aipom",
          "Girafarig",
          "Dunsparce",
          "Teddiursa",
          "Ursaring",
          "Porygon2",
          "Stantler",
          "Smeargle",
          "Miltank",
          "Blissey",
          "Zigzagoon",
          "Linoone",
          "Taillow",
          "Swellow",
          "Slakoth",
          "Vigoroth",
          "Slaking",
          "Whismur",
          "Loudred",
          "Exploud",
          "Azurill",
          "Skitty",
          "Delcatty",
          "Spinda",
          "Swablu",
          "Zangoose",
          "Castform",
          "Kecleon",
          "Starly",
          "Staravia",
          "Staraptor",
          "Bidoof",
          "Bibarel",
          "Ambipom",
          "Buneary",
          "Lopunny",
          "Glameow",
          "Purugly",
          "Happiny",
          "Chatot",
          "Munchlax",
          "Lickilicky",
          "Porygon-Z",
          "Regigigas",
          "Arceus",
          "Patrat",
          "Watchog",
          "Lillipup",
          "Herdier",
          "Stoutland",
          "Pidove",
          "Tranquill",
          "Unfezant",
          "Audino",
          "Minccino",
          "Cinccino",
          "Deerling",
          "Sawsbuck",
          "Bouffalant",
          "Rufflet",
          "Braviary",
          "Meloetta",
          "Bunnelby",
          "Diggersby",
          "Fletchling",
          "Furfrou",
          "Pikipek",
          "Trumbeak",
          "Toucannon",
          "Yungoos",
          "Gumshoos",
          "Stufful",
          "Bewear",
          "Oranguru",
          "Type: Null",
          "Silvally",
          "Komala",
          "Drampa"
         ],
         "legendgroup": "normal",
         "marker": {
          "color": "#FFA15A",
          "symbol": "circle"
         },
         "mode": "markers",
         "name": "normal",
         "orientation": "v",
         "showlegend": true,
         "type": "scatter",
         "x": {
          "bdata": "5JBDs2UsB8Bq4rxcySD1v/qccmpqrgJA2/jFycU+B8CRT0Qc4FDQv2oTkS1kAQbAd7sZq6Hzvz9vLziAgqEDwFoapYsw8cg/891gVRWgAsD4AKL4/ECzP/sFqpB2ceq/JqzZbJv//796QSvc9FLhP2hE2QeeGeO/wS5BhsZk5D+Hjpk9+JcEQEiB1VPPlus/BYPiP0MNAsCKriLA4kP6v1/G7XSAtN2/wh+ZND40AEDUEf6qo/YKwGmWPtajcNK/76M2MVceBcCX4AXDmB3eP6JCcDImcgvA311tY2DI8r8V9wXu3c7YP2/o8bj348O/PITn1bzU+L+5umFn8TDzP5JxNN5BVvc/fTYNm9Gr4T+AVIoTdmYHwJ5vJJbYbuw/H+rja8IjAUBBW/r5qJgIwAtW62hGCMy/+Zq7z/ZEBcDKtpt2IqbQP15KgpkYBQPAKSKRr+TJuD+jgVZynKYOQIq6ffzw9QfA6ZGL/X8o8b88r6YBdH/wP6Vr5h9+Qg7AyeXu80HkBcAdDU5W1jbhv1gXtbVLpfG/2L9fl/zq/b/pvsWqSnXaPxIu6b/VHMK/lS9MXI+11T8g6IcICQcIwKpZCiyjJPi/LnLEIQc96j+fwW5D1KgGwO0vOAQz/NO/ASt7WyL65z8pYcHuNyD1vxROwi/+agJASeQHdq8IAMDy8j85baXQP4VX26wNognAz7/URo6w1r+9cWZE+C7YvxSaD3xUyfc/GckU1CU0+z9tUOUiGgkPQIqkJo82qRJAt7w/UG5NBsCWwvbnxoTFvwSfz39h8QPAczsVnz8Z7r8Bl9rMMVLyPxzfPPoLXgXA/JklU0L58r8CPl2xXKvrP1oGJZw46f8/Y1vLKFULAcCP82MnmqjhP7ZEKsc13/i/Z6G8el4T5j8e7GEFjdTwP7XxEJWBXfS/3J/K9t3g9D8TBm8LVBcFQEe3STVq+gjAkfc00q+Yub87n8Omdb8DwEXDPeggj+U/Vq3zV8aSBcAGWw1Uvcfzv6NfRsWNE+4/fA/+JuCtBsC8ZRbuISq+v1xiOWRmifa/Yih3wRaw8j9hVYzxXonxP3fsm5kjP/w/GVsn4U8YAkDtpCNLAGrsP9BpxzCZgfA/",
          "dtype": "f8"
         },
         "xaxis": "x",
         "y": {
          "bdata": "nVCoPDcr2z/qRIA05VLdP27rxXRM4/o/wQW1RKPZ6j/zzPc5k9Csv69rIN4Rd+4/mAp0RUYE7z+I0Hhzj3iuv8vzfrEZH8U/yEfVvuM99z/08gtRLJ74P10PjJexB8c/1qxsG51H6T8yK89CdOzxPyBs3b9rqvG/okuAe81fs7/hhIi0aCLCvyr5Rsf8j9U/I5m0eQxhsT+K9Tj9x8uNPxu9Vd44jd6/6v1xbPY19b95h1L3kzTav/RvhVl/YeM/xZlTy8cy0T+5KQOHSO/ZP0MLhGmCbZ2/gV63yi/O5T8azQNwdI3qP/IMeUbiQeG/AePG0brEyb9emNQfMDvYv4/Mpj3qJdq/SJdiEByT6j9qFdFMhKfnP4uSqt1x8sG/6DwCFgFCrj/t4Z2BD6faP0uKgm3Whe0/kUQk/mMa9T8Y6BGZlo3+P+SX1SmNwuS/clomewZo2T+qpS858OHWP8ycguoowtA/WI0xi3cp1T9x9uL7Ik3UP+PnFvjZw+S/pOw4ZNRFxD/bWe70kObmPwt0WPuV8rs/nlvb6UTO2b+sIb9wB3TpP5IqW56ZYMI/lQgxAsY58b8dud1N9qrmP7jWonHA5+g/+JHcotgu5z9sy8KZBETRv4OHUEEZ/9E/J80UJBjY8z8mdcOJG5vtP+cG2KoHl+w/1ZglhYPm8T+8+vvkQgr1P1hmK/IcZrW/rMDZSegF+T8Vqaj+Ppb2v0pNR1N7nfC/IbQv81l48j+8SFUfRF/Qv6ru4mCRMtQ/m4yH8g8LrD9jI5bBcx/RP9xV/WRBxbw/d/jrgI3C0b/QuOlSyFHcvyMJj3jaArC/0ObAAlmAzj9EaP1Sg6bhPyrmfGxJ9f2/vvJ2uwB46z8PKOfrdUP3P0g9TVlrKOI/VEBOu4Uo5D+PQAloyij0vwmdP/nhZcI/Qm0WKDVPpz8yyJU5wnzxPzfAu6pqY90/hMAdz3eOsb8OQIwLy6/gP+ejE5sun+w/h/Gekpa76j/IrpY/y0PiP5R/x1VRj82/pYhBZJ1w1D+SKUVRFnDYv50wxLwXrpi/nKxP8yPD3r9ttiBCB8nevyukvgjnyeS/74MQMN5izT+WE844m2mmvy8Xt2SDGeK/",
          "dtype": "f8"
         },
         "yaxis": "y"
        },
        {
         "hovertemplate": "<b>%{hovertext}</b><br><br>type1=poison<br>PC1=%{x}<br>PC2=%{y}<extra></extra>",
         "hovertext": [
          "Ekans",
          "Arbok",
          "Nidoran♀",
          "Nidorina",
          "Nidoqueen",
          "Nidoran♂",
          "Nidorino",
          "Nidoking",
          "Zubat",
          "Golbat",
          "Grimer",
          "Muk",
          "Koffing",
          "Weezing",
          "Crobat",
          "Gulpin",
          "Swalot",
          "Seviper",
          "Stunky",
          "Skuntank",
          "Skorupi",
          "Drapion",
          "Croagunk",
          "Toxicroak",
          "Trubbish",
          "Garbodor",
          "Skrelp",
          "Dragalge",
          "Mareanie",
          "Toxapex",
          "Salandit",
          "Salazzle"
         ],
         "legendgroup": "poison",
         "marker": {
          "color": "#19d3f3",
          "symbol": "circle"
         },
         "mode": "markers",
         "name": "poison",
         "orientation": "v",
         "showlegend": true,
         "type": "scatter",
         "x": {
          "bdata": "C4d4uegjAsD0m5wvqvzSP5/L2IdgvAPA36wdkzdm8L9k7aDwfdTzP1xMCKnqGwTAyYYdTfSp8L/3zkTtJErzP3jQnjYq0QfAYLIYK1zO2D+Y8jpATmT5v1DUdkNZS/Q/HbIx+Rsm97+wUzQCPZzuPzo1VEuWcvk/nrfPdxXp/79758XgaNnlP1/Wem+L094/ky9pMYyU+r9+E7sSvhDpP1u2dx5Wjfq/sFOesTbd8D/6ocASBpQAwNlKFd7Gqu4/OAHt8uz4+b8ndIRHqGbnP15UI4i08vq/NEh8Yg8p8z+rHkdYmLj/v2Qll6DI+vI/S0Qd4dv0/L9QZ8ugUOjmPw==",
          "dtype": "f8"
         },
         "xaxis": "x",
         "y": {
          "bdata": "bLr0wTn/yz+slH47Mk3TPzDpKBJnJcq/XYAiIXGKw7+ZmGwcNKrFv4Obz+DOAtE/e7vO8WrT0T+qe7RNKvDbP7XZhdHuPNo/Vv9bNdz44D8j6LQyBY7mvxd7RAoAYuq/+G3C94I98L+ZhRfLdLrtv+BiOAjErfQ/ZUcI5ZEF178ZbKdiZe7jv0ezL8ja4uE/eb0oCkSp5T82OoExqXfhP9mbZOBkReG/7KwOEcbexL8xrfe+BA7dP9kC7LogLeg/nsXz+Lo8kT90XfGf9SzIvw3jdvE7POO/XNhRme/p8L+PF/SYCzXXvyHpbFmfDgjARDgCxKRg8z8J6riGsT//Pw==",
          "dtype": "f8"
         },
         "yaxis": "y"
        },
        {
         "hovertemplate": "<b>%{hovertext}</b><br><br>type1=electric<br>PC1=%{x}<br>PC2=%{y}<extra></extra>",
         "hovertext": [
          "Pikachu",
          "Raichu",
          "Magnemite",
          "Magneton",
          "Voltorb",
          "Electrode",
          "Electabuzz",
          "Jolteon",
          "Zapdos",
          "Pichu",
          "Mareep",
          "Flaaffy",
          "Ampharos",
          "Elekid",
          "Raikou",
          "Electrike",
          "Manectric",
          "Plusle",
          "Minun",
          "Shinx",
          "Luxio",
          "Luxray",
          "Pachirisu",
          "Magnezone",
          "Electivire",
          "Rotom",
          "Blitzle",
          "Zebstrika",
          "Emolga",
          "Tynamo",
          "Eelektrik",
          "Eelektross",
          "Thundurus",
          "Helioptile",
          "Heliolisk",
          "Dedenne",
          "Togedemaru",
          "Tapu Koko",
          "Xurkitree"
         ],
         "legendgroup": "electric",
         "marker": {
          "color": "#FF6692",
          "symbol": "circle"
         },
         "mode": "markers",
         "name": "electric",
         "orientation": "v",
         "showlegend": true,
         "type": "scatter",
         "x": {
          "bdata": "4L06ISZZ/b+p9JTJ6JrrP2rjdkcfqPq/HTUlXhLP4T8QNcSqyRH7vzJ5VKPcIuo/HCykOMhs7j8U6XG6S6P3P0XSxu2RVANAvctPLNcRDcB5MmgC1b8CwBBmHHEcD++/wciSJxpxCECh06I8qtryvwWQ3mR5RgNA/HmjFSGIAcAVl9JzrtYBQBmRaJDdutm/J8y51ZtI2b8BdRWJJ1sFwFfGHfZpC/G/mXu4MHeZ+D/PYAczzHvav1u4pcmh2/s/tLk/KBtk/D+Ia4I06GP3P+Zf/i4QzQHA9ZEIvZO07z92FpaZGmy7v649DZKiFQTA+WyPOOw51L/C5fwde2P3PwQwdtRCQgNA8CPv291GAsAKy2VpvEvqPzBfi+7VApy/YDK5JedWpT8hlHwZGBQBQJbbgoLGOwJA",
          "dtype": "f8"
         },
         "xaxis": "x",
         "y": {
          "bdata": "jeASMxFz9D8nj+yQcSb6P74RYbFvsky/Lwf/gdhsxT+JL50QU0b1PxSwULj0FgFAUKyExavZ9T9f2fH3aa3/Py3ozodaEOw/lu4DYj3f8D/VpRAckwmzP2NUheG8km8/tOL1lYva5L9tKteh3n74P5/nBwEZPPQ/BF/Z9dYq7D/K3G/fzWwAQIQhJjDBafc/M/Lzk2WP8T8c4f+CwszTP1Z9Htn19Nk/JEUURu1btj+EL9U4UObYP18nEb4JvuK/zN9iBbaL7D9bQtEC+Ze+v8yxJd6bc/M/XTKQg4aE+D9u8GoqrN70P/o5dMKFm+I/pzHeoaIq4b/rW829/CXWv7xh6cVprfc/plHQuMke8T+fdgN60Rn6P5RiiaNFpPQ/rIRYYpOw4z/aDtiqS+P3P3Hj6kpbl/U/",
          "dtype": "f8"
         },
         "yaxis": "y"
        },
        {
         "hovertemplate": "<b>%{hovertext}</b><br><br>type1=ground<br>PC1=%{x}<br>PC2=%{y}<extra></extra>",
         "hovertext": [
          "Sandshrew",
          "Sandslash",
          "Diglett",
          "Dugtrio",
          "Cubone",
          "Marowak",
          "Rhyhorn",
          "Rhydon",
          "Gligar",
          "Phanpy",
          "Donphan",
          "Trapinch",
          "Vibrava",
          "Flygon",
          "Baltoy",
          "Claydol",
          "Groudon",
          "Hippopotas",
          "Hippowdon",
          "Rhyperior",
          "Gliscor",
          "Drilbur",
          "Excadrill",
          "Sandile",
          "Krokorok",
          "Krookodile",
          "Stunfisk",
          "Golett",
          "Golurk",
          "Landorus",
          "Mudbray",
          "Mudsdale"
         ],
         "legendgroup": "ground",
         "marker": {
          "color": "#B6E880",
          "symbol": "circle"
         },
         "mode": "markers",
         "name": "ground",
         "orientation": "v",
         "showlegend": true,
         "type": "scatter",
         "x": {
          "bdata": "QTs/yGf8AMCTd9kYZBDSP0JR7Q4X6wXAnhoAgskDxr99UWsCCh38v/zYAeXjCqO/K6GCw9Wq9b9RCSxCCW/sP6yJkYxX8LK/VynB4Y0H+b9C8KMRKBfyP2WRwFXWJAHA1XQN6cJ397/qXxoQUK32PzWHDwtPZwDAzbIdLVIN8z/bMhNoCboVQHbdUjrHN/m/G9fLjFBI+T9QhSo+WmT7P/D3VrMiLvM/pqktv6x0+r+fA3PbfRP0P+bu1zOm9wHAtapuwBfG9L9G+FZeD372P/KFb8042uo/zC+aGAus/7+cmTmdc5ftP9SxjrqN0QVArgIn53fi5b82MPRLHdvzPw==",
          "dtype": "f8"
         },
         "xaxis": "x",
         "y": {
          "bdata": "8SFbqVA287+xBTo4x4b1v0t7aEPF5fY/EPnsEc4v8z9n2V1p8SL0v3CGJPWq3/e/LsPQ30ck+L+UawuGee/6v5K2PMONVty/E9vcTbne3b+Vd60hfzL2v05xc0C6EOq/j4NxtGbS4T/6t/Ss4R/lPwsTxlHX18C/HonZtpK16b/Ga+FvEKLkv77dZo1wBfC/1byosgjA978ct9fU7Er+v90MaPNmY+O/1K9aBRAE4T8OYO+Og8PgP9HMI+khveY/COe78OIO5z/fEbjYPKbXP5783Oe1efS/pv1LZOxM3b9FNYRCwVHmv6wbj+ASUtw/tSVIXIGv4r/X8mb0hED6vw==",
          "dtype": "f8"
         },
         "yaxis": "y"
        },
        {
         "hovertemplate": "<b>%{hovertext}</b><br><br>type1=fairy<br>PC1=%{x}<br>PC2=%{y}<extra></extra>",
         "hovertext": [
          "Clefairy",
          "Clefable",
          "Cleffa",
          "Togepi",
          "Togetic",
          "Snubbull",
          "Granbull",
          "Togekiss",
          "Flabébé",
          "Floette",
          "Florges",
          "Spritzee",
          "Aromatisse",
          "Swirlix",
          "Slurpuff",
          "Sylveon",
          "Xerneas",
          "Comfey"
         ],
         "legendgroup": "fairy",
         "marker": {
          "color": "#FF97FF",
          "symbol": "circle"
         },
         "mode": "markers",
         "name": "fairy",
         "orientation": "v",
         "showlegend": true,
         "type": "scatter",
         "x": {
          "bdata": "gwv27X/I+b/S03eNYJPuP/tBOIQqLArAFZXd0A8HB8BzYOmnuBbRv062WfoPRgDACfbUkyOW2D8iDeKFI/L+P9WHm+xA3/6/msfkqMFpAEDHVkZOGUEBQMo9+0CwzvS/omHxF3wt5j+y951J6072vymDg1OUZOo/Mr2bCSqS+z8p1l8iVDwQQMlJydy6T+w/",
          "dtype": "f8"
         },
         "xaxis": "x",
         "y": {
          "bdata": "byw65ILt1L/EdaTjxQbDv/4BIOD1o9u/+79voDT08b8jJXy7s4fwv1fV+20sKd2/1zKvuY9Q5L/k1RsAjFKhv9CdpAV6MJu/FgZt5Gpn6D9kIksBC3eOv1ZpgEM8EOu/GaNI3hRe678rLOv1KbrQv+3CNZ2rN6q//slxPGJOx78RsTZNN7zhP0x8hM2QU9Q/",
          "dtype": "f8"
         },
         "yaxis": "y"
        },
        {
         "hovertemplate": "<b>%{hovertext}</b><br><br>type1=fighting<br>PC1=%{x}<br>PC2=%{y}<extra></extra>",
         "hovertext": [
          "Mankey",
          "Primeape",
          "Machop",
          "Machoke",
          "Machamp",
          "Hitmonlee",
          "Hitmonchan",
          "Tyrogue",
          "Hitmontop",
          "Makuhita",
          "Hariyama",
          "Meditite",
          "Medicham",
          "Riolu",
          "Lucario",
          "Timburr",
          "Gurdurr",
          "Conkeldurr",
          "Throh",
          "Sawk",
          "Mienfoo",
          "Mienshao",
          "Pancham",
          "Pangoro",
          "Hawlucha",
          "Crabrawler",
          "Crabominable",
          "Passimian"
         ],
         "legendgroup": "fighting",
         "marker": {
          "color": "#FECB52",
          "symbol": "circle"
         },
         "mode": "markers",
         "name": "fighting",
         "orientation": "v",
         "showlegend": true,
         "type": "scatter",
         "x": {
          "bdata": "9IGkFhFIAMAzYAs0YZDXP58F8nIfhP+/fG3tj4UE1r8n4quF6Kv0P8HgWtwUN90/6BX8l/Qe3T+leQAYwwwMwMrHjXY389w/NTpJU+JCCMAHsL+10MfpP5Vm+g3xXAPAVZ3hhUb28z8CDbaf1soCwNzm3l6heghAC0coAE+W/79UA4/k6IDXvxF9OW8HRvQ/zVzv4pat5T/zHenuHXLhPwCQm81+vvS/XvZhv8CC8z/vqB/vyYL0vyEJUehfpfE/EiON5WFc8D+vK/HhJQH4v8d7Q2wuZ+s/plFl4wjd7T8=",
          "dtype": "f8"
         },
         "xaxis": "x",
         "y": {
          "bdata": "4Au2zq6m6D84YiPzP2frP/tw1aVfGte/bD5P3so947/hyxQe/8/kv7cLQxvoBtE/NBzQBlga4L8tBbdfM7iXP9/+KvF8pO6/J1QIcCP507/V+Ww+gNzgv/pJZ0sHc8E/tUxmgCIi4j8yd25VGkneP2Cc04C4E/c/gPhLWZX54b9b2vk25prwv7imTsqHafK/wWzadAz39b84gqD8Eeqav5KuzrLeMt8/N56jZf3+9z+ZEDMQNXrZv1+g/gF+T9m/vPQ8Ghyd9D85A54Y5hHKP84bVQf8/ui/XVJP58rV0b8=",
          "dtype": "f8"
         },
         "yaxis": "y"
        },
        {
         "hovertemplate": "<b>%{hovertext}</b><br><br>type1=psychic<br>PC1=%{x}<br>PC2=%{y}<extra></extra>",
         "hovertext": [
          "Abra",
          "Kadabra",
          "Alakazam",
          "Drowzee",
          "Hypno",
          "Mr. Mime",
          "Mewtwo",
          "Mew",
          "Natu",
          "Xatu",
          "Espeon",
          "Unown",
          "Wobbuffet",
          "Lugia",
          "Celebi",
          "Ralts",
          "Kirlia",
          "Gardevoir",
          "Spoink",
          "Grumpig",
          "Chimecho",
          "Wynaut",
          "Deoxys",
          "Chingling",
          "Mime Jr.",
          "Gallade",
          "Uxie",
          "Mesprit",
          "Azelf",
          "Cresselia",
          "Victini",
          "Munna",
          "Musharna",
          "Woobat",
          "Swoobat",
          "Sigilyph",
          "Gothita",
          "Gothorita",
          "Gothitelle",
          "Solosis",
          "Duosion",
          "Reuniclus",
          "Elgyem",
          "Beheeyem",
          "Espurr",
          "Meowstic",
          "Hoopa",
          "Tapu Lele",
          "Cosmog",
          "Cosmoem",
          "Solgaleo",
          "Lunala",
          "Necrozma"
         ],
         "legendgroup": "psychic",
         "marker": {
          "color": "#636efa",
          "symbol": "circle"
         },
         "mode": "markers",
         "name": "psychic",
         "orientation": "v",
         "showlegend": true,
         "type": "scatter",
         "x": {
          "bdata": "m5M8x1c4/791UlGVnEvgv7YgVczZTgVARaGAmdQW+L/Yjvx7wVjvP9e73jIpjuE/qgUEkNqVFkB+V5UgvPAFQE3wrATVtvy/UNc968p64z8pOvdtgHX4PwfzS4Kbpfe/N5YauPdjzr9Su0IRu1YQQH5XlSC88AVAWmWgt7GeDcDXMLBZlSwDwKnH3h3aEQlAcehabJ1F+L8TPWZ5GJbnP3+Y6Kh/Qt4/u0WOaCj+BMAEo01DPxwEQEchwBa0WALAnW3MgLCz/b8RsGq3/xkIQPS8hWH/fwNA7CGSyomsA0Di4KzWzcYCQFjaS4jplQZAfleVILzwBUBE56Ri7sMAwG+Tzdols/E/bNCntInW+7/O/Vr27ZzGv2cnB/8IKe4/h2chcUF8AcD+/PzDkBXiv0jCjNrJ6PA/bR6urzUTAcAbj3Tt2+/qv+qOASHvSvI/Dl73dmcA978UAyagLpPwPypo8l6WF/O/0LLmH/db4T8NMbItzbkQQG6OVSKthAJA/4bwlpxfDcAbn86WsenWv0AMZrOuJBBAUHeQYiRjEEDDyH03JC8GQA==",
          "dtype": "f8"
         },
         "xaxis": "x",
         "y": {
          "bdata": "Y6w5xQ4dAkDwEkokvoYCQOreD594VAdAkA2PLJQW3L9yvu0O86DTvwjKC6ZmceU/EDEWHlzZA0A9/GeAhZbPPx/BJNqQE+0/dheS/iHU7z+XKPSGLtH6PzKy8BK4C9I/mupIU0Jv8L+R1O5hsHHkvz38Z4CFls8/5LvN+TXa3D+X8bTDN7PfP2Y+giivDfU/YfZELNYV4T+r76ZD/d7UP+ORDOBpiLy/wMwvO4ff67//wBO3jVsEQFetmJDp0bs/sT9Qpq801j/mQy7VL7DIP1r+G+x06Ou/c71eUmyY0r8EvBVKSY37P70SsaI3V/C/PfxngIWWzz8GRsoSU3LZv4oN3TJQyfG/N7I6v/076j/a6PZaPlb7P593p1zCkuo/vJKNNeBnu7/e16Zgt0LRv5l/jnsH2uG/JyfQmEGprz/HY1HYGUXFP/LGr2h3SuS/NuEGE7Hrzr+kqz2BSWXZv1rKgwK7rtw/e0BXE9FQ7D9Q+/5efsPuPwYHiZIBwuo/2s/gcr13vD+LYl83Pz0FwJc+ADcAo8M/BVEMkT6z4j/CwCTIrxquPw==",
          "dtype": "f8"
         },
         "yaxis": "y"
        },
        {
         "hovertemplate": "<b>%{hovertext}</b><br><br>type1=rock<br>PC1=%{x}<br>PC2=%{y}<extra></extra>",
         "hovertext": [
          "Geodude",
          "Graveler",
          "Golem",
          "Onix",
          "Omanyte",
          "Omastar",
          "Kabuto",
          "Kabutops",
          "Aerodactyl",
          "Sudowoodo",
          "Larvitar",
          "Pupitar",
          "Tyranitar",
          "Nosepass",
          "Lunatone",
          "Solrock",
          "Lileep",
          "Cradily",
          "Anorith",
          "Armaldo",
          "Regirock",
          "Cranidos",
          "Rampardos",
          "Shieldon",
          "Bastiodon",
          "Bonsly",
          "Probopass",
          "Roggenrola",
          "Boldore",
          "Gigalith",
          "Archen",
          "Archeops",
          "Terrakion",
          "Binacle",
          "Barbaracle",
          "Tyrunt",
          "Tyrantrum",
          "Amaura",
          "Aurorus",
          "Carbink",
          "Diancie",
          "Rockruff",
          "Lycanroc",
          "Minior",
          "Nihilego"
         ],
         "legendgroup": "rock",
         "marker": {
          "color": "#EF553B",
          "symbol": "circle"
         },
         "mode": "markers",
         "name": "rock",
         "orientation": "v",
         "showlegend": true,
         "type": "scatter",
         "x": {
          "bdata": "IiaeEdLKAMDHw1BNNQblv6U1WH/n2fA/Uynczp027L+/+O8Unfnyv3SKhZ8T4fA/eiS9U28S9L9eM9CDo+zvP3IRsTE/0gZAo+IJcMjG0b8PjGo9ClwAwIWXIoA3ptC/LUUCakieEUD43b6E2LTqv4gl2smt1uE/dITjZjUb3z/tHqdv2+vwv3p24ZQJ/fI/J+wEgNLj87+5zgWJh9XxP3pwxP1mPgNArrizl5PU9L9RC6vzYUbxPxcOK92OlfO/nMk2+hfb8j/qLbkLipoBwOxf+KO3F/s/Mxt2dcIoA8DEdarxx4rjv05o/D+USfc/Jt/5ujbB3r8vYcPj3CABQB7aCGk2CANAMSxaA+q0/7/yK6WZmx7yP69H3RV9ifG/Dos4Jv+o9j9arqF36SPwvwBe9etri/k/S13AFND98z8B2KFVbUcRQBivUcNOawPAkkgO5Cpt7T+PWOmJtVrwPyzoXIaDEANA",
          "dtype": "f8"
         },
         "xaxis": "x",
         "y": {
          "bdata": "9oVT488w+r/buDIlcV35v297f1+ITPy/a/mf1t/t+r9bO3NwMb/sv6m1vrvo7+u/EnqgfodN3b/Gy0Y9tCTVv6iUREf/6vg/9E8pEn1dAMDDCHhJ9wnJv0G6lY8hv9e/8lNq8xqg+r9Brnwe9icDwOo4slVSuNM/6WwKtUYT07/BlWZo94X1vzsUZjfqhfS/PXzW6KTh4j9lVGojzJLyv/wu6x/ArQrAZFc5Ldl82D8zn59ehKGyP1ZDHztmmADAQbgcqH7aC8AFLj/mZuoAwLBmQthXDQXAhGNkTM4S+L+JZ9Vw7U77v2czxoFezQLAYtf6TuuO7D+Uwtu+jND5P9mdbSsSKd4/VP3jOsrp2L/c26m6HTLxv25vUudJF+G/xOEMZ7Lf579EPHCbQIuiv7HUDEXse8y/cpQmXd2HBcCx8tCez5LrP00HaNfBtto/P/aGyNeuvD+CUDnsyOb+Pwhfn6j7bPU/",
          "dtype": "f8"
         },
         "yaxis": "y"
        },
        {
         "hovertemplate": "<b>%{hovertext}</b><br><br>type1=ghost<br>PC1=%{x}<br>PC2=%{y}<extra></extra>",
         "hovertext": [
          "Gastly",
          "Haunter",
          "Gengar",
          "Misdreavus",
          "Shuppet",
          "Banette",
          "Duskull",
          "Dusclops",
          "Drifloon",
          "Drifblim",
          "Mismagius",
          "Spiritomb",
          "Dusknoir",
          "Giratina",
          "Yamask",
          "Cofagrigus",
          "Litwick",
          "Lampent",
          "Chandelure",
          "Phantump",
          "Trevenant",
          "Pumpkaboo",
          "Gourgeist",
          "Sandygast",
          "Palossand",
          "Mimikyu",
          "Dhelmise"
         ],
         "legendgroup": "ghost",
         "marker": {
          "color": "#00cc96",
          "symbol": "circle"
         },
         "mode": "markers",
         "name": "ghost",
         "orientation": "v",
         "showlegend": true,
         "type": "scatter",
         "x": {
          "bdata": "p6m57rO0/78nQRLBhb/cvzcMJgqHaAVAZ9mKdMFSuj/gZJKK2zcBwKPcFAB0VABAX6+4vJmYAMCZucy1fOfhP1qmhFQJ2/S/o8OrmUdS8j9TfuBU8hPxP+yxk8yONvA/yl0WtsNi+j+f7T80D14QQF9ORpwZuv+/anJFg++O7j/q6gO4vhsDwNVRdMXAeO2/3uGJAoqh9z+NmBG43P79vx1PODg3Jek/JsizMXfJ97/nixKmX8jwPwOdovpsG/u/X9uqMhKE7D+GwzmlIMrnP1bd+P1wA/g/",
          "dtype": "f8"
         },
         "xaxis": "x",
         "y": {
          "bdata": "+3XLdhNL/T8okuzO/XX9P8ony51QQAFAS4vJhdXW5z/LuuAlEk/gPyG6BwJse9A/eiW4adIa/L+6/6XZLR8FwFB1WCK4o+0/XuzR8W1u8D+Q93BF0g70P5SgzREsV/i/o+3xlMkdAsAEmaqbuaGxP/l6aBQUNfK/w8xm/dOEAsDNufH5Y9jkv0AlLed8QtQ/a9LGBuS84T+5DumjiyXQv/JHPlCLMeC/eG07btL55L9zkpqV5j73v2Nyxr2wZvK/fGTRKG2b9L/5uTDilcnBPxV/FL+EVPO/",
          "dtype": "f8"
         },
         "yaxis": "y"
        },
        {
         "hovertemplate": "<b>%{hovertext}</b><br><br>type1=ice<br>PC1=%{x}<br>PC2=%{y}<extra></extra>",
         "hovertext": [
          "Jynx",
          "Articuno",
          "Swinub",
          "Piloswine",
          "Delibird",
          "Smoochum",
          "Snorunt",
          "Glalie",
          "Spheal",
          "Sealeo",
          "Walrein",
          "Regice",
          "Glaceon",
          "Mamoswine",
          "Froslass",
          "Vanillite",
          "Vanillish",
          "Vanilluxe",
          "Cubchoo",
          "Beartic",
          "Cryogonal",
          "Bergmite",
          "Avalugg"
         ],
         "legendgroup": "ice",
         "marker": {
          "color": "#ab63fa",
          "symbol": "circle"
         },
         "mode": "markers",
         "name": "ice",
         "orientation": "v",
         "showlegend": true,
         "type": "scatter",
         "x": {
          "bdata": "JNnDV3ld3T/x+Ygy1PkDQNTezOxgOgfAkkOARpT21z/jIgYXlkr6v0HVSsRmI/+/doS2WX6DAMADvGUBVSUDQJGNqzWdOAHAvL85f8Nuzb8xq4iLiRX7PwfK5UW3xQVApG4cytBJ+T++chksSKH5PxAhBhMUgec/cxD5FfdJ/78lTMoy227gv60v/aCrvPs/19ztpTtu/7+P/O0ImMX0P1Q0Ydjohfc/CNt9TnUiAMDh5LiWePz0Pw==",
          "dtype": "f8"
         },
         "xaxis": "x",
         "y": {
          "bdata": "MhzpH9GW+j+QsIE37wfWvy4g54FH3c8/oLVGalwI5L8reNhG+xjvPxlHd7ZJa/U/75L6ufgjsz87ZtwIKF/wP/kBc/aMAOG/YxM3TMuZ3b/XIoirfDLZv36IAKwIyPu/3Q7RfNAp2b8TuoDXdmXFP6W/Ie7jWvM/kdtRcetBkD+QSGG+ZkaxP6Mk/Bay3Mw/k3z6CZZLxz9xxskaBEnmv44vnzMyE/E/QavRfLw+87/K2hm96bAJwA==",
          "dtype": "f8"
         },
         "yaxis": "y"
        },
        {
         "hovertemplate": "<b>%{hovertext}</b><br><br>type1=dragon<br>PC1=%{x}<br>PC2=%{y}<extra></extra>",
         "hovertext": [
          "Dratini",
          "Dragonair",
          "Dragonite",
          "Altaria",
          "Bagon",
          "Shelgon",
          "Salamence",
          "Latias",
          "Latios",
          "Rayquaza",
          "Gible",
          "Gabite",
          "Garchomp",
          "Axew",
          "Fraxure",
          "Haxorus",
          "Druddigon",
          "Reshiram",
          "Zekrom",
          "Kyurem",
          "Goomy",
          "Sliggoo",
          "Goodra",
          "Zygarde",
          "Jangmo-o",
          "Hakamo-o",
          "Kommo-o"
         ],
         "legendgroup": "dragon",
         "marker": {
          "color": "#FFA15A",
          "symbol": "circle"
         },
         "mode": "markers",
         "name": "dragon",
         "orientation": "v",
         "showlegend": true,
         "type": "scatter",
         "x": {
          "bdata": "wC2gg56FAMCnwoNe2D7Cv2eWlBqCTAZAd7WkWC/nBEBqly8s9PYAwKIO9VOOFsa/zxRRO2kGEUC3hDikMJ4RQOIqFU10exFAjFh9qHmDFkCAkASxPmIAwLX2+k8MI9e/JosN60JrEUCx5drNtMD8v3teGVqoKta/WGuVGX5R+z8j4+MZwTnvP+bKSCVEbBBAki7yz+4lEEC0l4owqqIRQA0ggwTspf+/CMtVAxYN4D9dQH/PzFEHQLXYHKHWPBJAdI4CLdSpAMClkFDCycPEv1lZ/5Lz8wVA",
          "dtype": "f8"
         },
         "xaxis": "x",
         "y": {
          "bdata": "r7ftuwwHyD9jzKX+1GrQPyUEJAhwSMG/qIAiF0E+1b9so6ignpKmv4we0KpRR+u/EiKGuWCi2j+VmgXiJfG6P7H53E2eT+0/LRuz0lUM9T9lyl8bRlC5v4GdLvgLIN4/YQmfWk3Kq78n1Le2LoSrv6LmEyDFmai/DLW02j0x0j9lYMr5rCHxv6K2xUdiyNI/NmomVljNy78jcA4STObsP/8HOXd5zpq/ut+6aTUIUL8knXyiufumPwF3KE0Gjeq/A1kscxdl1b8jT3Bsh2jYv8wFpSGG/+K/",
          "dtype": "f8"
         },
         "yaxis": "y"
        },
        {
         "hovertemplate": "<b>%{hovertext}</b><br><br>type1=dark<br>PC1=%{x}<br>PC2=%{y}<extra></extra>",
         "hovertext": [
          "Umbreon",
          "Murkrow",
          "Sneasel",
          "Houndour",
          "Houndoom",
          "Poochyena",
          "Mightyena",
          "Sableye",
          "Absol",
          "Honchkrow",
          "Weavile",
          "Darkrai",
          "Purrloin",
          "Liepard",
          "Scraggy",
          "Scrafty",
          "Zorua",
          "Zoroark",
          "Pawniard",
          "Bisharp",
          "Vullaby",
          "Mandibuzz",
          "Deino",
          "Zweilous",
          "Hydreigon",
          "Inkay",
          "Malamar",
          "Yveltal",
          "Guzzlord"
         ],
         "legendgroup": "dark",
         "marker": {
          "color": "#19d3f3",
          "symbol": "circle"
         },
         "mode": "markers",
         "name": "dark",
         "orientation": "v",
         "showlegend": true,
         "type": "scatter",
         "x": {
          "bdata": "nvBLkvxt+j8hbX37Nn7dv/3QJ70UDLS/07qymudz+b/W+yEou4kFQGM+/oKj2grAr1dnaPsExb8UyLEy9MfuP4Q8GLA1sQBAFyeFdk/G8z9T7/lQfVTzP18zub31UAVAOFF82epmA8C0VltNP3fGP6iFWNFyW/S//AqRJoU18D+GG5WKzv35v6mOBrC4kPM/9ECRxQPZ97+zDuQXm1DuPzNQy7zZOu6/ysC97DIg9T9SdAiaJUsAwIRXEIqTLr2/tBLXNgPpBUBnMR4qAxECwP6Jji/bOOs/KdZfIlQ8EECIr/82yW0DQA==",
          "dtype": "f8"
         },
         "xaxis": "x",
         "y": {
          "bdata": "e61UoEBX9r+7wSnsFWX5P3m22+sFIfM/CjNsjrvW8T+XZW3fxBf1P/Xk1JCDN4g/1trh8bBHwD/UjNQQVLQCwPpgVkihu/4/WCA2vRvy7D+QZnbesmzzP5uoOFXqcPg/oJ94wLcM6z/4hO62HQD8P0jlj0jSjuW/K1X39Fbs+b+3blYjBDPwP+Dl4W5K+Ps/dkPTsadhtL9pr8a00zbhv878hSmqgNi/5vSlPaUw57+qq8tZBoTRvzh2OXJvOcq/2UpsUrsY5z/OroHDVrPJv3tVlRcPIc6/EbE2TTe84T84tOPb1BHDvw==",
          "dtype": "f8"
         },
         "yaxis": "y"
        },
        {
         "hovertemplate": "<b>%{hovertext}</b><br><br>type1=steel<br>PC1=%{x}<br>PC2=%{y}<extra></extra>",
         "hovertext": [
          "Steelix",
          "Skarmory",
          "Mawile",
          "Aron",
          "Lairon",
          "Aggron",
          "Beldum",
          "Metang",
          "Metagross",
          "Registeel",
          "Jirachi",
          "Bronzor",
          "Bronzong",
          "Dialga",
          "Klink",
          "Klang",
          "Klinklang",
          "Cobalion",
          "Honedge",
          "Doublade",
          "Aegislash",
          "Klefki",
          "Celesteela",
          "Magearna"
         ],
         "legendgroup": "steel",
         "marker": {
          "color": "#FF6692",
          "symbol": "circle"
         },
         "mode": "markers",
         "name": "steel",
         "orientation": "v",
         "showlegend": true,
         "type": "scatter",
         "x": {
          "bdata": "BQwiQ7EgB0DxanWoR+vfP2nBSRsUCus/xNJ42CvC+b8r0SYUC3OivxyF1Qb4EwlAlI+afDNSAMDPv1PcTxC+vxiJ35EJIxFAQB3VIQ+CBEB+V5UgvPAFQGrY01XEg/+/kr3vInZm9D/UflX4VS4QQMRlVXSTNwDAtxZrSNSZzD94ZGtoll32P3WwkDysdgJAFHs8BPUk+78dbreE6AnQPx/MMtPdw/c/AiiaRmsJ5T+yFGVeMskCQGoSoH+bpwZA",
          "dtype": "f8"
         },
         "xaxis": "x",
         "y": {
          "bdata": "4vrclk5DEcBwHJ2oRMb3v2AHWddDlvu/u1Ot9ghu9r+bX1xCRkL/v29D4v+3NQ3A+Jx9F6gl87/U4FFv1Avyv7AuOVqrHd+/nbn1OuJIBMA9/GeAhZbPPzTNNS67P/2/q9ngnZQt/7+M5F9yzruxP2lkahekHu2/pLOpBaDq7b9vhAbFPJfWv81B4sIoYqQ/Yg9U3CNt97/meSssSX8CwNNVVXJmBPM/FHmCvnb8xL+zk6xzL3Dmv6sBg+FIYua/",
          "dtype": "f8"
         },
         "yaxis": "y"
        },
        {
         "hovertemplate": "<b>%{hovertext}</b><br><br>type1=flying<br>PC1=%{x}<br>PC2=%{y}<extra></extra>",
         "hovertext": [
          "Tornadus",
          "Noibat",
          "Noivern"
         ],
         "legendgroup": "flying",
         "marker": {
          "color": "#B6E880",
          "symbol": "circle"
         },
         "mode": "markers",
         "name": "flying",
         "orientation": "v",
         "showlegend": true,
         "type": "scatter",
         "x": {
          "bdata": "AfCSpKPkAkA2gDsOw8gHwLH4DymR0vk/",
          "dtype": "f8"
         },
         "xaxis": "x",
         "y": {
          "bdata": "8Wu4R7jr9T9ruK1a37PhPz510R+OCPY/",
          "dtype": "f8"
         },
         "yaxis": "y"
        }
       ],
       "layout": {
        "legend": {
         "title": {
          "text": "Type"
         },
         "tracegroupgap": 0
        },
        "template": {
         "data": {
          "bar": [
           {
            "error_x": {
             "color": "#2a3f5f"
            },
            "error_y": {
             "color": "#2a3f5f"
            },
            "marker": {
             "line": {
              "color": "white",
              "width": 0.5
             },
             "pattern": {
              "fillmode": "overlay",
              "size": 10,
              "solidity": 0.2
             }
            },
            "type": "bar"
           }
          ],
          "barpolar": [
           {
            "marker": {
             "line": {
              "color": "white",
              "width": 0.5
             },
             "pattern": {
              "fillmode": "overlay",
              "size": 10,
              "solidity": 0.2
             }
            },
            "type": "barpolar"
           }
          ],
          "carpet": [
           {
            "aaxis": {
             "endlinecolor": "#2a3f5f",
             "gridcolor": "#C8D4E3",
             "linecolor": "#C8D4E3",
             "minorgridcolor": "#C8D4E3",
             "startlinecolor": "#2a3f5f"
            },
            "baxis": {
             "endlinecolor": "#2a3f5f",
             "gridcolor": "#C8D4E3",
             "linecolor": "#C8D4E3",
             "minorgridcolor": "#C8D4E3",
             "startlinecolor": "#2a3f5f"
            },
            "type": "carpet"
           }
          ],
          "choropleth": [
           {
            "colorbar": {
             "outlinewidth": 0,
             "ticks": ""
            },
            "type": "choropleth"
           }
          ],
          "contour": [
           {
            "colorbar": {
             "outlinewidth": 0,
             "ticks": ""
            },
            "colorscale": [
             [
              0,
              "#0d0887"
             ],
             [
              0.1111111111111111,
              "#46039f"
             ],
             [
              0.2222222222222222,
              "#7201a8"
             ],
             [
              0.3333333333333333,
              "#9c179e"
             ],
             [
              0.4444444444444444,
              "#bd3786"
             ],
             [
              0.5555555555555556,
              "#d8576b"
             ],
             [
              0.6666666666666666,
              "#ed7953"
             ],
             [
              0.7777777777777778,
              "#fb9f3a"
             ],
             [
              0.8888888888888888,
              "#fdca26"
             ],
             [
              1,
              "#f0f921"
             ]
            ],
            "type": "contour"
           }
          ],
          "contourcarpet": [
           {
            "colorbar": {
             "outlinewidth": 0,
             "ticks": ""
            },
            "type": "contourcarpet"
           }
          ],
          "heatmap": [
           {
            "colorbar": {
             "outlinewidth": 0,
             "ticks": ""
            },
            "colorscale": [
             [
              0,
              "#0d0887"
             ],
             [
              0.1111111111111111,
              "#46039f"
             ],
             [
              0.2222222222222222,
              "#7201a8"
             ],
             [
              0.3333333333333333,
              "#9c179e"
             ],
             [
              0.4444444444444444,
              "#bd3786"
             ],
             [
              0.5555555555555556,
              "#d8576b"
             ],
             [
              0.6666666666666666,
              "#ed7953"
             ],
             [
              0.7777777777777778,
              "#fb9f3a"
             ],
             [
              0.8888888888888888,
              "#fdca26"
             ],
             [
              1,
              "#f0f921"
             ]
            ],
            "type": "heatmap"
           }
          ],
          "histogram": [
           {
            "marker": {
             "pattern": {
              "fillmode": "overlay",
              "size": 10,
              "solidity": 0.2
             }
            },
            "type": "histogram"
           }
          ],
          "histogram2d": [
           {
            "colorbar": {
             "outlinewidth": 0,
             "ticks": ""
            },
            "colorscale": [
             [
              0,
              "#0d0887"
             ],
             [
              0.1111111111111111,
              "#46039f"
             ],
             [
              0.2222222222222222,
              "#7201a8"
             ],
             [
              0.3333333333333333,
              "#9c179e"
             ],
             [
              0.4444444444444444,
              "#bd3786"
             ],
             [
              0.5555555555555556,
              "#d8576b"
             ],
             [
              0.6666666666666666,
              "#ed7953"
             ],
             [
              0.7777777777777778,
              "#fb9f3a"
             ],
             [
              0.8888888888888888,
              "#fdca26"
             ],
             [
              1,
              "#f0f921"
             ]
            ],
            "type": "histogram2d"
           }
          ],
          "histogram2dcontour": [
           {
            "colorbar": {
             "outlinewidth": 0,
             "ticks": ""
            },
            "colorscale": [
             [
              0,
              "#0d0887"
             ],
             [
              0.1111111111111111,
              "#46039f"
             ],
             [
              0.2222222222222222,
              "#7201a8"
             ],
             [
              0.3333333333333333,
              "#9c179e"
             ],
             [
              0.4444444444444444,
              "#bd3786"
             ],
             [
              0.5555555555555556,
              "#d8576b"
             ],
             [
              0.6666666666666666,
              "#ed7953"
             ],
             [
              0.7777777777777778,
              "#fb9f3a"
             ],
             [
              0.8888888888888888,
              "#fdca26"
             ],
             [
              1,
              "#f0f921"
             ]
            ],
            "type": "histogram2dcontour"
           }
          ],
          "mesh3d": [
           {
            "colorbar": {
             "outlinewidth": 0,
             "ticks": ""
            },
            "type": "mesh3d"
           }
          ],
          "parcoords": [
           {
            "line": {
             "colorbar": {
              "outlinewidth": 0,
              "ticks": ""
             }
            },
            "type": "parcoords"
           }
          ],
          "pie": [
           {
            "automargin": true,
            "type": "pie"
           }
          ],
          "scatter": [
           {
            "fillpattern": {
             "fillmode": "overlay",
             "size": 10,
             "solidity": 0.2
            },
            "type": "scatter"
           }
          ],
          "scatter3d": [
           {
            "line": {
             "colorbar": {
              "outlinewidth": 0,
              "ticks": ""
             }
            },
            "marker": {
             "colorbar": {
              "outlinewidth": 0,
              "ticks": ""
             }
            },
            "type": "scatter3d"
           }
          ],
          "scattercarpet": [
           {
            "marker": {
             "colorbar": {
              "outlinewidth": 0,
              "ticks": ""
             }
            },
            "type": "scattercarpet"
           }
          ],
          "scattergeo": [
           {
            "marker": {
             "colorbar": {
              "outlinewidth": 0,
              "ticks": ""
             }
            },
            "type": "scattergeo"
           }
          ],
          "scattergl": [
           {
            "marker": {
             "colorbar": {
              "outlinewidth": 0,
              "ticks": ""
             }
            },
            "type": "scattergl"
           }
          ],
          "scattermap": [
           {
            "marker": {
             "colorbar": {
              "outlinewidth": 0,
              "ticks": ""
             }
            },
            "type": "scattermap"
           }
          ],
          "scattermapbox": [
           {
            "marker": {
             "colorbar": {
              "outlinewidth": 0,
              "ticks": ""
             }
            },
            "type": "scattermapbox"
           }
          ],
          "scatterpolar": [
           {
            "marker": {
             "colorbar": {
              "outlinewidth": 0,
              "ticks": ""
             }
            },
            "type": "scatterpolar"
           }
          ],
          "scatterpolargl": [
           {
            "marker": {
             "colorbar": {
              "outlinewidth": 0,
              "ticks": ""
             }
            },
            "type": "scatterpolargl"
           }
          ],
          "scatterternary": [
           {
            "marker": {
             "colorbar": {
              "outlinewidth": 0,
              "ticks": ""
             }
            },
            "type": "scatterternary"
           }
          ],
          "surface": [
           {
            "colorbar": {
             "outlinewidth": 0,
             "ticks": ""
            },
            "colorscale": [
             [
              0,
              "#0d0887"
             ],
             [
              0.1111111111111111,
              "#46039f"
             ],
             [
              0.2222222222222222,
              "#7201a8"
             ],
             [
              0.3333333333333333,
              "#9c179e"
             ],
             [
              0.4444444444444444,
              "#bd3786"
             ],
             [
              0.5555555555555556,
              "#d8576b"
             ],
             [
              0.6666666666666666,
              "#ed7953"
             ],
             [
              0.7777777777777778,
              "#fb9f3a"
             ],
             [
              0.8888888888888888,
              "#fdca26"
             ],
             [
              1,
              "#f0f921"
             ]
            ],
            "type": "surface"
           }
          ],
          "table": [
           {
            "cells": {
             "fill": {
              "color": "#EBF0F8"
             },
             "line": {
              "color": "white"
             }
            },
            "header": {
             "fill": {
              "color": "#C8D4E3"
             },
             "line": {
              "color": "white"
             }
            },
            "type": "table"
           }
          ]
         },
         "layout": {
          "annotationdefaults": {
           "arrowcolor": "#2a3f5f",
           "arrowhead": 0,
           "arrowwidth": 1
          },
          "autotypenumbers": "strict",
          "coloraxis": {
           "colorbar": {
            "outlinewidth": 0,
            "ticks": ""
           }
          },
          "colorscale": {
           "diverging": [
            [
             0,
             "#8e0152"
            ],
            [
             0.1,
             "#c51b7d"
            ],
            [
             0.2,
             "#de77ae"
            ],
            [
             0.3,
             "#f1b6da"
            ],
            [
             0.4,
             "#fde0ef"
            ],
            [
             0.5,
             "#f7f7f7"
            ],
            [
             0.6,
             "#e6f5d0"
            ],
            [
             0.7,
             "#b8e186"
            ],
            [
             0.8,
             "#7fbc41"
            ],
            [
             0.9,
             "#4d9221"
            ],
            [
             1,
             "#276419"
            ]
           ],
           "sequential": [
            [
             0,
             "#0d0887"
            ],
            [
             0.1111111111111111,
             "#46039f"
            ],
            [
             0.2222222222222222,
             "#7201a8"
            ],
            [
             0.3333333333333333,
             "#9c179e"
            ],
            [
             0.4444444444444444,
             "#bd3786"
            ],
            [
             0.5555555555555556,
             "#d8576b"
            ],
            [
             0.6666666666666666,
             "#ed7953"
            ],
            [
             0.7777777777777778,
             "#fb9f3a"
            ],
            [
             0.8888888888888888,
             "#fdca26"
            ],
            [
             1,
             "#f0f921"
            ]
           ],
           "sequentialminus": [
            [
             0,
             "#0d0887"
            ],
            [
             0.1111111111111111,
             "#46039f"
            ],
            [
             0.2222222222222222,
             "#7201a8"
            ],
            [
             0.3333333333333333,
             "#9c179e"
            ],
            [
             0.4444444444444444,
             "#bd3786"
            ],
            [
             0.5555555555555556,
             "#d8576b"
            ],
            [
             0.6666666666666666,
             "#ed7953"
            ],
            [
             0.7777777777777778,
             "#fb9f3a"
            ],
            [
             0.8888888888888888,
             "#fdca26"
            ],
            [
             1,
             "#f0f921"
            ]
           ]
          },
          "colorway": [
           "#636efa",
           "#EF553B",
           "#00cc96",
           "#ab63fa",
           "#FFA15A",
           "#19d3f3",
           "#FF6692",
           "#B6E880",
           "#FF97FF",
           "#FECB52"
          ],
          "font": {
           "color": "#2a3f5f"
          },
          "geo": {
           "bgcolor": "white",
           "lakecolor": "white",
           "landcolor": "white",
           "showlakes": true,
           "showland": true,
           "subunitcolor": "#C8D4E3"
          },
          "hoverlabel": {
           "align": "left"
          },
          "hovermode": "closest",
          "mapbox": {
           "style": "light"
          },
          "paper_bgcolor": "white",
          "plot_bgcolor": "white",
          "polar": {
           "angularaxis": {
            "gridcolor": "#EBF0F8",
            "linecolor": "#EBF0F8",
            "ticks": ""
           },
           "bgcolor": "white",
           "radialaxis": {
            "gridcolor": "#EBF0F8",
            "linecolor": "#EBF0F8",
            "ticks": ""
           }
          },
          "scene": {
           "xaxis": {
            "backgroundcolor": "white",
            "gridcolor": "#DFE8F3",
            "gridwidth": 2,
            "linecolor": "#EBF0F8",
            "showbackground": true,
            "ticks": "",
            "zerolinecolor": "#EBF0F8"
           },
           "yaxis": {
            "backgroundcolor": "white",
            "gridcolor": "#DFE8F3",
            "gridwidth": 2,
            "linecolor": "#EBF0F8",
            "showbackground": true,
            "ticks": "",
            "zerolinecolor": "#EBF0F8"
           },
           "zaxis": {
            "backgroundcolor": "white",
            "gridcolor": "#DFE8F3",
            "gridwidth": 2,
            "linecolor": "#EBF0F8",
            "showbackground": true,
            "ticks": "",
            "zerolinecolor": "#EBF0F8"
           }
          },
          "shapedefaults": {
           "line": {
            "color": "#2a3f5f"
           }
          },
          "ternary": {
           "aaxis": {
            "gridcolor": "#DFE8F3",
            "linecolor": "#A2B1C6",
            "ticks": ""
           },
           "baxis": {
            "gridcolor": "#DFE8F3",
            "linecolor": "#A2B1C6",
            "ticks": ""
           },
           "bgcolor": "white",
           "caxis": {
            "gridcolor": "#DFE8F3",
            "linecolor": "#A2B1C6",
            "ticks": ""
           }
          },
          "title": {
           "x": 0.05
          },
          "xaxis": {
           "automargin": true,
           "gridcolor": "#EBF0F8",
           "linecolor": "#EBF0F8",
           "ticks": "",
           "title": {
            "standoff": 15
           },
           "zerolinecolor": "#EBF0F8",
           "zerolinewidth": 2
          },
          "yaxis": {
           "automargin": true,
           "gridcolor": "#EBF0F8",
           "linecolor": "#EBF0F8",
           "ticks": "",
           "title": {
            "standoff": 15
           },
           "zerolinecolor": "#EBF0F8",
           "zerolinewidth": 2
          }
         }
        },
        "title": {
         "text": "PCA of Battle Stats by Primary Type"
        },
        "xaxis": {
         "anchor": "y",
         "domain": [
          0,
          1
         ],
         "title": {
          "text": "PC1"
         }
        },
        "yaxis": {
         "anchor": "x",
         "domain": [
          0,
          1
         ],
         "title": {
          "text": "PC2"
         }
        }
       }
      }
     },
     "metadata": {},
     "output_type": "display_data"
    }
   ],
   "source": [
    "# Create interactive scatter plot for Battle Stats PCA colored by type1\n",
    "if 'type1' in pokemon_clean.columns:\n",
    "    fig = px.scatter(\n",
    "        pokemon_clean, \n",
    "        x='battle_pc1', \n",
    "        y='battle_pc2',\n",
    "        color='type1',\n",
    "        hover_name='name' if 'name' in pokemon_clean.columns else None,\n",
    "        title='PCA of Battle Stats by Primary Type',\n",
    "        labels={'battle_pc1': 'PC1', 'battle_pc2': 'PC2'},\n",
    "        template='plotly_white'\n",
    "    )\n",
    "    fig.update_layout(legend_title_text='Type')\n",
    "    fig.show()"
   ]
  },
  {
   "cell_type": "code",
   "execution_count": 195,
   "id": "d86a69ab",
   "metadata": {},
   "outputs": [
    {
     "data": {
      "application/vnd.plotly.v1+json": {
       "config": {
        "plotlyServerURL": "https://plot.ly"
       },
       "data": [
        {
         "hovertemplate": "<b>%{hovertext}</b><br><br>PC1=%{x}<br>PC2=%{y}<br>is_legendary=%{marker.color}<extra></extra>",
         "hovertext": [
          "Bulbasaur",
          "Ivysaur",
          "Venusaur",
          "Charmander",
          "Charmeleon",
          "Charizard",
          "Squirtle",
          "Wartortle",
          "Blastoise",
          "Caterpie",
          "Metapod",
          "Butterfree",
          "Weedle",
          "Kakuna",
          "Beedrill",
          "Pidgey",
          "Pidgeotto",
          "Pidgeot",
          "Rattata",
          "Raticate",
          "Spearow",
          "Fearow",
          "Ekans",
          "Arbok",
          "Pikachu",
          "Raichu",
          "Sandshrew",
          "Sandslash",
          "Nidoran♀",
          "Nidorina",
          "Nidoqueen",
          "Nidoran♂",
          "Nidorino",
          "Nidoking",
          "Clefairy",
          "Clefable",
          "Vulpix",
          "Ninetales",
          "Jigglypuff",
          "Wigglytuff",
          "Zubat",
          "Golbat",
          "Oddish",
          "Gloom",
          "Vileplume",
          "Paras",
          "Parasect",
          "Venonat",
          "Venomoth",
          "Diglett",
          "Dugtrio",
          "Meowth",
          "Persian",
          "Psyduck",
          "Golduck",
          "Mankey",
          "Primeape",
          "Growlithe",
          "Arcanine",
          "Poliwag",
          "Poliwhirl",
          "Poliwrath",
          "Abra",
          "Kadabra",
          "Alakazam",
          "Machop",
          "Machoke",
          "Machamp",
          "Bellsprout",
          "Weepinbell",
          "Victreebel",
          "Tentacool",
          "Tentacruel",
          "Geodude",
          "Graveler",
          "Golem",
          "Ponyta",
          "Rapidash",
          "Slowpoke",
          "Slowbro",
          "Magnemite",
          "Magneton",
          "Farfetch'd",
          "Doduo",
          "Dodrio",
          "Seel",
          "Dewgong",
          "Grimer",
          "Muk",
          "Shellder",
          "Cloyster",
          "Gastly",
          "Haunter",
          "Gengar",
          "Onix",
          "Drowzee",
          "Hypno",
          "Krabby",
          "Kingler",
          "Voltorb",
          "Electrode",
          "Exeggcute",
          "Exeggutor",
          "Cubone",
          "Marowak",
          "Hitmonlee",
          "Hitmonchan",
          "Lickitung",
          "Koffing",
          "Weezing",
          "Rhyhorn",
          "Rhydon",
          "Chansey",
          "Tangela",
          "Kangaskhan",
          "Horsea",
          "Seadra",
          "Goldeen",
          "Seaking",
          "Staryu",
          "Starmie",
          "Mr. Mime",
          "Scyther",
          "Jynx",
          "Electabuzz",
          "Magmar",
          "Pinsir",
          "Tauros",
          "Magikarp",
          "Gyarados",
          "Lapras",
          "Ditto",
          "Eevee",
          "Vaporeon",
          "Jolteon",
          "Flareon",
          "Porygon",
          "Omanyte",
          "Omastar",
          "Kabuto",
          "Kabutops",
          "Aerodactyl",
          "Snorlax",
          "Articuno",
          "Zapdos",
          "Moltres",
          "Dratini",
          "Dragonair",
          "Dragonite",
          "Mewtwo",
          "Mew",
          "Chikorita",
          "Bayleef",
          "Meganium",
          "Cyndaquil",
          "Quilava",
          "Typhlosion",
          "Totodile",
          "Croconaw",
          "Feraligatr",
          "Sentret",
          "Furret",
          "Hoothoot",
          "Noctowl",
          "Ledyba",
          "Ledian",
          "Spinarak",
          "Ariados",
          "Crobat",
          "Chinchou",
          "Lanturn",
          "Pichu",
          "Cleffa",
          "Igglybuff",
          "Togepi",
          "Togetic",
          "Natu",
          "Xatu",
          "Mareep",
          "Flaaffy",
          "Ampharos",
          "Bellossom",
          "Marill",
          "Azumarill",
          "Sudowoodo",
          "Politoed",
          "Hoppip",
          "Skiploom",
          "Jumpluff",
          "Aipom",
          "Sunkern",
          "Sunflora",
          "Yanma",
          "Wooper",
          "Quagsire",
          "Espeon",
          "Umbreon",
          "Murkrow",
          "Slowking",
          "Misdreavus",
          "Unown",
          "Wobbuffet",
          "Girafarig",
          "Pineco",
          "Forretress",
          "Dunsparce",
          "Gligar",
          "Steelix",
          "Snubbull",
          "Granbull",
          "Qwilfish",
          "Scizor",
          "Shuckle",
          "Heracross",
          "Sneasel",
          "Teddiursa",
          "Ursaring",
          "Slugma",
          "Magcargo",
          "Swinub",
          "Piloswine",
          "Corsola",
          "Remoraid",
          "Octillery",
          "Delibird",
          "Mantine",
          "Skarmory",
          "Houndour",
          "Houndoom",
          "Kingdra",
          "Phanpy",
          "Donphan",
          "Porygon2",
          "Stantler",
          "Smeargle",
          "Tyrogue",
          "Hitmontop",
          "Smoochum",
          "Elekid",
          "Magby",
          "Miltank",
          "Blissey",
          "Raikou",
          "Entei",
          "Suicune",
          "Larvitar",
          "Pupitar",
          "Tyranitar",
          "Lugia",
          "Ho-Oh",
          "Celebi",
          "Treecko",
          "Grovyle",
          "Sceptile",
          "Torchic",
          "Combusken",
          "Blaziken",
          "Mudkip",
          "Marshtomp",
          "Swampert",
          "Poochyena",
          "Mightyena",
          "Zigzagoon",
          "Linoone",
          "Wurmple",
          "Silcoon",
          "Beautifly",
          "Cascoon",
          "Dustox",
          "Lotad",
          "Lombre",
          "Ludicolo",
          "Seedot",
          "Nuzleaf",
          "Shiftry",
          "Taillow",
          "Swellow",
          "Wingull",
          "Pelipper",
          "Ralts",
          "Kirlia",
          "Gardevoir",
          "Surskit",
          "Masquerain",
          "Shroomish",
          "Breloom",
          "Slakoth",
          "Vigoroth",
          "Slaking",
          "Nincada",
          "Ninjask",
          "Shedinja",
          "Whismur",
          "Loudred",
          "Exploud",
          "Makuhita",
          "Hariyama",
          "Azurill",
          "Nosepass",
          "Skitty",
          "Delcatty",
          "Sableye",
          "Mawile",
          "Aron",
          "Lairon",
          "Aggron",
          "Meditite",
          "Medicham",
          "Electrike",
          "Manectric",
          "Plusle",
          "Minun",
          "Volbeat",
          "Illumise",
          "Roselia",
          "Gulpin",
          "Swalot",
          "Carvanha",
          "Sharpedo",
          "Wailmer",
          "Wailord",
          "Numel",
          "Camerupt",
          "Torkoal",
          "Spoink",
          "Grumpig",
          "Spinda",
          "Trapinch",
          "Vibrava",
          "Flygon",
          "Cacnea",
          "Cacturne",
          "Swablu",
          "Altaria",
          "Zangoose",
          "Seviper",
          "Lunatone",
          "Solrock",
          "Barboach",
          "Whiscash",
          "Corphish",
          "Crawdaunt",
          "Baltoy",
          "Claydol",
          "Lileep",
          "Cradily",
          "Anorith",
          "Armaldo",
          "Feebas",
          "Milotic",
          "Castform",
          "Kecleon",
          "Shuppet",
          "Banette",
          "Duskull",
          "Dusclops",
          "Tropius",
          "Chimecho",
          "Absol",
          "Wynaut",
          "Snorunt",
          "Glalie",
          "Spheal",
          "Sealeo",
          "Walrein",
          "Clamperl",
          "Huntail",
          "Gorebyss",
          "Relicanth",
          "Luvdisc",
          "Bagon",
          "Shelgon",
          "Salamence",
          "Beldum",
          "Metang",
          "Metagross",
          "Regirock",
          "Regice",
          "Registeel",
          "Latias",
          "Latios",
          "Kyogre",
          "Groudon",
          "Rayquaza",
          "Jirachi",
          "Deoxys",
          "Turtwig",
          "Grotle",
          "Torterra",
          "Chimchar",
          "Monferno",
          "Infernape",
          "Piplup",
          "Prinplup",
          "Empoleon",
          "Starly",
          "Staravia",
          "Staraptor",
          "Bidoof",
          "Bibarel",
          "Kricketot",
          "Kricketune",
          "Shinx",
          "Luxio",
          "Luxray",
          "Budew",
          "Roserade",
          "Cranidos",
          "Rampardos",
          "Shieldon",
          "Bastiodon",
          "Burmy",
          "Wormadam",
          "Mothim",
          "Combee",
          "Vespiquen",
          "Pachirisu",
          "Buizel",
          "Floatzel",
          "Cherubi",
          "Cherrim",
          "Shellos",
          "Gastrodon",
          "Ambipom",
          "Drifloon",
          "Drifblim",
          "Buneary",
          "Lopunny",
          "Mismagius",
          "Honchkrow",
          "Glameow",
          "Purugly",
          "Chingling",
          "Stunky",
          "Skuntank",
          "Bronzor",
          "Bronzong",
          "Bonsly",
          "Mime Jr.",
          "Happiny",
          "Chatot",
          "Spiritomb",
          "Gible",
          "Gabite",
          "Garchomp",
          "Munchlax",
          "Riolu",
          "Lucario",
          "Hippopotas",
          "Hippowdon",
          "Skorupi",
          "Drapion",
          "Croagunk",
          "Toxicroak",
          "Carnivine",
          "Finneon",
          "Lumineon",
          "Mantyke",
          "Snover",
          "Abomasnow",
          "Weavile",
          "Magnezone",
          "Lickilicky",
          "Rhyperior",
          "Tangrowth",
          "Electivire",
          "Magmortar",
          "Togekiss",
          "Yanmega",
          "Leafeon",
          "Glaceon",
          "Gliscor",
          "Mamoswine",
          "Porygon-Z",
          "Gallade",
          "Probopass",
          "Dusknoir",
          "Froslass",
          "Rotom",
          "Uxie",
          "Mesprit",
          "Azelf",
          "Dialga",
          "Palkia",
          "Heatran",
          "Regigigas",
          "Giratina",
          "Cresselia",
          "Phione",
          "Manaphy",
          "Darkrai",
          "Shaymin",
          "Arceus",
          "Victini",
          "Snivy",
          "Servine",
          "Serperior",
          "Tepig",
          "Pignite",
          "Emboar",
          "Oshawott",
          "Dewott",
          "Samurott",
          "Patrat",
          "Watchog",
          "Lillipup",
          "Herdier",
          "Stoutland",
          "Purrloin",
          "Liepard",
          "Pansage",
          "Simisage",
          "Pansear",
          "Simisear",
          "Panpour",
          "Simipour",
          "Munna",
          "Musharna",
          "Pidove",
          "Tranquill",
          "Unfezant",
          "Blitzle",
          "Zebstrika",
          "Roggenrola",
          "Boldore",
          "Gigalith",
          "Woobat",
          "Swoobat",
          "Drilbur",
          "Excadrill",
          "Audino",
          "Timburr",
          "Gurdurr",
          "Conkeldurr",
          "Tympole",
          "Palpitoad",
          "Seismitoad",
          "Throh",
          "Sawk",
          "Sewaddle",
          "Swadloon",
          "Leavanny",
          "Venipede",
          "Whirlipede",
          "Scolipede",
          "Cottonee",
          "Whimsicott",
          "Petilil",
          "Lilligant",
          "Basculin",
          "Sandile",
          "Krokorok",
          "Krookodile",
          "Darumaka",
          "Darmanitan",
          "Maractus",
          "Dwebble",
          "Crustle",
          "Scraggy",
          "Scrafty",
          "Sigilyph",
          "Yamask",
          "Cofagrigus",
          "Tirtouga",
          "Carracosta",
          "Archen",
          "Archeops",
          "Trubbish",
          "Garbodor",
          "Zorua",
          "Zoroark",
          "Minccino",
          "Cinccino",
          "Gothita",
          "Gothorita",
          "Gothitelle",
          "Solosis",
          "Duosion",
          "Reuniclus",
          "Ducklett",
          "Swanna",
          "Vanillite",
          "Vanillish",
          "Vanilluxe",
          "Deerling",
          "Sawsbuck",
          "Emolga",
          "Karrablast",
          "Escavalier",
          "Foongus",
          "Amoonguss",
          "Frillish",
          "Jellicent",
          "Alomomola",
          "Joltik",
          "Galvantula",
          "Ferroseed",
          "Ferrothorn",
          "Klink",
          "Klang",
          "Klinklang",
          "Tynamo",
          "Eelektrik",
          "Eelektross",
          "Elgyem",
          "Beheeyem",
          "Litwick",
          "Lampent",
          "Chandelure",
          "Axew",
          "Fraxure",
          "Haxorus",
          "Cubchoo",
          "Beartic",
          "Cryogonal",
          "Shelmet",
          "Accelgor",
          "Stunfisk",
          "Mienfoo",
          "Mienshao",
          "Druddigon",
          "Golett",
          "Golurk",
          "Pawniard",
          "Bisharp",
          "Bouffalant",
          "Rufflet",
          "Braviary",
          "Vullaby",
          "Mandibuzz",
          "Heatmor",
          "Durant",
          "Deino",
          "Zweilous",
          "Hydreigon",
          "Larvesta",
          "Volcarona",
          "Cobalion",
          "Terrakion",
          "Virizion",
          "Tornadus",
          "Thundurus",
          "Reshiram",
          "Zekrom",
          "Landorus",
          "Kyurem",
          "Keldeo",
          "Meloetta",
          "Genesect",
          "Chespin",
          "Quilladin",
          "Chesnaught",
          "Fennekin",
          "Braixen",
          "Delphox",
          "Froakie",
          "Frogadier",
          "Greninja",
          "Bunnelby",
          "Diggersby",
          "Fletchling",
          "Fletchinder",
          "Talonflame",
          "Scatterbug",
          "Spewpa",
          "Vivillon",
          "Litleo",
          "Pyroar",
          "Flabébé",
          "Floette",
          "Florges",
          "Skiddo",
          "Gogoat",
          "Pancham",
          "Pangoro",
          "Furfrou",
          "Espurr",
          "Meowstic",
          "Honedge",
          "Doublade",
          "Aegislash",
          "Spritzee",
          "Aromatisse",
          "Swirlix",
          "Slurpuff",
          "Inkay",
          "Malamar",
          "Binacle",
          "Barbaracle",
          "Skrelp",
          "Dragalge",
          "Clauncher",
          "Clawitzer",
          "Helioptile",
          "Heliolisk",
          "Tyrunt",
          "Tyrantrum",
          "Amaura",
          "Aurorus",
          "Sylveon",
          "Hawlucha",
          "Dedenne",
          "Carbink",
          "Goomy",
          "Sliggoo",
          "Goodra",
          "Klefki",
          "Phantump",
          "Trevenant",
          "Pumpkaboo",
          "Gourgeist",
          "Bergmite",
          "Avalugg",
          "Noibat",
          "Noivern",
          "Xerneas",
          "Yveltal",
          "Zygarde",
          "Diancie",
          "Hoopa",
          "Volcanion",
          "Rowlet",
          "Dartrix",
          "Decidueye",
          "Litten",
          "Torracat",
          "Incineroar",
          "Popplio",
          "Brionne",
          "Primarina",
          "Pikipek",
          "Trumbeak",
          "Toucannon",
          "Yungoos",
          "Gumshoos",
          "Grubbin",
          "Charjabug",
          "Vikavolt",
          "Crabrawler",
          "Crabominable",
          "Oricorio",
          "Cutiefly",
          "Ribombee",
          "Rockruff",
          "Lycanroc",
          "Wishiwashi",
          "Mareanie",
          "Toxapex",
          "Mudbray",
          "Mudsdale",
          "Dewpider",
          "Araquanid",
          "Fomantis",
          "Lurantis",
          "Morelull",
          "Shiinotic",
          "Salandit",
          "Salazzle",
          "Stufful",
          "Bewear",
          "Bounsweet",
          "Steenee",
          "Tsareena",
          "Comfey",
          "Oranguru",
          "Passimian",
          "Wimpod",
          "Golisopod",
          "Sandygast",
          "Palossand",
          "Pyukumuku",
          "Type: Null",
          "Silvally",
          "Minior",
          "Komala",
          "Turtonator",
          "Togedemaru",
          "Mimikyu",
          "Bruxish",
          "Drampa",
          "Dhelmise",
          "Jangmo-o",
          "Hakamo-o",
          "Kommo-o",
          "Tapu Koko",
          "Tapu Lele",
          "Tapu Bulu",
          "Tapu Fini",
          "Cosmog",
          "Cosmoem",
          "Solgaleo",
          "Lunala",
          "Nihilego",
          "Buzzwole",
          "Pheromosa",
          "Xurkitree",
          "Celesteela",
          "Kartana",
          "Guzzlord",
          "Necrozma",
          "Magearna"
         ],
         "legendgroup": "",
         "marker": {
          "color": {
           "bdata": "AAAAAAAAAAAAAAAAAAAAAAAAAAAAAAAAAAAAAAAAAAAAAAAAAAAAAAAAAAAAAAAAAAAAAAAAAAAAAAAAAAAAAAAAAAAAAAAAAAAAAAAAAAAAAAAAAAAAAAAAAAAAAAAAAAAAAAAAAAAAAAAAAAAAAAAAAAAAAAAAAAAAAAAAAAAAAAAAAAAAAAAAAAAAAAABAQEAAAABAQAAAAAAAAAAAAAAAAAAAAAAAAAAAAAAAAAAAAAAAAAAAAAAAAAAAAAAAAAAAAAAAAAAAAAAAAAAAAAAAAAAAAAAAAAAAAAAAAAAAAAAAAAAAAAAAAAAAAAAAAABAQEAAAABAQEAAAAAAAAAAAAAAAAAAAAAAAAAAAAAAAAAAAAAAAAAAAAAAAAAAAAAAAAAAAAAAAAAAAAAAAAAAAAAAAAAAAAAAAAAAAAAAAAAAAAAAAAAAAAAAAAAAAAAAAAAAAAAAAAAAAAAAAAAAAAAAAAAAAAAAAAAAAAAAAAAAAAAAAEBAQEBAQEBAQEAAAAAAAAAAAAAAAAAAAAAAAAAAAAAAAAAAAAAAAAAAAAAAAAAAAAAAAAAAAAAAAAAAAAAAAAAAAAAAAAAAAAAAAAAAAAAAAAAAAAAAAAAAAAAAAAAAAAAAAAAAAABAQEBAQEBAQEAAQEBAQEAAAAAAAAAAAAAAAAAAAAAAAAAAAAAAAAAAAAAAAAAAAAAAAAAAAAAAAAAAAAAAAAAAAAAAAAAAAAAAAAAAAAAAAAAAAAAAAAAAAAAAAAAAAAAAAAAAAAAAAAAAAAAAAAAAAAAAAAAAAAAAAAAAAAAAAAAAAAAAAAAAAAAAAAAAAAAAAAAAAAAAAAAAAAAAAEBAQEBAQEBAQEBAQAAAAAAAAAAAAAAAAAAAAAAAAAAAAAAAAAAAAAAAAAAAAAAAAAAAAAAAAAAAAAAAAAAAAAAAAAAAAAAAAAAAAAAAAEBAQEBAQAAAAAAAAAAAAAAAAAAAAAAAAAAAAAAAAAAAAAAAAAAAAAAAAAAAAAAAAAAAAAAAAAAAAAAAAAAAAAAAAAAAAEBAQEBAQEBAQEBAQEBAQEB",
           "dtype": "i1"
          },
          "coloraxis": "coloraxis",
          "symbol": "circle"
         },
         "mode": "markers",
         "name": "",
         "orientation": "v",
         "showlegend": false,
         "type": "scatter",
         "x": {
          "bdata": "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",
          "dtype": "f8"
         },
         "xaxis": "x",
         "y": {
          "bdata": "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",
          "dtype": "f8"
         },
         "yaxis": "y"
        }
       ],
       "layout": {
        "coloraxis": {
         "colorbar": {
          "title": {
           "text": "is_legendary"
          }
         },
         "colorscale": [
          [
           0,
           "#0d0887"
          ],
          [
           0.1111111111111111,
           "#46039f"
          ],
          [
           0.2222222222222222,
           "#7201a8"
          ],
          [
           0.3333333333333333,
           "#9c179e"
          ],
          [
           0.4444444444444444,
           "#bd3786"
          ],
          [
           0.5555555555555556,
           "#d8576b"
          ],
          [
           0.6666666666666666,
           "#ed7953"
          ],
          [
           0.7777777777777778,
           "#fb9f3a"
          ],
          [
           0.8888888888888888,
           "#fdca26"
          ],
          [
           1,
           "#f0f921"
          ]
         ]
        },
        "legend": {
         "title": {
          "text": "Legendary"
         },
         "tracegroupgap": 0
        },
        "template": {
         "data": {
          "bar": [
           {
            "error_x": {
             "color": "#2a3f5f"
            },
            "error_y": {
             "color": "#2a3f5f"
            },
            "marker": {
             "line": {
              "color": "white",
              "width": 0.5
             },
             "pattern": {
              "fillmode": "overlay",
              "size": 10,
              "solidity": 0.2
             }
            },
            "type": "bar"
           }
          ],
          "barpolar": [
           {
            "marker": {
             "line": {
              "color": "white",
              "width": 0.5
             },
             "pattern": {
              "fillmode": "overlay",
              "size": 10,
              "solidity": 0.2
             }
            },
            "type": "barpolar"
           }
          ],
          "carpet": [
           {
            "aaxis": {
             "endlinecolor": "#2a3f5f",
             "gridcolor": "#C8D4E3",
             "linecolor": "#C8D4E3",
             "minorgridcolor": "#C8D4E3",
             "startlinecolor": "#2a3f5f"
            },
            "baxis": {
             "endlinecolor": "#2a3f5f",
             "gridcolor": "#C8D4E3",
             "linecolor": "#C8D4E3",
             "minorgridcolor": "#C8D4E3",
             "startlinecolor": "#2a3f5f"
            },
            "type": "carpet"
           }
          ],
          "choropleth": [
           {
            "colorbar": {
             "outlinewidth": 0,
             "ticks": ""
            },
            "type": "choropleth"
           }
          ],
          "contour": [
           {
            "colorbar": {
             "outlinewidth": 0,
             "ticks": ""
            },
            "colorscale": [
             [
              0,
              "#0d0887"
             ],
             [
              0.1111111111111111,
              "#46039f"
             ],
             [
              0.2222222222222222,
              "#7201a8"
             ],
             [
              0.3333333333333333,
              "#9c179e"
             ],
             [
              0.4444444444444444,
              "#bd3786"
             ],
             [
              0.5555555555555556,
              "#d8576b"
             ],
             [
              0.6666666666666666,
              "#ed7953"
             ],
             [
              0.7777777777777778,
              "#fb9f3a"
             ],
             [
              0.8888888888888888,
              "#fdca26"
             ],
             [
              1,
              "#f0f921"
             ]
            ],
            "type": "contour"
           }
          ],
          "contourcarpet": [
           {
            "colorbar": {
             "outlinewidth": 0,
             "ticks": ""
            },
            "type": "contourcarpet"
           }
          ],
          "heatmap": [
           {
            "colorbar": {
             "outlinewidth": 0,
             "ticks": ""
            },
            "colorscale": [
             [
              0,
              "#0d0887"
             ],
             [
              0.1111111111111111,
              "#46039f"
             ],
             [
              0.2222222222222222,
              "#7201a8"
             ],
             [
              0.3333333333333333,
              "#9c179e"
             ],
             [
              0.4444444444444444,
              "#bd3786"
             ],
             [
              0.5555555555555556,
              "#d8576b"
             ],
             [
              0.6666666666666666,
              "#ed7953"
             ],
             [
              0.7777777777777778,
              "#fb9f3a"
             ],
             [
              0.8888888888888888,
              "#fdca26"
             ],
             [
              1,
              "#f0f921"
             ]
            ],
            "type": "heatmap"
           }
          ],
          "histogram": [
           {
            "marker": {
             "pattern": {
              "fillmode": "overlay",
              "size": 10,
              "solidity": 0.2
             }
            },
            "type": "histogram"
           }
          ],
          "histogram2d": [
           {
            "colorbar": {
             "outlinewidth": 0,
             "ticks": ""
            },
            "colorscale": [
             [
              0,
              "#0d0887"
             ],
             [
              0.1111111111111111,
              "#46039f"
             ],
             [
              0.2222222222222222,
              "#7201a8"
             ],
             [
              0.3333333333333333,
              "#9c179e"
             ],
             [
              0.4444444444444444,
              "#bd3786"
             ],
             [
              0.5555555555555556,
              "#d8576b"
             ],
             [
              0.6666666666666666,
              "#ed7953"
             ],
             [
              0.7777777777777778,
              "#fb9f3a"
             ],
             [
              0.8888888888888888,
              "#fdca26"
             ],
             [
              1,
              "#f0f921"
             ]
            ],
            "type": "histogram2d"
           }
          ],
          "histogram2dcontour": [
           {
            "colorbar": {
             "outlinewidth": 0,
             "ticks": ""
            },
            "colorscale": [
             [
              0,
              "#0d0887"
             ],
             [
              0.1111111111111111,
              "#46039f"
             ],
             [
              0.2222222222222222,
              "#7201a8"
             ],
             [
              0.3333333333333333,
              "#9c179e"
             ],
             [
              0.4444444444444444,
              "#bd3786"
             ],
             [
              0.5555555555555556,
              "#d8576b"
             ],
             [
              0.6666666666666666,
              "#ed7953"
             ],
             [
              0.7777777777777778,
              "#fb9f3a"
             ],
             [
              0.8888888888888888,
              "#fdca26"
             ],
             [
              1,
              "#f0f921"
             ]
            ],
            "type": "histogram2dcontour"
           }
          ],
          "mesh3d": [
           {
            "colorbar": {
             "outlinewidth": 0,
             "ticks": ""
            },
            "type": "mesh3d"
           }
          ],
          "parcoords": [
           {
            "line": {
             "colorbar": {
              "outlinewidth": 0,
              "ticks": ""
             }
            },
            "type": "parcoords"
           }
          ],
          "pie": [
           {
            "automargin": true,
            "type": "pie"
           }
          ],
          "scatter": [
           {
            "fillpattern": {
             "fillmode": "overlay",
             "size": 10,
             "solidity": 0.2
            },
            "type": "scatter"
           }
          ],
          "scatter3d": [
           {
            "line": {
             "colorbar": {
              "outlinewidth": 0,
              "ticks": ""
             }
            },
            "marker": {
             "colorbar": {
              "outlinewidth": 0,
              "ticks": ""
             }
            },
            "type": "scatter3d"
           }
          ],
          "scattercarpet": [
           {
            "marker": {
             "colorbar": {
              "outlinewidth": 0,
              "ticks": ""
             }
            },
            "type": "scattercarpet"
           }
          ],
          "scattergeo": [
           {
            "marker": {
             "colorbar": {
              "outlinewidth": 0,
              "ticks": ""
             }
            },
            "type": "scattergeo"
           }
          ],
          "scattergl": [
           {
            "marker": {
             "colorbar": {
              "outlinewidth": 0,
              "ticks": ""
             }
            },
            "type": "scattergl"
           }
          ],
          "scattermap": [
           {
            "marker": {
             "colorbar": {
              "outlinewidth": 0,
              "ticks": ""
             }
            },
            "type": "scattermap"
           }
          ],
          "scattermapbox": [
           {
            "marker": {
             "colorbar": {
              "outlinewidth": 0,
              "ticks": ""
             }
            },
            "type": "scattermapbox"
           }
          ],
          "scatterpolar": [
           {
            "marker": {
             "colorbar": {
              "outlinewidth": 0,
              "ticks": ""
             }
            },
            "type": "scatterpolar"
           }
          ],
          "scatterpolargl": [
           {
            "marker": {
             "colorbar": {
              "outlinewidth": 0,
              "ticks": ""
             }
            },
            "type": "scatterpolargl"
           }
          ],
          "scatterternary": [
           {
            "marker": {
             "colorbar": {
              "outlinewidth": 0,
              "ticks": ""
             }
            },
            "type": "scatterternary"
           }
          ],
          "surface": [
           {
            "colorbar": {
             "outlinewidth": 0,
             "ticks": ""
            },
            "colorscale": [
             [
              0,
              "#0d0887"
             ],
             [
              0.1111111111111111,
              "#46039f"
             ],
             [
              0.2222222222222222,
              "#7201a8"
             ],
             [
              0.3333333333333333,
              "#9c179e"
             ],
             [
              0.4444444444444444,
              "#bd3786"
             ],
             [
              0.5555555555555556,
              "#d8576b"
             ],
             [
              0.6666666666666666,
              "#ed7953"
             ],
             [
              0.7777777777777778,
              "#fb9f3a"
             ],
             [
              0.8888888888888888,
              "#fdca26"
             ],
             [
              1,
              "#f0f921"
             ]
            ],
            "type": "surface"
           }
          ],
          "table": [
           {
            "cells": {
             "fill": {
              "color": "#EBF0F8"
             },
             "line": {
              "color": "white"
             }
            },
            "header": {
             "fill": {
              "color": "#C8D4E3"
             },
             "line": {
              "color": "white"
             }
            },
            "type": "table"
           }
          ]
         },
         "layout": {
          "annotationdefaults": {
           "arrowcolor": "#2a3f5f",
           "arrowhead": 0,
           "arrowwidth": 1
          },
          "autotypenumbers": "strict",
          "coloraxis": {
           "colorbar": {
            "outlinewidth": 0,
            "ticks": ""
           }
          },
          "colorscale": {
           "diverging": [
            [
             0,
             "#8e0152"
            ],
            [
             0.1,
             "#c51b7d"
            ],
            [
             0.2,
             "#de77ae"
            ],
            [
             0.3,
             "#f1b6da"
            ],
            [
             0.4,
             "#fde0ef"
            ],
            [
             0.5,
             "#f7f7f7"
            ],
            [
             0.6,
             "#e6f5d0"
            ],
            [
             0.7,
             "#b8e186"
            ],
            [
             0.8,
             "#7fbc41"
            ],
            [
             0.9,
             "#4d9221"
            ],
            [
             1,
             "#276419"
            ]
           ],
           "sequential": [
            [
             0,
             "#0d0887"
            ],
            [
             0.1111111111111111,
             "#46039f"
            ],
            [
             0.2222222222222222,
             "#7201a8"
            ],
            [
             0.3333333333333333,
             "#9c179e"
            ],
            [
             0.4444444444444444,
             "#bd3786"
            ],
            [
             0.5555555555555556,
             "#d8576b"
            ],
            [
             0.6666666666666666,
             "#ed7953"
            ],
            [
             0.7777777777777778,
             "#fb9f3a"
            ],
            [
             0.8888888888888888,
             "#fdca26"
            ],
            [
             1,
             "#f0f921"
            ]
           ],
           "sequentialminus": [
            [
             0,
             "#0d0887"
            ],
            [
             0.1111111111111111,
             "#46039f"
            ],
            [
             0.2222222222222222,
             "#7201a8"
            ],
            [
             0.3333333333333333,
             "#9c179e"
            ],
            [
             0.4444444444444444,
             "#bd3786"
            ],
            [
             0.5555555555555556,
             "#d8576b"
            ],
            [
             0.6666666666666666,
             "#ed7953"
            ],
            [
             0.7777777777777778,
             "#fb9f3a"
            ],
            [
             0.8888888888888888,
             "#fdca26"
            ],
            [
             1,
             "#f0f921"
            ]
           ]
          },
          "colorway": [
           "#636efa",
           "#EF553B",
           "#00cc96",
           "#ab63fa",
           "#FFA15A",
           "#19d3f3",
           "#FF6692",
           "#B6E880",
           "#FF97FF",
           "#FECB52"
          ],
          "font": {
           "color": "#2a3f5f"
          },
          "geo": {
           "bgcolor": "white",
           "lakecolor": "white",
           "landcolor": "white",
           "showlakes": true,
           "showland": true,
           "subunitcolor": "#C8D4E3"
          },
          "hoverlabel": {
           "align": "left"
          },
          "hovermode": "closest",
          "mapbox": {
           "style": "light"
          },
          "paper_bgcolor": "white",
          "plot_bgcolor": "white",
          "polar": {
           "angularaxis": {
            "gridcolor": "#EBF0F8",
            "linecolor": "#EBF0F8",
            "ticks": ""
           },
           "bgcolor": "white",
           "radialaxis": {
            "gridcolor": "#EBF0F8",
            "linecolor": "#EBF0F8",
            "ticks": ""
           }
          },
          "scene": {
           "xaxis": {
            "backgroundcolor": "white",
            "gridcolor": "#DFE8F3",
            "gridwidth": 2,
            "linecolor": "#EBF0F8",
            "showbackground": true,
            "ticks": "",
            "zerolinecolor": "#EBF0F8"
           },
           "yaxis": {
            "backgroundcolor": "white",
            "gridcolor": "#DFE8F3",
            "gridwidth": 2,
            "linecolor": "#EBF0F8",
            "showbackground": true,
            "ticks": "",
            "zerolinecolor": "#EBF0F8"
           },
           "zaxis": {
            "backgroundcolor": "white",
            "gridcolor": "#DFE8F3",
            "gridwidth": 2,
            "linecolor": "#EBF0F8",
            "showbackground": true,
            "ticks": "",
            "zerolinecolor": "#EBF0F8"
           }
          },
          "shapedefaults": {
           "line": {
            "color": "#2a3f5f"
           }
          },
          "ternary": {
           "aaxis": {
            "gridcolor": "#DFE8F3",
            "linecolor": "#A2B1C6",
            "ticks": ""
           },
           "baxis": {
            "gridcolor": "#DFE8F3",
            "linecolor": "#A2B1C6",
            "ticks": ""
           },
           "bgcolor": "white",
           "caxis": {
            "gridcolor": "#DFE8F3",
            "linecolor": "#A2B1C6",
            "ticks": ""
           }
          },
          "title": {
           "x": 0.05
          },
          "xaxis": {
           "automargin": true,
           "gridcolor": "#EBF0F8",
           "linecolor": "#EBF0F8",
           "ticks": "",
           "title": {
            "standoff": 15
           },
           "zerolinecolor": "#EBF0F8",
           "zerolinewidth": 2
          },
          "yaxis": {
           "automargin": true,
           "gridcolor": "#EBF0F8",
           "linecolor": "#EBF0F8",
           "ticks": "",
           "title": {
            "standoff": 15
           },
           "zerolinecolor": "#EBF0F8",
           "zerolinewidth": 2
          }
         }
        },
        "title": {
         "text": "PCA of Battle Stats by Legendary Status"
        },
        "xaxis": {
         "anchor": "y",
         "domain": [
          0,
          1
         ],
         "title": {
          "text": "PC1"
         }
        },
        "yaxis": {
         "anchor": "x",
         "domain": [
          0,
          1
         ],
         "title": {
          "text": "PC2"
         }
        }
       }
      }
     },
     "metadata": {},
     "output_type": "display_data"
    }
   ],
   "source": [
    "# Create interactive scatter plot for Battle Stats PCA colored by legendary status\n",
    "if 'is_legendary' in pokemon_clean.columns:\n",
    "    fig = px.scatter(\n",
    "        pokemon_clean, \n",
    "        x='battle_pc1', \n",
    "        y='battle_pc2',\n",
    "        color='is_legendary',\n",
    "        hover_name='name' if 'name' in pokemon_clean.columns else None,\n",
    "        title='PCA of Battle Stats by Legendary Status',\n",
    "        labels={'battle_pc1': 'PC1', 'battle_pc2': 'PC2'},\n",
    "        template='plotly_white'\n",
    "    )\n",
    "    fig.update_layout(legend_title_text='Legendary')\n",
    "    fig.show()"
   ]
  },
  {
   "cell_type": "markdown",
   "id": "1e3da1b3",
   "metadata": {},
   "source": [
    "## Conclusion\n",
    "\n",
    "In this notebook, we've applied PCA to two different aspects of Pokémon data:\n",
    "\n",
    "1. **Battle Stats Analysis**:\n",
    "   - Identified the principal components that explain the variance in battle statistics\n",
    "   - Visualized how different types and generations of Pokémon cluster in this space\n",
    "   - Observed patterns related to legendary status\n",
    "\n",
    "2. **Type Effectiveness Analysis**:\n",
    "   - Analyzed the patterns of resistances and weaknesses\n",
    "   - Identified the key combinations of type effectiveness that explain most variance\n",
    "   - Visualized how Pokémon cluster based on their defensive profiles\n",
    "\n",
    "This analysis helps us understand the underlying structure of the Pokémon dataset and how different attributes relate to each other in lower-dimensional space."
   ]
  },
  {
   "cell_type": "markdown",
   "id": "e8a27b21",
   "metadata": {},
   "source": [
    "## 6. Linear Discriminant Analysis (LDA)\n",
    "\n",
    "Linear Discriminant Analysis is a supervised dimensionality reduction technique that aims to find feature subspaces that optimize class separability. Unlike PCA, which maximizes variance, LDA maximizes the separation between different classes.\n",
    "\n",
    "We'll apply LDA to classify Pokémon based on legendary status (legendary vs non-legendary)."
   ]
  },
  {
   "cell_type": "code",
   "execution_count": 196,
   "id": "866c8414",
   "metadata": {},
   "outputs": [],
   "source": [
    "# Import LDA from sklearn\n",
    "from sklearn.discriminant_analysis import LinearDiscriminantAnalysis\n",
    "from sklearn.metrics import classification_report, confusion_matrix, roc_curve, auc, precision_recall_curve, average_precision_score\n",
    "from sklearn.model_selection import train_test_split, cross_val_score\n",
    "\n",
    "# For better color palettes\n",
    "import plotly.colors as colors\n",
    "\n",
    "# For advanced visualizations\n",
    "from sklearn.inspection import DecisionBoundaryDisplay\n",
    "from yellowbrick.classifier import ConfusionMatrix, ROCAUC"
   ]
  },
  {
   "cell_type": "markdown",
   "id": "e230f0bc",
   "metadata": {},
   "source": [
    "### 6.1 LDA for Legendary vs Non-Legendary Classification\n",
    "\n",
    "Let's use LDA to distinguish legendary from non-legendary Pokémon. Since this is a binary classification, we can have at most 1 linear discriminant."
   ]
  },
  {
   "cell_type": "code",
   "execution_count": 197,
   "id": "fdb757de",
   "metadata": {},
   "outputs": [
    {
     "name": "stdout",
     "output_type": "stream",
     "text": [
      "Legendary distribution:\n",
      "is_legendary\n",
      "0    731\n",
      "1     70\n",
      "Name: count, dtype: int64\n",
      "\n",
      "Debugging information:\n",
      "Data type of is_legendary column: int64\n",
      "First 5 values: [0, 0, 0, 0, 0]\n",
      "Unique values: [0 1]\n",
      "Total Pokémon count: 801\n",
      "Legendary count: 70\n",
      "Percentage legendary: 8.74%\n",
      "\n",
      "Using 1 LDA component for binary classification\n"
     ]
    }
   ],
   "source": [
    "# Prepare data for legendary classification\n",
    "if 'is_legendary' in pokemon_clean.columns:\n",
    "    # Remove any rows with missing is_legendary\n",
    "    pokemon_legendary_clean = pokemon_clean.dropna(subset=['is_legendary'])\n",
    "    \n",
    "    # Check class distribution\n",
    "    legendary_counts = pokemon_legendary_clean['is_legendary'].value_counts()\n",
    "    print(f\"Legendary distribution:\")\n",
    "    print(legendary_counts)\n",
    "    \n",
    "    # Debugging: Let's examine the data type and values more closely\n",
    "    print(\"\\nDebugging information:\")\n",
    "    print(f\"Data type of is_legendary column: {pokemon_legendary_clean['is_legendary'].dtype}\")\n",
    "    print(f\"First 5 values: {pokemon_legendary_clean['is_legendary'].head().tolist()}\")\n",
    "    print(f\"Unique values: {pokemon_legendary_clean['is_legendary'].unique()}\")\n",
    "    \n",
    "    # Calculate percentage legendary - handle all possible True representations\n",
    "    total_pokemon = len(pokemon_legendary_clean)\n",
    "    \n",
    "    # Convert to numeric if needed - this should handle various representations\n",
    "    if pokemon_legendary_clean['is_legendary'].dtype == 'object':\n",
    "        # Try to convert strings to numeric values\n",
    "        pokemon_legendary_clean['is_legendary_numeric'] = pokemon_legendary_clean['is_legendary'].map(lambda x: 1 if str(x).lower() in ['true', '1', 't', 'yes', 'y'] else 0)\n",
    "        legendary_count = pokemon_legendary_clean['is_legendary_numeric'].sum()\n",
    "    else:\n",
    "        # For boolean or numeric types\n",
    "        legendary_count = pokemon_legendary_clean['is_legendary'].sum()\n",
    "    \n",
    "    percentage_legendary = (legendary_count / total_pokemon) * 100\n",
    "    print(f\"Total Pokémon count: {total_pokemon}\")\n",
    "    print(f\"Legendary count: {legendary_count}\")\n",
    "    print(f\"Percentage legendary: {percentage_legendary:.2f}%\")\n",
    "    \n",
    "    # Ensure is_legendary is in the right format for model training\n",
    "    if pokemon_legendary_clean['is_legendary'].dtype == 'object':\n",
    "        y_legendary = pokemon_legendary_clean['is_legendary_numeric'].values\n",
    "    else:\n",
    "        y_legendary = pokemon_legendary_clean['is_legendary'].values\n",
    "    \n",
    "    # Prepare features\n",
    "    X_legendary = pokemon_legendary_clean[battle_stats].values\n",
    "    \n",
    "    # Scale the features\n",
    "    X_legendary_scaled = StandardScaler().fit_transform(X_legendary)\n",
    "    \n",
    "    # For binary classification, we can have at most 1 component\n",
    "    n_components_legendary = 1\n",
    "    print(f\"\\nUsing {n_components_legendary} LDA component for binary classification\")\n",
    "else:\n",
    "    print(\"is_legendary column not found. Skipping legendary classification analysis.\")"
   ]
  },
  {
   "cell_type": "code",
   "execution_count": 198,
   "id": "7eeb4d2e",
   "metadata": {},
   "outputs": [
    {
     "name": "stdout",
     "output_type": "stream",
     "text": [
      "LDA Explained Variance Ratio for Legendary Classification: 1.0000\n",
      "LDA Test Accuracy: 0.9295\n",
      "5-fold Cross-Validation Accuracy: 0.9239 ± 0.0168\n"
     ]
    }
   ],
   "source": [
    "# Apply LDA for legendary classification\n",
    "if 'is_legendary' in pokemon_clean.columns:\n",
    "    # Split the data into training and testing sets\n",
    "    X_train, X_test, y_train, y_test = train_test_split(\n",
    "        X_legendary_scaled, y_legendary, test_size=0.3, random_state=42, stratify=y_legendary)\n",
    "    \n",
    "    # Fit LDA\n",
    "    lda_legendary = LinearDiscriminantAnalysis(n_components=n_components_legendary)\n",
    "    lda_legendary.fit(X_train, y_train)\n",
    "    X_legendary_lda = lda_legendary.transform(X_legendary_scaled)\n",
    "    \n",
    "    # Add LDA component to dataframe\n",
    "    pokemon_legendary_clean['legendary_ld1'] = X_legendary_lda[:, 0]\n",
    "    \n",
    "    # Print explained variance ratio\n",
    "    print(f\"LDA Explained Variance Ratio for Legendary Classification: {lda_legendary.explained_variance_ratio_[0]:.4f}\")\n",
    "    \n",
    "    # Evaluate on test set\n",
    "    y_pred = lda_legendary.predict(X_test)\n",
    "    test_accuracy = np.mean(y_pred == y_test)\n",
    "    print(f\"LDA Test Accuracy: {test_accuracy:.4f}\")\n",
    "    \n",
    "    # Cross validation for more robust evaluation\n",
    "    cv_scores = cross_val_score(lda_legendary, X_legendary_scaled, y_legendary, cv=5)\n",
    "    print(f\"5-fold Cross-Validation Accuracy: {cv_scores.mean():.4f} ± {cv_scores.std():.4f}\")\n",
    "    \n",
    "    # Get probability predictions for ROC curve\n",
    "    y_prob = lda_legendary.predict_proba(X_legendary_scaled)[:, 1]"
   ]
  },
  {
   "cell_type": "code",
   "execution_count": 199,
   "id": "562e39cf",
   "metadata": {},
   "outputs": [
    {
     "data": {
      "application/vnd.plotly.v1+json": {
       "config": {
        "plotlyServerURL": "https://plot.ly"
       },
       "data": [
        {
         "bingroup": "x",
         "hovertemplate": "Legendary Status=0<br>Linear Discriminant 1=%{x}<br>count=%{y}<extra></extra>",
         "legendgroup": "0",
         "marker": {
          "color": "#636efa",
          "opacity": 0.7,
          "pattern": {
           "shape": ""
          }
         },
         "name": "0",
         "nbinsx": 30,
         "orientation": "v",
         "showlegend": true,
         "type": "histogram",
         "x": {
          "bdata": "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",
          "dtype": "f8"
         },
         "xaxis": "x",
         "yaxis": "y"
        },
        {
         "boxpoints": "all",
         "fillcolor": "rgba(255,255,255,0)",
         "hoveron": "points",
         "hovertemplate": "Legendary Status=0<br>Linear Discriminant 1=%{x}<extra></extra>",
         "jitter": 0,
         "legendgroup": "0",
         "line": {
          "color": "rgba(255,255,255,0)"
         },
         "marker": {
          "color": "#636efa",
          "symbol": "line-ns-open"
         },
         "name": "0",
         "showlegend": false,
         "type": "box",
         "x": {
          "bdata": "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",
          "dtype": "f8"
         },
         "xaxis": "x2",
         "yaxis": "y2"
        },
        {
         "bingroup": "x",
         "hovertemplate": "Legendary Status=1<br>Linear Discriminant 1=%{x}<br>count=%{y}<extra></extra>",
         "legendgroup": "1",
         "marker": {
          "color": "#EF553B",
          "opacity": 0.7,
          "pattern": {
           "shape": ""
          }
         },
         "name": "1",
         "nbinsx": 30,
         "orientation": "v",
         "showlegend": true,
         "type": "histogram",
         "x": {
          "bdata": "uMiSitn69T8x4Zf4PmD7P6B0cTW5Jvo/oIhXvYx4D0CxivEKLI35PyKfukzfivs/Y7x5d1uj9j+yoQUF9z/1Pxgt5CEu1QBAwjMSvMUxAkCxivEKLI35P8YHw3woodk/wwvjGbOX9j+0zRM5/f/sP1bNDcct9QRAOq2B2gVABkCsb/FkVxgMQADCCKkz5AZAGQ3ME249DECxivEKLI35Pwn/9SqaZ/o/8sfsDZhY8T/rZZ3SVE31P0nNELrHgfo/ifx9/KXxA0CMwBg0wpUEQK80Zf/EXPw/QlSQSMy8/D/gNG5mWNcDQEUJYBYStPY/sYrxCiyN+T85hLk7ie/+PzIhr2zf2f4/ivafZPySBUCxivEKLI35PyuMl6tx9PM/qimyxhhN8j/Bfu5yX+z3P4EMDBh0dvk/vEhTLvLc/T+WK7Gq4aMEQItzSCJTLQFA6i+93hrM9z8K2LJ5pVUIQAj/4wO60Pw/SH2NZcTP9j8M/ildvyP6Py5YyZutEARALljJm60QBEAiY6LJZv0EQASVi73tawRAar47JvKzBUC/Anx1rJb5P2ISLYl48/Q/tA4na5CI+j8Egd67EGPtP49fKuaZKfM/eulnwIFZAMABbgNa123rv858lzFwhAJAWC69yYFbBUDTt8OOaOH/P8bbrkBIcuQ/Js+egF+v/T/scYW280kAQH34d8eSufQ/U/U6mAqQ4D9icihUJ1P8PyG9d/tw0/s/z2LeaEV/+j8=",
          "dtype": "f8"
         },
         "xaxis": "x",
         "yaxis": "y"
        },
        {
         "boxpoints": "all",
         "fillcolor": "rgba(255,255,255,0)",
         "hoveron": "points",
         "hovertemplate": "Legendary Status=1<br>Linear Discriminant 1=%{x}<extra></extra>",
         "jitter": 0,
         "legendgroup": "1",
         "line": {
          "color": "rgba(255,255,255,0)"
         },
         "marker": {
          "color": "#EF553B",
          "symbol": "line-ns-open"
         },
         "name": "1",
         "showlegend": false,
         "type": "box",
         "x": {
          "bdata": "uMiSitn69T8x4Zf4PmD7P6B0cTW5Jvo/oIhXvYx4D0CxivEKLI35PyKfukzfivs/Y7x5d1uj9j+yoQUF9z/1Pxgt5CEu1QBAwjMSvMUxAkCxivEKLI35P8YHw3woodk/wwvjGbOX9j+0zRM5/f/sP1bNDcct9QRAOq2B2gVABkCsb/FkVxgMQADCCKkz5AZAGQ3ME249DECxivEKLI35Pwn/9SqaZ/o/8sfsDZhY8T/rZZ3SVE31P0nNELrHgfo/ifx9/KXxA0CMwBg0wpUEQK80Zf/EXPw/QlSQSMy8/D/gNG5mWNcDQEUJYBYStPY/sYrxCiyN+T85hLk7ie/+PzIhr2zf2f4/ivafZPySBUCxivEKLI35PyuMl6tx9PM/qimyxhhN8j/Bfu5yX+z3P4EMDBh0dvk/vEhTLvLc/T+WK7Gq4aMEQItzSCJTLQFA6i+93hrM9z8K2LJ5pVUIQAj/4wO60Pw/SH2NZcTP9j8M/ildvyP6Py5YyZutEARALljJm60QBEAiY6LJZv0EQASVi73tawRAar47JvKzBUC/Anx1rJb5P2ISLYl48/Q/tA4na5CI+j8Egd67EGPtP49fKuaZKfM/eulnwIFZAMABbgNa123rv858lzFwhAJAWC69yYFbBUDTt8OOaOH/P8bbrkBIcuQ/Js+egF+v/T/scYW280kAQH34d8eSufQ/U/U6mAqQ4D9icihUJ1P8PyG9d/tw0/s/z2LeaEV/+j8=",
          "dtype": "f8"
         },
         "xaxis": "x2",
         "yaxis": "y2"
        }
       ],
       "layout": {
        "barmode": "relative",
        "legend": {
         "title": {
          "text": "Legendary Status"
         },
         "tracegroupgap": 0
        },
        "template": {
         "data": {
          "bar": [
           {
            "error_x": {
             "color": "#2a3f5f"
            },
            "error_y": {
             "color": "#2a3f5f"
            },
            "marker": {
             "line": {
              "color": "white",
              "width": 0.5
             },
             "pattern": {
              "fillmode": "overlay",
              "size": 10,
              "solidity": 0.2
             }
            },
            "type": "bar"
           }
          ],
          "barpolar": [
           {
            "marker": {
             "line": {
              "color": "white",
              "width": 0.5
             },
             "pattern": {
              "fillmode": "overlay",
              "size": 10,
              "solidity": 0.2
             }
            },
            "type": "barpolar"
           }
          ],
          "carpet": [
           {
            "aaxis": {
             "endlinecolor": "#2a3f5f",
             "gridcolor": "#C8D4E3",
             "linecolor": "#C8D4E3",
             "minorgridcolor": "#C8D4E3",
             "startlinecolor": "#2a3f5f"
            },
            "baxis": {
             "endlinecolor": "#2a3f5f",
             "gridcolor": "#C8D4E3",
             "linecolor": "#C8D4E3",
             "minorgridcolor": "#C8D4E3",
             "startlinecolor": "#2a3f5f"
            },
            "type": "carpet"
           }
          ],
          "choropleth": [
           {
            "colorbar": {
             "outlinewidth": 0,
             "ticks": ""
            },
            "type": "choropleth"
           }
          ],
          "contour": [
           {
            "colorbar": {
             "outlinewidth": 0,
             "ticks": ""
            },
            "colorscale": [
             [
              0,
              "#0d0887"
             ],
             [
              0.1111111111111111,
              "#46039f"
             ],
             [
              0.2222222222222222,
              "#7201a8"
             ],
             [
              0.3333333333333333,
              "#9c179e"
             ],
             [
              0.4444444444444444,
              "#bd3786"
             ],
             [
              0.5555555555555556,
              "#d8576b"
             ],
             [
              0.6666666666666666,
              "#ed7953"
             ],
             [
              0.7777777777777778,
              "#fb9f3a"
             ],
             [
              0.8888888888888888,
              "#fdca26"
             ],
             [
              1,
              "#f0f921"
             ]
            ],
            "type": "contour"
           }
          ],
          "contourcarpet": [
           {
            "colorbar": {
             "outlinewidth": 0,
             "ticks": ""
            },
            "type": "contourcarpet"
           }
          ],
          "heatmap": [
           {
            "colorbar": {
             "outlinewidth": 0,
             "ticks": ""
            },
            "colorscale": [
             [
              0,
              "#0d0887"
             ],
             [
              0.1111111111111111,
              "#46039f"
             ],
             [
              0.2222222222222222,
              "#7201a8"
             ],
             [
              0.3333333333333333,
              "#9c179e"
             ],
             [
              0.4444444444444444,
              "#bd3786"
             ],
             [
              0.5555555555555556,
              "#d8576b"
             ],
             [
              0.6666666666666666,
              "#ed7953"
             ],
             [
              0.7777777777777778,
              "#fb9f3a"
             ],
             [
              0.8888888888888888,
              "#fdca26"
             ],
             [
              1,
              "#f0f921"
             ]
            ],
            "type": "heatmap"
           }
          ],
          "histogram": [
           {
            "marker": {
             "pattern": {
              "fillmode": "overlay",
              "size": 10,
              "solidity": 0.2
             }
            },
            "type": "histogram"
           }
          ],
          "histogram2d": [
           {
            "colorbar": {
             "outlinewidth": 0,
             "ticks": ""
            },
            "colorscale": [
             [
              0,
              "#0d0887"
             ],
             [
              0.1111111111111111,
              "#46039f"
             ],
             [
              0.2222222222222222,
              "#7201a8"
             ],
             [
              0.3333333333333333,
              "#9c179e"
             ],
             [
              0.4444444444444444,
              "#bd3786"
             ],
             [
              0.5555555555555556,
              "#d8576b"
             ],
             [
              0.6666666666666666,
              "#ed7953"
             ],
             [
              0.7777777777777778,
              "#fb9f3a"
             ],
             [
              0.8888888888888888,
              "#fdca26"
             ],
             [
              1,
              "#f0f921"
             ]
            ],
            "type": "histogram2d"
           }
          ],
          "histogram2dcontour": [
           {
            "colorbar": {
             "outlinewidth": 0,
             "ticks": ""
            },
            "colorscale": [
             [
              0,
              "#0d0887"
             ],
             [
              0.1111111111111111,
              "#46039f"
             ],
             [
              0.2222222222222222,
              "#7201a8"
             ],
             [
              0.3333333333333333,
              "#9c179e"
             ],
             [
              0.4444444444444444,
              "#bd3786"
             ],
             [
              0.5555555555555556,
              "#d8576b"
             ],
             [
              0.6666666666666666,
              "#ed7953"
             ],
             [
              0.7777777777777778,
              "#fb9f3a"
             ],
             [
              0.8888888888888888,
              "#fdca26"
             ],
             [
              1,
              "#f0f921"
             ]
            ],
            "type": "histogram2dcontour"
           }
          ],
          "mesh3d": [
           {
            "colorbar": {
             "outlinewidth": 0,
             "ticks": ""
            },
            "type": "mesh3d"
           }
          ],
          "parcoords": [
           {
            "line": {
             "colorbar": {
              "outlinewidth": 0,
              "ticks": ""
             }
            },
            "type": "parcoords"
           }
          ],
          "pie": [
           {
            "automargin": true,
            "type": "pie"
           }
          ],
          "scatter": [
           {
            "fillpattern": {
             "fillmode": "overlay",
             "size": 10,
             "solidity": 0.2
            },
            "type": "scatter"
           }
          ],
          "scatter3d": [
           {
            "line": {
             "colorbar": {
              "outlinewidth": 0,
              "ticks": ""
             }
            },
            "marker": {
             "colorbar": {
              "outlinewidth": 0,
              "ticks": ""
             }
            },
            "type": "scatter3d"
           }
          ],
          "scattercarpet": [
           {
            "marker": {
             "colorbar": {
              "outlinewidth": 0,
              "ticks": ""
             }
            },
            "type": "scattercarpet"
           }
          ],
          "scattergeo": [
           {
            "marker": {
             "colorbar": {
              "outlinewidth": 0,
              "ticks": ""
             }
            },
            "type": "scattergeo"
           }
          ],
          "scattergl": [
           {
            "marker": {
             "colorbar": {
              "outlinewidth": 0,
              "ticks": ""
             }
            },
            "type": "scattergl"
           }
          ],
          "scattermap": [
           {
            "marker": {
             "colorbar": {
              "outlinewidth": 0,
              "ticks": ""
             }
            },
            "type": "scattermap"
           }
          ],
          "scattermapbox": [
           {
            "marker": {
             "colorbar": {
              "outlinewidth": 0,
              "ticks": ""
             }
            },
            "type": "scattermapbox"
           }
          ],
          "scatterpolar": [
           {
            "marker": {
             "colorbar": {
              "outlinewidth": 0,
              "ticks": ""
             }
            },
            "type": "scatterpolar"
           }
          ],
          "scatterpolargl": [
           {
            "marker": {
             "colorbar": {
              "outlinewidth": 0,
              "ticks": ""
             }
            },
            "type": "scatterpolargl"
           }
          ],
          "scatterternary": [
           {
            "marker": {
             "colorbar": {
              "outlinewidth": 0,
              "ticks": ""
             }
            },
            "type": "scatterternary"
           }
          ],
          "surface": [
           {
            "colorbar": {
             "outlinewidth": 0,
             "ticks": ""
            },
            "colorscale": [
             [
              0,
              "#0d0887"
             ],
             [
              0.1111111111111111,
              "#46039f"
             ],
             [
              0.2222222222222222,
              "#7201a8"
             ],
             [
              0.3333333333333333,
              "#9c179e"
             ],
             [
              0.4444444444444444,
              "#bd3786"
             ],
             [
              0.5555555555555556,
              "#d8576b"
             ],
             [
              0.6666666666666666,
              "#ed7953"
             ],
             [
              0.7777777777777778,
              "#fb9f3a"
             ],
             [
              0.8888888888888888,
              "#fdca26"
             ],
             [
              1,
              "#f0f921"
             ]
            ],
            "type": "surface"
           }
          ],
          "table": [
           {
            "cells": {
             "fill": {
              "color": "#EBF0F8"
             },
             "line": {
              "color": "white"
             }
            },
            "header": {
             "fill": {
              "color": "#C8D4E3"
             },
             "line": {
              "color": "white"
             }
            },
            "type": "table"
           }
          ]
         },
         "layout": {
          "annotationdefaults": {
           "arrowcolor": "#2a3f5f",
           "arrowhead": 0,
           "arrowwidth": 1
          },
          "autotypenumbers": "strict",
          "coloraxis": {
           "colorbar": {
            "outlinewidth": 0,
            "ticks": ""
           }
          },
          "colorscale": {
           "diverging": [
            [
             0,
             "#8e0152"
            ],
            [
             0.1,
             "#c51b7d"
            ],
            [
             0.2,
             "#de77ae"
            ],
            [
             0.3,
             "#f1b6da"
            ],
            [
             0.4,
             "#fde0ef"
            ],
            [
             0.5,
             "#f7f7f7"
            ],
            [
             0.6,
             "#e6f5d0"
            ],
            [
             0.7,
             "#b8e186"
            ],
            [
             0.8,
             "#7fbc41"
            ],
            [
             0.9,
             "#4d9221"
            ],
            [
             1,
             "#276419"
            ]
           ],
           "sequential": [
            [
             0,
             "#0d0887"
            ],
            [
             0.1111111111111111,
             "#46039f"
            ],
            [
             0.2222222222222222,
             "#7201a8"
            ],
            [
             0.3333333333333333,
             "#9c179e"
            ],
            [
             0.4444444444444444,
             "#bd3786"
            ],
            [
             0.5555555555555556,
             "#d8576b"
            ],
            [
             0.6666666666666666,
             "#ed7953"
            ],
            [
             0.7777777777777778,
             "#fb9f3a"
            ],
            [
             0.8888888888888888,
             "#fdca26"
            ],
            [
             1,
             "#f0f921"
            ]
           ],
           "sequentialminus": [
            [
             0,
             "#0d0887"
            ],
            [
             0.1111111111111111,
             "#46039f"
            ],
            [
             0.2222222222222222,
             "#7201a8"
            ],
            [
             0.3333333333333333,
             "#9c179e"
            ],
            [
             0.4444444444444444,
             "#bd3786"
            ],
            [
             0.5555555555555556,
             "#d8576b"
            ],
            [
             0.6666666666666666,
             "#ed7953"
            ],
            [
             0.7777777777777778,
             "#fb9f3a"
            ],
            [
             0.8888888888888888,
             "#fdca26"
            ],
            [
             1,
             "#f0f921"
            ]
           ]
          },
          "colorway": [
           "#636efa",
           "#EF553B",
           "#00cc96",
           "#ab63fa",
           "#FFA15A",
           "#19d3f3",
           "#FF6692",
           "#B6E880",
           "#FF97FF",
           "#FECB52"
          ],
          "font": {
           "color": "#2a3f5f"
          },
          "geo": {
           "bgcolor": "white",
           "lakecolor": "white",
           "landcolor": "white",
           "showlakes": true,
           "showland": true,
           "subunitcolor": "#C8D4E3"
          },
          "hoverlabel": {
           "align": "left"
          },
          "hovermode": "closest",
          "mapbox": {
           "style": "light"
          },
          "paper_bgcolor": "white",
          "plot_bgcolor": "white",
          "polar": {
           "angularaxis": {
            "gridcolor": "#EBF0F8",
            "linecolor": "#EBF0F8",
            "ticks": ""
           },
           "bgcolor": "white",
           "radialaxis": {
            "gridcolor": "#EBF0F8",
            "linecolor": "#EBF0F8",
            "ticks": ""
           }
          },
          "scene": {
           "xaxis": {
            "backgroundcolor": "white",
            "gridcolor": "#DFE8F3",
            "gridwidth": 2,
            "linecolor": "#EBF0F8",
            "showbackground": true,
            "ticks": "",
            "zerolinecolor": "#EBF0F8"
           },
           "yaxis": {
            "backgroundcolor": "white",
            "gridcolor": "#DFE8F3",
            "gridwidth": 2,
            "linecolor": "#EBF0F8",
            "showbackground": true,
            "ticks": "",
            "zerolinecolor": "#EBF0F8"
           },
           "zaxis": {
            "backgroundcolor": "white",
            "gridcolor": "#DFE8F3",
            "gridwidth": 2,
            "linecolor": "#EBF0F8",
            "showbackground": true,
            "ticks": "",
            "zerolinecolor": "#EBF0F8"
           }
          },
          "shapedefaults": {
           "line": {
            "color": "#2a3f5f"
           }
          },
          "ternary": {
           "aaxis": {
            "gridcolor": "#DFE8F3",
            "linecolor": "#A2B1C6",
            "ticks": ""
           },
           "baxis": {
            "gridcolor": "#DFE8F3",
            "linecolor": "#A2B1C6",
            "ticks": ""
           },
           "bgcolor": "white",
           "caxis": {
            "gridcolor": "#DFE8F3",
            "linecolor": "#A2B1C6",
            "ticks": ""
           }
          },
          "title": {
           "x": 0.05
          },
          "xaxis": {
           "automargin": true,
           "gridcolor": "#EBF0F8",
           "linecolor": "#EBF0F8",
           "ticks": "",
           "title": {
            "standoff": 15
           },
           "zerolinecolor": "#EBF0F8",
           "zerolinewidth": 2
          },
          "yaxis": {
           "automargin": true,
           "gridcolor": "#EBF0F8",
           "linecolor": "#EBF0F8",
           "ticks": "",
           "title": {
            "standoff": 15
           },
           "zerolinecolor": "#EBF0F8",
           "zerolinewidth": 2
          }
         }
        },
        "title": {
         "text": "LDA: Legendary vs Non-Legendary Pokémon Separation"
        },
        "xaxis": {
         "anchor": "y",
         "domain": [
          0,
          1
         ],
         "title": {
          "text": "Linear Discriminant 1"
         }
        },
        "xaxis2": {
         "anchor": "y2",
         "domain": [
          0,
          1
         ],
         "matches": "x",
         "showgrid": true,
         "showticklabels": false
        },
        "yaxis": {
         "anchor": "x",
         "domain": [
          0,
          0.7326
         ],
         "title": {
          "text": "count"
         }
        },
        "yaxis2": {
         "anchor": "x2",
         "domain": [
          0.7426,
          1
         ],
         "matches": "y2",
         "showgrid": false,
         "showline": false,
         "showticklabels": false,
         "ticks": ""
        }
       }
      }
     },
     "metadata": {},
     "output_type": "display_data"
    },
    {
     "data": {
      "application/vnd.plotly.v1+json": {
       "config": {
        "plotlyServerURL": "https://plot.ly"
       },
       "data": [
        {
         "alignmentgroup": "True",
         "box": {
          "visible": true
         },
         "hovertemplate": "Legendary Status=%{x}<br>Linear Discriminant 1=%{y}<extra></extra>",
         "legendgroup": "",
         "marker": {
          "color": "#636efa"
         },
         "name": "",
         "offsetgroup": "",
         "orientation": "v",
         "scalegroup": "True",
         "showlegend": false,
         "type": "violin",
         "x": {
          "bdata": "AAAAAAAAAAAAAAAAAAAAAAAAAAAAAAAAAAAAAAAAAAAAAAAAAAAAAAAAAAAAAAAAAAAAAAAAAAAAAAAAAAAAAAAAAAAAAAAAAAAAAAAAAAAAAAAAAAAAAAAAAAAAAAAAAAAAAAAAAAAAAAAAAAAAAAAAAAAAAAAAAAAAAAAAAAAAAAAAAAAAAAAAAAAAAAABAQEAAAABAQAAAAAAAAAAAAAAAAAAAAAAAAAAAAAAAAAAAAAAAAAAAAAAAAAAAAAAAAAAAAAAAAAAAAAAAAAAAAAAAAAAAAAAAAAAAAAAAAAAAAAAAAAAAAAAAAAAAAAAAAABAQEAAAABAQEAAAAAAAAAAAAAAAAAAAAAAAAAAAAAAAAAAAAAAAAAAAAAAAAAAAAAAAAAAAAAAAAAAAAAAAAAAAAAAAAAAAAAAAAAAAAAAAAAAAAAAAAAAAAAAAAAAAAAAAAAAAAAAAAAAAAAAAAAAAAAAAAAAAAAAAAAAAAAAAAAAAAAAAEBAQEBAQEBAQEAAAAAAAAAAAAAAAAAAAAAAAAAAAAAAAAAAAAAAAAAAAAAAAAAAAAAAAAAAAAAAAAAAAAAAAAAAAAAAAAAAAAAAAAAAAAAAAAAAAAAAAAAAAAAAAAAAAAAAAAAAAABAQEBAQEBAQEAAQEBAQEAAAAAAAAAAAAAAAAAAAAAAAAAAAAAAAAAAAAAAAAAAAAAAAAAAAAAAAAAAAAAAAAAAAAAAAAAAAAAAAAAAAAAAAAAAAAAAAAAAAAAAAAAAAAAAAAAAAAAAAAAAAAAAAAAAAAAAAAAAAAAAAAAAAAAAAAAAAAAAAAAAAAAAAAAAAAAAAAAAAAAAAAAAAAAAAEBAQEBAQEBAQEBAQAAAAAAAAAAAAAAAAAAAAAAAAAAAAAAAAAAAAAAAAAAAAAAAAAAAAAAAAAAAAAAAAAAAAAAAAAAAAAAAAAAAAAAAAEBAQEBAQAAAAAAAAAAAAAAAAAAAAAAAAAAAAAAAAAAAAAAAAAAAAAAAAAAAAAAAAAAAAAAAAAAAAAAAAAAAAAAAAAAAAEBAQEBAQEBAQEBAQEBAQEB",
          "dtype": "i1"
         },
         "x0": " ",
         "xaxis": "x",
         "y": {
          "bdata": "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",
          "dtype": "f8"
         },
         "y0": " ",
         "yaxis": "y"
        }
       ],
       "layout": {
        "legend": {
         "tracegroupgap": 0
        },
        "template": {
         "data": {
          "bar": [
           {
            "error_x": {
             "color": "#2a3f5f"
            },
            "error_y": {
             "color": "#2a3f5f"
            },
            "marker": {
             "line": {
              "color": "white",
              "width": 0.5
             },
             "pattern": {
              "fillmode": "overlay",
              "size": 10,
              "solidity": 0.2
             }
            },
            "type": "bar"
           }
          ],
          "barpolar": [
           {
            "marker": {
             "line": {
              "color": "white",
              "width": 0.5
             },
             "pattern": {
              "fillmode": "overlay",
              "size": 10,
              "solidity": 0.2
             }
            },
            "type": "barpolar"
           }
          ],
          "carpet": [
           {
            "aaxis": {
             "endlinecolor": "#2a3f5f",
             "gridcolor": "#C8D4E3",
             "linecolor": "#C8D4E3",
             "minorgridcolor": "#C8D4E3",
             "startlinecolor": "#2a3f5f"
            },
            "baxis": {
             "endlinecolor": "#2a3f5f",
             "gridcolor": "#C8D4E3",
             "linecolor": "#C8D4E3",
             "minorgridcolor": "#C8D4E3",
             "startlinecolor": "#2a3f5f"
            },
            "type": "carpet"
           }
          ],
          "choropleth": [
           {
            "colorbar": {
             "outlinewidth": 0,
             "ticks": ""
            },
            "type": "choropleth"
           }
          ],
          "contour": [
           {
            "colorbar": {
             "outlinewidth": 0,
             "ticks": ""
            },
            "colorscale": [
             [
              0,
              "#0d0887"
             ],
             [
              0.1111111111111111,
              "#46039f"
             ],
             [
              0.2222222222222222,
              "#7201a8"
             ],
             [
              0.3333333333333333,
              "#9c179e"
             ],
             [
              0.4444444444444444,
              "#bd3786"
             ],
             [
              0.5555555555555556,
              "#d8576b"
             ],
             [
              0.6666666666666666,
              "#ed7953"
             ],
             [
              0.7777777777777778,
              "#fb9f3a"
             ],
             [
              0.8888888888888888,
              "#fdca26"
             ],
             [
              1,
              "#f0f921"
             ]
            ],
            "type": "contour"
           }
          ],
          "contourcarpet": [
           {
            "colorbar": {
             "outlinewidth": 0,
             "ticks": ""
            },
            "type": "contourcarpet"
           }
          ],
          "heatmap": [
           {
            "colorbar": {
             "outlinewidth": 0,
             "ticks": ""
            },
            "colorscale": [
             [
              0,
              "#0d0887"
             ],
             [
              0.1111111111111111,
              "#46039f"
             ],
             [
              0.2222222222222222,
              "#7201a8"
             ],
             [
              0.3333333333333333,
              "#9c179e"
             ],
             [
              0.4444444444444444,
              "#bd3786"
             ],
             [
              0.5555555555555556,
              "#d8576b"
             ],
             [
              0.6666666666666666,
              "#ed7953"
             ],
             [
              0.7777777777777778,
              "#fb9f3a"
             ],
             [
              0.8888888888888888,
              "#fdca26"
             ],
             [
              1,
              "#f0f921"
             ]
            ],
            "type": "heatmap"
           }
          ],
          "histogram": [
           {
            "marker": {
             "pattern": {
              "fillmode": "overlay",
              "size": 10,
              "solidity": 0.2
             }
            },
            "type": "histogram"
           }
          ],
          "histogram2d": [
           {
            "colorbar": {
             "outlinewidth": 0,
             "ticks": ""
            },
            "colorscale": [
             [
              0,
              "#0d0887"
             ],
             [
              0.1111111111111111,
              "#46039f"
             ],
             [
              0.2222222222222222,
              "#7201a8"
             ],
             [
              0.3333333333333333,
              "#9c179e"
             ],
             [
              0.4444444444444444,
              "#bd3786"
             ],
             [
              0.5555555555555556,
              "#d8576b"
             ],
             [
              0.6666666666666666,
              "#ed7953"
             ],
             [
              0.7777777777777778,
              "#fb9f3a"
             ],
             [
              0.8888888888888888,
              "#fdca26"
             ],
             [
              1,
              "#f0f921"
             ]
            ],
            "type": "histogram2d"
           }
          ],
          "histogram2dcontour": [
           {
            "colorbar": {
             "outlinewidth": 0,
             "ticks": ""
            },
            "colorscale": [
             [
              0,
              "#0d0887"
             ],
             [
              0.1111111111111111,
              "#46039f"
             ],
             [
              0.2222222222222222,
              "#7201a8"
             ],
             [
              0.3333333333333333,
              "#9c179e"
             ],
             [
              0.4444444444444444,
              "#bd3786"
             ],
             [
              0.5555555555555556,
              "#d8576b"
             ],
             [
              0.6666666666666666,
              "#ed7953"
             ],
             [
              0.7777777777777778,
              "#fb9f3a"
             ],
             [
              0.8888888888888888,
              "#fdca26"
             ],
             [
              1,
              "#f0f921"
             ]
            ],
            "type": "histogram2dcontour"
           }
          ],
          "mesh3d": [
           {
            "colorbar": {
             "outlinewidth": 0,
             "ticks": ""
            },
            "type": "mesh3d"
           }
          ],
          "parcoords": [
           {
            "line": {
             "colorbar": {
              "outlinewidth": 0,
              "ticks": ""
             }
            },
            "type": "parcoords"
           }
          ],
          "pie": [
           {
            "automargin": true,
            "type": "pie"
           }
          ],
          "scatter": [
           {
            "fillpattern": {
             "fillmode": "overlay",
             "size": 10,
             "solidity": 0.2
            },
            "type": "scatter"
           }
          ],
          "scatter3d": [
           {
            "line": {
             "colorbar": {
              "outlinewidth": 0,
              "ticks": ""
             }
            },
            "marker": {
             "colorbar": {
              "outlinewidth": 0,
              "ticks": ""
             }
            },
            "type": "scatter3d"
           }
          ],
          "scattercarpet": [
           {
            "marker": {
             "colorbar": {
              "outlinewidth": 0,
              "ticks": ""
             }
            },
            "type": "scattercarpet"
           }
          ],
          "scattergeo": [
           {
            "marker": {
             "colorbar": {
              "outlinewidth": 0,
              "ticks": ""
             }
            },
            "type": "scattergeo"
           }
          ],
          "scattergl": [
           {
            "marker": {
             "colorbar": {
              "outlinewidth": 0,
              "ticks": ""
             }
            },
            "type": "scattergl"
           }
          ],
          "scattermap": [
           {
            "marker": {
             "colorbar": {
              "outlinewidth": 0,
              "ticks": ""
             }
            },
            "type": "scattermap"
           }
          ],
          "scattermapbox": [
           {
            "marker": {
             "colorbar": {
              "outlinewidth": 0,
              "ticks": ""
             }
            },
            "type": "scattermapbox"
           }
          ],
          "scatterpolar": [
           {
            "marker": {
             "colorbar": {
              "outlinewidth": 0,
              "ticks": ""
             }
            },
            "type": "scatterpolar"
           }
          ],
          "scatterpolargl": [
           {
            "marker": {
             "colorbar": {
              "outlinewidth": 0,
              "ticks": ""
             }
            },
            "type": "scatterpolargl"
           }
          ],
          "scatterternary": [
           {
            "marker": {
             "colorbar": {
              "outlinewidth": 0,
              "ticks": ""
             }
            },
            "type": "scatterternary"
           }
          ],
          "surface": [
           {
            "colorbar": {
             "outlinewidth": 0,
             "ticks": ""
            },
            "colorscale": [
             [
              0,
              "#0d0887"
             ],
             [
              0.1111111111111111,
              "#46039f"
             ],
             [
              0.2222222222222222,
              "#7201a8"
             ],
             [
              0.3333333333333333,
              "#9c179e"
             ],
             [
              0.4444444444444444,
              "#bd3786"
             ],
             [
              0.5555555555555556,
              "#d8576b"
             ],
             [
              0.6666666666666666,
              "#ed7953"
             ],
             [
              0.7777777777777778,
              "#fb9f3a"
             ],
             [
              0.8888888888888888,
              "#fdca26"
             ],
             [
              1,
              "#f0f921"
             ]
            ],
            "type": "surface"
           }
          ],
          "table": [
           {
            "cells": {
             "fill": {
              "color": "#EBF0F8"
             },
             "line": {
              "color": "white"
             }
            },
            "header": {
             "fill": {
              "color": "#C8D4E3"
             },
             "line": {
              "color": "white"
             }
            },
            "type": "table"
           }
          ]
         },
         "layout": {
          "annotationdefaults": {
           "arrowcolor": "#2a3f5f",
           "arrowhead": 0,
           "arrowwidth": 1
          },
          "autotypenumbers": "strict",
          "coloraxis": {
           "colorbar": {
            "outlinewidth": 0,
            "ticks": ""
           }
          },
          "colorscale": {
           "diverging": [
            [
             0,
             "#8e0152"
            ],
            [
             0.1,
             "#c51b7d"
            ],
            [
             0.2,
             "#de77ae"
            ],
            [
             0.3,
             "#f1b6da"
            ],
            [
             0.4,
             "#fde0ef"
            ],
            [
             0.5,
             "#f7f7f7"
            ],
            [
             0.6,
             "#e6f5d0"
            ],
            [
             0.7,
             "#b8e186"
            ],
            [
             0.8,
             "#7fbc41"
            ],
            [
             0.9,
             "#4d9221"
            ],
            [
             1,
             "#276419"
            ]
           ],
           "sequential": [
            [
             0,
             "#0d0887"
            ],
            [
             0.1111111111111111,
             "#46039f"
            ],
            [
             0.2222222222222222,
             "#7201a8"
            ],
            [
             0.3333333333333333,
             "#9c179e"
            ],
            [
             0.4444444444444444,
             "#bd3786"
            ],
            [
             0.5555555555555556,
             "#d8576b"
            ],
            [
             0.6666666666666666,
             "#ed7953"
            ],
            [
             0.7777777777777778,
             "#fb9f3a"
            ],
            [
             0.8888888888888888,
             "#fdca26"
            ],
            [
             1,
             "#f0f921"
            ]
           ],
           "sequentialminus": [
            [
             0,
             "#0d0887"
            ],
            [
             0.1111111111111111,
             "#46039f"
            ],
            [
             0.2222222222222222,
             "#7201a8"
            ],
            [
             0.3333333333333333,
             "#9c179e"
            ],
            [
             0.4444444444444444,
             "#bd3786"
            ],
            [
             0.5555555555555556,
             "#d8576b"
            ],
            [
             0.6666666666666666,
             "#ed7953"
            ],
            [
             0.7777777777777778,
             "#fb9f3a"
            ],
            [
             0.8888888888888888,
             "#fdca26"
            ],
            [
             1,
             "#f0f921"
            ]
           ]
          },
          "colorway": [
           "#636efa",
           "#EF553B",
           "#00cc96",
           "#ab63fa",
           "#FFA15A",
           "#19d3f3",
           "#FF6692",
           "#B6E880",
           "#FF97FF",
           "#FECB52"
          ],
          "font": {
           "color": "#2a3f5f"
          },
          "geo": {
           "bgcolor": "white",
           "lakecolor": "white",
           "landcolor": "white",
           "showlakes": true,
           "showland": true,
           "subunitcolor": "#C8D4E3"
          },
          "hoverlabel": {
           "align": "left"
          },
          "hovermode": "closest",
          "mapbox": {
           "style": "light"
          },
          "paper_bgcolor": "white",
          "plot_bgcolor": "white",
          "polar": {
           "angularaxis": {
            "gridcolor": "#EBF0F8",
            "linecolor": "#EBF0F8",
            "ticks": ""
           },
           "bgcolor": "white",
           "radialaxis": {
            "gridcolor": "#EBF0F8",
            "linecolor": "#EBF0F8",
            "ticks": ""
           }
          },
          "scene": {
           "xaxis": {
            "backgroundcolor": "white",
            "gridcolor": "#DFE8F3",
            "gridwidth": 2,
            "linecolor": "#EBF0F8",
            "showbackground": true,
            "ticks": "",
            "zerolinecolor": "#EBF0F8"
           },
           "yaxis": {
            "backgroundcolor": "white",
            "gridcolor": "#DFE8F3",
            "gridwidth": 2,
            "linecolor": "#EBF0F8",
            "showbackground": true,
            "ticks": "",
            "zerolinecolor": "#EBF0F8"
           },
           "zaxis": {
            "backgroundcolor": "white",
            "gridcolor": "#DFE8F3",
            "gridwidth": 2,
            "linecolor": "#EBF0F8",
            "showbackground": true,
            "ticks": "",
            "zerolinecolor": "#EBF0F8"
           }
          },
          "shapedefaults": {
           "line": {
            "color": "#2a3f5f"
           }
          },
          "ternary": {
           "aaxis": {
            "gridcolor": "#DFE8F3",
            "linecolor": "#A2B1C6",
            "ticks": ""
           },
           "baxis": {
            "gridcolor": "#DFE8F3",
            "linecolor": "#A2B1C6",
            "ticks": ""
           },
           "bgcolor": "white",
           "caxis": {
            "gridcolor": "#DFE8F3",
            "linecolor": "#A2B1C6",
            "ticks": ""
           }
          },
          "title": {
           "x": 0.05
          },
          "xaxis": {
           "automargin": true,
           "gridcolor": "#EBF0F8",
           "linecolor": "#EBF0F8",
           "ticks": "",
           "title": {
            "standoff": 15
           },
           "zerolinecolor": "#EBF0F8",
           "zerolinewidth": 2
          },
          "yaxis": {
           "automargin": true,
           "gridcolor": "#EBF0F8",
           "linecolor": "#EBF0F8",
           "ticks": "",
           "title": {
            "standoff": 15
           },
           "zerolinecolor": "#EBF0F8",
           "zerolinewidth": 2
          }
         }
        },
        "title": {
         "text": "LDA: Distribution of Linear Discriminant by Legendary Status"
        },
        "violinmode": "group",
        "xaxis": {
         "anchor": "y",
         "domain": [
          0,
          1
         ],
         "title": {
          "text": "Legendary Status"
         }
        },
        "yaxis": {
         "anchor": "x",
         "domain": [
          0,
          1
         ],
         "title": {
          "text": "Linear Discriminant 1"
         }
        }
       }
      }
     },
     "metadata": {},
     "output_type": "display_data"
    },
    {
     "data": {
      "application/vnd.plotly.v1+json": {
       "config": {
        "plotlyServerURL": "https://plot.ly"
       },
       "data": [
        {
         "hovertemplate": "<b>%{hovertext}</b><br><br>is_legendary=%{marker.color}<br>sp_attack=%{x}<br>base_total=%{marker.size}<extra></extra>",
         "hovertext": [
          "Bulbasaur",
          "Ivysaur",
          "Venusaur",
          "Charmander",
          "Charmeleon",
          "Charizard",
          "Squirtle",
          "Wartortle",
          "Blastoise",
          "Caterpie",
          "Metapod",
          "Butterfree",
          "Weedle",
          "Kakuna",
          "Beedrill",
          "Pidgey",
          "Pidgeotto",
          "Pidgeot",
          "Rattata",
          "Raticate",
          "Spearow",
          "Fearow",
          "Ekans",
          "Arbok",
          "Pikachu",
          "Raichu",
          "Sandshrew",
          "Sandslash",
          "Nidoran♀",
          "Nidorina",
          "Nidoqueen",
          "Nidoran♂",
          "Nidorino",
          "Nidoking",
          "Clefairy",
          "Clefable",
          "Vulpix",
          "Ninetales",
          "Jigglypuff",
          "Wigglytuff",
          "Zubat",
          "Golbat",
          "Oddish",
          "Gloom",
          "Vileplume",
          "Paras",
          "Parasect",
          "Venonat",
          "Venomoth",
          "Diglett",
          "Dugtrio",
          "Meowth",
          "Persian",
          "Psyduck",
          "Golduck",
          "Mankey",
          "Primeape",
          "Growlithe",
          "Arcanine",
          "Poliwag",
          "Poliwhirl",
          "Poliwrath",
          "Abra",
          "Kadabra",
          "Alakazam",
          "Machop",
          "Machoke",
          "Machamp",
          "Bellsprout",
          "Weepinbell",
          "Victreebel",
          "Tentacool",
          "Tentacruel",
          "Geodude",
          "Graveler",
          "Golem",
          "Ponyta",
          "Rapidash",
          "Slowpoke",
          "Slowbro",
          "Magnemite",
          "Magneton",
          "Farfetch'd",
          "Doduo",
          "Dodrio",
          "Seel",
          "Dewgong",
          "Grimer",
          "Muk",
          "Shellder",
          "Cloyster",
          "Gastly",
          "Haunter",
          "Gengar",
          "Onix",
          "Drowzee",
          "Hypno",
          "Krabby",
          "Kingler",
          "Voltorb",
          "Electrode",
          "Exeggcute",
          "Exeggutor",
          "Cubone",
          "Marowak",
          "Hitmonlee",
          "Hitmonchan",
          "Lickitung",
          "Koffing",
          "Weezing",
          "Rhyhorn",
          "Rhydon",
          "Chansey",
          "Tangela",
          "Kangaskhan",
          "Horsea",
          "Seadra",
          "Goldeen",
          "Seaking",
          "Staryu",
          "Starmie",
          "Mr. Mime",
          "Scyther",
          "Jynx",
          "Electabuzz",
          "Magmar",
          "Pinsir",
          "Tauros",
          "Magikarp",
          "Gyarados",
          "Lapras",
          "Ditto",
          "Eevee",
          "Vaporeon",
          "Jolteon",
          "Flareon",
          "Porygon",
          "Omanyte",
          "Omastar",
          "Kabuto",
          "Kabutops",
          "Aerodactyl",
          "Snorlax",
          "Dratini",
          "Dragonair",
          "Dragonite",
          "Chikorita",
          "Bayleef",
          "Meganium",
          "Cyndaquil",
          "Quilava",
          "Typhlosion",
          "Totodile",
          "Croconaw",
          "Feraligatr",
          "Sentret",
          "Furret",
          "Hoothoot",
          "Noctowl",
          "Ledyba",
          "Ledian",
          "Spinarak",
          "Ariados",
          "Crobat",
          "Chinchou",
          "Lanturn",
          "Pichu",
          "Cleffa",
          "Igglybuff",
          "Togepi",
          "Togetic",
          "Natu",
          "Xatu",
          "Mareep",
          "Flaaffy",
          "Ampharos",
          "Bellossom",
          "Marill",
          "Azumarill",
          "Sudowoodo",
          "Politoed",
          "Hoppip",
          "Skiploom",
          "Jumpluff",
          "Aipom",
          "Sunkern",
          "Sunflora",
          "Yanma",
          "Wooper",
          "Quagsire",
          "Espeon",
          "Umbreon",
          "Murkrow",
          "Slowking",
          "Misdreavus",
          "Unown",
          "Wobbuffet",
          "Girafarig",
          "Pineco",
          "Forretress",
          "Dunsparce",
          "Gligar",
          "Steelix",
          "Snubbull",
          "Granbull",
          "Qwilfish",
          "Scizor",
          "Shuckle",
          "Heracross",
          "Sneasel",
          "Teddiursa",
          "Ursaring",
          "Slugma",
          "Magcargo",
          "Swinub",
          "Piloswine",
          "Corsola",
          "Remoraid",
          "Octillery",
          "Delibird",
          "Mantine",
          "Skarmory",
          "Houndour",
          "Houndoom",
          "Kingdra",
          "Phanpy",
          "Donphan",
          "Porygon2",
          "Stantler",
          "Smeargle",
          "Tyrogue",
          "Hitmontop",
          "Smoochum",
          "Elekid",
          "Magby",
          "Miltank",
          "Blissey",
          "Larvitar",
          "Pupitar",
          "Tyranitar",
          "Treecko",
          "Grovyle",
          "Sceptile",
          "Torchic",
          "Combusken",
          "Blaziken",
          "Mudkip",
          "Marshtomp",
          "Swampert",
          "Poochyena",
          "Mightyena",
          "Zigzagoon",
          "Linoone",
          "Wurmple",
          "Silcoon",
          "Beautifly",
          "Cascoon",
          "Dustox",
          "Lotad",
          "Lombre",
          "Ludicolo",
          "Seedot",
          "Nuzleaf",
          "Shiftry",
          "Taillow",
          "Swellow",
          "Wingull",
          "Pelipper",
          "Ralts",
          "Kirlia",
          "Gardevoir",
          "Surskit",
          "Masquerain",
          "Shroomish",
          "Breloom",
          "Slakoth",
          "Vigoroth",
          "Slaking",
          "Nincada",
          "Ninjask",
          "Shedinja",
          "Whismur",
          "Loudred",
          "Exploud",
          "Makuhita",
          "Hariyama",
          "Azurill",
          "Nosepass",
          "Skitty",
          "Delcatty",
          "Sableye",
          "Mawile",
          "Aron",
          "Lairon",
          "Aggron",
          "Meditite",
          "Medicham",
          "Electrike",
          "Manectric",
          "Plusle",
          "Minun",
          "Volbeat",
          "Illumise",
          "Roselia",
          "Gulpin",
          "Swalot",
          "Carvanha",
          "Sharpedo",
          "Wailmer",
          "Wailord",
          "Numel",
          "Camerupt",
          "Torkoal",
          "Spoink",
          "Grumpig",
          "Spinda",
          "Trapinch",
          "Vibrava",
          "Flygon",
          "Cacnea",
          "Cacturne",
          "Swablu",
          "Altaria",
          "Zangoose",
          "Seviper",
          "Lunatone",
          "Solrock",
          "Barboach",
          "Whiscash",
          "Corphish",
          "Crawdaunt",
          "Baltoy",
          "Claydol",
          "Lileep",
          "Cradily",
          "Anorith",
          "Armaldo",
          "Feebas",
          "Milotic",
          "Castform",
          "Kecleon",
          "Shuppet",
          "Banette",
          "Duskull",
          "Dusclops",
          "Tropius",
          "Chimecho",
          "Absol",
          "Wynaut",
          "Snorunt",
          "Glalie",
          "Spheal",
          "Sealeo",
          "Walrein",
          "Clamperl",
          "Huntail",
          "Gorebyss",
          "Relicanth",
          "Luvdisc",
          "Bagon",
          "Shelgon",
          "Salamence",
          "Beldum",
          "Metang",
          "Metagross",
          "Turtwig",
          "Grotle",
          "Torterra",
          "Chimchar",
          "Monferno",
          "Infernape",
          "Piplup",
          "Prinplup",
          "Empoleon",
          "Starly",
          "Staravia",
          "Staraptor",
          "Bidoof",
          "Bibarel",
          "Kricketot",
          "Kricketune",
          "Shinx",
          "Luxio",
          "Luxray",
          "Budew",
          "Roserade",
          "Cranidos",
          "Rampardos",
          "Shieldon",
          "Bastiodon",
          "Burmy",
          "Wormadam",
          "Mothim",
          "Combee",
          "Vespiquen",
          "Pachirisu",
          "Buizel",
          "Floatzel",
          "Cherubi",
          "Cherrim",
          "Shellos",
          "Gastrodon",
          "Ambipom",
          "Drifloon",
          "Drifblim",
          "Buneary",
          "Lopunny",
          "Mismagius",
          "Honchkrow",
          "Glameow",
          "Purugly",
          "Chingling",
          "Stunky",
          "Skuntank",
          "Bronzor",
          "Bronzong",
          "Bonsly",
          "Mime Jr.",
          "Happiny",
          "Chatot",
          "Spiritomb",
          "Gible",
          "Gabite",
          "Garchomp",
          "Munchlax",
          "Riolu",
          "Lucario",
          "Hippopotas",
          "Hippowdon",
          "Skorupi",
          "Drapion",
          "Croagunk",
          "Toxicroak",
          "Carnivine",
          "Finneon",
          "Lumineon",
          "Mantyke",
          "Snover",
          "Abomasnow",
          "Weavile",
          "Magnezone",
          "Lickilicky",
          "Rhyperior",
          "Tangrowth",
          "Electivire",
          "Magmortar",
          "Togekiss",
          "Yanmega",
          "Leafeon",
          "Glaceon",
          "Gliscor",
          "Mamoswine",
          "Porygon-Z",
          "Gallade",
          "Probopass",
          "Dusknoir",
          "Froslass",
          "Rotom",
          "Phione",
          "Snivy",
          "Servine",
          "Serperior",
          "Tepig",
          "Pignite",
          "Emboar",
          "Oshawott",
          "Dewott",
          "Samurott",
          "Patrat",
          "Watchog",
          "Lillipup",
          "Herdier",
          "Stoutland",
          "Purrloin",
          "Liepard",
          "Pansage",
          "Simisage",
          "Pansear",
          "Simisear",
          "Panpour",
          "Simipour",
          "Munna",
          "Musharna",
          "Pidove",
          "Tranquill",
          "Unfezant",
          "Blitzle",
          "Zebstrika",
          "Roggenrola",
          "Boldore",
          "Gigalith",
          "Woobat",
          "Swoobat",
          "Drilbur",
          "Excadrill",
          "Audino",
          "Timburr",
          "Gurdurr",
          "Conkeldurr",
          "Tympole",
          "Palpitoad",
          "Seismitoad",
          "Throh",
          "Sawk",
          "Sewaddle",
          "Swadloon",
          "Leavanny",
          "Venipede",
          "Whirlipede",
          "Scolipede",
          "Cottonee",
          "Whimsicott",
          "Petilil",
          "Lilligant",
          "Basculin",
          "Sandile",
          "Krokorok",
          "Krookodile",
          "Darumaka",
          "Darmanitan",
          "Maractus",
          "Dwebble",
          "Crustle",
          "Scraggy",
          "Scrafty",
          "Sigilyph",
          "Yamask",
          "Cofagrigus",
          "Tirtouga",
          "Carracosta",
          "Archen",
          "Archeops",
          "Trubbish",
          "Garbodor",
          "Zorua",
          "Zoroark",
          "Minccino",
          "Cinccino",
          "Gothita",
          "Gothorita",
          "Gothitelle",
          "Solosis",
          "Duosion",
          "Reuniclus",
          "Ducklett",
          "Swanna",
          "Vanillite",
          "Vanillish",
          "Vanilluxe",
          "Deerling",
          "Sawsbuck",
          "Emolga",
          "Karrablast",
          "Escavalier",
          "Foongus",
          "Amoonguss",
          "Frillish",
          "Jellicent",
          "Alomomola",
          "Joltik",
          "Galvantula",
          "Ferroseed",
          "Ferrothorn",
          "Klink",
          "Klang",
          "Klinklang",
          "Tynamo",
          "Eelektrik",
          "Eelektross",
          "Elgyem",
          "Beheeyem",
          "Litwick",
          "Lampent",
          "Chandelure",
          "Axew",
          "Fraxure",
          "Haxorus",
          "Cubchoo",
          "Beartic",
          "Cryogonal",
          "Shelmet",
          "Accelgor",
          "Stunfisk",
          "Mienfoo",
          "Mienshao",
          "Druddigon",
          "Golett",
          "Golurk",
          "Pawniard",
          "Bisharp",
          "Bouffalant",
          "Rufflet",
          "Braviary",
          "Vullaby",
          "Mandibuzz",
          "Heatmor",
          "Durant",
          "Deino",
          "Zweilous",
          "Hydreigon",
          "Larvesta",
          "Volcarona",
          "Chespin",
          "Quilladin",
          "Chesnaught",
          "Fennekin",
          "Braixen",
          "Delphox",
          "Froakie",
          "Frogadier",
          "Greninja",
          "Bunnelby",
          "Diggersby",
          "Fletchling",
          "Fletchinder",
          "Talonflame",
          "Scatterbug",
          "Spewpa",
          "Vivillon",
          "Litleo",
          "Pyroar",
          "Flabébé",
          "Floette",
          "Florges",
          "Skiddo",
          "Gogoat",
          "Pancham",
          "Pangoro",
          "Furfrou",
          "Espurr",
          "Meowstic",
          "Honedge",
          "Doublade",
          "Aegislash",
          "Spritzee",
          "Aromatisse",
          "Swirlix",
          "Slurpuff",
          "Inkay",
          "Malamar",
          "Binacle",
          "Barbaracle",
          "Skrelp",
          "Dragalge",
          "Clauncher",
          "Clawitzer",
          "Helioptile",
          "Heliolisk",
          "Tyrunt",
          "Tyrantrum",
          "Amaura",
          "Aurorus",
          "Sylveon",
          "Hawlucha",
          "Dedenne",
          "Carbink",
          "Goomy",
          "Sliggoo",
          "Goodra",
          "Klefki",
          "Phantump",
          "Trevenant",
          "Pumpkaboo",
          "Gourgeist",
          "Bergmite",
          "Avalugg",
          "Noibat",
          "Noivern",
          "Rowlet",
          "Dartrix",
          "Decidueye",
          "Litten",
          "Torracat",
          "Incineroar",
          "Popplio",
          "Brionne",
          "Primarina",
          "Pikipek",
          "Trumbeak",
          "Toucannon",
          "Yungoos",
          "Gumshoos",
          "Grubbin",
          "Charjabug",
          "Vikavolt",
          "Crabrawler",
          "Crabominable",
          "Oricorio",
          "Cutiefly",
          "Ribombee",
          "Rockruff",
          "Lycanroc",
          "Wishiwashi",
          "Mareanie",
          "Toxapex",
          "Mudbray",
          "Mudsdale",
          "Dewpider",
          "Araquanid",
          "Fomantis",
          "Lurantis",
          "Morelull",
          "Shiinotic",
          "Salandit",
          "Salazzle",
          "Stufful",
          "Bewear",
          "Bounsweet",
          "Steenee",
          "Tsareena",
          "Comfey",
          "Oranguru",
          "Passimian",
          "Wimpod",
          "Golisopod",
          "Sandygast",
          "Palossand",
          "Pyukumuku",
          "Type: Null",
          "Silvally",
          "Minior",
          "Komala",
          "Turtonator",
          "Togedemaru",
          "Mimikyu",
          "Bruxish",
          "Drampa",
          "Dhelmise",
          "Jangmo-o",
          "Hakamo-o",
          "Kommo-o"
         ],
         "legendgroup": "0",
         "marker": {
          "color": {
           "bdata": "AAAAAAAAAAAAAAAAAAAAAAAAAAAAAAAAAAAAAAAAAAAAAAAAAAAAAAAAAAAAAAAAAAAAAAAAAAAAAAAAAAAAAAAAAAAAAAAAAAAAAAAAAAAAAAAAAAAAAAAAAAAAAAAAAAAAAAAAAAAAAAAAAAAAAAAAAAAAAAAAAAAAAAAAAAAAAAAAAAAAAAAAAAAAAAAAAAAAAAAAAAAAAAAAAAAAAAAAAAAAAAAAAAAAAAAAAAAAAAAAAAAAAAAAAAAAAAAAAAAAAAAAAAAAAAAAAAAAAAAAAAAAAAAAAAAAAAAAAAAAAAAAAAAAAAAAAAAAAAAAAAAAAAAAAAAAAAAAAAAAAAAAAAAAAAAAAAAAAAAAAAAAAAAAAAAAAAAAAAAAAAAAAAAAAAAAAAAAAAAAAAAAAAAAAAAAAAAAAAAAAAAAAAAAAAAAAAAAAAAAAAAAAAAAAAAAAAAAAAAAAAAAAAAAAAAAAAAAAAAAAAAAAAAAAAAAAAAAAAAAAAAAAAAAAAAAAAAAAAAAAAAAAAAAAAAAAAAAAAAAAAAAAAAAAAAAAAAAAAAAAAAAAAAAAAAAAAAAAAAAAAAAAAAAAAAAAAAAAAAAAAAAAAAAAAAAAAAAAAAAAAAAAAAAAAAAAAAAAAAAAAAAAAAAAAAAAAAAAAAAAAAAAAAAAAAAAAAAAAAAAAAAAAAAAAAAAAAAAAAAAAAAAAAAAAAAAAAAAAAAAAAAAAAAAAAAAAAAAAAAAAAAAAAAAAAAAAAAAAAAAAAAAAAAAAAAAAAAAAAAAAAAAAAAAAAAAAAAAAAAAAAAAAAAAAAAAAAAAAAAAAAAAAAAAAAAAAAAAAAAAAAAAAAAAAAAAAAAAAAAAAAAAAAAAAAAAAAAAAAAAAAAAAAAAAAAAAAAAAAAAAAAAAAAAAAAAAAAAAAAAAAAAAAAAAAAAAAAAAAAAAAAAAAAAAAAAAAAAAAAAAAAAAAAAAAAAAA=",
           "dtype": "i1"
          },
          "coloraxis": "coloraxis",
          "size": {
           "bdata": "PgGVAXECNQGVAXoCOgGVAXYCwwDNAIsBwwDNAO8B+wBdAUMC/QCdAQYBugEgAcABQAHlASwBwgETAW0B+QERAW0B+QFDAeMBKwH5AQ4BswH1AMcBQAGLAeoBHQGVATEBwgEJAakBIgG4AUAB9AExAccBXgErAiwBgQH+ATYBkAFYAjEBlQH5ASwBhgHqAU8BAwIsAYYB7wGaAfQBOwFOAkUB0QF5ATYB1gFFAdsBRQH0ATEBDQI2AZUBWAKBAUgB4wFFAdsBSgHqAUUBEgJAAakBxwHHAYEBVAHqAVkB5QHCAbMBTgInAbgBQAHCAVQBCALMAfQBxwHqAe8BWALqAcgAgAIXAiABRQENAg0CDQKLAWMB7wFjAe8BZwIcAiwBpAFYAj4BlQENAjUBlQEWAjoBlQESAtcAnwEGAcQBCQGGAfoAkAEXAkoBzAHNANoA0gD1AJUBQAHWARgBbQFiAuoB+gCkAZoB9AH6AFQBzAFoAbQAqQGGAdIArgENAg0ClQHqAbMBUAGVAccBIgHRAZ8BrgFiAiwBwgG4AVgC+QFYAq4BSgH0AfoArgH6AMIBmgEsAeABSgHlAdEBSgFYAhwCSgH0AQMC0QH6ANIAxwExAWgBbQHqARwCLAGaAbwCNgGVAXYCNgGVAXYCNgGVAXsC3ACkAfAApAHDAM0AiwHNAIEB3ABUAeAB3ABUAeABDgHHAQ4BuAHGABYBagINAcYBJwHMARgBuAGeAgoByAHsAPAAaAHqAe0A2gG+AHcBBAGQAeAB4AFKAa4BdgIYAf4BJwE/ApUBlQGuAa4BkAEuAdMBMQEwApAB9AExATAC1gFKAdYBaAEiAVQBCAJPAdsBNgFOAsoBygHMAcwBIAHUATQB1AEsAfQBYwHvAWMB7wHIABwCpAG4AScBKwInAccBzAHHATUCBAEsAUQCIgGaARICWQHlAeUB5QFKASwBpAG8AiwBpAG8Aj4BlQENAjUBlQEWAjoBlQESAvUAVAHlAfoAmgHCAIABBwFrAQsCGAEDAl4B7wFeAe8B4ACoAagB9ADaAZUBSgHvARMBwgFFAdsB4gFcAfIBXgFEAu8B+QE2AcQBHQFJAd8BLAH0ASIBNgHcAJsB5QEsAZoBvAKGAR0BcQJKAQ0CSgH0ASwB6gHGAUoBzAFZAU4BUgL+ARcCAwIXAhcCHAIcAiECAwINAg0C/gESAhcCagINAg0C4AEIAuABNAGdARACNAGiARACNAGdARAC/wCkARMBcgH0ARkBvgE8AfIBPAHyATwB8gEkAecBCAFmAegBJwHxARgBhgEDAkMBqQFIAfwBIQIxAZUB+QEmAYAB/QHRAdEBNgF8AfQBBAFoAeUBGAHgARgB4AHMASQBXwEHAjsBHALNAUUB5QFcAegB6gEvAeMBYwHvAZEBNwJJAdoBSgH+ASwB1gEiAYYB6gEiAXIB6gExAdkBMQGLARcCTwHbAawBOwHvASYB0AFPAeAB1gE/AdgBMQHpASwBuAEIAhMBlQEDAk8B5QETAXIBCAJAAZoBHAIxAfkBAwIxAe8B1wFeAf4B5QEvAeMBVAHqAeoBXgH+AXIB/gHkAeQBLAGkAVgCaAEmAjkBlQESAjMBmQEWAjoBlQGAAu0ApwEWAX4B8wHIANUAmwFxAfsBLwEnAigCXgETAlwB7wHYAWMB0gFFAcABCAJVAc4BVQHgASAB4gEyAfQBQAHuAUoB9AEhAeEBagEJAmoBCQINAvQBrwH0ASwBxAFYAtYBNQHaAU8B7gEwAQIC9QAXAkABpAESAkABpAESAkABpAESAgkBYwHlAf0AogEsAZAB9AFSAd4B3AEwAdABGAHnAWwCMQHvAYEB9AENAcYB+gDgAR0BlQFAAeABVAH0AdIAIgH+AeUB6gHqAeYAEgJAAeABmgEWAjoC9AHgAeUBswHcAdsB5QEFAiwBpAFYAg==",
           "dtype": "i2"
          },
          "sizemode": "area",
          "sizeref": 1.95,
          "symbol": "circle"
         },
         "mode": "markers",
         "name": "0",
         "orientation": "v",
         "showlegend": true,
         "type": "scatter",
         "x": {
          "bdata": "QQBQAHoAPABQAJ8AMgBBAIcAFAAZAFoAFAAZAA8AIwAyAIcAGQAoAB8APQAoAEEAMgBfAAoAGQAoADcASwAoADcAVQA8AF8AMgBRAC0AVQAeAEEASwBVAG4ALQA8ACgAWgAjADIAMgBLAEEAXwAjADwARgBkACgAMgBGAGkAeACvACMAMgBBAEYAVQBkADIAUAAeAC0ANwBBAFAAKACCAF8AeAA6ACMAPAAtAEYAKABBAC0AVQBkAHMAqgAeACsASQAZADIANwBQADwAfQAoADIAIwAjADwAPABVAB4ALQAjAGQAPABGAF8AIwBBAEYAZABkADcAcwBfAGQAQQAoAA8ARgBVADAALQBuAG4AXwBVAFoAcwA3AEEARgBBADIARgBkADEAPwBTADwAUABtACwAOwBPACMALQAkAFYAKAA3ACgAPABGADgATAAjAC0AKAAoAFAARgBfAEEAUAClAFoAFAA8AB4AWgAjAC0ANwAoAB4AaQBLABkAQQCCADwAVQBkAFUASAAhAFoAIwA8AEEAIwA3ACgAPAA3AEEACgAoACMAMgBLAEYAWgAeADwAQQBBAGkAQQBQACgAUACMAF8AKAA8AGkAVQAUACMAIwBVAEEARgAoAEsALQBBAF8AQQBVAJEARgBVAIIAMgA8AF8AHgA8AB4AMgAUABkAZAAZADIAKAA8AFoAHgA8AFoAHgBLADcAXwAtAEEApQAyAGQAKAA8ACMANwBfAB4AMgAeADMARwBbABQAKAAUAC0AIwA3AFUANwAoADIAPAAoAFAAQQCHAFUASwAvAEkAZAArAEkAQQBuAEYAWgBBAJEAVQBGAFoAPAAtADIAUABVAHMAKABuADwAZABfADcALgBMADIAWgAoAEYAPQBRACgARgAKAGQARgA8AD8AXQAeADwASABfAHMAFwAyAHgANwBLAF8ASgBeAHIALQAoACgAPAB4ACMANwBpAC0ANwBLADoATgBoAD0AUQBvAB4AKAAyACMANwAZADcAKAA8AF8AMgB9AB4AQQAqAC8AHQBFAF4AHgBQAC0APABVAD4AVwA5AFwAPAA8AFoALAA2AGkAaQAqAEAAQQApAEcAGABPAAoARgAPAFwAXAAoADIAeAAoACMAjAAmAEQAHgA8AD0AVgBaADEARQA8AD4AhAAtAIIAUAA3AG4AXwB9AHgAdAA8AIIALQBGAIcAQQBLAEEAUABpAFAALQA8AEsALQBGAGQAPwBTAGwAIwA8ABkAIwAtADIAWAA1AGIANQBiADUAYgBDAGsAJAAyAEEAMgBQABkAMgA8ADcATQAeADIAUAAZACgANwAyAEEAVQAeAB4AKAAyAEYAHgAoADcAJQBNAEYAbgBQACMALQBBAA8AjABqACMAQQAjAC0AZwA3AF8ANQBTAEoAcAAoADwAUAB4ACgAQQA3AEsAXwBpAH0AfQAsAFcAQQBQAG4AKAA8AEsAKAA8ADcAVQBBAFUAKAA5AGEAGAA2AC0ARgBGAC0ASwBpAFUAfQBBAF8AkQAeACgAPAA8AEYAXwAoAGQAUQA3AF8APAAjADcAKAA8ACgAJQA5AC0ANwBpADAALQBBAH0AMgCHADAAOABKAD4AWgByAD4AUwCZACAAMgAoADgASgAbABsAWgBJAG0APQB9AHAAPgBhAC4ARQBBAD8AUwAjAC0AlgA/AGMAOwBVACUARAAnADYAPABhADoAeAA9AG0ALQBFAEMAYwBuAEoAUQAyADcAUwBuAFAAMgBBACwAOgAgACwALQBhADIARgBkADwAUABQAEIAWwB+AB4AKABLAB4ANwA3ADcAkQAqAD4AYgA3AF8AHgA3AIwAKwA1AC0ANwAoADIAMgBQAEEAWgBHAG8ALQA3AB4AKAAyAFIAWgAoABQAPABGAGQAHgBfAF8AZABLAFsAKAAyAEYAhwBWAC0AQQBkAA==",
          "dtype": "i2"
         },
         "xaxis": "x",
         "y": {
          "bdata": "PgGVAXECNQGVAXoCOgGVAXYCwwDNAIsBwwDNAO8B+wBdAUMC/QCdAQYBugEgAcABQAHlASwBwgETAW0B+QERAW0B+QFDAeMBKwH5AQ4BswH1AMcBQAGLAeoBHQGVATEBwgEJAakBIgG4AUAB9AExAccBXgErAiwBgQH+ATYBkAFYAjEBlQH5ASwBhgHqAU8BAwIsAYYB7wGaAfQBOwFOAkUB0QF5ATYB1gFFAdsBRQH0ATEBDQI2AZUBWAKBAUgB4wFFAdsBSgHqAUUBEgJAAakBxwHHAYEBVAHqAVkB5QHCAbMBTgInAbgBQAHCAVQBCALMAfQBxwHqAe8BWALqAcgAgAIXAiABRQENAg0CDQKLAWMB7wFjAe8BZwIcAiwBpAFYAj4BlQENAjUBlQEWAjoBlQESAtcAnwEGAcQBCQGGAfoAkAEXAkoBzAHNANoA0gD1AJUBQAHWARgBbQFiAuoB+gCkAZoB9AH6AFQBzAFoAbQAqQGGAdIArgENAg0ClQHqAbMBUAGVAccBIgHRAZ8BrgFiAiwBwgG4AVgC+QFYAq4BSgH0AfoArgH6AMIBmgEsAeABSgHlAdEBSgFYAhwCSgH0AQMC0QH6ANIAxwExAWgBbQHqARwCLAGaAbwCNgGVAXYCNgGVAXYCNgGVAXsC3ACkAfAApAHDAM0AiwHNAIEB3ABUAeAB3ABUAeABDgHHAQ4BuAHGABYBagINAcYBJwHMARgBuAGeAgoByAHsAPAAaAHqAe0A2gG+AHcBBAGQAeAB4AFKAa4BdgIYAf4BJwE/ApUBlQGuAa4BkAEuAdMBMQEwApAB9AExATAC1gFKAdYBaAEiAVQBCAJPAdsBNgFOAsoBygHMAcwBIAHUATQB1AEsAfQBYwHvAWMB7wHIABwCpAG4AScBKwInAccBzAHHATUCBAEsAUQCIgGaARICWQHlAeUB5QFKASwBpAG8AiwBpAG8Aj4BlQENAjUBlQEWAjoBlQESAvUAVAHlAfoAmgHCAIABBwFrAQsCGAEDAl4B7wFeAe8B4ACoAagB9ADaAZUBSgHvARMBwgFFAdsB4gFcAfIBXgFEAu8B+QE2AcQBHQFJAd8BLAH0ASIBNgHcAJsB5QEsAZoBvAKGAR0BcQJKAQ0CSgH0ASwB6gHGAUoBzAFZAU4BUgL+ARcCAwIXAhcCHAIcAiECAwINAg0C/gESAhcCagINAg0C4AEIAuABNAGdARACNAGiARACNAGdARAC/wCkARMBcgH0ARkBvgE8AfIBPAHyATwB8gEkAecBCAFmAegBJwHxARgBhgEDAkMBqQFIAfwBIQIxAZUB+QEmAYAB/QHRAdEBNgF8AfQBBAFoAeUBGAHgARgB4AHMASQBXwEHAjsBHALNAUUB5QFcAegB6gEvAeMBYwHvAZEBNwJJAdoBSgH+ASwB1gEiAYYB6gEiAXIB6gExAdkBMQGLARcCTwHbAawBOwHvASYB0AFPAeAB1gE/AdgBMQHpASwBuAEIAhMBlQEDAk8B5QETAXIBCAJAAZoBHAIxAfkBAwIxAe8B1wFeAf4B5QEvAeMBVAHqAeoBXgH+AXIB/gHkAeQBLAGkAVgCaAEmAjkBlQESAjMBmQEWAjoBlQGAAu0ApwEWAX4B8wHIANUAmwFxAfsBLwEnAigCXgETAlwB7wHYAWMB0gFFAcABCAJVAc4BVQHgASAB4gEyAfQBQAHuAUoB9AEhAeEBagEJAmoBCQINAvQBrwH0ASwBxAFYAtYBNQHaAU8B7gEwAQIC9QAXAkABpAESAkABpAESAkABpAESAgkBYwHlAf0AogEsAZAB9AFSAd4B3AEwAdABGAHnAWwCMQHvAYEB9AENAcYB+gDgAR0BlQFAAeABVAH0AdIAIgH+AeUB6gHqAeYAEgJAAeABmgEWAjoC9AHgAeUBswHcAdsB5QEFAiwBpAFYAg==",
          "dtype": "i2"
         },
         "yaxis": "y"
        },
        {
         "hovertemplate": "<b>%{hovertext}</b><br><br>is_legendary=%{marker.color}<br>sp_attack=%{x}<br>base_total=%{marker.size}<extra></extra>",
         "hovertext": [
          "Articuno",
          "Zapdos",
          "Moltres",
          "Mewtwo",
          "Mew",
          "Raikou",
          "Entei",
          "Suicune",
          "Lugia",
          "Ho-Oh",
          "Celebi",
          "Regirock",
          "Regice",
          "Registeel",
          "Latias",
          "Latios",
          "Kyogre",
          "Groudon",
          "Rayquaza",
          "Jirachi",
          "Deoxys",
          "Uxie",
          "Mesprit",
          "Azelf",
          "Dialga",
          "Palkia",
          "Heatran",
          "Regigigas",
          "Giratina",
          "Cresselia",
          "Manaphy",
          "Darkrai",
          "Shaymin",
          "Arceus",
          "Victini",
          "Cobalion",
          "Terrakion",
          "Virizion",
          "Tornadus",
          "Thundurus",
          "Reshiram",
          "Zekrom",
          "Landorus",
          "Kyurem",
          "Keldeo",
          "Meloetta",
          "Genesect",
          "Xerneas",
          "Yveltal",
          "Zygarde",
          "Diancie",
          "Hoopa",
          "Volcanion",
          "Tapu Koko",
          "Tapu Lele",
          "Tapu Bulu",
          "Tapu Fini",
          "Cosmog",
          "Cosmoem",
          "Solgaleo",
          "Lunala",
          "Nihilego",
          "Buzzwole",
          "Pheromosa",
          "Xurkitree",
          "Celesteela",
          "Kartana",
          "Guzzlord",
          "Necrozma",
          "Magearna"
         ],
         "legendgroup": "1",
         "marker": {
          "color": {
           "bdata": "AQEBAQEBAQEBAQEBAQEBAQEBAQEBAQEBAQEBAQEBAQEBAQEBAQEBAQEBAQEBAQEBAQEBAQEBAQEBAQEBAQEBAQEBAQEBAQ==",
           "dtype": "i1"
          },
          "coloraxis": "coloraxis",
          "size": {
           "bdata": "RAJEAkQCDANYAkQCRAJEAqgCqAJYAkQCRAJEArwCvAICAwIDDANYAlgCRAJEAkQCqAKoAlgCngKoAlgCWAJYAlgC0AJYAkQCRAJEAkQCRAKoAqgCWAK8AkQCWAJYAqgCqALEArwCqAJYAjoCOgI6AjoCyACQAagCqAI6AjoCOgI6AjoCOgI6AlgCWAI=",
           "dtype": "i2"
          },
          "sizemode": "area",
          "sizeref": 1.95,
          "symbol": "diamond"
         },
         "mode": "markers",
         "name": "1",
         "orientation": "v",
         "showlegend": true,
         "type": "scatter",
         "x": {
          "bdata": "XwB9AH0AwgBkAHMAWgBaAFoAbgBkADIAZABLAIwAoAC0AJYAtABkAF8ASwBpAH0AlgCWAIIAUAB4AEsAZACHAHgAeABkAFoASABaAG4AkQCWAHgAaQCqAIEATQB4AIMAgwBbAKAAqgCCAF8AggBVAF8AHQAdAHEAiQB/ADUAiQCtAGsAOwBhAH8AggA=",
          "dtype": "i2"
         },
         "xaxis": "x",
         "y": {
          "bdata": "RAJEAkQCDANYAkQCRAJEAqgCqAJYAkQCRAJEArwCvAICAwIDDANYAlgCRAJEAkQCqAKoAlgCngKoAlgCWAJYAlgC0AJYAkQCRAJEAkQCRAKoAqgCWAK8AkQCWAJYAqgCqALEArwCqAJYAjoCOgI6AjoCyACQAagCqAI6AjoCOgI6AjoCOgI6AlgCWAI=",
          "dtype": "i2"
         },
         "yaxis": "y"
        }
       ],
       "layout": {
        "coloraxis": {
         "colorbar": {
          "title": {
           "text": "is_legendary"
          }
         },
         "colorscale": [
          [
           0,
           "#0d0887"
          ],
          [
           0.1111111111111111,
           "#46039f"
          ],
          [
           0.2222222222222222,
           "#7201a8"
          ],
          [
           0.3333333333333333,
           "#9c179e"
          ],
          [
           0.4444444444444444,
           "#bd3786"
          ],
          [
           0.5555555555555556,
           "#d8576b"
          ],
          [
           0.6666666666666666,
           "#ed7953"
          ],
          [
           0.7777777777777778,
           "#fb9f3a"
          ],
          [
           0.8888888888888888,
           "#fdca26"
          ],
          [
           1,
           "#f0f921"
          ]
         ]
        },
        "legend": {
         "itemsizing": "constant",
         "title": {
          "text": "Legendary Status"
         },
         "tracegroupgap": 0
        },
        "template": {
         "data": {
          "bar": [
           {
            "error_x": {
             "color": "#2a3f5f"
            },
            "error_y": {
             "color": "#2a3f5f"
            },
            "marker": {
             "line": {
              "color": "white",
              "width": 0.5
             },
             "pattern": {
              "fillmode": "overlay",
              "size": 10,
              "solidity": 0.2
             }
            },
            "type": "bar"
           }
          ],
          "barpolar": [
           {
            "marker": {
             "line": {
              "color": "white",
              "width": 0.5
             },
             "pattern": {
              "fillmode": "overlay",
              "size": 10,
              "solidity": 0.2
             }
            },
            "type": "barpolar"
           }
          ],
          "carpet": [
           {
            "aaxis": {
             "endlinecolor": "#2a3f5f",
             "gridcolor": "#C8D4E3",
             "linecolor": "#C8D4E3",
             "minorgridcolor": "#C8D4E3",
             "startlinecolor": "#2a3f5f"
            },
            "baxis": {
             "endlinecolor": "#2a3f5f",
             "gridcolor": "#C8D4E3",
             "linecolor": "#C8D4E3",
             "minorgridcolor": "#C8D4E3",
             "startlinecolor": "#2a3f5f"
            },
            "type": "carpet"
           }
          ],
          "choropleth": [
           {
            "colorbar": {
             "outlinewidth": 0,
             "ticks": ""
            },
            "type": "choropleth"
           }
          ],
          "contour": [
           {
            "colorbar": {
             "outlinewidth": 0,
             "ticks": ""
            },
            "colorscale": [
             [
              0,
              "#0d0887"
             ],
             [
              0.1111111111111111,
              "#46039f"
             ],
             [
              0.2222222222222222,
              "#7201a8"
             ],
             [
              0.3333333333333333,
              "#9c179e"
             ],
             [
              0.4444444444444444,
              "#bd3786"
             ],
             [
              0.5555555555555556,
              "#d8576b"
             ],
             [
              0.6666666666666666,
              "#ed7953"
             ],
             [
              0.7777777777777778,
              "#fb9f3a"
             ],
             [
              0.8888888888888888,
              "#fdca26"
             ],
             [
              1,
              "#f0f921"
             ]
            ],
            "type": "contour"
           }
          ],
          "contourcarpet": [
           {
            "colorbar": {
             "outlinewidth": 0,
             "ticks": ""
            },
            "type": "contourcarpet"
           }
          ],
          "heatmap": [
           {
            "colorbar": {
             "outlinewidth": 0,
             "ticks": ""
            },
            "colorscale": [
             [
              0,
              "#0d0887"
             ],
             [
              0.1111111111111111,
              "#46039f"
             ],
             [
              0.2222222222222222,
              "#7201a8"
             ],
             [
              0.3333333333333333,
              "#9c179e"
             ],
             [
              0.4444444444444444,
              "#bd3786"
             ],
             [
              0.5555555555555556,
              "#d8576b"
             ],
             [
              0.6666666666666666,
              "#ed7953"
             ],
             [
              0.7777777777777778,
              "#fb9f3a"
             ],
             [
              0.8888888888888888,
              "#fdca26"
             ],
             [
              1,
              "#f0f921"
             ]
            ],
            "type": "heatmap"
           }
          ],
          "histogram": [
           {
            "marker": {
             "pattern": {
              "fillmode": "overlay",
              "size": 10,
              "solidity": 0.2
             }
            },
            "type": "histogram"
           }
          ],
          "histogram2d": [
           {
            "colorbar": {
             "outlinewidth": 0,
             "ticks": ""
            },
            "colorscale": [
             [
              0,
              "#0d0887"
             ],
             [
              0.1111111111111111,
              "#46039f"
             ],
             [
              0.2222222222222222,
              "#7201a8"
             ],
             [
              0.3333333333333333,
              "#9c179e"
             ],
             [
              0.4444444444444444,
              "#bd3786"
             ],
             [
              0.5555555555555556,
              "#d8576b"
             ],
             [
              0.6666666666666666,
              "#ed7953"
             ],
             [
              0.7777777777777778,
              "#fb9f3a"
             ],
             [
              0.8888888888888888,
              "#fdca26"
             ],
             [
              1,
              "#f0f921"
             ]
            ],
            "type": "histogram2d"
           }
          ],
          "histogram2dcontour": [
           {
            "colorbar": {
             "outlinewidth": 0,
             "ticks": ""
            },
            "colorscale": [
             [
              0,
              "#0d0887"
             ],
             [
              0.1111111111111111,
              "#46039f"
             ],
             [
              0.2222222222222222,
              "#7201a8"
             ],
             [
              0.3333333333333333,
              "#9c179e"
             ],
             [
              0.4444444444444444,
              "#bd3786"
             ],
             [
              0.5555555555555556,
              "#d8576b"
             ],
             [
              0.6666666666666666,
              "#ed7953"
             ],
             [
              0.7777777777777778,
              "#fb9f3a"
             ],
             [
              0.8888888888888888,
              "#fdca26"
             ],
             [
              1,
              "#f0f921"
             ]
            ],
            "type": "histogram2dcontour"
           }
          ],
          "mesh3d": [
           {
            "colorbar": {
             "outlinewidth": 0,
             "ticks": ""
            },
            "type": "mesh3d"
           }
          ],
          "parcoords": [
           {
            "line": {
             "colorbar": {
              "outlinewidth": 0,
              "ticks": ""
             }
            },
            "type": "parcoords"
           }
          ],
          "pie": [
           {
            "automargin": true,
            "type": "pie"
           }
          ],
          "scatter": [
           {
            "fillpattern": {
             "fillmode": "overlay",
             "size": 10,
             "solidity": 0.2
            },
            "type": "scatter"
           }
          ],
          "scatter3d": [
           {
            "line": {
             "colorbar": {
              "outlinewidth": 0,
              "ticks": ""
             }
            },
            "marker": {
             "colorbar": {
              "outlinewidth": 0,
              "ticks": ""
             }
            },
            "type": "scatter3d"
           }
          ],
          "scattercarpet": [
           {
            "marker": {
             "colorbar": {
              "outlinewidth": 0,
              "ticks": ""
             }
            },
            "type": "scattercarpet"
           }
          ],
          "scattergeo": [
           {
            "marker": {
             "colorbar": {
              "outlinewidth": 0,
              "ticks": ""
             }
            },
            "type": "scattergeo"
           }
          ],
          "scattergl": [
           {
            "marker": {
             "colorbar": {
              "outlinewidth": 0,
              "ticks": ""
             }
            },
            "type": "scattergl"
           }
          ],
          "scattermap": [
           {
            "marker": {
             "colorbar": {
              "outlinewidth": 0,
              "ticks": ""
             }
            },
            "type": "scattermap"
           }
          ],
          "scattermapbox": [
           {
            "marker": {
             "colorbar": {
              "outlinewidth": 0,
              "ticks": ""
             }
            },
            "type": "scattermapbox"
           }
          ],
          "scatterpolar": [
           {
            "marker": {
             "colorbar": {
              "outlinewidth": 0,
              "ticks": ""
             }
            },
            "type": "scatterpolar"
           }
          ],
          "scatterpolargl": [
           {
            "marker": {
             "colorbar": {
              "outlinewidth": 0,
              "ticks": ""
             }
            },
            "type": "scatterpolargl"
           }
          ],
          "scatterternary": [
           {
            "marker": {
             "colorbar": {
              "outlinewidth": 0,
              "ticks": ""
             }
            },
            "type": "scatterternary"
           }
          ],
          "surface": [
           {
            "colorbar": {
             "outlinewidth": 0,
             "ticks": ""
            },
            "colorscale": [
             [
              0,
              "#0d0887"
             ],
             [
              0.1111111111111111,
              "#46039f"
             ],
             [
              0.2222222222222222,
              "#7201a8"
             ],
             [
              0.3333333333333333,
              "#9c179e"
             ],
             [
              0.4444444444444444,
              "#bd3786"
             ],
             [
              0.5555555555555556,
              "#d8576b"
             ],
             [
              0.6666666666666666,
              "#ed7953"
             ],
             [
              0.7777777777777778,
              "#fb9f3a"
             ],
             [
              0.8888888888888888,
              "#fdca26"
             ],
             [
              1,
              "#f0f921"
             ]
            ],
            "type": "surface"
           }
          ],
          "table": [
           {
            "cells": {
             "fill": {
              "color": "#EBF0F8"
             },
             "line": {
              "color": "white"
             }
            },
            "header": {
             "fill": {
              "color": "#C8D4E3"
             },
             "line": {
              "color": "white"
             }
            },
            "type": "table"
           }
          ]
         },
         "layout": {
          "annotationdefaults": {
           "arrowcolor": "#2a3f5f",
           "arrowhead": 0,
           "arrowwidth": 1
          },
          "autotypenumbers": "strict",
          "coloraxis": {
           "colorbar": {
            "outlinewidth": 0,
            "ticks": ""
           }
          },
          "colorscale": {
           "diverging": [
            [
             0,
             "#8e0152"
            ],
            [
             0.1,
             "#c51b7d"
            ],
            [
             0.2,
             "#de77ae"
            ],
            [
             0.3,
             "#f1b6da"
            ],
            [
             0.4,
             "#fde0ef"
            ],
            [
             0.5,
             "#f7f7f7"
            ],
            [
             0.6,
             "#e6f5d0"
            ],
            [
             0.7,
             "#b8e186"
            ],
            [
             0.8,
             "#7fbc41"
            ],
            [
             0.9,
             "#4d9221"
            ],
            [
             1,
             "#276419"
            ]
           ],
           "sequential": [
            [
             0,
             "#0d0887"
            ],
            [
             0.1111111111111111,
             "#46039f"
            ],
            [
             0.2222222222222222,
             "#7201a8"
            ],
            [
             0.3333333333333333,
             "#9c179e"
            ],
            [
             0.4444444444444444,
             "#bd3786"
            ],
            [
             0.5555555555555556,
             "#d8576b"
            ],
            [
             0.6666666666666666,
             "#ed7953"
            ],
            [
             0.7777777777777778,
             "#fb9f3a"
            ],
            [
             0.8888888888888888,
             "#fdca26"
            ],
            [
             1,
             "#f0f921"
            ]
           ],
           "sequentialminus": [
            [
             0,
             "#0d0887"
            ],
            [
             0.1111111111111111,
             "#46039f"
            ],
            [
             0.2222222222222222,
             "#7201a8"
            ],
            [
             0.3333333333333333,
             "#9c179e"
            ],
            [
             0.4444444444444444,
             "#bd3786"
            ],
            [
             0.5555555555555556,
             "#d8576b"
            ],
            [
             0.6666666666666666,
             "#ed7953"
            ],
            [
             0.7777777777777778,
             "#fb9f3a"
            ],
            [
             0.8888888888888888,
             "#fdca26"
            ],
            [
             1,
             "#f0f921"
            ]
           ]
          },
          "colorway": [
           "#636efa",
           "#EF553B",
           "#00cc96",
           "#ab63fa",
           "#FFA15A",
           "#19d3f3",
           "#FF6692",
           "#B6E880",
           "#FF97FF",
           "#FECB52"
          ],
          "font": {
           "color": "#2a3f5f"
          },
          "geo": {
           "bgcolor": "white",
           "lakecolor": "white",
           "landcolor": "white",
           "showlakes": true,
           "showland": true,
           "subunitcolor": "#C8D4E3"
          },
          "hoverlabel": {
           "align": "left"
          },
          "hovermode": "closest",
          "mapbox": {
           "style": "light"
          },
          "paper_bgcolor": "white",
          "plot_bgcolor": "white",
          "polar": {
           "angularaxis": {
            "gridcolor": "#EBF0F8",
            "linecolor": "#EBF0F8",
            "ticks": ""
           },
           "bgcolor": "white",
           "radialaxis": {
            "gridcolor": "#EBF0F8",
            "linecolor": "#EBF0F8",
            "ticks": ""
           }
          },
          "scene": {
           "xaxis": {
            "backgroundcolor": "white",
            "gridcolor": "#DFE8F3",
            "gridwidth": 2,
            "linecolor": "#EBF0F8",
            "showbackground": true,
            "ticks": "",
            "zerolinecolor": "#EBF0F8"
           },
           "yaxis": {
            "backgroundcolor": "white",
            "gridcolor": "#DFE8F3",
            "gridwidth": 2,
            "linecolor": "#EBF0F8",
            "showbackground": true,
            "ticks": "",
            "zerolinecolor": "#EBF0F8"
           },
           "zaxis": {
            "backgroundcolor": "white",
            "gridcolor": "#DFE8F3",
            "gridwidth": 2,
            "linecolor": "#EBF0F8",
            "showbackground": true,
            "ticks": "",
            "zerolinecolor": "#EBF0F8"
           }
          },
          "shapedefaults": {
           "line": {
            "color": "#2a3f5f"
           }
          },
          "ternary": {
           "aaxis": {
            "gridcolor": "#DFE8F3",
            "linecolor": "#A2B1C6",
            "ticks": ""
           },
           "baxis": {
            "gridcolor": "#DFE8F3",
            "linecolor": "#A2B1C6",
            "ticks": ""
           },
           "bgcolor": "white",
           "caxis": {
            "gridcolor": "#DFE8F3",
            "linecolor": "#A2B1C6",
            "ticks": ""
           }
          },
          "title": {
           "x": 0.05
          },
          "xaxis": {
           "automargin": true,
           "gridcolor": "#EBF0F8",
           "linecolor": "#EBF0F8",
           "ticks": "",
           "title": {
            "standoff": 15
           },
           "zerolinecolor": "#EBF0F8",
           "zerolinewidth": 2
          },
          "yaxis": {
           "automargin": true,
           "gridcolor": "#EBF0F8",
           "linecolor": "#EBF0F8",
           "ticks": "",
           "title": {
            "standoff": 15
           },
           "zerolinecolor": "#EBF0F8",
           "zerolinewidth": 2
          }
         }
        },
        "title": {
         "text": "Legendary Classification: Top Features (sp_attack vs base_total)"
        },
        "xaxis": {
         "anchor": "y",
         "domain": [
          0,
          1
         ],
         "title": {
          "text": "sp_attack"
         }
        },
        "yaxis": {
         "anchor": "x",
         "domain": [
          0,
          1
         ],
         "title": {
          "text": "base_total"
         }
        }
       }
      }
     },
     "metadata": {},
     "output_type": "display_data"
    }
   ],
   "source": [
    "# Visualize LDA results for legendary classification\n",
    "if 'is_legendary' in pokemon_clean.columns:\n",
    "    # Create histogram showing separation\n",
    "    fig = px.histogram(\n",
    "        pokemon_legendary_clean,\n",
    "        x='legendary_ld1',\n",
    "        color='is_legendary',\n",
    "        nbins=30,\n",
    "        title='LDA: Legendary vs Non-Legendary Pokémon Separation',\n",
    "        labels={'legendary_ld1': 'Linear Discriminant 1', 'is_legendary': 'Legendary Status'},\n",
    "        template='plotly_white',\n",
    "        marginal='rug',\n",
    "        opacity=0.7\n",
    "    )\n",
    "    fig.update_layout(legend_title_text='Legendary Status')\n",
    "    fig.show()\n",
    "    \n",
    "    # Create violin plot for better distribution comparison\n",
    "    fig = px.violin(\n",
    "        pokemon_legendary_clean,\n",
    "        y='legendary_ld1',\n",
    "        x='is_legendary',\n",
    "        box=True,\n",
    "        title='LDA: Distribution of Linear Discriminant by Legendary Status',\n",
    "        labels={'legendary_ld1': 'Linear Discriminant 1', 'is_legendary': 'Legendary Status'},\n",
    "        template='plotly_white'\n",
    "    )\n",
    "    fig.show()\n",
    "    \n",
    "    # Enhanced scatter plot with selected features\n",
    "    # Choose the two most important features based on LDA coefficients\n",
    "    top_features = pd.Series(np.abs(lda_legendary.coef_[0]), index=battle_stats).nlargest(2).index.tolist()\n",
    "    \n",
    "    # Create a scatter plot with the two most important features\n",
    "    fig = px.scatter(\n",
    "        pokemon_legendary_clean, \n",
    "        x=top_features[0], \n",
    "        y=top_features[1],\n",
    "        color='is_legendary',\n",
    "        title=f'Legendary Classification: Top Features ({top_features[0]} vs {top_features[1]})',\n",
    "        template='plotly_white',\n",
    "        hover_name='name' if 'name' in pokemon_legendary_clean.columns else None,\n",
    "        symbol='is_legendary',\n",
    "        size='base_total' if 'base_total' in pokemon_legendary_clean.columns else None,\n",
    "    )\n",
    "    fig.update_layout(legend_title_text='Legendary Status')\n",
    "    fig.show()"
   ]
  },
  {
   "cell_type": "code",
   "execution_count": 200,
   "id": "9e2305a9",
   "metadata": {},
   "outputs": [
    {
     "data": {
      "application/vnd.plotly.v1+json": {
       "config": {
        "plotlyServerURL": "https://plot.ly"
       },
       "data": [
        {
         "coloraxis": "coloraxis",
         "hovertemplate": "Predicted: %{x}<br>Actual: %{y}<br>color: %{z}<extra></extra>",
         "name": "0",
         "texttemplate": "%{z}",
         "type": "heatmap",
         "x": [
          "Non-Legendary",
          "Legendary"
         ],
         "xaxis": "x",
         "y": [
          "Non-Legendary",
          "Legendary"
         ],
         "yaxis": "y",
         "z": {
          "bdata": "2QADAA4ABwA=",
          "dtype": "i2",
          "shape": "2, 2"
         }
        }
       ],
       "layout": {
        "coloraxis": {
         "colorscale": [
          [
           0,
           "rgb(247,251,255)"
          ],
          [
           0.125,
           "rgb(222,235,247)"
          ],
          [
           0.25,
           "rgb(198,219,239)"
          ],
          [
           0.375,
           "rgb(158,202,225)"
          ],
          [
           0.5,
           "rgb(107,174,214)"
          ],
          [
           0.625,
           "rgb(66,146,198)"
          ],
          [
           0.75,
           "rgb(33,113,181)"
          ],
          [
           0.875,
           "rgb(8,81,156)"
          ],
          [
           1,
           "rgb(8,48,107)"
          ]
         ]
        },
        "height": 600,
        "template": {
         "data": {
          "bar": [
           {
            "error_x": {
             "color": "#2a3f5f"
            },
            "error_y": {
             "color": "#2a3f5f"
            },
            "marker": {
             "line": {
              "color": "#E5ECF6",
              "width": 0.5
             },
             "pattern": {
              "fillmode": "overlay",
              "size": 10,
              "solidity": 0.2
             }
            },
            "type": "bar"
           }
          ],
          "barpolar": [
           {
            "marker": {
             "line": {
              "color": "#E5ECF6",
              "width": 0.5
             },
             "pattern": {
              "fillmode": "overlay",
              "size": 10,
              "solidity": 0.2
             }
            },
            "type": "barpolar"
           }
          ],
          "carpet": [
           {
            "aaxis": {
             "endlinecolor": "#2a3f5f",
             "gridcolor": "white",
             "linecolor": "white",
             "minorgridcolor": "white",
             "startlinecolor": "#2a3f5f"
            },
            "baxis": {
             "endlinecolor": "#2a3f5f",
             "gridcolor": "white",
             "linecolor": "white",
             "minorgridcolor": "white",
             "startlinecolor": "#2a3f5f"
            },
            "type": "carpet"
           }
          ],
          "choropleth": [
           {
            "colorbar": {
             "outlinewidth": 0,
             "ticks": ""
            },
            "type": "choropleth"
           }
          ],
          "contour": [
           {
            "colorbar": {
             "outlinewidth": 0,
             "ticks": ""
            },
            "colorscale": [
             [
              0,
              "#0d0887"
             ],
             [
              0.1111111111111111,
              "#46039f"
             ],
             [
              0.2222222222222222,
              "#7201a8"
             ],
             [
              0.3333333333333333,
              "#9c179e"
             ],
             [
              0.4444444444444444,
              "#bd3786"
             ],
             [
              0.5555555555555556,
              "#d8576b"
             ],
             [
              0.6666666666666666,
              "#ed7953"
             ],
             [
              0.7777777777777778,
              "#fb9f3a"
             ],
             [
              0.8888888888888888,
              "#fdca26"
             ],
             [
              1,
              "#f0f921"
             ]
            ],
            "type": "contour"
           }
          ],
          "contourcarpet": [
           {
            "colorbar": {
             "outlinewidth": 0,
             "ticks": ""
            },
            "type": "contourcarpet"
           }
          ],
          "heatmap": [
           {
            "colorbar": {
             "outlinewidth": 0,
             "ticks": ""
            },
            "colorscale": [
             [
              0,
              "#0d0887"
             ],
             [
              0.1111111111111111,
              "#46039f"
             ],
             [
              0.2222222222222222,
              "#7201a8"
             ],
             [
              0.3333333333333333,
              "#9c179e"
             ],
             [
              0.4444444444444444,
              "#bd3786"
             ],
             [
              0.5555555555555556,
              "#d8576b"
             ],
             [
              0.6666666666666666,
              "#ed7953"
             ],
             [
              0.7777777777777778,
              "#fb9f3a"
             ],
             [
              0.8888888888888888,
              "#fdca26"
             ],
             [
              1,
              "#f0f921"
             ]
            ],
            "type": "heatmap"
           }
          ],
          "histogram": [
           {
            "marker": {
             "pattern": {
              "fillmode": "overlay",
              "size": 10,
              "solidity": 0.2
             }
            },
            "type": "histogram"
           }
          ],
          "histogram2d": [
           {
            "colorbar": {
             "outlinewidth": 0,
             "ticks": ""
            },
            "colorscale": [
             [
              0,
              "#0d0887"
             ],
             [
              0.1111111111111111,
              "#46039f"
             ],
             [
              0.2222222222222222,
              "#7201a8"
             ],
             [
              0.3333333333333333,
              "#9c179e"
             ],
             [
              0.4444444444444444,
              "#bd3786"
             ],
             [
              0.5555555555555556,
              "#d8576b"
             ],
             [
              0.6666666666666666,
              "#ed7953"
             ],
             [
              0.7777777777777778,
              "#fb9f3a"
             ],
             [
              0.8888888888888888,
              "#fdca26"
             ],
             [
              1,
              "#f0f921"
             ]
            ],
            "type": "histogram2d"
           }
          ],
          "histogram2dcontour": [
           {
            "colorbar": {
             "outlinewidth": 0,
             "ticks": ""
            },
            "colorscale": [
             [
              0,
              "#0d0887"
             ],
             [
              0.1111111111111111,
              "#46039f"
             ],
             [
              0.2222222222222222,
              "#7201a8"
             ],
             [
              0.3333333333333333,
              "#9c179e"
             ],
             [
              0.4444444444444444,
              "#bd3786"
             ],
             [
              0.5555555555555556,
              "#d8576b"
             ],
             [
              0.6666666666666666,
              "#ed7953"
             ],
             [
              0.7777777777777778,
              "#fb9f3a"
             ],
             [
              0.8888888888888888,
              "#fdca26"
             ],
             [
              1,
              "#f0f921"
             ]
            ],
            "type": "histogram2dcontour"
           }
          ],
          "mesh3d": [
           {
            "colorbar": {
             "outlinewidth": 0,
             "ticks": ""
            },
            "type": "mesh3d"
           }
          ],
          "parcoords": [
           {
            "line": {
             "colorbar": {
              "outlinewidth": 0,
              "ticks": ""
             }
            },
            "type": "parcoords"
           }
          ],
          "pie": [
           {
            "automargin": true,
            "type": "pie"
           }
          ],
          "scatter": [
           {
            "fillpattern": {
             "fillmode": "overlay",
             "size": 10,
             "solidity": 0.2
            },
            "type": "scatter"
           }
          ],
          "scatter3d": [
           {
            "line": {
             "colorbar": {
              "outlinewidth": 0,
              "ticks": ""
             }
            },
            "marker": {
             "colorbar": {
              "outlinewidth": 0,
              "ticks": ""
             }
            },
            "type": "scatter3d"
           }
          ],
          "scattercarpet": [
           {
            "marker": {
             "colorbar": {
              "outlinewidth": 0,
              "ticks": ""
             }
            },
            "type": "scattercarpet"
           }
          ],
          "scattergeo": [
           {
            "marker": {
             "colorbar": {
              "outlinewidth": 0,
              "ticks": ""
             }
            },
            "type": "scattergeo"
           }
          ],
          "scattergl": [
           {
            "marker": {
             "colorbar": {
              "outlinewidth": 0,
              "ticks": ""
             }
            },
            "type": "scattergl"
           }
          ],
          "scattermap": [
           {
            "marker": {
             "colorbar": {
              "outlinewidth": 0,
              "ticks": ""
             }
            },
            "type": "scattermap"
           }
          ],
          "scattermapbox": [
           {
            "marker": {
             "colorbar": {
              "outlinewidth": 0,
              "ticks": ""
             }
            },
            "type": "scattermapbox"
           }
          ],
          "scatterpolar": [
           {
            "marker": {
             "colorbar": {
              "outlinewidth": 0,
              "ticks": ""
             }
            },
            "type": "scatterpolar"
           }
          ],
          "scatterpolargl": [
           {
            "marker": {
             "colorbar": {
              "outlinewidth": 0,
              "ticks": ""
             }
            },
            "type": "scatterpolargl"
           }
          ],
          "scatterternary": [
           {
            "marker": {
             "colorbar": {
              "outlinewidth": 0,
              "ticks": ""
             }
            },
            "type": "scatterternary"
           }
          ],
          "surface": [
           {
            "colorbar": {
             "outlinewidth": 0,
             "ticks": ""
            },
            "colorscale": [
             [
              0,
              "#0d0887"
             ],
             [
              0.1111111111111111,
              "#46039f"
             ],
             [
              0.2222222222222222,
              "#7201a8"
             ],
             [
              0.3333333333333333,
              "#9c179e"
             ],
             [
              0.4444444444444444,
              "#bd3786"
             ],
             [
              0.5555555555555556,
              "#d8576b"
             ],
             [
              0.6666666666666666,
              "#ed7953"
             ],
             [
              0.7777777777777778,
              "#fb9f3a"
             ],
             [
              0.8888888888888888,
              "#fdca26"
             ],
             [
              1,
              "#f0f921"
             ]
            ],
            "type": "surface"
           }
          ],
          "table": [
           {
            "cells": {
             "fill": {
              "color": "#EBF0F8"
             },
             "line": {
              "color": "white"
             }
            },
            "header": {
             "fill": {
              "color": "#C8D4E3"
             },
             "line": {
              "color": "white"
             }
            },
            "type": "table"
           }
          ]
         },
         "layout": {
          "annotationdefaults": {
           "arrowcolor": "#2a3f5f",
           "arrowhead": 0,
           "arrowwidth": 1
          },
          "autotypenumbers": "strict",
          "coloraxis": {
           "colorbar": {
            "outlinewidth": 0,
            "ticks": ""
           }
          },
          "colorscale": {
           "diverging": [
            [
             0,
             "#8e0152"
            ],
            [
             0.1,
             "#c51b7d"
            ],
            [
             0.2,
             "#de77ae"
            ],
            [
             0.3,
             "#f1b6da"
            ],
            [
             0.4,
             "#fde0ef"
            ],
            [
             0.5,
             "#f7f7f7"
            ],
            [
             0.6,
             "#e6f5d0"
            ],
            [
             0.7,
             "#b8e186"
            ],
            [
             0.8,
             "#7fbc41"
            ],
            [
             0.9,
             "#4d9221"
            ],
            [
             1,
             "#276419"
            ]
           ],
           "sequential": [
            [
             0,
             "#0d0887"
            ],
            [
             0.1111111111111111,
             "#46039f"
            ],
            [
             0.2222222222222222,
             "#7201a8"
            ],
            [
             0.3333333333333333,
             "#9c179e"
            ],
            [
             0.4444444444444444,
             "#bd3786"
            ],
            [
             0.5555555555555556,
             "#d8576b"
            ],
            [
             0.6666666666666666,
             "#ed7953"
            ],
            [
             0.7777777777777778,
             "#fb9f3a"
            ],
            [
             0.8888888888888888,
             "#fdca26"
            ],
            [
             1,
             "#f0f921"
            ]
           ],
           "sequentialminus": [
            [
             0,
             "#0d0887"
            ],
            [
             0.1111111111111111,
             "#46039f"
            ],
            [
             0.2222222222222222,
             "#7201a8"
            ],
            [
             0.3333333333333333,
             "#9c179e"
            ],
            [
             0.4444444444444444,
             "#bd3786"
            ],
            [
             0.5555555555555556,
             "#d8576b"
            ],
            [
             0.6666666666666666,
             "#ed7953"
            ],
            [
             0.7777777777777778,
             "#fb9f3a"
            ],
            [
             0.8888888888888888,
             "#fdca26"
            ],
            [
             1,
             "#f0f921"
            ]
           ]
          },
          "colorway": [
           "#636efa",
           "#EF553B",
           "#00cc96",
           "#ab63fa",
           "#FFA15A",
           "#19d3f3",
           "#FF6692",
           "#B6E880",
           "#FF97FF",
           "#FECB52"
          ],
          "font": {
           "color": "#2a3f5f"
          },
          "geo": {
           "bgcolor": "white",
           "lakecolor": "white",
           "landcolor": "#E5ECF6",
           "showlakes": true,
           "showland": true,
           "subunitcolor": "white"
          },
          "hoverlabel": {
           "align": "left"
          },
          "hovermode": "closest",
          "mapbox": {
           "style": "light"
          },
          "paper_bgcolor": "white",
          "plot_bgcolor": "#E5ECF6",
          "polar": {
           "angularaxis": {
            "gridcolor": "white",
            "linecolor": "white",
            "ticks": ""
           },
           "bgcolor": "#E5ECF6",
           "radialaxis": {
            "gridcolor": "white",
            "linecolor": "white",
            "ticks": ""
           }
          },
          "scene": {
           "xaxis": {
            "backgroundcolor": "#E5ECF6",
            "gridcolor": "white",
            "gridwidth": 2,
            "linecolor": "white",
            "showbackground": true,
            "ticks": "",
            "zerolinecolor": "white"
           },
           "yaxis": {
            "backgroundcolor": "#E5ECF6",
            "gridcolor": "white",
            "gridwidth": 2,
            "linecolor": "white",
            "showbackground": true,
            "ticks": "",
            "zerolinecolor": "white"
           },
           "zaxis": {
            "backgroundcolor": "#E5ECF6",
            "gridcolor": "white",
            "gridwidth": 2,
            "linecolor": "white",
            "showbackground": true,
            "ticks": "",
            "zerolinecolor": "white"
           }
          },
          "shapedefaults": {
           "line": {
            "color": "#2a3f5f"
           }
          },
          "ternary": {
           "aaxis": {
            "gridcolor": "white",
            "linecolor": "white",
            "ticks": ""
           },
           "baxis": {
            "gridcolor": "white",
            "linecolor": "white",
            "ticks": ""
           },
           "bgcolor": "#E5ECF6",
           "caxis": {
            "gridcolor": "white",
            "linecolor": "white",
            "ticks": ""
           }
          },
          "title": {
           "x": 0.05
          },
          "xaxis": {
           "automargin": true,
           "gridcolor": "white",
           "linecolor": "white",
           "ticks": "",
           "title": {
            "standoff": 15
           },
           "zerolinecolor": "white",
           "zerolinewidth": 2
          },
          "yaxis": {
           "automargin": true,
           "gridcolor": "white",
           "linecolor": "white",
           "ticks": "",
           "title": {
            "standoff": 15
           },
           "zerolinecolor": "white",
           "zerolinewidth": 2
          }
         }
        },
        "title": {
         "text": "Confusion Matrix for Legendary Classification"
        },
        "width": 600,
        "xaxis": {
         "anchor": "y",
         "constrain": "domain",
         "domain": [
          0,
          1
         ],
         "scaleanchor": "y",
         "title": {
          "text": "Predicted"
         }
        },
        "yaxis": {
         "anchor": "x",
         "autorange": "reversed",
         "constrain": "domain",
         "domain": [
          0,
          1
         ],
         "title": {
          "text": "Actual"
         }
        }
       }
      }
     },
     "metadata": {},
     "output_type": "display_data"
    },
    {
     "name": "stdout",
     "output_type": "stream",
     "text": [
      "Classification Report:\n",
      "               precision    recall  f1-score   support\n",
      "\n",
      "Non-Legendary       0.94      0.99      0.96       220\n",
      "    Legendary       0.70      0.33      0.45        21\n",
      "\n",
      "     accuracy                           0.93       241\n",
      "    macro avg       0.82      0.66      0.71       241\n",
      " weighted avg       0.92      0.93      0.92       241\n",
      "\n"
     ]
    }
   ],
   "source": [
    "# Visualize confusion matrix\n",
    "if 'is_legendary' in pokemon_clean.columns:\n",
    "    # Calculate confusion matrix\n",
    "    cm = confusion_matrix(y_test, y_pred)\n",
    "    \n",
    "    # Plot confusion matrix with plotly\n",
    "    fig = px.imshow(\n",
    "        cm,\n",
    "        x=['Non-Legendary', 'Legendary'],\n",
    "        y=['Non-Legendary', 'Legendary'],\n",
    "        text_auto=True,\n",
    "        color_continuous_scale='Blues',\n",
    "        title='Confusion Matrix for Legendary Classification',\n",
    "        labels={\n",
    "            'x': 'Predicted',\n",
    "            'y': 'Actual'\n",
    "        }\n",
    "    )\n",
    "    fig.update_layout(width=600, height=600)\n",
    "    fig.show()\n",
    "    \n",
    "    # Print classification report\n",
    "    print(\"Classification Report:\")\n",
    "    print(classification_report(y_test, y_pred, target_names=['Non-Legendary', 'Legendary']))"
   ]
  },
  {
   "cell_type": "code",
   "execution_count": 201,
   "id": "7116db0e",
   "metadata": {},
   "outputs": [
    {
     "data": {
      "application/vnd.plotly.v1+json": {
       "config": {
        "plotlyServerURL": "https://plot.ly"
       },
       "data": [
        {
         "line": {
          "color": "royalblue",
          "width": 3
         },
         "mode": "lines",
         "name": "ROC Curve",
         "type": "scatter",
         "x": {
          "bdata": "AAAAAAAAAAAAAAAAAAAAAAAAAAAAAAAAQKt1EMNpVj9Aq3UQw2lWP0CrdRDDaVY/cEBYTFLPgD9wQFhMUs+AP0CrdRDDaYY/QKt1EMNphj94y6E2bNGOP3jLoTZs0Y4/2PVmroqckz/Y9WauipyTP4xQbt8mA5U/jFBu3yYDlT+oYIRy+zaZP6hghHL7Npk/EBaT1DMEnD8QFpPUMwScP8RwmgXQap0/xHCaBdBqnT94y6E2bNGeP3jLoTZs0Z4/FpPUMwQcoD8Wk9QzBBygPxaT1DMEHKA/FpPUMwQcoD8yo+rG2E+kPzKj6sbYT6Q/jFBu3yYDpT+MUG7fJgOlP/QFfUFf0Kc/9AV9QV/Qpz+2aA+85VCrP7ZoD7zlUKs/Hh4eHh4erj8eHh4eHh6uP3jLoTZs0a4/eMuhNmzRrj/DaRZAq3WwP8NpFkCrdbA/cEBYTFLPsD9wQFhMUs+wP3fEHXFH3LE/d8QdcUfcsT+FzKi6MfazP4XMqLox9rM/QKt1EMNptj9Aq3UQw2m2P1U3xn6ikLk/VTfGfqKQuT9wQFhMUs/AP3BAWExSz8A/HReaWPkowT8dF5pY+SjBP9FxoYmVj8I/1TMEHBAWwz+2aA+85VDLP7ZoD7zlUMs/ax3EcJoF0D9rHcRwmgXQPysfJaLjQtM/Kx8louNC0z8Z+4lCZlTdP2/mqsg5gd0/vDh62anB5T+8OHrZqcHlP+/i6GWnBuc/cJOBCkYo5z8bCZLNrz7nP8Z+opAZVec/plJ857FM7z+mUnznsUzvP/6ezrbCvO8/qRTfeSzT7z8AAAAAAADwPw==",
          "dtype": "f8"
         },
         "xaxis": "x",
         "y": {
          "bdata": "AAAAAAAAAAAd1EEd1EGNP5qZmZmZmck/mpmZmZmZyT8d1EEd1EHNP1AHdVAHddA/UAd1UAd10D/xFV/xFV/RP/EVX/EVX9E/1EEd1EEd1D/UQR3UQR3UPxZf8RVf8dU/Fl/xFV/x1T+3bdu2bdvWP7dt27Zt29Y/WHzFV3zF1z9YfMVXfMXXP5qZmZmZmdk/mpmZmZmZ2T/btm3btm3bP9u2bdu2bds/vuIrvuIr3j++4iu+4iveP1/xFV/xFd8/X/EVX/EV3z8zMzMzMzPjP8VXfMVXfOU/Fl/xFV/x5T8WX/EVX/HlP2ZmZmZmZuY/ZmZmZmZm5j+3bdu2bdvmP7dt27Zt2+Y/+Yqv+Iqv6D/5iq/4iq/oP0mSJEmSJOk/SZIkSZIk6T+amZmZmZnpP5qZmZmZmek/6qAO6qAO6j/qoA7qoA7qPzuogzqog+o/O6iDOqiD6j+Lr/iKr/jqP4uv+Iqv+Oo/27Zt27Zt6z/btm3btm3rPyy+4iu+4us/LL7iK77i6z98xVd8xVfsP3zFV3zFV+w/zczMzMzM7D/NzMzMzMzsPx3UQR3UQe0/HdRBHdRB7T9u27Zt27btP27btm3btu0/btu2bdu27T9u27Zt27btP77iK77iK+4/vuIrvuIr7j8P6qAO6qDuPw/qoA7qoO4/X/EVX/EV7z9f8RVf8RXvP1/xFV/xFe8/X/EVX/EV7z+w+Iqv+IrvP7D4iq/4iu8/sPiKr/iK7z+w+Iqv+IrvP7D4iq/4iu8/sPiKr/iK7z8AAAAAAADwPwAAAAAAAPA/AAAAAAAA8D8AAAAAAADwPw==",
          "dtype": "f8"
         },
         "yaxis": "y"
        },
        {
         "line": {
          "color": "gray",
          "dash": "dash",
          "width": 2
         },
         "mode": "lines",
         "name": "Chance",
         "type": "scatter",
         "x": [
          0,
          1
         ],
         "xaxis": "x",
         "y": [
          0,
          1
         ],
         "yaxis": "y"
        },
        {
         "line": {
          "color": "forestgreen",
          "width": 3
         },
         "mode": "lines",
         "name": "Precision-Recall",
         "type": "scatter",
         "x": {
          "bdata": "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",
          "dtype": "f8"
         },
         "xaxis": "x2",
         "y": {
          "bdata": "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",
          "dtype": "f8"
         },
         "yaxis": "y2"
        },
        {
         "line": {
          "color": "gray",
          "dash": "dash",
          "width": 2
         },
         "mode": "lines",
         "name": "Chance",
         "type": "scatter",
         "x": [
          0,
          1
         ],
         "xaxis": "x2",
         "y": [
          0.08739076154806492,
          0.08739076154806492
         ],
         "yaxis": "y2"
        }
       ],
       "layout": {
        "annotations": [
         {
          "font": {
           "size": 16
          },
          "showarrow": false,
          "text": "ROC Curve (AUC = 0.938)",
          "x": 0.225,
          "xanchor": "center",
          "xref": "paper",
          "y": 1,
          "yanchor": "bottom",
          "yref": "paper"
         },
         {
          "font": {
           "size": 16
          },
          "showarrow": false,
          "text": "Precision-Recall Curve (AP = 0.679)",
          "x": 0.775,
          "xanchor": "center",
          "xref": "paper",
          "y": 1,
          "yanchor": "bottom",
          "yref": "paper"
         }
        ],
        "height": 500,
        "template": {
         "data": {
          "bar": [
           {
            "error_x": {
             "color": "#2a3f5f"
            },
            "error_y": {
             "color": "#2a3f5f"
            },
            "marker": {
             "line": {
              "color": "white",
              "width": 0.5
             },
             "pattern": {
              "fillmode": "overlay",
              "size": 10,
              "solidity": 0.2
             }
            },
            "type": "bar"
           }
          ],
          "barpolar": [
           {
            "marker": {
             "line": {
              "color": "white",
              "width": 0.5
             },
             "pattern": {
              "fillmode": "overlay",
              "size": 10,
              "solidity": 0.2
             }
            },
            "type": "barpolar"
           }
          ],
          "carpet": [
           {
            "aaxis": {
             "endlinecolor": "#2a3f5f",
             "gridcolor": "#C8D4E3",
             "linecolor": "#C8D4E3",
             "minorgridcolor": "#C8D4E3",
             "startlinecolor": "#2a3f5f"
            },
            "baxis": {
             "endlinecolor": "#2a3f5f",
             "gridcolor": "#C8D4E3",
             "linecolor": "#C8D4E3",
             "minorgridcolor": "#C8D4E3",
             "startlinecolor": "#2a3f5f"
            },
            "type": "carpet"
           }
          ],
          "choropleth": [
           {
            "colorbar": {
             "outlinewidth": 0,
             "ticks": ""
            },
            "type": "choropleth"
           }
          ],
          "contour": [
           {
            "colorbar": {
             "outlinewidth": 0,
             "ticks": ""
            },
            "colorscale": [
             [
              0,
              "#0d0887"
             ],
             [
              0.1111111111111111,
              "#46039f"
             ],
             [
              0.2222222222222222,
              "#7201a8"
             ],
             [
              0.3333333333333333,
              "#9c179e"
             ],
             [
              0.4444444444444444,
              "#bd3786"
             ],
             [
              0.5555555555555556,
              "#d8576b"
             ],
             [
              0.6666666666666666,
              "#ed7953"
             ],
             [
              0.7777777777777778,
              "#fb9f3a"
             ],
             [
              0.8888888888888888,
              "#fdca26"
             ],
             [
              1,
              "#f0f921"
             ]
            ],
            "type": "contour"
           }
          ],
          "contourcarpet": [
           {
            "colorbar": {
             "outlinewidth": 0,
             "ticks": ""
            },
            "type": "contourcarpet"
           }
          ],
          "heatmap": [
           {
            "colorbar": {
             "outlinewidth": 0,
             "ticks": ""
            },
            "colorscale": [
             [
              0,
              "#0d0887"
             ],
             [
              0.1111111111111111,
              "#46039f"
             ],
             [
              0.2222222222222222,
              "#7201a8"
             ],
             [
              0.3333333333333333,
              "#9c179e"
             ],
             [
              0.4444444444444444,
              "#bd3786"
             ],
             [
              0.5555555555555556,
              "#d8576b"
             ],
             [
              0.6666666666666666,
              "#ed7953"
             ],
             [
              0.7777777777777778,
              "#fb9f3a"
             ],
             [
              0.8888888888888888,
              "#fdca26"
             ],
             [
              1,
              "#f0f921"
             ]
            ],
            "type": "heatmap"
           }
          ],
          "histogram": [
           {
            "marker": {
             "pattern": {
              "fillmode": "overlay",
              "size": 10,
              "solidity": 0.2
             }
            },
            "type": "histogram"
           }
          ],
          "histogram2d": [
           {
            "colorbar": {
             "outlinewidth": 0,
             "ticks": ""
            },
            "colorscale": [
             [
              0,
              "#0d0887"
             ],
             [
              0.1111111111111111,
              "#46039f"
             ],
             [
              0.2222222222222222,
              "#7201a8"
             ],
             [
              0.3333333333333333,
              "#9c179e"
             ],
             [
              0.4444444444444444,
              "#bd3786"
             ],
             [
              0.5555555555555556,
              "#d8576b"
             ],
             [
              0.6666666666666666,
              "#ed7953"
             ],
             [
              0.7777777777777778,
              "#fb9f3a"
             ],
             [
              0.8888888888888888,
              "#fdca26"
             ],
             [
              1,
              "#f0f921"
             ]
            ],
            "type": "histogram2d"
           }
          ],
          "histogram2dcontour": [
           {
            "colorbar": {
             "outlinewidth": 0,
             "ticks": ""
            },
            "colorscale": [
             [
              0,
              "#0d0887"
             ],
             [
              0.1111111111111111,
              "#46039f"
             ],
             [
              0.2222222222222222,
              "#7201a8"
             ],
             [
              0.3333333333333333,
              "#9c179e"
             ],
             [
              0.4444444444444444,
              "#bd3786"
             ],
             [
              0.5555555555555556,
              "#d8576b"
             ],
             [
              0.6666666666666666,
              "#ed7953"
             ],
             [
              0.7777777777777778,
              "#fb9f3a"
             ],
             [
              0.8888888888888888,
              "#fdca26"
             ],
             [
              1,
              "#f0f921"
             ]
            ],
            "type": "histogram2dcontour"
           }
          ],
          "mesh3d": [
           {
            "colorbar": {
             "outlinewidth": 0,
             "ticks": ""
            },
            "type": "mesh3d"
           }
          ],
          "parcoords": [
           {
            "line": {
             "colorbar": {
              "outlinewidth": 0,
              "ticks": ""
             }
            },
            "type": "parcoords"
           }
          ],
          "pie": [
           {
            "automargin": true,
            "type": "pie"
           }
          ],
          "scatter": [
           {
            "fillpattern": {
             "fillmode": "overlay",
             "size": 10,
             "solidity": 0.2
            },
            "type": "scatter"
           }
          ],
          "scatter3d": [
           {
            "line": {
             "colorbar": {
              "outlinewidth": 0,
              "ticks": ""
             }
            },
            "marker": {
             "colorbar": {
              "outlinewidth": 0,
              "ticks": ""
             }
            },
            "type": "scatter3d"
           }
          ],
          "scattercarpet": [
           {
            "marker": {
             "colorbar": {
              "outlinewidth": 0,
              "ticks": ""
             }
            },
            "type": "scattercarpet"
           }
          ],
          "scattergeo": [
           {
            "marker": {
             "colorbar": {
              "outlinewidth": 0,
              "ticks": ""
             }
            },
            "type": "scattergeo"
           }
          ],
          "scattergl": [
           {
            "marker": {
             "colorbar": {
              "outlinewidth": 0,
              "ticks": ""
             }
            },
            "type": "scattergl"
           }
          ],
          "scattermap": [
           {
            "marker": {
             "colorbar": {
              "outlinewidth": 0,
              "ticks": ""
             }
            },
            "type": "scattermap"
           }
          ],
          "scattermapbox": [
           {
            "marker": {
             "colorbar": {
              "outlinewidth": 0,
              "ticks": ""
             }
            },
            "type": "scattermapbox"
           }
          ],
          "scatterpolar": [
           {
            "marker": {
             "colorbar": {
              "outlinewidth": 0,
              "ticks": ""
             }
            },
            "type": "scatterpolar"
           }
          ],
          "scatterpolargl": [
           {
            "marker": {
             "colorbar": {
              "outlinewidth": 0,
              "ticks": ""
             }
            },
            "type": "scatterpolargl"
           }
          ],
          "scatterternary": [
           {
            "marker": {
             "colorbar": {
              "outlinewidth": 0,
              "ticks": ""
             }
            },
            "type": "scatterternary"
           }
          ],
          "surface": [
           {
            "colorbar": {
             "outlinewidth": 0,
             "ticks": ""
            },
            "colorscale": [
             [
              0,
              "#0d0887"
             ],
             [
              0.1111111111111111,
              "#46039f"
             ],
             [
              0.2222222222222222,
              "#7201a8"
             ],
             [
              0.3333333333333333,
              "#9c179e"
             ],
             [
              0.4444444444444444,
              "#bd3786"
             ],
             [
              0.5555555555555556,
              "#d8576b"
             ],
             [
              0.6666666666666666,
              "#ed7953"
             ],
             [
              0.7777777777777778,
              "#fb9f3a"
             ],
             [
              0.8888888888888888,
              "#fdca26"
             ],
             [
              1,
              "#f0f921"
             ]
            ],
            "type": "surface"
           }
          ],
          "table": [
           {
            "cells": {
             "fill": {
              "color": "#EBF0F8"
             },
             "line": {
              "color": "white"
             }
            },
            "header": {
             "fill": {
              "color": "#C8D4E3"
             },
             "line": {
              "color": "white"
             }
            },
            "type": "table"
           }
          ]
         },
         "layout": {
          "annotationdefaults": {
           "arrowcolor": "#2a3f5f",
           "arrowhead": 0,
           "arrowwidth": 1
          },
          "autotypenumbers": "strict",
          "coloraxis": {
           "colorbar": {
            "outlinewidth": 0,
            "ticks": ""
           }
          },
          "colorscale": {
           "diverging": [
            [
             0,
             "#8e0152"
            ],
            [
             0.1,
             "#c51b7d"
            ],
            [
             0.2,
             "#de77ae"
            ],
            [
             0.3,
             "#f1b6da"
            ],
            [
             0.4,
             "#fde0ef"
            ],
            [
             0.5,
             "#f7f7f7"
            ],
            [
             0.6,
             "#e6f5d0"
            ],
            [
             0.7,
             "#b8e186"
            ],
            [
             0.8,
             "#7fbc41"
            ],
            [
             0.9,
             "#4d9221"
            ],
            [
             1,
             "#276419"
            ]
           ],
           "sequential": [
            [
             0,
             "#0d0887"
            ],
            [
             0.1111111111111111,
             "#46039f"
            ],
            [
             0.2222222222222222,
             "#7201a8"
            ],
            [
             0.3333333333333333,
             "#9c179e"
            ],
            [
             0.4444444444444444,
             "#bd3786"
            ],
            [
             0.5555555555555556,
             "#d8576b"
            ],
            [
             0.6666666666666666,
             "#ed7953"
            ],
            [
             0.7777777777777778,
             "#fb9f3a"
            ],
            [
             0.8888888888888888,
             "#fdca26"
            ],
            [
             1,
             "#f0f921"
            ]
           ],
           "sequentialminus": [
            [
             0,
             "#0d0887"
            ],
            [
             0.1111111111111111,
             "#46039f"
            ],
            [
             0.2222222222222222,
             "#7201a8"
            ],
            [
             0.3333333333333333,
             "#9c179e"
            ],
            [
             0.4444444444444444,
             "#bd3786"
            ],
            [
             0.5555555555555556,
             "#d8576b"
            ],
            [
             0.6666666666666666,
             "#ed7953"
            ],
            [
             0.7777777777777778,
             "#fb9f3a"
            ],
            [
             0.8888888888888888,
             "#fdca26"
            ],
            [
             1,
             "#f0f921"
            ]
           ]
          },
          "colorway": [
           "#636efa",
           "#EF553B",
           "#00cc96",
           "#ab63fa",
           "#FFA15A",
           "#19d3f3",
           "#FF6692",
           "#B6E880",
           "#FF97FF",
           "#FECB52"
          ],
          "font": {
           "color": "#2a3f5f"
          },
          "geo": {
           "bgcolor": "white",
           "lakecolor": "white",
           "landcolor": "white",
           "showlakes": true,
           "showland": true,
           "subunitcolor": "#C8D4E3"
          },
          "hoverlabel": {
           "align": "left"
          },
          "hovermode": "closest",
          "mapbox": {
           "style": "light"
          },
          "paper_bgcolor": "white",
          "plot_bgcolor": "white",
          "polar": {
           "angularaxis": {
            "gridcolor": "#EBF0F8",
            "linecolor": "#EBF0F8",
            "ticks": ""
           },
           "bgcolor": "white",
           "radialaxis": {
            "gridcolor": "#EBF0F8",
            "linecolor": "#EBF0F8",
            "ticks": ""
           }
          },
          "scene": {
           "xaxis": {
            "backgroundcolor": "white",
            "gridcolor": "#DFE8F3",
            "gridwidth": 2,
            "linecolor": "#EBF0F8",
            "showbackground": true,
            "ticks": "",
            "zerolinecolor": "#EBF0F8"
           },
           "yaxis": {
            "backgroundcolor": "white",
            "gridcolor": "#DFE8F3",
            "gridwidth": 2,
            "linecolor": "#EBF0F8",
            "showbackground": true,
            "ticks": "",
            "zerolinecolor": "#EBF0F8"
           },
           "zaxis": {
            "backgroundcolor": "white",
            "gridcolor": "#DFE8F3",
            "gridwidth": 2,
            "linecolor": "#EBF0F8",
            "showbackground": true,
            "ticks": "",
            "zerolinecolor": "#EBF0F8"
           }
          },
          "shapedefaults": {
           "line": {
            "color": "#2a3f5f"
           }
          },
          "ternary": {
           "aaxis": {
            "gridcolor": "#DFE8F3",
            "linecolor": "#A2B1C6",
            "ticks": ""
           },
           "baxis": {
            "gridcolor": "#DFE8F3",
            "linecolor": "#A2B1C6",
            "ticks": ""
           },
           "bgcolor": "white",
           "caxis": {
            "gridcolor": "#DFE8F3",
            "linecolor": "#A2B1C6",
            "ticks": ""
           }
          },
          "title": {
           "x": 0.05
          },
          "xaxis": {
           "automargin": true,
           "gridcolor": "#EBF0F8",
           "linecolor": "#EBF0F8",
           "ticks": "",
           "title": {
            "standoff": 15
           },
           "zerolinecolor": "#EBF0F8",
           "zerolinewidth": 2
          },
          "yaxis": {
           "automargin": true,
           "gridcolor": "#EBF0F8",
           "linecolor": "#EBF0F8",
           "ticks": "",
           "title": {
            "standoff": 15
           },
           "zerolinecolor": "#EBF0F8",
           "zerolinewidth": 2
          }
         }
        },
        "title": {
         "text": "Legendary Classification Performance Curves"
        },
        "width": 1200,
        "xaxis": {
         "anchor": "y",
         "domain": [
          0,
          0.45
         ],
         "title": {
          "text": "False Positive Rate"
         }
        },
        "xaxis2": {
         "anchor": "y2",
         "domain": [
          0.55,
          1
         ],
         "title": {
          "text": "Recall"
         }
        },
        "yaxis": {
         "anchor": "x",
         "domain": [
          0,
          1
         ],
         "title": {
          "text": "True Positive Rate"
         }
        },
        "yaxis2": {
         "anchor": "x2",
         "domain": [
          0,
          1
         ],
         "title": {
          "text": "Precision"
         }
        }
       }
      }
     },
     "metadata": {},
     "output_type": "display_data"
    }
   ],
   "source": [
    "# Visualize ROC curve and Precision-Recall curve\n",
    "if 'is_legendary' in pokemon_clean.columns:\n",
    "    # Calculate ROC curve and AUC\n",
    "    fpr, tpr, _ = roc_curve(y_legendary, y_prob)\n",
    "    roc_auc = auc(fpr, tpr)\n",
    "    \n",
    "    # Calculate precision-recall curve and average precision\n",
    "    precision, recall, _ = precision_recall_curve(y_legendary, y_prob)\n",
    "    avg_precision = average_precision_score(y_legendary, y_prob)\n",
    "    \n",
    "    # Create subplots for ROC and Precision-Recall curves\n",
    "    fig = make_subplots(rows=1, cols=2, subplot_titles=(f'ROC Curve (AUC = {roc_auc:.3f})', f'Precision-Recall Curve (AP = {avg_precision:.3f})'))\n",
    "    \n",
    "    # Add ROC curve\n",
    "    fig.add_trace(\n",
    "        go.Scatter(x=fpr, y=tpr, mode='lines', name='ROC Curve', line=dict(color='royalblue', width=3)),\n",
    "        row=1, col=1\n",
    "    )\n",
    "    fig.add_trace(\n",
    "        go.Scatter(x=[0, 1], y=[0, 1], mode='lines', name='Chance', line=dict(color='gray', width=2, dash='dash')),\n",
    "        row=1, col=1\n",
    "    )\n",
    "    \n",
    "    # Add Precision-Recall curve\n",
    "    fig.add_trace(\n",
    "        go.Scatter(x=recall, y=precision, mode='lines', name='Precision-Recall', line=dict(color='forestgreen', width=3)),\n",
    "        row=1, col=2\n",
    "    )\n",
    "    fig.add_trace(\n",
    "        go.Scatter(x=[0, 1], y=[sum(y_legendary)/len(y_legendary), sum(y_legendary)/len(y_legendary)], \n",
    "                  mode='lines', name='Chance', line=dict(color='gray', width=2, dash='dash')),\n",
    "        row=1, col=2\n",
    "    )\n",
    "    \n",
    "    # Update layout\n",
    "    fig.update_xaxes(title_text='False Positive Rate', row=1, col=1)\n",
    "    fig.update_yaxes(title_text='True Positive Rate', row=1, col=1)\n",
    "    fig.update_xaxes(title_text='Recall', row=1, col=2)\n",
    "    fig.update_yaxes(title_text='Precision', row=1, col=2)\n",
    "    fig.update_layout(\n",
    "        title='Legendary Classification Performance Curves',\n",
    "        width=1200,\n",
    "        height=500,\n",
    "        template='plotly_white'\n",
    "    )\n",
    "    fig.show()"
   ]
  },
  {
   "cell_type": "code",
   "execution_count": 202,
   "id": "e5757529",
   "metadata": {},
   "outputs": [
    {
     "name": "stdout",
     "output_type": "stream",
     "text": [
      "LDA Coefficients for Legendary Classification:\n",
      "                 LD1\n",
      "sp_attack   0.447306\n",
      "base_total  0.319495\n",
      "hp          0.225054\n",
      "speed       0.224878\n",
      "sp_defense  0.151536\n",
      "attack      0.074092\n",
      "defense     0.033060\n"
     ]
    },
    {
     "data": {
      "application/vnd.plotly.v1+json": {
       "config": {
        "plotlyServerURL": "https://plot.ly"
       },
       "data": [
        {
         "hovertemplate": "LDA Coefficient=%{marker.color}<br>Battle Stats=%{y}<br>text=%{text}<extra></extra>",
         "legendgroup": "",
         "marker": {
          "color": {
           "bdata": "9AY6GTLtoD9D4kNLqveyPwypDAGEZcM/zHZIYMnIzD+QC6vilc7MP8HuZ9GactQ/WFqf9Keg3D8=",
           "dtype": "f8"
          },
          "coloraxis": "coloraxis",
          "pattern": {
           "shape": ""
          }
         },
         "name": "",
         "orientation": "h",
         "showlegend": false,
         "text": {
          "bdata": "TDeJQWDloD+LbOf7qfGyP9v5fmq8dMM/zczMzMzMzD/NzMzMzMzMP9Ei2/l+atQ/z/dT46Wb3D8=",
          "dtype": "f8"
         },
         "textposition": "auto",
         "type": "bar",
         "x": {
          "bdata": "9AY6GTLtoD9D4kNLqveyPwypDAGEZcM/zHZIYMnIzD+QC6vilc7MP8HuZ9GactQ/WFqf9Keg3D8=",
          "dtype": "f8"
         },
         "xaxis": "x",
         "y": [
          "defense",
          "attack",
          "sp_defense",
          "speed",
          "hp",
          "base_total",
          "sp_attack"
         ],
         "yaxis": "y"
        }
       ],
       "layout": {
        "barmode": "relative",
        "coloraxis": {
         "colorbar": {
          "title": {
           "text": "LDA Coefficient"
          }
         },
         "colorscale": [
          [
           0,
           "rgb(103,0,31)"
          ],
          [
           0.1,
           "rgb(178,24,43)"
          ],
          [
           0.2,
           "rgb(214,96,77)"
          ],
          [
           0.3,
           "rgb(244,165,130)"
          ],
          [
           0.4,
           "rgb(253,219,199)"
          ],
          [
           0.5,
           "rgb(247,247,247)"
          ],
          [
           0.6,
           "rgb(209,229,240)"
          ],
          [
           0.7,
           "rgb(146,197,222)"
          ],
          [
           0.8,
           "rgb(67,147,195)"
          ],
          [
           0.9,
           "rgb(33,102,172)"
          ],
          [
           1,
           "rgb(5,48,97)"
          ]
         ]
        },
        "height": 500,
        "legend": {
         "tracegroupgap": 0
        },
        "template": {
         "data": {
          "bar": [
           {
            "error_x": {
             "color": "#2a3f5f"
            },
            "error_y": {
             "color": "#2a3f5f"
            },
            "marker": {
             "line": {
              "color": "white",
              "width": 0.5
             },
             "pattern": {
              "fillmode": "overlay",
              "size": 10,
              "solidity": 0.2
             }
            },
            "type": "bar"
           }
          ],
          "barpolar": [
           {
            "marker": {
             "line": {
              "color": "white",
              "width": 0.5
             },
             "pattern": {
              "fillmode": "overlay",
              "size": 10,
              "solidity": 0.2
             }
            },
            "type": "barpolar"
           }
          ],
          "carpet": [
           {
            "aaxis": {
             "endlinecolor": "#2a3f5f",
             "gridcolor": "#C8D4E3",
             "linecolor": "#C8D4E3",
             "minorgridcolor": "#C8D4E3",
             "startlinecolor": "#2a3f5f"
            },
            "baxis": {
             "endlinecolor": "#2a3f5f",
             "gridcolor": "#C8D4E3",
             "linecolor": "#C8D4E3",
             "minorgridcolor": "#C8D4E3",
             "startlinecolor": "#2a3f5f"
            },
            "type": "carpet"
           }
          ],
          "choropleth": [
           {
            "colorbar": {
             "outlinewidth": 0,
             "ticks": ""
            },
            "type": "choropleth"
           }
          ],
          "contour": [
           {
            "colorbar": {
             "outlinewidth": 0,
             "ticks": ""
            },
            "colorscale": [
             [
              0,
              "#0d0887"
             ],
             [
              0.1111111111111111,
              "#46039f"
             ],
             [
              0.2222222222222222,
              "#7201a8"
             ],
             [
              0.3333333333333333,
              "#9c179e"
             ],
             [
              0.4444444444444444,
              "#bd3786"
             ],
             [
              0.5555555555555556,
              "#d8576b"
             ],
             [
              0.6666666666666666,
              "#ed7953"
             ],
             [
              0.7777777777777778,
              "#fb9f3a"
             ],
             [
              0.8888888888888888,
              "#fdca26"
             ],
             [
              1,
              "#f0f921"
             ]
            ],
            "type": "contour"
           }
          ],
          "contourcarpet": [
           {
            "colorbar": {
             "outlinewidth": 0,
             "ticks": ""
            },
            "type": "contourcarpet"
           }
          ],
          "heatmap": [
           {
            "colorbar": {
             "outlinewidth": 0,
             "ticks": ""
            },
            "colorscale": [
             [
              0,
              "#0d0887"
             ],
             [
              0.1111111111111111,
              "#46039f"
             ],
             [
              0.2222222222222222,
              "#7201a8"
             ],
             [
              0.3333333333333333,
              "#9c179e"
             ],
             [
              0.4444444444444444,
              "#bd3786"
             ],
             [
              0.5555555555555556,
              "#d8576b"
             ],
             [
              0.6666666666666666,
              "#ed7953"
             ],
             [
              0.7777777777777778,
              "#fb9f3a"
             ],
             [
              0.8888888888888888,
              "#fdca26"
             ],
             [
              1,
              "#f0f921"
             ]
            ],
            "type": "heatmap"
           }
          ],
          "histogram": [
           {
            "marker": {
             "pattern": {
              "fillmode": "overlay",
              "size": 10,
              "solidity": 0.2
             }
            },
            "type": "histogram"
           }
          ],
          "histogram2d": [
           {
            "colorbar": {
             "outlinewidth": 0,
             "ticks": ""
            },
            "colorscale": [
             [
              0,
              "#0d0887"
             ],
             [
              0.1111111111111111,
              "#46039f"
             ],
             [
              0.2222222222222222,
              "#7201a8"
             ],
             [
              0.3333333333333333,
              "#9c179e"
             ],
             [
              0.4444444444444444,
              "#bd3786"
             ],
             [
              0.5555555555555556,
              "#d8576b"
             ],
             [
              0.6666666666666666,
              "#ed7953"
             ],
             [
              0.7777777777777778,
              "#fb9f3a"
             ],
             [
              0.8888888888888888,
              "#fdca26"
             ],
             [
              1,
              "#f0f921"
             ]
            ],
            "type": "histogram2d"
           }
          ],
          "histogram2dcontour": [
           {
            "colorbar": {
             "outlinewidth": 0,
             "ticks": ""
            },
            "colorscale": [
             [
              0,
              "#0d0887"
             ],
             [
              0.1111111111111111,
              "#46039f"
             ],
             [
              0.2222222222222222,
              "#7201a8"
             ],
             [
              0.3333333333333333,
              "#9c179e"
             ],
             [
              0.4444444444444444,
              "#bd3786"
             ],
             [
              0.5555555555555556,
              "#d8576b"
             ],
             [
              0.6666666666666666,
              "#ed7953"
             ],
             [
              0.7777777777777778,
              "#fb9f3a"
             ],
             [
              0.8888888888888888,
              "#fdca26"
             ],
             [
              1,
              "#f0f921"
             ]
            ],
            "type": "histogram2dcontour"
           }
          ],
          "mesh3d": [
           {
            "colorbar": {
             "outlinewidth": 0,
             "ticks": ""
            },
            "type": "mesh3d"
           }
          ],
          "parcoords": [
           {
            "line": {
             "colorbar": {
              "outlinewidth": 0,
              "ticks": ""
             }
            },
            "type": "parcoords"
           }
          ],
          "pie": [
           {
            "automargin": true,
            "type": "pie"
           }
          ],
          "scatter": [
           {
            "fillpattern": {
             "fillmode": "overlay",
             "size": 10,
             "solidity": 0.2
            },
            "type": "scatter"
           }
          ],
          "scatter3d": [
           {
            "line": {
             "colorbar": {
              "outlinewidth": 0,
              "ticks": ""
             }
            },
            "marker": {
             "colorbar": {
              "outlinewidth": 0,
              "ticks": ""
             }
            },
            "type": "scatter3d"
           }
          ],
          "scattercarpet": [
           {
            "marker": {
             "colorbar": {
              "outlinewidth": 0,
              "ticks": ""
             }
            },
            "type": "scattercarpet"
           }
          ],
          "scattergeo": [
           {
            "marker": {
             "colorbar": {
              "outlinewidth": 0,
              "ticks": ""
             }
            },
            "type": "scattergeo"
           }
          ],
          "scattergl": [
           {
            "marker": {
             "colorbar": {
              "outlinewidth": 0,
              "ticks": ""
             }
            },
            "type": "scattergl"
           }
          ],
          "scattermap": [
           {
            "marker": {
             "colorbar": {
              "outlinewidth": 0,
              "ticks": ""
             }
            },
            "type": "scattermap"
           }
          ],
          "scattermapbox": [
           {
            "marker": {
             "colorbar": {
              "outlinewidth": 0,
              "ticks": ""
             }
            },
            "type": "scattermapbox"
           }
          ],
          "scatterpolar": [
           {
            "marker": {
             "colorbar": {
              "outlinewidth": 0,
              "ticks": ""
             }
            },
            "type": "scatterpolar"
           }
          ],
          "scatterpolargl": [
           {
            "marker": {
             "colorbar": {
              "outlinewidth": 0,
              "ticks": ""
             }
            },
            "type": "scatterpolargl"
           }
          ],
          "scatterternary": [
           {
            "marker": {
             "colorbar": {
              "outlinewidth": 0,
              "ticks": ""
             }
            },
            "type": "scatterternary"
           }
          ],
          "surface": [
           {
            "colorbar": {
             "outlinewidth": 0,
             "ticks": ""
            },
            "colorscale": [
             [
              0,
              "#0d0887"
             ],
             [
              0.1111111111111111,
              "#46039f"
             ],
             [
              0.2222222222222222,
              "#7201a8"
             ],
             [
              0.3333333333333333,
              "#9c179e"
             ],
             [
              0.4444444444444444,
              "#bd3786"
             ],
             [
              0.5555555555555556,
              "#d8576b"
             ],
             [
              0.6666666666666666,
              "#ed7953"
             ],
             [
              0.7777777777777778,
              "#fb9f3a"
             ],
             [
              0.8888888888888888,
              "#fdca26"
             ],
             [
              1,
              "#f0f921"
             ]
            ],
            "type": "surface"
           }
          ],
          "table": [
           {
            "cells": {
             "fill": {
              "color": "#EBF0F8"
             },
             "line": {
              "color": "white"
             }
            },
            "header": {
             "fill": {
              "color": "#C8D4E3"
             },
             "line": {
              "color": "white"
             }
            },
            "type": "table"
           }
          ]
         },
         "layout": {
          "annotationdefaults": {
           "arrowcolor": "#2a3f5f",
           "arrowhead": 0,
           "arrowwidth": 1
          },
          "autotypenumbers": "strict",
          "coloraxis": {
           "colorbar": {
            "outlinewidth": 0,
            "ticks": ""
           }
          },
          "colorscale": {
           "diverging": [
            [
             0,
             "#8e0152"
            ],
            [
             0.1,
             "#c51b7d"
            ],
            [
             0.2,
             "#de77ae"
            ],
            [
             0.3,
             "#f1b6da"
            ],
            [
             0.4,
             "#fde0ef"
            ],
            [
             0.5,
             "#f7f7f7"
            ],
            [
             0.6,
             "#e6f5d0"
            ],
            [
             0.7,
             "#b8e186"
            ],
            [
             0.8,
             "#7fbc41"
            ],
            [
             0.9,
             "#4d9221"
            ],
            [
             1,
             "#276419"
            ]
           ],
           "sequential": [
            [
             0,
             "#0d0887"
            ],
            [
             0.1111111111111111,
             "#46039f"
            ],
            [
             0.2222222222222222,
             "#7201a8"
            ],
            [
             0.3333333333333333,
             "#9c179e"
            ],
            [
             0.4444444444444444,
             "#bd3786"
            ],
            [
             0.5555555555555556,
             "#d8576b"
            ],
            [
             0.6666666666666666,
             "#ed7953"
            ],
            [
             0.7777777777777778,
             "#fb9f3a"
            ],
            [
             0.8888888888888888,
             "#fdca26"
            ],
            [
             1,
             "#f0f921"
            ]
           ],
           "sequentialminus": [
            [
             0,
             "#0d0887"
            ],
            [
             0.1111111111111111,
             "#46039f"
            ],
            [
             0.2222222222222222,
             "#7201a8"
            ],
            [
             0.3333333333333333,
             "#9c179e"
            ],
            [
             0.4444444444444444,
             "#bd3786"
            ],
            [
             0.5555555555555556,
             "#d8576b"
            ],
            [
             0.6666666666666666,
             "#ed7953"
            ],
            [
             0.7777777777777778,
             "#fb9f3a"
            ],
            [
             0.8888888888888888,
             "#fdca26"
            ],
            [
             1,
             "#f0f921"
            ]
           ]
          },
          "colorway": [
           "#636efa",
           "#EF553B",
           "#00cc96",
           "#ab63fa",
           "#FFA15A",
           "#19d3f3",
           "#FF6692",
           "#B6E880",
           "#FF97FF",
           "#FECB52"
          ],
          "font": {
           "color": "#2a3f5f"
          },
          "geo": {
           "bgcolor": "white",
           "lakecolor": "white",
           "landcolor": "white",
           "showlakes": true,
           "showland": true,
           "subunitcolor": "#C8D4E3"
          },
          "hoverlabel": {
           "align": "left"
          },
          "hovermode": "closest",
          "mapbox": {
           "style": "light"
          },
          "paper_bgcolor": "white",
          "plot_bgcolor": "white",
          "polar": {
           "angularaxis": {
            "gridcolor": "#EBF0F8",
            "linecolor": "#EBF0F8",
            "ticks": ""
           },
           "bgcolor": "white",
           "radialaxis": {
            "gridcolor": "#EBF0F8",
            "linecolor": "#EBF0F8",
            "ticks": ""
           }
          },
          "scene": {
           "xaxis": {
            "backgroundcolor": "white",
            "gridcolor": "#DFE8F3",
            "gridwidth": 2,
            "linecolor": "#EBF0F8",
            "showbackground": true,
            "ticks": "",
            "zerolinecolor": "#EBF0F8"
           },
           "yaxis": {
            "backgroundcolor": "white",
            "gridcolor": "#DFE8F3",
            "gridwidth": 2,
            "linecolor": "#EBF0F8",
            "showbackground": true,
            "ticks": "",
            "zerolinecolor": "#EBF0F8"
           },
           "zaxis": {
            "backgroundcolor": "white",
            "gridcolor": "#DFE8F3",
            "gridwidth": 2,
            "linecolor": "#EBF0F8",
            "showbackground": true,
            "ticks": "",
            "zerolinecolor": "#EBF0F8"
           }
          },
          "shapedefaults": {
           "line": {
            "color": "#2a3f5f"
           }
          },
          "ternary": {
           "aaxis": {
            "gridcolor": "#DFE8F3",
            "linecolor": "#A2B1C6",
            "ticks": ""
           },
           "baxis": {
            "gridcolor": "#DFE8F3",
            "linecolor": "#A2B1C6",
            "ticks": ""
           },
           "bgcolor": "white",
           "caxis": {
            "gridcolor": "#DFE8F3",
            "linecolor": "#A2B1C6",
            "ticks": ""
           }
          },
          "title": {
           "x": 0.05
          },
          "xaxis": {
           "automargin": true,
           "gridcolor": "#EBF0F8",
           "linecolor": "#EBF0F8",
           "ticks": "",
           "title": {
            "standoff": 15
           },
           "zerolinecolor": "#EBF0F8",
           "zerolinewidth": 2
          },
          "yaxis": {
           "automargin": true,
           "gridcolor": "#EBF0F8",
           "linecolor": "#EBF0F8",
           "ticks": "",
           "title": {
            "standoff": 15
           },
           "zerolinecolor": "#EBF0F8",
           "zerolinewidth": 2
          }
         }
        },
        "title": {
         "text": "Feature Importance for Legendary Classification"
        },
        "width": 800,
        "xaxis": {
         "anchor": "y",
         "domain": [
          0,
          1
         ],
         "title": {
          "text": "LDA Coefficient"
         },
         "zeroline": true,
         "zerolinecolor": "black",
         "zerolinewidth": 1
        },
        "yaxis": {
         "anchor": "x",
         "domain": [
          0,
          1
         ],
         "title": {
          "text": "Battle Stats"
         }
        }
       }
      }
     },
     "metadata": {},
     "output_type": "display_data"
    },
    {
     "name": "stdout",
     "output_type": "stream",
     "text": [
      "\n",
      "Most influential features for legendary classification:\n",
      "  - sp_attack: 0.447 (higher values favor legendary)\n",
      "  - base_total: 0.319 (higher values favor legendary)\n",
      "  - hp: 0.225 (higher values favor legendary)\n",
      "  - speed: 0.225 (higher values favor legendary)\n",
      "  - sp_defense: 0.152 (higher values favor legendary)\n",
      "  - attack: 0.074 (higher values favor legendary)\n",
      "  - defense: 0.033 (higher values favor legendary)\n"
     ]
    }
   ],
   "source": [
    "# Analyze LDA coefficients for legendary classification with enhanced visualization\n",
    "if 'is_legendary' in pokemon_clean.columns:\n",
    "    # Get LDA coefficients\n",
    "    lda_coeffs_legendary = pd.DataFrame(\n",
    "        lda_legendary.scalings_[:, :n_components_legendary],\n",
    "        index=battle_stats,\n",
    "        columns=['LD1']\n",
    "    )\n",
    "    \n",
    "    print(\"LDA Coefficients for Legendary Classification:\")\n",
    "    print(lda_coeffs_legendary.sort_values('LD1', key=abs, ascending=False))\n",
    "    \n",
    "    # Create a more visually appealing coefficient plot with plotly\n",
    "    coeffs_sorted = lda_coeffs_legendary.sort_values('LD1', key=abs, ascending=True)\n",
    "    \n",
    "    # Assign colors based on positive/negative values\n",
    "    colors = ['red' if val < 0 else 'green' for val in coeffs_sorted['LD1']]\n",
    "    \n",
    "    # Create horizontal bar plot\n",
    "    fig = px.bar(\n",
    "        coeffs_sorted.reset_index(), \n",
    "        y='index',\n",
    "        x='LD1',\n",
    "        orientation='h',\n",
    "        title='Feature Importance for Legendary Classification',\n",
    "        labels={'index': 'Battle Stats', 'LD1': 'LDA Coefficient'},\n",
    "        color='LD1',\n",
    "        color_continuous_scale='RdBu',\n",
    "        text=np.round(coeffs_sorted['LD1'].values, 3),\n",
    "        template='plotly_white'\n",
    "    )\n",
    "    fig.update_layout(\n",
    "        height=500,\n",
    "        width=800,\n",
    "        xaxis=dict(zeroline=True, zerolinecolor='black', zerolinewidth=1)\n",
    "    )\n",
    "    fig.show()\n",
    "    \n",
    "    # Print interpretation\n",
    "    abs_coeffs = lda_coeffs_legendary['LD1'].abs().sort_values(ascending=False)\n",
    "    print(\"\\nMost influential features for legendary classification:\")\n",
    "    for feat in abs_coeffs.index:\n",
    "        coeff = lda_coeffs_legendary.loc[feat, 'LD1']\n",
    "        direction = \"higher\" if coeff > 0 else \"lower\"\n",
    "        print(f\"  - {feat}: {coeff:.3f} ({direction} values favor legendary)\")"
   ]
  },
  {
   "cell_type": "code",
   "execution_count": 204,
   "id": "875babad",
   "metadata": {},
   "outputs": [
    {
     "name": "stdout",
     "output_type": "stream",
     "text": [
      "Non-legendary Pokémon with highest legendary scores:\n"
     ]
    },
    {
     "data": {
      "text/html": [
       "<div>\n",
       "<style scoped>\n",
       "    .dataframe tbody tr th:only-of-type {\n",
       "        vertical-align: middle;\n",
       "    }\n",
       "\n",
       "    .dataframe tbody tr th {\n",
       "        vertical-align: top;\n",
       "    }\n",
       "\n",
       "    .dataframe thead th {\n",
       "        text-align: right;\n",
       "    }\n",
       "</style>\n",
       "<table border=\"1\" class=\"dataframe\">\n",
       "  <thead>\n",
       "    <tr style=\"text-align: right;\">\n",
       "      <th></th>\n",
       "      <th>name</th>\n",
       "      <th>pred_proba</th>\n",
       "      <th>base_total</th>\n",
       "      <th>hp</th>\n",
       "      <th>attack</th>\n",
       "      <th>defense</th>\n",
       "      <th>sp_attack</th>\n",
       "      <th>sp_defense</th>\n",
       "      <th>speed</th>\n",
       "    </tr>\n",
       "  </thead>\n",
       "  <tbody>\n",
       "    <tr>\n",
       "      <th>64</th>\n",
       "      <td>Alakazam</td>\n",
       "      <td>0.738644</td>\n",
       "      <td>600</td>\n",
       "      <td>55</td>\n",
       "      <td>50</td>\n",
       "      <td>65</td>\n",
       "      <td>175</td>\n",
       "      <td>105</td>\n",
       "      <td>150</td>\n",
       "    </tr>\n",
       "    <tr>\n",
       "      <th>281</th>\n",
       "      <td>Gardevoir</td>\n",
       "      <td>0.687326</td>\n",
       "      <td>618</td>\n",
       "      <td>68</td>\n",
       "      <td>85</td>\n",
       "      <td>65</td>\n",
       "      <td>165</td>\n",
       "      <td>135</td>\n",
       "      <td>100</td>\n",
       "    </tr>\n",
       "    <tr>\n",
       "      <th>5</th>\n",
       "      <td>Charizard</td>\n",
       "      <td>0.684694</td>\n",
       "      <td>634</td>\n",
       "      <td>78</td>\n",
       "      <td>104</td>\n",
       "      <td>78</td>\n",
       "      <td>159</td>\n",
       "      <td>115</td>\n",
       "      <td>100</td>\n",
       "    </tr>\n",
       "    <tr>\n",
       "      <th>657</th>\n",
       "      <td>Greninja</td>\n",
       "      <td>0.673915</td>\n",
       "      <td>640</td>\n",
       "      <td>72</td>\n",
       "      <td>145</td>\n",
       "      <td>67</td>\n",
       "      <td>153</td>\n",
       "      <td>71</td>\n",
       "      <td>132</td>\n",
       "    </tr>\n",
       "    <tr>\n",
       "      <th>372</th>\n",
       "      <td>Salamence</td>\n",
       "      <td>0.663597</td>\n",
       "      <td>700</td>\n",
       "      <td>95</td>\n",
       "      <td>145</td>\n",
       "      <td>130</td>\n",
       "      <td>120</td>\n",
       "      <td>90</td>\n",
       "      <td>120</td>\n",
       "    </tr>\n",
       "    <tr>\n",
       "      <th>93</th>\n",
       "      <td>Gengar</td>\n",
       "      <td>0.660788</td>\n",
       "      <td>600</td>\n",
       "      <td>60</td>\n",
       "      <td>65</td>\n",
       "      <td>80</td>\n",
       "      <td>170</td>\n",
       "      <td>95</td>\n",
       "      <td>130</td>\n",
       "    </tr>\n",
       "    <tr>\n",
       "      <th>253</th>\n",
       "      <td>Sceptile</td>\n",
       "      <td>0.651857</td>\n",
       "      <td>630</td>\n",
       "      <td>70</td>\n",
       "      <td>110</td>\n",
       "      <td>75</td>\n",
       "      <td>145</td>\n",
       "      <td>85</td>\n",
       "      <td>145</td>\n",
       "    </tr>\n",
       "    <tr>\n",
       "      <th>444</th>\n",
       "      <td>Garchomp</td>\n",
       "      <td>0.645895</td>\n",
       "      <td>700</td>\n",
       "      <td>108</td>\n",
       "      <td>170</td>\n",
       "      <td>115</td>\n",
       "      <td>120</td>\n",
       "      <td>95</td>\n",
       "      <td>92</td>\n",
       "    </tr>\n",
       "    <tr>\n",
       "      <th>288</th>\n",
       "      <td>Slaking</td>\n",
       "      <td>0.545067</td>\n",
       "      <td>670</td>\n",
       "      <td>150</td>\n",
       "      <td>160</td>\n",
       "      <td>100</td>\n",
       "      <td>95</td>\n",
       "      <td>65</td>\n",
       "      <td>100</td>\n",
       "    </tr>\n",
       "    <tr>\n",
       "      <th>180</th>\n",
       "      <td>Ampharos</td>\n",
       "      <td>0.530475</td>\n",
       "      <td>610</td>\n",
       "      <td>90</td>\n",
       "      <td>95</td>\n",
       "      <td>105</td>\n",
       "      <td>165</td>\n",
       "      <td>110</td>\n",
       "      <td>45</td>\n",
       "    </tr>\n",
       "  </tbody>\n",
       "</table>\n",
       "</div>"
      ],
      "text/plain": [
       "          name  pred_proba  base_total   hp  attack  defense  sp_attack  \\\n",
       "64    Alakazam    0.738644         600   55      50       65        175   \n",
       "281  Gardevoir    0.687326         618   68      85       65        165   \n",
       "5    Charizard    0.684694         634   78     104       78        159   \n",
       "657   Greninja    0.673915         640   72     145       67        153   \n",
       "372  Salamence    0.663597         700   95     145      130        120   \n",
       "93      Gengar    0.660788         600   60      65       80        170   \n",
       "253   Sceptile    0.651857         630   70     110       75        145   \n",
       "444   Garchomp    0.645895         700  108     170      115        120   \n",
       "288    Slaking    0.545067         670  150     160      100         95   \n",
       "180   Ampharos    0.530475         610   90      95      105        165   \n",
       "\n",
       "     sp_defense  speed  \n",
       "64          105    150  \n",
       "281         135    100  \n",
       "5           115    100  \n",
       "657          71    132  \n",
       "372          90    120  \n",
       "93           95    130  \n",
       "253          85    145  \n",
       "444          95     92  \n",
       "288          65    100  \n",
       "180         110     45  "
      ]
     },
     "metadata": {},
     "output_type": "display_data"
    },
    {
     "name": "stdout",
     "output_type": "stream",
     "text": [
      "\n",
      "Legendary Pokémon with lowest legendary scores:\n"
     ]
    },
    {
     "data": {
      "text/html": [
       "<div>\n",
       "<style scoped>\n",
       "    .dataframe tbody tr th:only-of-type {\n",
       "        vertical-align: middle;\n",
       "    }\n",
       "\n",
       "    .dataframe tbody tr th {\n",
       "        vertical-align: top;\n",
       "    }\n",
       "\n",
       "    .dataframe thead th {\n",
       "        text-align: right;\n",
       "    }\n",
       "</style>\n",
       "<table border=\"1\" class=\"dataframe\">\n",
       "  <thead>\n",
       "    <tr style=\"text-align: right;\">\n",
       "      <th></th>\n",
       "      <th>name</th>\n",
       "      <th>pred_proba</th>\n",
       "      <th>base_total</th>\n",
       "      <th>hp</th>\n",
       "      <th>attack</th>\n",
       "      <th>defense</th>\n",
       "      <th>sp_attack</th>\n",
       "      <th>sp_defense</th>\n",
       "      <th>speed</th>\n",
       "    </tr>\n",
       "  </thead>\n",
       "  <tbody>\n",
       "    <tr>\n",
       "      <th>788</th>\n",
       "      <td>Cosmog</td>\n",
       "      <td>0.000309</td>\n",
       "      <td>200</td>\n",
       "      <td>43</td>\n",
       "      <td>29</td>\n",
       "      <td>31</td>\n",
       "      <td>29</td>\n",
       "      <td>31</td>\n",
       "      <td>37</td>\n",
       "    </tr>\n",
       "    <tr>\n",
       "      <th>789</th>\n",
       "      <td>Cosmoem</td>\n",
       "      <td>0.003304</td>\n",
       "      <td>400</td>\n",
       "      <td>43</td>\n",
       "      <td>29</td>\n",
       "      <td>131</td>\n",
       "      <td>29</td>\n",
       "      <td>131</td>\n",
       "      <td>37</td>\n",
       "    </tr>\n",
       "    <tr>\n",
       "      <th>376</th>\n",
       "      <td>Regirock</td>\n",
       "      <td>0.039396</td>\n",
       "      <td>580</td>\n",
       "      <td>80</td>\n",
       "      <td>100</td>\n",
       "      <td>200</td>\n",
       "      <td>50</td>\n",
       "      <td>100</td>\n",
       "      <td>50</td>\n",
       "    </tr>\n",
       "    <tr>\n",
       "      <th>797</th>\n",
       "      <td>Kartana</td>\n",
       "      <td>0.049283</td>\n",
       "      <td>570</td>\n",
       "      <td>59</td>\n",
       "      <td>181</td>\n",
       "      <td>131</td>\n",
       "      <td>59</td>\n",
       "      <td>31</td>\n",
       "      <td>109</td>\n",
       "    </tr>\n",
       "    <tr>\n",
       "      <th>793</th>\n",
       "      <td>Buzzwole</td>\n",
       "      <td>0.061985</td>\n",
       "      <td>570</td>\n",
       "      <td>107</td>\n",
       "      <td>139</td>\n",
       "      <td>139</td>\n",
       "      <td>53</td>\n",
       "      <td>53</td>\n",
       "      <td>79</td>\n",
       "    </tr>\n",
       "    <tr>\n",
       "      <th>378</th>\n",
       "      <td>Registeel</td>\n",
       "      <td>0.101359</td>\n",
       "      <td>580</td>\n",
       "      <td>80</td>\n",
       "      <td>75</td>\n",
       "      <td>150</td>\n",
       "      <td>75</td>\n",
       "      <td>150</td>\n",
       "      <td>50</td>\n",
       "    </tr>\n",
       "    <tr>\n",
       "      <th>786</th>\n",
       "      <td>Tapu Bulu</td>\n",
       "      <td>0.103584</td>\n",
       "      <td>570</td>\n",
       "      <td>70</td>\n",
       "      <td>130</td>\n",
       "      <td>115</td>\n",
       "      <td>85</td>\n",
       "      <td>95</td>\n",
       "      <td>75</td>\n",
       "    </tr>\n",
       "    <tr>\n",
       "      <th>479</th>\n",
       "      <td>Uxie</td>\n",
       "      <td>0.138666</td>\n",
       "      <td>580</td>\n",
       "      <td>75</td>\n",
       "      <td>75</td>\n",
       "      <td>130</td>\n",
       "      <td>75</td>\n",
       "      <td>130</td>\n",
       "      <td>95</td>\n",
       "    </tr>\n",
       "    <tr>\n",
       "      <th>638</th>\n",
       "      <td>Terrakion</td>\n",
       "      <td>0.153551</td>\n",
       "      <td>580</td>\n",
       "      <td>91</td>\n",
       "      <td>129</td>\n",
       "      <td>90</td>\n",
       "      <td>72</td>\n",
       "      <td>90</td>\n",
       "      <td>108</td>\n",
       "    </tr>\n",
       "    <tr>\n",
       "      <th>787</th>\n",
       "      <td>Tapu Fini</td>\n",
       "      <td>0.168074</td>\n",
       "      <td>570</td>\n",
       "      <td>70</td>\n",
       "      <td>75</td>\n",
       "      <td>115</td>\n",
       "      <td>95</td>\n",
       "      <td>130</td>\n",
       "      <td>85</td>\n",
       "    </tr>\n",
       "  </tbody>\n",
       "</table>\n",
       "</div>"
      ],
      "text/plain": [
       "          name  pred_proba  base_total   hp  attack  defense  sp_attack  \\\n",
       "788     Cosmog    0.000309         200   43      29       31         29   \n",
       "789    Cosmoem    0.003304         400   43      29      131         29   \n",
       "376   Regirock    0.039396         580   80     100      200         50   \n",
       "797    Kartana    0.049283         570   59     181      131         59   \n",
       "793   Buzzwole    0.061985         570  107     139      139         53   \n",
       "378  Registeel    0.101359         580   80      75      150         75   \n",
       "786  Tapu Bulu    0.103584         570   70     130      115         85   \n",
       "479       Uxie    0.138666         580   75      75      130         75   \n",
       "638  Terrakion    0.153551         580   91     129       90         72   \n",
       "787  Tapu Fini    0.168074         570   70      75      115         95   \n",
       "\n",
       "     sp_defense  speed  \n",
       "788          31     37  \n",
       "789         131     37  \n",
       "376         100     50  \n",
       "797          31    109  \n",
       "793          53     79  \n",
       "378         150     50  \n",
       "786          95     75  \n",
       "479         130     95  \n",
       "638          90    108  \n",
       "787         130     85  "
      ]
     },
     "metadata": {},
     "output_type": "display_data"
    },
    {
     "data": {
      "application/vnd.plotly.v1+json": {
       "config": {
        "plotlyServerURL": "https://plot.ly"
       },
       "data": [
        {
         "hovertemplate": "<b>%{hovertext}</b><br><br>is_correct=True<br>Base Total=%{x}<br>Probability of being Legendary=%{y}<br>abs_ld1=%{marker.size}<br>is_legendary=%{marker.color}<extra></extra>",
         "hovertext": [
          "Bulbasaur",
          "Ivysaur",
          "Venusaur",
          "Charmander",
          "Charmeleon",
          "Squirtle",
          "Wartortle",
          "Blastoise",
          "Caterpie",
          "Metapod",
          "Butterfree",
          "Weedle",
          "Kakuna",
          "Beedrill",
          "Pidgey",
          "Pidgeotto",
          "Pidgeot",
          "Rattata",
          "Raticate",
          "Spearow",
          "Fearow",
          "Ekans",
          "Arbok",
          "Pikachu",
          "Raichu",
          "Sandshrew",
          "Sandslash",
          "Nidoran♀",
          "Nidorina",
          "Nidoqueen",
          "Nidoran♂",
          "Nidorino",
          "Nidoking",
          "Clefairy",
          "Clefable",
          "Vulpix",
          "Ninetales",
          "Jigglypuff",
          "Wigglytuff",
          "Zubat",
          "Golbat",
          "Oddish",
          "Gloom",
          "Vileplume",
          "Paras",
          "Parasect",
          "Venonat",
          "Venomoth",
          "Diglett",
          "Dugtrio",
          "Meowth",
          "Persian",
          "Psyduck",
          "Golduck",
          "Mankey",
          "Primeape",
          "Growlithe",
          "Arcanine",
          "Poliwag",
          "Poliwhirl",
          "Poliwrath",
          "Abra",
          "Kadabra",
          "Machop",
          "Machoke",
          "Machamp",
          "Bellsprout",
          "Weepinbell",
          "Victreebel",
          "Tentacool",
          "Tentacruel",
          "Geodude",
          "Graveler",
          "Golem",
          "Ponyta",
          "Rapidash",
          "Slowpoke",
          "Slowbro",
          "Magnemite",
          "Magneton",
          "Farfetch'd",
          "Doduo",
          "Dodrio",
          "Seel",
          "Dewgong",
          "Grimer",
          "Muk",
          "Shellder",
          "Cloyster",
          "Gastly",
          "Haunter",
          "Onix",
          "Drowzee",
          "Hypno",
          "Krabby",
          "Kingler",
          "Voltorb",
          "Electrode",
          "Exeggcute",
          "Exeggutor",
          "Cubone",
          "Marowak",
          "Hitmonlee",
          "Hitmonchan",
          "Lickitung",
          "Koffing",
          "Weezing",
          "Rhyhorn",
          "Rhydon",
          "Chansey",
          "Tangela",
          "Kangaskhan",
          "Horsea",
          "Seadra",
          "Goldeen",
          "Seaking",
          "Staryu",
          "Starmie",
          "Mr. Mime",
          "Scyther",
          "Jynx",
          "Electabuzz",
          "Magmar",
          "Pinsir",
          "Tauros",
          "Magikarp",
          "Gyarados",
          "Lapras",
          "Ditto",
          "Eevee",
          "Vaporeon",
          "Jolteon",
          "Flareon",
          "Porygon",
          "Omanyte",
          "Omastar",
          "Kabuto",
          "Kabutops",
          "Aerodactyl",
          "Snorlax",
          "Dratini",
          "Dragonair",
          "Dragonite",
          "Mewtwo",
          "Chikorita",
          "Bayleef",
          "Meganium",
          "Cyndaquil",
          "Quilava",
          "Typhlosion",
          "Totodile",
          "Croconaw",
          "Feraligatr",
          "Sentret",
          "Furret",
          "Hoothoot",
          "Noctowl",
          "Ledyba",
          "Ledian",
          "Spinarak",
          "Ariados",
          "Crobat",
          "Chinchou",
          "Lanturn",
          "Pichu",
          "Cleffa",
          "Igglybuff",
          "Togepi",
          "Togetic",
          "Natu",
          "Xatu",
          "Mareep",
          "Flaaffy",
          "Bellossom",
          "Marill",
          "Azumarill",
          "Sudowoodo",
          "Politoed",
          "Hoppip",
          "Skiploom",
          "Jumpluff",
          "Aipom",
          "Sunkern",
          "Sunflora",
          "Yanma",
          "Wooper",
          "Quagsire",
          "Espeon",
          "Umbreon",
          "Murkrow",
          "Slowking",
          "Misdreavus",
          "Unown",
          "Wobbuffet",
          "Girafarig",
          "Pineco",
          "Forretress",
          "Dunsparce",
          "Gligar",
          "Steelix",
          "Snubbull",
          "Granbull",
          "Qwilfish",
          "Scizor",
          "Shuckle",
          "Heracross",
          "Sneasel",
          "Teddiursa",
          "Ursaring",
          "Slugma",
          "Magcargo",
          "Swinub",
          "Piloswine",
          "Corsola",
          "Remoraid",
          "Octillery",
          "Delibird",
          "Mantine",
          "Skarmory",
          "Houndour",
          "Houndoom",
          "Kingdra",
          "Phanpy",
          "Donphan",
          "Porygon2",
          "Stantler",
          "Smeargle",
          "Tyrogue",
          "Hitmontop",
          "Smoochum",
          "Elekid",
          "Magby",
          "Miltank",
          "Blissey",
          "Larvitar",
          "Pupitar",
          "Tyranitar",
          "Lugia",
          "Ho-Oh",
          "Treecko",
          "Grovyle",
          "Torchic",
          "Combusken",
          "Blaziken",
          "Mudkip",
          "Marshtomp",
          "Swampert",
          "Poochyena",
          "Mightyena",
          "Zigzagoon",
          "Linoone",
          "Wurmple",
          "Silcoon",
          "Beautifly",
          "Cascoon",
          "Dustox",
          "Lotad",
          "Lombre",
          "Ludicolo",
          "Seedot",
          "Nuzleaf",
          "Shiftry",
          "Taillow",
          "Swellow",
          "Wingull",
          "Pelipper",
          "Ralts",
          "Kirlia",
          "Surskit",
          "Masquerain",
          "Shroomish",
          "Breloom",
          "Slakoth",
          "Vigoroth",
          "Nincada",
          "Ninjask",
          "Shedinja",
          "Whismur",
          "Loudred",
          "Exploud",
          "Makuhita",
          "Hariyama",
          "Azurill",
          "Nosepass",
          "Skitty",
          "Delcatty",
          "Sableye",
          "Mawile",
          "Aron",
          "Lairon",
          "Aggron",
          "Meditite",
          "Medicham",
          "Electrike",
          "Manectric",
          "Plusle",
          "Minun",
          "Volbeat",
          "Illumise",
          "Roselia",
          "Gulpin",
          "Swalot",
          "Carvanha",
          "Sharpedo",
          "Wailmer",
          "Wailord",
          "Numel",
          "Camerupt",
          "Torkoal",
          "Spoink",
          "Grumpig",
          "Spinda",
          "Trapinch",
          "Vibrava",
          "Flygon",
          "Cacnea",
          "Cacturne",
          "Swablu",
          "Altaria",
          "Zangoose",
          "Seviper",
          "Lunatone",
          "Solrock",
          "Barboach",
          "Whiscash",
          "Corphish",
          "Crawdaunt",
          "Baltoy",
          "Claydol",
          "Lileep",
          "Cradily",
          "Anorith",
          "Armaldo",
          "Feebas",
          "Milotic",
          "Castform",
          "Kecleon",
          "Shuppet",
          "Banette",
          "Duskull",
          "Dusclops",
          "Tropius",
          "Chimecho",
          "Absol",
          "Wynaut",
          "Snorunt",
          "Glalie",
          "Spheal",
          "Sealeo",
          "Walrein",
          "Clamperl",
          "Huntail",
          "Gorebyss",
          "Relicanth",
          "Luvdisc",
          "Bagon",
          "Shelgon",
          "Beldum",
          "Metang",
          "Latias",
          "Latios",
          "Kyogre",
          "Groudon",
          "Rayquaza",
          "Turtwig",
          "Grotle",
          "Torterra",
          "Chimchar",
          "Monferno",
          "Infernape",
          "Piplup",
          "Prinplup",
          "Empoleon",
          "Starly",
          "Staravia",
          "Staraptor",
          "Bidoof",
          "Bibarel",
          "Kricketot",
          "Kricketune",
          "Shinx",
          "Luxio",
          "Luxray",
          "Budew",
          "Roserade",
          "Cranidos",
          "Rampardos",
          "Shieldon",
          "Bastiodon",
          "Burmy",
          "Wormadam",
          "Mothim",
          "Combee",
          "Vespiquen",
          "Pachirisu",
          "Buizel",
          "Floatzel",
          "Cherubi",
          "Cherrim",
          "Shellos",
          "Gastrodon",
          "Ambipom",
          "Drifloon",
          "Drifblim",
          "Buneary",
          "Lopunny",
          "Mismagius",
          "Honchkrow",
          "Glameow",
          "Purugly",
          "Chingling",
          "Stunky",
          "Skuntank",
          "Bronzor",
          "Bronzong",
          "Bonsly",
          "Mime Jr.",
          "Happiny",
          "Chatot",
          "Spiritomb",
          "Gible",
          "Gabite",
          "Munchlax",
          "Riolu",
          "Lucario",
          "Hippopotas",
          "Hippowdon",
          "Skorupi",
          "Drapion",
          "Croagunk",
          "Toxicroak",
          "Carnivine",
          "Finneon",
          "Lumineon",
          "Mantyke",
          "Snover",
          "Abomasnow",
          "Weavile",
          "Magnezone",
          "Lickilicky",
          "Rhyperior",
          "Tangrowth",
          "Electivire",
          "Magmortar",
          "Togekiss",
          "Yanmega",
          "Leafeon",
          "Glaceon",
          "Gliscor",
          "Mamoswine",
          "Porygon-Z",
          "Gallade",
          "Probopass",
          "Dusknoir",
          "Froslass",
          "Rotom",
          "Dialga",
          "Palkia",
          "Giratina",
          "Phione",
          "Arceus",
          "Snivy",
          "Servine",
          "Serperior",
          "Tepig",
          "Pignite",
          "Emboar",
          "Oshawott",
          "Dewott",
          "Samurott",
          "Patrat",
          "Watchog",
          "Lillipup",
          "Herdier",
          "Stoutland",
          "Purrloin",
          "Liepard",
          "Pansage",
          "Simisage",
          "Pansear",
          "Simisear",
          "Panpour",
          "Simipour",
          "Munna",
          "Musharna",
          "Pidove",
          "Tranquill",
          "Unfezant",
          "Blitzle",
          "Zebstrika",
          "Roggenrola",
          "Boldore",
          "Gigalith",
          "Woobat",
          "Swoobat",
          "Drilbur",
          "Excadrill",
          "Audino",
          "Timburr",
          "Gurdurr",
          "Conkeldurr",
          "Tympole",
          "Palpitoad",
          "Seismitoad",
          "Throh",
          "Sawk",
          "Sewaddle",
          "Swadloon",
          "Leavanny",
          "Venipede",
          "Whirlipede",
          "Scolipede",
          "Cottonee",
          "Whimsicott",
          "Petilil",
          "Lilligant",
          "Basculin",
          "Sandile",
          "Krokorok",
          "Krookodile",
          "Darumaka",
          "Darmanitan",
          "Maractus",
          "Dwebble",
          "Crustle",
          "Scraggy",
          "Scrafty",
          "Sigilyph",
          "Yamask",
          "Cofagrigus",
          "Tirtouga",
          "Carracosta",
          "Archen",
          "Archeops",
          "Trubbish",
          "Garbodor",
          "Zorua",
          "Zoroark",
          "Minccino",
          "Cinccino",
          "Gothita",
          "Gothorita",
          "Gothitelle",
          "Solosis",
          "Duosion",
          "Reuniclus",
          "Ducklett",
          "Swanna",
          "Vanillite",
          "Vanillish",
          "Vanilluxe",
          "Deerling",
          "Sawsbuck",
          "Emolga",
          "Karrablast",
          "Escavalier",
          "Foongus",
          "Amoonguss",
          "Frillish",
          "Jellicent",
          "Alomomola",
          "Joltik",
          "Galvantula",
          "Ferroseed",
          "Ferrothorn",
          "Klink",
          "Klang",
          "Klinklang",
          "Tynamo",
          "Eelektrik",
          "Eelektross",
          "Elgyem",
          "Beheeyem",
          "Litwick",
          "Lampent",
          "Chandelure",
          "Axew",
          "Fraxure",
          "Haxorus",
          "Cubchoo",
          "Beartic",
          "Cryogonal",
          "Shelmet",
          "Accelgor",
          "Stunfisk",
          "Mienfoo",
          "Mienshao",
          "Druddigon",
          "Golett",
          "Golurk",
          "Pawniard",
          "Bisharp",
          "Bouffalant",
          "Rufflet",
          "Braviary",
          "Vullaby",
          "Mandibuzz",
          "Heatmor",
          "Durant",
          "Deino",
          "Zweilous",
          "Hydreigon",
          "Larvesta",
          "Volcarona",
          "Reshiram",
          "Zekrom",
          "Kyurem",
          "Chespin",
          "Quilladin",
          "Chesnaught",
          "Fennekin",
          "Braixen",
          "Delphox",
          "Froakie",
          "Frogadier",
          "Bunnelby",
          "Diggersby",
          "Fletchling",
          "Fletchinder",
          "Talonflame",
          "Scatterbug",
          "Spewpa",
          "Vivillon",
          "Litleo",
          "Pyroar",
          "Flabébé",
          "Floette",
          "Florges",
          "Skiddo",
          "Gogoat",
          "Pancham",
          "Pangoro",
          "Furfrou",
          "Espurr",
          "Meowstic",
          "Honedge",
          "Doublade",
          "Aegislash",
          "Spritzee",
          "Aromatisse",
          "Swirlix",
          "Slurpuff",
          "Inkay",
          "Malamar",
          "Binacle",
          "Barbaracle",
          "Skrelp",
          "Dragalge",
          "Clauncher",
          "Clawitzer",
          "Helioptile",
          "Heliolisk",
          "Tyrunt",
          "Tyrantrum",
          "Amaura",
          "Aurorus",
          "Sylveon",
          "Hawlucha",
          "Dedenne",
          "Carbink",
          "Goomy",
          "Sliggoo",
          "Goodra",
          "Klefki",
          "Phantump",
          "Trevenant",
          "Pumpkaboo",
          "Gourgeist",
          "Bergmite",
          "Avalugg",
          "Noibat",
          "Noivern",
          "Xerneas",
          "Yveltal",
          "Zygarde",
          "Diancie",
          "Hoopa",
          "Rowlet",
          "Dartrix",
          "Decidueye",
          "Litten",
          "Torracat",
          "Incineroar",
          "Popplio",
          "Brionne",
          "Primarina",
          "Pikipek",
          "Trumbeak",
          "Toucannon",
          "Yungoos",
          "Gumshoos",
          "Grubbin",
          "Charjabug",
          "Vikavolt",
          "Crabrawler",
          "Crabominable",
          "Oricorio",
          "Cutiefly",
          "Ribombee",
          "Rockruff",
          "Lycanroc",
          "Wishiwashi",
          "Mareanie",
          "Toxapex",
          "Mudbray",
          "Mudsdale",
          "Dewpider",
          "Araquanid",
          "Fomantis",
          "Lurantis",
          "Morelull",
          "Shiinotic",
          "Salandit",
          "Salazzle",
          "Stufful",
          "Bewear",
          "Bounsweet",
          "Steenee",
          "Tsareena",
          "Comfey",
          "Oranguru",
          "Passimian",
          "Wimpod",
          "Golisopod",
          "Sandygast",
          "Palossand",
          "Pyukumuku",
          "Type: Null",
          "Silvally",
          "Minior",
          "Komala",
          "Turtonator",
          "Togedemaru",
          "Mimikyu",
          "Bruxish",
          "Drampa",
          "Dhelmise",
          "Jangmo-o",
          "Hakamo-o",
          "Kommo-o",
          "Solgaleo",
          "Lunala",
          "Xurkitree"
         ],
         "legendgroup": "True",
         "marker": {
          "color": {
           "bdata": "AAAAAAAAAAAAAAAAAAAAAAAAAAAAAAAAAAAAAAAAAAAAAAAAAAAAAAAAAAAAAAAAAAAAAAAAAAAAAAAAAAAAAAAAAAAAAAAAAAAAAAAAAAAAAAAAAAAAAAAAAAAAAAAAAAAAAAAAAAAAAAAAAAAAAAAAAAAAAAAAAAAAAAAAAAAAAAAAAAAAAAAAAAAAAAABAAAAAAAAAAAAAAAAAAAAAAAAAAAAAAAAAAAAAAAAAAAAAAAAAAAAAAAAAAAAAAAAAAAAAAAAAAAAAAAAAAAAAAAAAAAAAAAAAAAAAAAAAAAAAAAAAAAAAAAAAAAAAQEAAAAAAAAAAAAAAAAAAAAAAAAAAAAAAAAAAAAAAAAAAAAAAAAAAAAAAAAAAAAAAAAAAAAAAAAAAAAAAAAAAAAAAAAAAAAAAAAAAAAAAAAAAAAAAAAAAAAAAAAAAAAAAAAAAAAAAAAAAAAAAAAAAAAAAAAAAAAAAAABAQEBAQAAAAAAAAAAAAAAAAAAAAAAAAAAAAAAAAAAAAAAAAAAAAAAAAAAAAAAAAAAAAAAAAAAAAAAAAAAAAAAAAAAAAAAAAAAAAAAAAAAAAAAAAAAAAAAAAAAAAAAAAAAAQEBAAEAAAAAAAAAAAAAAAAAAAAAAAAAAAAAAAAAAAAAAAAAAAAAAAAAAAAAAAAAAAAAAAAAAAAAAAAAAAAAAAAAAAAAAAAAAAAAAAAAAAAAAAAAAAAAAAAAAAAAAAAAAAAAAAAAAAAAAAAAAAAAAAAAAAAAAAAAAAAAAAAAAAAAAAAAAAAAAAAAAAAAAAAAAAAAAAEBAQAAAAAAAAAAAAAAAAAAAAAAAAAAAAAAAAAAAAAAAAAAAAAAAAAAAAAAAAAAAAAAAAAAAAAAAAAAAAAAAAAAAAAAAQEBAQEAAAAAAAAAAAAAAAAAAAAAAAAAAAAAAAAAAAAAAAAAAAAAAAAAAAAAAAAAAAAAAAAAAAAAAAAAAAAAAAAAAAABAQE=",
           "dtype": "i1"
          },
          "coloraxis": "coloraxis",
          "size": {
           "bdata": "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",
           "dtype": "f8"
          },
          "sizemode": "area",
          "sizeref": 0.02192827639784841,
          "symbol": "circle"
         },
         "mode": "markers",
         "name": "True",
         "orientation": "v",
         "showlegend": true,
         "type": "scatter",
         "x": {
          "bdata": "PgGVAXECNQGVAToBlQF2AsMAzQCLAcMAzQDvAfsAXQFDAv0AnQEGAboBIAHAAUAB5QEsAcIBEwFtAfkBEQFtAfkBQwHjASsB+QEOAbMB9QDHAUABiwHqAR0BlQExAcIBCQGpASIBuAFAAfQBMQHHAV4BKwIsAYEB/gE2AZABMQGVAfkBLAGGAeoBTwEDAiwBhgHvAZoB9AE7AU4CRQHRAXkBNgHWAUUB2wFFAfQBMQENAjYBlQGBAUgB4wFFAdsBSgHqAUUBEgJAAakBxwHHAYEBVAHqAVkB5QHCAbMBTgInAbgBQAHCAVQBCALMAfQBxwHqAe8BWALqAcgAgAIXAiABRQENAg0CDQKLAWMB7wFjAe8BZwIcAiwBpAFYAgwDPgGVAQ0CNQGVARYCOgGVARIC1wCfAQYBxAEJAYYB+gCQARcCSgHMAc0A2gDSAPUAlQFAAdYBGAFtAeoB+gCkAZoB9AH6AFQBzAFoAbQAqQGGAdIArgENAg0ClQHqAbMBUAGVAccBIgHRAZ8BrgFiAiwBwgG4AVgC+QFYAq4BSgH0AfoArgH6AMIBmgEsAeABSgHlAdEBSgFYAhwCSgH0AQMC0QH6ANIAxwExAWgBbQHqARwCLAGaAbwCqAKoAjYBlQE2AZUBdgI2AZUBewLcAKQB8ACkAcMAzQCLAc0AgQHcAFQB4AHcAFQB4AEOAccBDgG4AcYAFgENAcYBJwHMARgBuAEKAcgB7ADwAGgB6gHtANoBvgB3AQQBkAHgAeABSgGuAXYCGAH+AScBPwKVAZUBrgGuAZABLgHTATEBMAKQAfQBMQEwAtYBSgHWAWgBIgFUAQgCTwHbATYBTgLKAcoBzAHMASAB1AE0AdQBLAH0AWMB7wFjAe8ByAAcAqQBuAEnASsCJwHHAcwBxwE1AgQBLAFEAiIBmgESAlkB5QHlAeUBSgEsAaQBLAGkAbwCvAICAwIDDAM+AZUBDQI1AZUBFgI6AZUBEgL1AFQB5QH6AJoBwgCAAQcBawELAhgBAwJeAe8BXgHvAeAAqAGoAfQA2gGVAUoB7wETAcIBRQHbAeIBXAHyAV4BRALvAfkBNgHEAR0BSQHfASwB9AEiATYB3ACbAeUBLAGaAYYBHQFxAkoBDQJKAfQBLAHqAcYBSgHMAVkBTgFSAv4BFwIDAhcCFwIcAhwCIQIDAg0CDQL+ARICFwJqAg0CDQLgAQgCqAKoAqgC4AHQAjQBnQEQAjQBogEQAjQBnQEQAv8ApAETAXIB9AEZAb4BPAHyATwB8gE8AfIBJAHnAQgBZgHoAScB8QEYAYYBAwJDAakBSAH8ASECMQGVAfkBJgGAAf0B0QHRATYBfAH0AQQBaAHlARgB4AEYAeABzAEkAV8BBwI7ARwCzQFFAeUBXAHoAeoBLwHjAWMB7wGRATcCSQHaAUoB/gEsAdYBIgGGAeoBIgFyAeoBMQHZATEBiwEXAk8B2wGsATsB7wEmAdABTwHgAdYBPwHYATEB6QEsAbgBCAITAZUBAwJPAeUBEwFyAQgCQAGaARwCMQH5AQMCMQHvAdcBXgH+AeUBLwHjAVQB6gHqAV4B/gFyAf4B5AHkASwBpAFYAmgBJgKoAqgCvAI5AZUBEgIzAZkBFgI6AZUB7QCnARYBfgHzAcgA1QCbAXEB+wEvAScCKAJeARMCXAHvAdgBYwHSAUUBwAEIAlUBzgFVAeABIAHiATIB9AFAAe4BSgH0ASEB4QFqAQkCagEJAg0C9AGvAfQBLAHEAVgC1gE1AdoBTwHuATABAgL1ABcCqAKoAsQCvAKoAkABpAESAkABpAESAkABpAESAgkBYwHlAf0AogEsAZAB9AFSAd4B3AEwAdABGAHnAWwCMQHvAYEB9AENAcYB+gDgAR0BlQFAAeABVAH0AdIAIgH+AeUB6gHqAeYAEgJAAeABmgEWAjoC9AHgAeUBswHcAdsB5QEFAiwBpAFYAqgCqAI6Ag==",
          "dtype": "i2"
         },
         "xaxis": "x",
         "y": {
          "bdata": "dW0Xm5nYaD/6JNUgjxSPP5apnuUYDNk/qo0oTVyiZT/2CgCSz16RP9gaZZlJOl8/o8jLXNp8hD8kSsGVsJrdP9dPz0ryLTA/YP2rUrzHMT9JRM2TUE+UP3YA69ZlRDA/BSZKW2jgMT//K6y31yGYP+0K1IpZ/EY/wIahjD3RcT9kXUrN7uPbPzqE6smG20M/7XAcfLsugz/3HZo+qUFLP3xc9KHlBJU/2QBNfAxVUz+WanMxWXyUPwEp/bxmK2g/IofYoynztD/JoMN6sa1BP2znEzbfyns/xG8SvWzAUD+OhT7W6bV1P+Umvo4uHK4/H4bBw0q0UD9wXDHsu/l1P23wjlTT0rE/IRMOX0lzbD+LtmRm/guyP8ST0ZfW/2A/53BWWf0Ytj+98WHv2VJdPy5NPZxnh6Y/6dUhNtXuQz90WFap5XecP52zfz/grWo/YbmX/cA8iD+9xclE3Y2yP/iQa//4sU0/7vtMi2FKez88faZ5eLFbPyk+BCy/0qY/SIppf2vmTD8z3mG/3u+GPx1pPrHcI2I/ugZ1e8QsoT+EWZXAmnNrP9pRXPYQYrU/t2RmhD25WD9N8PTOAqWXPyv26IXrdXc/XJHPTl1Jxz+xql+fXnNfPz+NDL3yUX8/EF3lRKLkqj8uwkPEebyCP7knJ8u/e6c/O0OtXEQXVj/G6rySMY59P2raOB1yvaM/kV6veZWHYz87RA1m2iqJP7nn+ss9H7I/IxHzjlORcD+egqH73NC6P52TGab70kI/9/L+g0VxaD9qzIuM+OyRP5RvW+aUbIo/I9i5GsNPsD8jwFSGwPxbP7s8RO5cKco/Sjf28/2Ecj8LOwfFtCmtP03rOvVcmXc/oD6b59ioVz+Sy3cWacebPyoiWU6I3WU/kmsDML2RpD9gRuIaMtZgP/SUq9bgmKc/q9DaQ8XRTT/OcqUJT9mgP5gL7q8JJXs/yWAyOPSVoj+bbpZUTudgP+8LE0rYuWY/Hk5PB4H+qD/G28uHvUBKP2dAjbhBXYk/xIAfl0jgcT8Z8KVO6yu2P9w55Z7tH2Y/9h2ep+Wrwz+uFDC8aB1WP7gnqHlt83w/LRgJc0Owij9817A6hz2GPzPJfLUOun8/JaeZJ4RTYj/SbeeKdFihP3GEfz2wzVk/vPfar1cfjj+KFO+chuW4Pxv239qTCJg/+BpekojFwj/R0N9KXBRgPxpJplUOPpw/Mwlo9PBvWz+JayPHEsGXPxfHBt/lqXQ/guYC5f7uvj96XA0I/F2sP2D/BRKQiqM/rYzIhaY1uD+57hcWKrm1P7nuIG/2ZrY/9pE7i7EEvD9xLv9p982ZP3weimPaGi8/xJpwbrWrzT+A68bE93bBPyBlbMRoGlg/ybg0H+UpZT8LZf0GEzDMP2Zs/A4+RMo/Lkd8G4zvtj/+5E2mm8KJPxk3CAJc83Q/bcfsvUx3sT9YMMrkzx9lP0spSW+SHJw/I/VC65HD0D/vgW/R3VC8P0d+bGd8NFs/J+2VemBIjj/4btGEMYbPP0yL+sY4We8/63s5rJCIYD8mFoYumj+EP1fw98knKbU/qo0oTVyiZT/2CgCSz16RP2mhrOaoLsY/ZUyYpT6SWj9tld95y02BP/22rpDSJLM/K/7rwZn7NT9kT+MA182IP36rqq4sX1I/7VZJ/Q+ErD+5eZ0EleZTP3xiPjluPYc/hkYG/WTRQz8Clba+QYZ/PysVWZLbnLw/A4tS8mZTdD8F4Mqd+vyrP5hfCvkAOzk/SFw3YSeMQT+QcHq0sJ9DP3jjGCNtdkE/FU00I58Nij8xe3WRMVNvP1eALG0W/6w/pMXpkMcnXz87TBLJOyKCP4jKwYpW7Kg/Bab7GUX3RD8v+ri8sAOQPwhYSnq7PWs/T/BL+ZPqtD/4as5V+bJGPx2uRmolJHA/IwsAhFStoD9SXJGNTDVxPwJNNSUcqSo/tYVu74dSnj9/jdrScUSPP6N73DcxSTE/AszGS/WKjD90xpse1q3PP8s1lNPjp64/akMbqj9AlD+mBabhzHOxP4wxwa8rpJ8/q3S+iUXfcD8RfAO0JiKRPzcoziDpJaU/GM5qeWemRT93nvALBz2JP6Wm4KcOPY4/7SVZdXxZgD+uZk86zbukP4kbxgUDXVQ/ByHJjE8mkD+Jvi4mPhyMP6gYg3iYSLY/h1trQ5spcz+5TmVKGeyvP0VwqTGVE4g/LToscR6EZD9amJrFoF+mPxYIC3SCulE/soHkRfxqjz94ygxTytJEP2EYZt9cApM/TYC4IMIWgz/CLY8kop9jPzQWmlMuAas/KHyy8aZRcT8BIscV9LWxP8LUUc152IQ/bx35YGhydz8iNmWj0AnfP1IYiux7Wb4/LLBvQHieZT/2zyeHke2YP2TDheyOZLo/TMON46m9pT8OUUEqFrZJPy+mG4m4GTc/kz95CPMKhD8iM5yoV113P9scExYbd38/4jTY2GVEgD+NjOo05sqcP97hjJOGI94/lLA7Ado/WD/xfGKS/PqFP9cJL56ERNw/P6Be8hG04T+ZtzJtzlLkP1u5g93Skms/nXSOqCholT8nectlVPhnP1rqbhhEYo0/kSL2lkTk3T/6EENl37pdP1a9ZntwdoI/DzobUW8P0z+v3AXkqQs2P2JoQrgmAIk/bhm6VJ1gQz9ly+65ZziPP9G1hKDRMCo/LA2SdeUrLj/BjdncHhWUPywNknXlKy4/+o22jfBofD85J31ktwdAP8uD/uq6AnI/WOMryQhZrz+yv8cy12Q1Pzm3wl/cUHM/RJdki2aUrz8gPtLtSeRQPzYt5dxA/KI/8dUztSsKXj8lBCkSSN6bP+ikGToioTk/kCrtphdzXz/s8aMuHk9YPwttvLuSmKs/tn5EbE+eVj8QdGgw+gKQP8r5qynOH0w/vL+Sfe8Dkj//SuH/HqE+Px6aYoy5r6A/hfVJbsWFMT9ojYhgk4FMP52x9fVQ7n8/Dgjalu6zsz/zP5mynLM9P3Ht9YUpTZs/lcoWCiLdKz/m1hh/IndiP1/V/XbgTko/9qR66PlShj+ab3SYt0uWP4W6ZJF+m4s/W4nCv5J3VT9puk86pjl2P1n+iNs0ua0/bNpROAldUT+M0wcg5/GvP3ZOby/6O2Q/XrPStbIn2z9g2DOzZfqZP/GTpyDbhJU/8HJGrXgsij8UyhDdc5aXP0THxgixuJY/QVDD+C88Xj/7DH5GBxWiP83g8qrOCmY/MksBnia8yD9O6opBA1+WPz5lTNR2+sE/fccxEEw/ZT/q4jFTgMfJP7H+yMLX25I/uA7r39ZAeT8ho+qSHvewP3TC9yHkdnY/lu0TfEvZTD/wrxmZv89rP2B3gEP/o7U/9/f8V/ttcz+T+wJORcGvPymM+PljP1w/DxYaT8LWzT9YgVfe1eiXP95qHykTY6Y/YeuZQB0hrj/Mra9xRPOUP+OvHieUElo/gShw6doPpj/igabKEjhWP0HBmC0z05w/iH3BZmDrWD8Or1WvOCSlP8eFFfR313E/qwShgpOKpz8U92dNwXppPwmZcqCv4Zs/64tZPhXLMj9R0XSjFBnIP06Kx23jr5A/5CO1Z9syjD+mNK+cPp5fP81s/xW2Jbo/dDB8DpIHRj+BGqEpcQSEP/lQZ6e+CaA/6XMCzeDDpj8L+6pl9R3NP3eGBcor1Us/mExEWegFXj8XEs04AQPTP+UyW1nzrF0/6ZdKVCd/kD/npYD2SHrAP4JAlYnSYGo/fBvMPyGYoT/msPbJblqrP+16x4udY5I/3amQv+W8aj8NZKX0jVBTP4jc+/78ioA/n5qNOavZTT/XEbfpebaAP/WuLcOt2Og/ug44eSB76j9QYgPhTobuP+XVFp/jLOs/3laoaCWT7j/0RpUdKJFbP66E3DSfGnw/jb3TE8oLrj9NP4pGOTZkP0ORI8YP6JA/M6X4L3EGxD9TG2RBs01lP/cjdofC4Yw/g02atp52wT+CTXUisAZEP7lb2toIomg/MxFSbS4mnz/FF1FlsZFGPx6CcouNXYc/vY/4/jFkLT/9fLVOi/N/PxiO9frZpEs/pf1kbn00dj/CYirHhoO2P4V28+Xm/1o/6SBpUE5Exj+HCahkZPliPws9JDjaFaE/I+edvMirWz/ACBZYGX6MP/U2GOXF1Dk/R+vCTYfWhj/u9cm9VoqaP6Bf+DimdkQ/s749HYLnnD9f+kRuX2SFPwNLBNeYLXI/rnBs1P36tD+QJc0ZDmVZP43bWOxBJ6Q/xowx6uNPbD/XV5rUkmStP5fmrR5IlaQ/zM3bT6P/fj+PY/q0libCPxYa5P/pp3E/eSbLJTlzuz/LJ9P/qWi9PwF82iY6Irs/VikC5HfKYj/Mg+dzof2dPwn16W97QWA/+Yic4OiqZz82CtCmttGoPz54qKwJqk4/ePh/0eshoT8h063a8Dg4P0m5KUPKTmo/62dcs00MRj9zocZN8T+eP11g5W7dCqA/i4ixxoapVz+jzpSdf6uDPyPE3FoqKIA/XnTg7XliUT+NdJLkppjfP3csxtSx9Fs/GPVoMyCQqD+ZnaqGuuFYP2/Wqg75waE/kQIdj7IqYj/NpMKHdm2vP9Jjuah51p0/C76fWiiNaD/xYwHbuzGgP3MY152aenU/mi8t4PfvbT9eTcV9RUnRPx5/uAY3tKY/ztxMGNNcxD/K2+iuYnyyP+pyPKgT+KE/RDnWq6ryuj8jtIG/EMzAP9jwC7oXH8w/m7sYCabwzT/6ZRwpHP7CP3ca5M/OG6M/+BdUTv1Nwz8cEutsCamcP3p8B/5mp7M/RG4X49350D/sTlgSal7FPzIV1Y5Um6Y/vf6ERxbgnT/HE+1vwHOsP1rbdhvI6rg/1yAhs09X5z9HQKCLwlDoP0TCq+mHLec/yHTwRFpFqD94sbfheqrpP8Yo5ok3AWA/i1qM4nnEiT84X0CdxL+3P5CksBxEMWA/wekWM+PHkD84YQPgM33AP3IgBzeQqWU/NFfqHDw6kz/rCnT9IgTBP+OqlPiibkY/eU7t5FJMiT9eDewn5KVJP2S/LHyWSW4/mvdnHXjEnT9iiEyvrzlZP8uyB85xa6Q/TXxwU9XQZT9eLdJLoEq3P018cFPV0GU/Xi3SS6BKtz9NfHBT1dBlP14t0kugSrc/rLVzCgswZj+7PLCr03a2P2Qem21R2Eg/m9YDjxnccD+j+uvOSpCiPxD42Ki2rGA/H9V5z1hUsj8n2/xPZnw/P1uFB9agzms/N2rT0M3slj9yEsEH64lvP5psQfXy/p0/bvEoProgYT+eoK//p0qoP8w8Dai+Ark/sfdTx/9uUj/DzWahanB1P/GVKFrjD50/2hHn1ai9Xz+AiYQzjcWEP6sZilba17U/xVpoLu4Ijz8REC3XHaWKP3/oXUKA/1Y/HaPMq6e1cT9TRyRFoS6pPx2BWwA6mEM/m6MO9RmyYz9Zm/ShPZydP2NdZ1KxvVI/bVb8ryIYqT8pymiMM3RdP6bSNpX3drY/Lb0ObsYyoz914vBGv9pVP2z0k8PnB3A/WJeLEbUSsD8muIMu34xTP3lamovko9I/SBpOwFMwqj+WZJhaKhFYPxW2fz6mbpM/RjxHdNoVYj/vFKd+NQiSPwV4W3Aasrc/AxoJcGo8WD+JixlFX5KfP6dbSz7lTWI/wsrrpzEVmz+V3Rlm7AKHP8/nMwme/M0/eeOqT4yfYz93A2SoZxOcP6VufkX/OHQ/QYPYdYi8wT88yOXxrQ1gPzWs45npDaQ/QoTQHSbOXT/oK2shKfyGP5DXIBVFPbA/9cGeFz+2cD/yIigOj3WVP1Gk1eawlr4/TePrM57TYD+Buoq5f1OsPxQvuxcmsWI/kZ5adSQZiD9lpTBVdyXCPx1Aq8t+HWk/EUWsXOXGoD/I/m4nryaXPwro7A7DUF4/3EUFCnpykj9HHn+eg45cP8IA+TUHEaU/mC21OwbLcT8aFF5eNXmwP5766YydPaE/gupjWu8ZaT93ml9mNAayP1s7DeA6hkc/Al6AR1oCkD9QUBtjW0JTP8LLY5Tx640/t8byAtK6pz+otcJXxaBSPyiOG3OT8oU/ovxKTUZ0tj/pG0XoG7N0Pz+r2XsELrc/p6Qn/oBDWD8jjxp2EiSKP28KVRuWKss/xSzQcU/IVT+ppwWRKth4PwBDDMxn/Kw/YWK8sGw7Yj8Rjgaoh4qlP6urKu9QP8U/SrwoKec1Uz++nrJkZrXDP7Y3Rwzcg6U/AeCJZJGubj/r+pR7b3O2P1TPD3oZQ5c/p657a5jDVD9eUqnOeHeYP1PWElYsqmA/++Ic6xAdlz8xVfP57DmVPzQ293VsH2o/ET6CmRIyqD9DAV7k9MRzP/+7nPq0VKs/gsdRSwG4sj/sQzSfB7eTP4vczA47DVg/0HuoBkLQij8AqMYB0vPZP2Ssx40ae3A/ec1rHTVE1z8gIbcBTmXoP8dB14R6YeI/zIgNPM157D93v37WD8pcP+qDIw72cXw/IX8wmqr2qz9YzP3oCNJmP0PWd3WD7JU/fTGTN3e7yj8Luc+iwEhpP6GGAcUYa5Q/pDunT8ObQj+Blyb87k2NP+ObXudtY1M/QBHEprlWgD9Exat3jyCzP4TJrvZDvjA/GxPEhl4cMz8AfkFlqs+eP1CYgpQ1soI/Gvk3w2Gcwj9Bq1Ncod1kP65EpuYz9dI/yDK8R+4yzz+rAzcKvDx1P4N00XiZnsQ/qUwydr0saD/1ePzKr9OjP68zx0MsV6U/dqjvKeP7eT9giZb2PJSrP6R1hS3yblA/0UsBI/19dT84/1qT2BrGP60GhdXEIHE/A+GOj78VqT8lOeaxmfdvP80v9a3paqg/q+uSeNXIUj+9Emkp6wWiPyN6Kg9SUlY/3XLRkiQ1mT/8W1rBzj1jP6KVUPSDOa0/nPWcZqz7Zz+KSwIHjey5P7l8iQ9d/mM/v0mF5sGwvD/n53Uh4EloP8LJ8WvFHaU/8AjKboCzfT/TY18n/6PCP8670efIgcY/mLnLuH8HsT/5VH3foTOgP84Oo1SdyZM/sO+MIRI2YT8YngTIOR6iPxeLJe2Ew9c/PmkGyCYvoD9AKRnuxkFcP90/YxU/oZs/vAS10k5sYj8GEXzymRaYP+6gdzW51kw/NRDPWog9ij/DPAqu0SlMP819ZlJn18Y/iljgT/iH5z+KWOBP+IfnP0b//Z0S5Og/Tf+OMAsT6D9jtlOI8NPpPxnHbR4nsWQ/Bjc7V17sjT8QKeVkEYW9P3MFa2Bd+mk/8sSLd+yrlj+WJ3nBvHSzP/mDP+/XY2g/QGH9Y8qQlD/zhnVumOfIPxA5SPbhRkg/TRnkiEPQbD8T3KC5gCSiP1nfZ2yZT0Q/EHsqchNKhT9spfNWEH5eP8aZX3rtRHY/6FuoTbAmwj/rzGKJsYljP/YiWhznlZg/yeZ9XAv+sT/ISAgnJ6RlP1Fpqq/11LE/alab57NaTz87LC8HEL2fPzsKW3D6d9E/eYcwCCEAWT+iltD1MEKQP7xxmtyEiHI/cOftTc8lmj9sn3y/NM5KP5sX36kMo40/LXZnOmbdST90iCMyJeqePxOoNpxXalk/IVNNBt6ejj8eebg3prpyPzJykzY/1bs/1nQhBLh7aT+6ytU2RoWjP/EKPofL9jU/oM60opUKWT8ZAvaMLLCdP1DIz7LKM6s/UE0iNAgOsj9XGMIAQReYPxcDb8V1pjs/GQaErvKknD/9YSM54/RiP0jkb0aklqY/fpvLFmLmaD/cS5V/6NK7P1TR+X7JVso/Nix7ilf+uD/ntBfL+JyhP/yNGDJcJ50/3mVzKgRAiT8l2fTTGXyYP3fPBsEWmqE/QOCTR5Qfuz93T+I831anP98+rVUWQVY/yzk0riFlhj8jpq5mDVXLPz67/v1Y6uQ/BJi649pi6T9HkS5cKZ/gPw==",
          "dtype": "f8"
         },
         "yaxis": "y"
        },
        {
         "hovertemplate": "<b>%{hovertext}</b><br><br>is_correct=False<br>Base Total=%{x}<br>Probability of being Legendary=%{y}<br>abs_ld1=%{marker.size}<br>is_legendary=%{marker.color}<extra></extra>",
         "hovertext": [
          "Charizard",
          "Alakazam",
          "Gengar",
          "Articuno",
          "Zapdos",
          "Moltres",
          "Mew",
          "Ampharos",
          "Raikou",
          "Entei",
          "Suicune",
          "Celebi",
          "Sceptile",
          "Gardevoir",
          "Slaking",
          "Salamence",
          "Metagross",
          "Regirock",
          "Regice",
          "Registeel",
          "Jirachi",
          "Deoxys",
          "Garchomp",
          "Uxie",
          "Mesprit",
          "Azelf",
          "Heatran",
          "Regigigas",
          "Cresselia",
          "Manaphy",
          "Darkrai",
          "Shaymin",
          "Victini",
          "Cobalion",
          "Terrakion",
          "Virizion",
          "Tornadus",
          "Thundurus",
          "Landorus",
          "Keldeo",
          "Meloetta",
          "Genesect",
          "Greninja",
          "Volcanion",
          "Tapu Koko",
          "Tapu Lele",
          "Tapu Bulu",
          "Tapu Fini",
          "Cosmog",
          "Cosmoem",
          "Nihilego",
          "Buzzwole",
          "Pheromosa",
          "Celesteela",
          "Kartana",
          "Guzzlord",
          "Necrozma",
          "Magearna"
         ],
         "legendgroup": "False",
         "marker": {
          "color": {
           "bdata": "AAAAAQEBAQABAQEBAAAAAAABAQEBAQABAQEBAQEBAQEBAQEBAQEBAQEBAAEBAQEBAQEBAQEBAQEBAQ==",
           "dtype": "i1"
          },
          "coloraxis": "coloraxis",
          "size": {
           "bdata": "DpzsyEoUC0BwG3KvFiIMQBxIT8oTpQpAXGRJxWz9AkCY8Et8H7AFQFC6uJpcEwVAWMV4BZbGBEAqS/PNTncIQJFPXaZvxQVAMt68u61RA0DZ0IKC+58CQFjFeAWWxgRAVHjhn4h8CkAYnaHDzSALQDL2ymFqswhAMDDi9e6xCkDWxO7Th28IQPLBMB9KaPY/4oXxjNlLA0Da5omc/n/+P1jFeAWWxgRAhP96Fc0zBUAWshcdvmEKQPlj9gZMrABA9rJOaaqmAkCkZgjd40AFQFiasn9iLgZAISpIJGZeBkCiBDALCVoDQFjFeAWWxgRAHMLcncR3B0CZkFe272wHQFjFeAWWxgRAFsbL1Tj6AUDVFFljjCYBQGA/d7kv9gNAQAYGDDq7BEBepCkXee4GQPWXXm8N5gNAhP/xAV1oBkCkvsYy4mcDQAb/lK7fEQVAq9XnyKDhCkBgAb46VssEQDGJlkS8eQJAWoeTNUhEBUCCQO9diLH+P8gvFfPMlAFAeulnwIFZCEAAtwGt67b9P+rbYUe08AdA421XICQ5+j+TZ0/Ar9cGQD78u2PJXAJAqnodTAVI+D8xORSqkykGQJDeu3246QVAaDFvtKI/BUA=",
           "dtype": "f8"
          },
          "sizemode": "area",
          "sizeref": 0.02192827639784841,
          "symbol": "diamond"
         },
         "mode": "markers",
         "name": "False",
         "orientation": "v",
         "showlegend": true,
         "type": "scatter",
         "x": {
          "bdata": "egJYAlgCRAJEAkQCWAJiAkQCRAJEAlgCdgJqAp4CvAK8AkQCRAJEAlgCWAK8AkQCRAJEAlgCngJYAlgCWAJYAlgCRAJEAkQCRAJEAlgCRAJYAlgCgAJYAjoCOgI6AjoCyACQAToCOgI6AjoCOgI6AlgCWAI=",
          "dtype": "i2"
         },
         "xaxis": "x",
         "y": {
          "bdata": "rMDw7APp5T9hk85u+KLnPwUQ2KAtJeU/KVU+I8KRzD8guD/65hTXP8YAlyqp39Q/xVhkq0DV0z9EuqdQp/ngPxZPo4LEY9c/vie43OJvzj+GnRvyYZjKP8VYZKtA1dM/jqbQFQPc5D9PJKDjk/7lP89Chf4vceE/B/kN9i885T9DqRjRJurgPxmLaEewK6Q/NC6xYCBOzj9F0PrFp/K5P8VYZKtA1dM/+iYjwl1S1T9KaeUCLavkPyETm1LNv8E/B9/0Dai7yj/b93cE/4DVP+HDDb9O7tg/AzRj+O2l2T/sQMl6dqDOP8VYZKtA1dM/xuBaiVz23T/PiKF+OMvdP8VYZKtA1dM/Rrk30FhYxz9cM9ctkKfDP6Z6YADtKNE/FvZNS3au0z/UbuH+e9bbP2O3YxBz9tA/n0O15UHM2T+NOGPgavHOP0VkKd9t2tQ/bn2g7raQ5T8R1AhXhuXTP8sD4ygZ0ck/H0rPvByN1T8drWXddYS6P9CNXVp2g8U/AqpGcmw7ND/Lt+94PhBrP6U6CAN02d8/6ULH3IK8rz8MyevyAH3bPzMzT9MuPck/6PBydaU7qT+Za46XBdzYP6PUKSQL69c/fp8msoR81T8=",
          "dtype": "f8"
         },
         "yaxis": "y"
        }
       ],
       "layout": {
        "coloraxis": {
         "colorbar": {
          "title": {
           "text": "is_legendary"
          }
         },
         "colorscale": [
          [
           0,
           "#0d0887"
          ],
          [
           0.1111111111111111,
           "#46039f"
          ],
          [
           0.2222222222222222,
           "#7201a8"
          ],
          [
           0.3333333333333333,
           "#9c179e"
          ],
          [
           0.4444444444444444,
           "#bd3786"
          ],
          [
           0.5555555555555556,
           "#d8576b"
          ],
          [
           0.6666666666666666,
           "#ed7953"
          ],
          [
           0.7777777777777778,
           "#fb9f3a"
          ],
          [
           0.8888888888888888,
           "#fdca26"
          ],
          [
           1,
           "#f0f921"
          ]
         ]
        },
        "legend": {
         "itemsizing": "constant",
         "title": {
          "text": "Legend"
         },
         "tracegroupgap": 0
        },
        "shapes": [
         {
          "line": {
           "color": "red",
           "dash": "dash",
           "width": 2
          },
          "type": "line",
          "x0": 180,
          "x1": 780,
          "y0": 0.5,
          "y1": 0.5
         }
        ],
        "template": {
         "data": {
          "bar": [
           {
            "error_x": {
             "color": "#2a3f5f"
            },
            "error_y": {
             "color": "#2a3f5f"
            },
            "marker": {
             "line": {
              "color": "white",
              "width": 0.5
             },
             "pattern": {
              "fillmode": "overlay",
              "size": 10,
              "solidity": 0.2
             }
            },
            "type": "bar"
           }
          ],
          "barpolar": [
           {
            "marker": {
             "line": {
              "color": "white",
              "width": 0.5
             },
             "pattern": {
              "fillmode": "overlay",
              "size": 10,
              "solidity": 0.2
             }
            },
            "type": "barpolar"
           }
          ],
          "carpet": [
           {
            "aaxis": {
             "endlinecolor": "#2a3f5f",
             "gridcolor": "#C8D4E3",
             "linecolor": "#C8D4E3",
             "minorgridcolor": "#C8D4E3",
             "startlinecolor": "#2a3f5f"
            },
            "baxis": {
             "endlinecolor": "#2a3f5f",
             "gridcolor": "#C8D4E3",
             "linecolor": "#C8D4E3",
             "minorgridcolor": "#C8D4E3",
             "startlinecolor": "#2a3f5f"
            },
            "type": "carpet"
           }
          ],
          "choropleth": [
           {
            "colorbar": {
             "outlinewidth": 0,
             "ticks": ""
            },
            "type": "choropleth"
           }
          ],
          "contour": [
           {
            "colorbar": {
             "outlinewidth": 0,
             "ticks": ""
            },
            "colorscale": [
             [
              0,
              "#0d0887"
             ],
             [
              0.1111111111111111,
              "#46039f"
             ],
             [
              0.2222222222222222,
              "#7201a8"
             ],
             [
              0.3333333333333333,
              "#9c179e"
             ],
             [
              0.4444444444444444,
              "#bd3786"
             ],
             [
              0.5555555555555556,
              "#d8576b"
             ],
             [
              0.6666666666666666,
              "#ed7953"
             ],
             [
              0.7777777777777778,
              "#fb9f3a"
             ],
             [
              0.8888888888888888,
              "#fdca26"
             ],
             [
              1,
              "#f0f921"
             ]
            ],
            "type": "contour"
           }
          ],
          "contourcarpet": [
           {
            "colorbar": {
             "outlinewidth": 0,
             "ticks": ""
            },
            "type": "contourcarpet"
           }
          ],
          "heatmap": [
           {
            "colorbar": {
             "outlinewidth": 0,
             "ticks": ""
            },
            "colorscale": [
             [
              0,
              "#0d0887"
             ],
             [
              0.1111111111111111,
              "#46039f"
             ],
             [
              0.2222222222222222,
              "#7201a8"
             ],
             [
              0.3333333333333333,
              "#9c179e"
             ],
             [
              0.4444444444444444,
              "#bd3786"
             ],
             [
              0.5555555555555556,
              "#d8576b"
             ],
             [
              0.6666666666666666,
              "#ed7953"
             ],
             [
              0.7777777777777778,
              "#fb9f3a"
             ],
             [
              0.8888888888888888,
              "#fdca26"
             ],
             [
              1,
              "#f0f921"
             ]
            ],
            "type": "heatmap"
           }
          ],
          "histogram": [
           {
            "marker": {
             "pattern": {
              "fillmode": "overlay",
              "size": 10,
              "solidity": 0.2
             }
            },
            "type": "histogram"
           }
          ],
          "histogram2d": [
           {
            "colorbar": {
             "outlinewidth": 0,
             "ticks": ""
            },
            "colorscale": [
             [
              0,
              "#0d0887"
             ],
             [
              0.1111111111111111,
              "#46039f"
             ],
             [
              0.2222222222222222,
              "#7201a8"
             ],
             [
              0.3333333333333333,
              "#9c179e"
             ],
             [
              0.4444444444444444,
              "#bd3786"
             ],
             [
              0.5555555555555556,
              "#d8576b"
             ],
             [
              0.6666666666666666,
              "#ed7953"
             ],
             [
              0.7777777777777778,
              "#fb9f3a"
             ],
             [
              0.8888888888888888,
              "#fdca26"
             ],
             [
              1,
              "#f0f921"
             ]
            ],
            "type": "histogram2d"
           }
          ],
          "histogram2dcontour": [
           {
            "colorbar": {
             "outlinewidth": 0,
             "ticks": ""
            },
            "colorscale": [
             [
              0,
              "#0d0887"
             ],
             [
              0.1111111111111111,
              "#46039f"
             ],
             [
              0.2222222222222222,
              "#7201a8"
             ],
             [
              0.3333333333333333,
              "#9c179e"
             ],
             [
              0.4444444444444444,
              "#bd3786"
             ],
             [
              0.5555555555555556,
              "#d8576b"
             ],
             [
              0.6666666666666666,
              "#ed7953"
             ],
             [
              0.7777777777777778,
              "#fb9f3a"
             ],
             [
              0.8888888888888888,
              "#fdca26"
             ],
             [
              1,
              "#f0f921"
             ]
            ],
            "type": "histogram2dcontour"
           }
          ],
          "mesh3d": [
           {
            "colorbar": {
             "outlinewidth": 0,
             "ticks": ""
            },
            "type": "mesh3d"
           }
          ],
          "parcoords": [
           {
            "line": {
             "colorbar": {
              "outlinewidth": 0,
              "ticks": ""
             }
            },
            "type": "parcoords"
           }
          ],
          "pie": [
           {
            "automargin": true,
            "type": "pie"
           }
          ],
          "scatter": [
           {
            "fillpattern": {
             "fillmode": "overlay",
             "size": 10,
             "solidity": 0.2
            },
            "type": "scatter"
           }
          ],
          "scatter3d": [
           {
            "line": {
             "colorbar": {
              "outlinewidth": 0,
              "ticks": ""
             }
            },
            "marker": {
             "colorbar": {
              "outlinewidth": 0,
              "ticks": ""
             }
            },
            "type": "scatter3d"
           }
          ],
          "scattercarpet": [
           {
            "marker": {
             "colorbar": {
              "outlinewidth": 0,
              "ticks": ""
             }
            },
            "type": "scattercarpet"
           }
          ],
          "scattergeo": [
           {
            "marker": {
             "colorbar": {
              "outlinewidth": 0,
              "ticks": ""
             }
            },
            "type": "scattergeo"
           }
          ],
          "scattergl": [
           {
            "marker": {
             "colorbar": {
              "outlinewidth": 0,
              "ticks": ""
             }
            },
            "type": "scattergl"
           }
          ],
          "scattermap": [
           {
            "marker": {
             "colorbar": {
              "outlinewidth": 0,
              "ticks": ""
             }
            },
            "type": "scattermap"
           }
          ],
          "scattermapbox": [
           {
            "marker": {
             "colorbar": {
              "outlinewidth": 0,
              "ticks": ""
             }
            },
            "type": "scattermapbox"
           }
          ],
          "scatterpolar": [
           {
            "marker": {
             "colorbar": {
              "outlinewidth": 0,
              "ticks": ""
             }
            },
            "type": "scatterpolar"
           }
          ],
          "scatterpolargl": [
           {
            "marker": {
             "colorbar": {
              "outlinewidth": 0,
              "ticks": ""
             }
            },
            "type": "scatterpolargl"
           }
          ],
          "scatterternary": [
           {
            "marker": {
             "colorbar": {
              "outlinewidth": 0,
              "ticks": ""
             }
            },
            "type": "scatterternary"
           }
          ],
          "surface": [
           {
            "colorbar": {
             "outlinewidth": 0,
             "ticks": ""
            },
            "colorscale": [
             [
              0,
              "#0d0887"
             ],
             [
              0.1111111111111111,
              "#46039f"
             ],
             [
              0.2222222222222222,
              "#7201a8"
             ],
             [
              0.3333333333333333,
              "#9c179e"
             ],
             [
              0.4444444444444444,
              "#bd3786"
             ],
             [
              0.5555555555555556,
              "#d8576b"
             ],
             [
              0.6666666666666666,
              "#ed7953"
             ],
             [
              0.7777777777777778,
              "#fb9f3a"
             ],
             [
              0.8888888888888888,
              "#fdca26"
             ],
             [
              1,
              "#f0f921"
             ]
            ],
            "type": "surface"
           }
          ],
          "table": [
           {
            "cells": {
             "fill": {
              "color": "#EBF0F8"
             },
             "line": {
              "color": "white"
             }
            },
            "header": {
             "fill": {
              "color": "#C8D4E3"
             },
             "line": {
              "color": "white"
             }
            },
            "type": "table"
           }
          ]
         },
         "layout": {
          "annotationdefaults": {
           "arrowcolor": "#2a3f5f",
           "arrowhead": 0,
           "arrowwidth": 1
          },
          "autotypenumbers": "strict",
          "coloraxis": {
           "colorbar": {
            "outlinewidth": 0,
            "ticks": ""
           }
          },
          "colorscale": {
           "diverging": [
            [
             0,
             "#8e0152"
            ],
            [
             0.1,
             "#c51b7d"
            ],
            [
             0.2,
             "#de77ae"
            ],
            [
             0.3,
             "#f1b6da"
            ],
            [
             0.4,
             "#fde0ef"
            ],
            [
             0.5,
             "#f7f7f7"
            ],
            [
             0.6,
             "#e6f5d0"
            ],
            [
             0.7,
             "#b8e186"
            ],
            [
             0.8,
             "#7fbc41"
            ],
            [
             0.9,
             "#4d9221"
            ],
            [
             1,
             "#276419"
            ]
           ],
           "sequential": [
            [
             0,
             "#0d0887"
            ],
            [
             0.1111111111111111,
             "#46039f"
            ],
            [
             0.2222222222222222,
             "#7201a8"
            ],
            [
             0.3333333333333333,
             "#9c179e"
            ],
            [
             0.4444444444444444,
             "#bd3786"
            ],
            [
             0.5555555555555556,
             "#d8576b"
            ],
            [
             0.6666666666666666,
             "#ed7953"
            ],
            [
             0.7777777777777778,
             "#fb9f3a"
            ],
            [
             0.8888888888888888,
             "#fdca26"
            ],
            [
             1,
             "#f0f921"
            ]
           ],
           "sequentialminus": [
            [
             0,
             "#0d0887"
            ],
            [
             0.1111111111111111,
             "#46039f"
            ],
            [
             0.2222222222222222,
             "#7201a8"
            ],
            [
             0.3333333333333333,
             "#9c179e"
            ],
            [
             0.4444444444444444,
             "#bd3786"
            ],
            [
             0.5555555555555556,
             "#d8576b"
            ],
            [
             0.6666666666666666,
             "#ed7953"
            ],
            [
             0.7777777777777778,
             "#fb9f3a"
            ],
            [
             0.8888888888888888,
             "#fdca26"
            ],
            [
             1,
             "#f0f921"
            ]
           ]
          },
          "colorway": [
           "#636efa",
           "#EF553B",
           "#00cc96",
           "#ab63fa",
           "#FFA15A",
           "#19d3f3",
           "#FF6692",
           "#B6E880",
           "#FF97FF",
           "#FECB52"
          ],
          "font": {
           "color": "#2a3f5f"
          },
          "geo": {
           "bgcolor": "white",
           "lakecolor": "white",
           "landcolor": "white",
           "showlakes": true,
           "showland": true,
           "subunitcolor": "#C8D4E3"
          },
          "hoverlabel": {
           "align": "left"
          },
          "hovermode": "closest",
          "mapbox": {
           "style": "light"
          },
          "paper_bgcolor": "white",
          "plot_bgcolor": "white",
          "polar": {
           "angularaxis": {
            "gridcolor": "#EBF0F8",
            "linecolor": "#EBF0F8",
            "ticks": ""
           },
           "bgcolor": "white",
           "radialaxis": {
            "gridcolor": "#EBF0F8",
            "linecolor": "#EBF0F8",
            "ticks": ""
           }
          },
          "scene": {
           "xaxis": {
            "backgroundcolor": "white",
            "gridcolor": "#DFE8F3",
            "gridwidth": 2,
            "linecolor": "#EBF0F8",
            "showbackground": true,
            "ticks": "",
            "zerolinecolor": "#EBF0F8"
           },
           "yaxis": {
            "backgroundcolor": "white",
            "gridcolor": "#DFE8F3",
            "gridwidth": 2,
            "linecolor": "#EBF0F8",
            "showbackground": true,
            "ticks": "",
            "zerolinecolor": "#EBF0F8"
           },
           "zaxis": {
            "backgroundcolor": "white",
            "gridcolor": "#DFE8F3",
            "gridwidth": 2,
            "linecolor": "#EBF0F8",
            "showbackground": true,
            "ticks": "",
            "zerolinecolor": "#EBF0F8"
           }
          },
          "shapedefaults": {
           "line": {
            "color": "#2a3f5f"
           }
          },
          "ternary": {
           "aaxis": {
            "gridcolor": "#DFE8F3",
            "linecolor": "#A2B1C6",
            "ticks": ""
           },
           "baxis": {
            "gridcolor": "#DFE8F3",
            "linecolor": "#A2B1C6",
            "ticks": ""
           },
           "bgcolor": "white",
           "caxis": {
            "gridcolor": "#DFE8F3",
            "linecolor": "#A2B1C6",
            "ticks": ""
           }
          },
          "title": {
           "x": 0.05
          },
          "xaxis": {
           "automargin": true,
           "gridcolor": "#EBF0F8",
           "linecolor": "#EBF0F8",
           "ticks": "",
           "title": {
            "standoff": 15
           },
           "zerolinecolor": "#EBF0F8",
           "zerolinewidth": 2
          },
          "yaxis": {
           "automargin": true,
           "gridcolor": "#EBF0F8",
           "linecolor": "#EBF0F8",
           "ticks": "",
           "title": {
            "standoff": 15
           },
           "zerolinecolor": "#EBF0F8",
           "zerolinewidth": 2
          }
         }
        },
        "title": {
         "text": "Prediction Probability vs Base Total"
        },
        "xaxis": {
         "anchor": "y",
         "domain": [
          0,
          1
         ],
         "title": {
          "text": "Base Total"
         }
        },
        "yaxis": {
         "anchor": "x",
         "domain": [
          0,
          1
         ],
         "range": [
          0,
          1
         ],
         "title": {
          "text": "Probability of being Legendary"
         }
        }
       }
      }
     },
     "metadata": {},
     "output_type": "display_data"
    }
   ],
   "source": [
    "# Identify outliers and interesting cases in the classification\n",
    "if 'is_legendary' in pokemon_clean.columns:\n",
    "    # Add prediction probabilities to the dataframe\n",
    "    pokemon_legendary_clean['pred_proba'] = y_prob\n",
    "    pokemon_legendary_clean['is_correct'] = (pokemon_legendary_clean['is_legendary'] == lda_legendary.predict(X_legendary_scaled))\n",
    "    \n",
    "    # Find non-legendary Pokémon that are most likely to be classified as legendary\n",
    "    false_legendaries = pokemon_legendary_clean[pokemon_legendary_clean['is_legendary'] == 0].sort_values('pred_proba', ascending=False).head(10)\n",
    "    \n",
    "    # Find legendary Pokémon that are least likely to be classified as legendary\n",
    "    weak_legendaries = pokemon_legendary_clean[pokemon_legendary_clean['is_legendary'] == 1].sort_values('pred_proba').head(10)\n",
    "    \n",
    "    # Display the results\n",
    "    print(\"Non-legendary Pokémon with highest legendary scores:\")\n",
    "    display(false_legendaries[['name', 'pred_proba', 'base_total'] + battle_stats[:-1]] if 'name' in pokemon_legendary_clean.columns else false_legendaries[['pred_proba', 'base_total'] + battle_stats[:-1]])\n",
    "    \n",
    "    print(\"\\nLegendary Pokémon with lowest legendary scores:\")\n",
    "    display(weak_legendaries[['name', 'pred_proba', 'base_total'] + battle_stats[:-1]] if 'name' in pokemon_legendary_clean.columns else weak_legendaries[['pred_proba', 'base_total'] + battle_stats[:-1]])\n",
    "    \n",
    "    # Create a size column that uses absolute values of legendary_ld1 (plotly size can't be negative)\n",
    "    pokemon_legendary_clean['abs_ld1'] = np.abs(pokemon_legendary_clean['legendary_ld1']) + 1  # Add 1 to make all sizes visible\n",
    "    \n",
    "    # Create an interactive scatter plot of all Pokémon with their prediction probabilities\n",
    "    fig = px.scatter(\n",
    "        pokemon_legendary_clean,\n",
    "        x='base_total',\n",
    "        y='pred_proba',\n",
    "        color='is_legendary',\n",
    "        symbol='is_correct',\n",
    "        hover_name='name' if 'name' in pokemon_legendary_clean.columns else None,\n",
    "        title='Prediction Probability vs Base Total',\n",
    "        labels={'base_total': 'Base Total', 'pred_proba': 'Probability of being Legendary'},\n",
    "        template='plotly_white',\n",
    "        size='abs_ld1',  # Use absolute values for size\n",
    "        size_max=15\n",
    "    )\n",
    "    \n",
    "    # Add a horizontal line at the decision threshold (typically 0.5)\n",
    "    fig.add_shape(\n",
    "        type=\"line\",\n",
    "        x0=min(pokemon_legendary_clean['base_total']),\n",
    "        y0=0.5,\n",
    "        x1=max(pokemon_legendary_clean['base_total']),\n",
    "        y1=0.5,\n",
    "        line=dict(color=\"red\", width=2, dash=\"dash\"),\n",
    "    )\n",
    "    \n",
    "    fig.update_layout(\n",
    "        legend_title=\"Legend\",\n",
    "        xaxis_title=\"Base Total\",\n",
    "        yaxis_title=\"Probability of being Legendary\",\n",
    "        yaxis_range=[0, 1]\n",
    "    )\n",
    "    \n",
    "    fig.show()"
   ]
  },
  {
   "cell_type": "markdown",
   "id": "28dcf3c3",
   "metadata": {},
   "source": [
    "## 7. Conclusion\n",
    "\n",
    "In this notebook, we've performed two key analyses:\n",
    "\n",
    "1. **PCA Analysis**: We've reduced the dimensionality of battle stats and type effectiveness profiles to identify the main patterns in Pokémon data.\n",
    "\n",
    "2. **LDA Classification**: We've used Linear Discriminant Analysis to find the optimal feature combination that separates legendary from non-legendary Pokémon.\n",
    "\n",
    "These analyses help us understand what makes legendary Pokémon special from a statistical perspective and identify the underlying patterns in Pokémon design."
   ]
  }
 ],
 "metadata": {
  "kernelspec": {
   "display_name": ".venv",
   "language": "python",
   "name": "python3"
  },
  "language_info": {
   "codemirror_mode": {
    "name": "ipython",
    "version": 3
   },
   "file_extension": ".py",
   "mimetype": "text/x-python",
   "name": "python",
   "nbconvert_exporter": "python",
   "pygments_lexer": "ipython3",
   "version": "3.13.3"
  }
 },
 "nbformat": 4,
 "nbformat_minor": 5
}
