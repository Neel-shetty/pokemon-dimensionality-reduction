{
 "cells": [
  {
   "cell_type": "markdown",
   "id": "246cf4c3",
   "metadata": {},
   "source": [
    "# Principal Component Analysis (PCA) on Pokémon Dataset\n",
    "\n",
    "This notebook demonstrates the application of Principal Component Analysis (PCA) for dimensionality reduction and feature analysis using the Pokémon dataset."
   ]
  },
  {
   "cell_type": "markdown",
   "id": "34906077",
   "metadata": {},
   "source": [
    "## Import Required Libraries\n",
    "\n",
    "Import libraries such as pandas, numpy, matplotlib, seaborn, and sklearn for data manipulation, visualization, and PCA."
   ]
  },
  {
   "cell_type": "code",
   "execution_count": 2,
   "id": "c588a06e",
   "metadata": {},
   "outputs": [],
   "source": [
    "# Import necessary libraries\n",
    "import pandas as pd\n",
    "import numpy as np\n",
    "import matplotlib.pyplot as plt\n",
    "import seaborn as sns\n",
    "\n",
    "# For PCA and preprocessing\n",
    "from sklearn.decomposition import PCA\n",
    "from sklearn.preprocessing import StandardScaler\n",
    "\n",
    "# For visualization\n",
    "import plotly.express as px\n",
    "import plotly.graph_objects as go\n",
    "\n",
    "# For displaying plots inline\n",
    "%matplotlib inline\n",
    "\n",
    "# Set styling for better visualizations\n",
    "# plt.style.use('')\n",
    "sns.set_style(\"whitegrid\")\n",
    "plt.rcParams['figure.figsize'] = (12, 8)"
   ]
  },
  {
   "cell_type": "markdown",
   "id": "677069e3",
   "metadata": {},
   "source": [
    "## Load and Explore Dataset\n",
    "\n",
    "Load the Pokémon dataset from a CSV file and perform initial exploration, including checking for missing values and understanding the data structure."
   ]
  },
  {
   "cell_type": "code",
   "execution_count": 3,
   "id": "83f87f7d",
   "metadata": {},
   "outputs": [
    {
     "name": "stdout",
     "output_type": "stream",
     "text": [
      "First 5 rows of the dataset:\n"
     ]
    },
    {
     "data": {
      "text/html": [
       "<div>\n",
       "<style scoped>\n",
       "    .dataframe tbody tr th:only-of-type {\n",
       "        vertical-align: middle;\n",
       "    }\n",
       "\n",
       "    .dataframe tbody tr th {\n",
       "        vertical-align: top;\n",
       "    }\n",
       "\n",
       "    .dataframe thead th {\n",
       "        text-align: right;\n",
       "    }\n",
       "</style>\n",
       "<table border=\"1\" class=\"dataframe\">\n",
       "  <thead>\n",
       "    <tr style=\"text-align: right;\">\n",
       "      <th></th>\n",
       "      <th>abilities</th>\n",
       "      <th>against_bug</th>\n",
       "      <th>against_dark</th>\n",
       "      <th>against_dragon</th>\n",
       "      <th>against_electric</th>\n",
       "      <th>against_fairy</th>\n",
       "      <th>against_fight</th>\n",
       "      <th>against_fire</th>\n",
       "      <th>against_flying</th>\n",
       "      <th>against_ghost</th>\n",
       "      <th>...</th>\n",
       "      <th>percentage_male</th>\n",
       "      <th>pokedex_number</th>\n",
       "      <th>sp_attack</th>\n",
       "      <th>sp_defense</th>\n",
       "      <th>speed</th>\n",
       "      <th>type1</th>\n",
       "      <th>type2</th>\n",
       "      <th>weight_kg</th>\n",
       "      <th>generation</th>\n",
       "      <th>is_legendary</th>\n",
       "    </tr>\n",
       "  </thead>\n",
       "  <tbody>\n",
       "    <tr>\n",
       "      <th>0</th>\n",
       "      <td>['Overgrow', 'Chlorophyll']</td>\n",
       "      <td>1.0</td>\n",
       "      <td>1.0</td>\n",
       "      <td>1.0</td>\n",
       "      <td>0.5</td>\n",
       "      <td>0.5</td>\n",
       "      <td>0.5</td>\n",
       "      <td>2.0</td>\n",
       "      <td>2.0</td>\n",
       "      <td>1.0</td>\n",
       "      <td>...</td>\n",
       "      <td>88.1</td>\n",
       "      <td>1</td>\n",
       "      <td>65</td>\n",
       "      <td>65</td>\n",
       "      <td>45</td>\n",
       "      <td>grass</td>\n",
       "      <td>poison</td>\n",
       "      <td>6.9</td>\n",
       "      <td>1</td>\n",
       "      <td>0</td>\n",
       "    </tr>\n",
       "    <tr>\n",
       "      <th>1</th>\n",
       "      <td>['Overgrow', 'Chlorophyll']</td>\n",
       "      <td>1.0</td>\n",
       "      <td>1.0</td>\n",
       "      <td>1.0</td>\n",
       "      <td>0.5</td>\n",
       "      <td>0.5</td>\n",
       "      <td>0.5</td>\n",
       "      <td>2.0</td>\n",
       "      <td>2.0</td>\n",
       "      <td>1.0</td>\n",
       "      <td>...</td>\n",
       "      <td>88.1</td>\n",
       "      <td>2</td>\n",
       "      <td>80</td>\n",
       "      <td>80</td>\n",
       "      <td>60</td>\n",
       "      <td>grass</td>\n",
       "      <td>poison</td>\n",
       "      <td>13.0</td>\n",
       "      <td>1</td>\n",
       "      <td>0</td>\n",
       "    </tr>\n",
       "    <tr>\n",
       "      <th>2</th>\n",
       "      <td>['Overgrow', 'Chlorophyll']</td>\n",
       "      <td>1.0</td>\n",
       "      <td>1.0</td>\n",
       "      <td>1.0</td>\n",
       "      <td>0.5</td>\n",
       "      <td>0.5</td>\n",
       "      <td>0.5</td>\n",
       "      <td>2.0</td>\n",
       "      <td>2.0</td>\n",
       "      <td>1.0</td>\n",
       "      <td>...</td>\n",
       "      <td>88.1</td>\n",
       "      <td>3</td>\n",
       "      <td>122</td>\n",
       "      <td>120</td>\n",
       "      <td>80</td>\n",
       "      <td>grass</td>\n",
       "      <td>poison</td>\n",
       "      <td>100.0</td>\n",
       "      <td>1</td>\n",
       "      <td>0</td>\n",
       "    </tr>\n",
       "    <tr>\n",
       "      <th>3</th>\n",
       "      <td>['Blaze', 'Solar Power']</td>\n",
       "      <td>0.5</td>\n",
       "      <td>1.0</td>\n",
       "      <td>1.0</td>\n",
       "      <td>1.0</td>\n",
       "      <td>0.5</td>\n",
       "      <td>1.0</td>\n",
       "      <td>0.5</td>\n",
       "      <td>1.0</td>\n",
       "      <td>1.0</td>\n",
       "      <td>...</td>\n",
       "      <td>88.1</td>\n",
       "      <td>4</td>\n",
       "      <td>60</td>\n",
       "      <td>50</td>\n",
       "      <td>65</td>\n",
       "      <td>fire</td>\n",
       "      <td>NaN</td>\n",
       "      <td>8.5</td>\n",
       "      <td>1</td>\n",
       "      <td>0</td>\n",
       "    </tr>\n",
       "    <tr>\n",
       "      <th>4</th>\n",
       "      <td>['Blaze', 'Solar Power']</td>\n",
       "      <td>0.5</td>\n",
       "      <td>1.0</td>\n",
       "      <td>1.0</td>\n",
       "      <td>1.0</td>\n",
       "      <td>0.5</td>\n",
       "      <td>1.0</td>\n",
       "      <td>0.5</td>\n",
       "      <td>1.0</td>\n",
       "      <td>1.0</td>\n",
       "      <td>...</td>\n",
       "      <td>88.1</td>\n",
       "      <td>5</td>\n",
       "      <td>80</td>\n",
       "      <td>65</td>\n",
       "      <td>80</td>\n",
       "      <td>fire</td>\n",
       "      <td>NaN</td>\n",
       "      <td>19.0</td>\n",
       "      <td>1</td>\n",
       "      <td>0</td>\n",
       "    </tr>\n",
       "  </tbody>\n",
       "</table>\n",
       "<p>5 rows × 41 columns</p>\n",
       "</div>"
      ],
      "text/plain": [
       "                     abilities  against_bug  against_dark  against_dragon  \\\n",
       "0  ['Overgrow', 'Chlorophyll']          1.0           1.0             1.0   \n",
       "1  ['Overgrow', 'Chlorophyll']          1.0           1.0             1.0   \n",
       "2  ['Overgrow', 'Chlorophyll']          1.0           1.0             1.0   \n",
       "3     ['Blaze', 'Solar Power']          0.5           1.0             1.0   \n",
       "4     ['Blaze', 'Solar Power']          0.5           1.0             1.0   \n",
       "\n",
       "   against_electric  against_fairy  against_fight  against_fire  \\\n",
       "0               0.5            0.5            0.5           2.0   \n",
       "1               0.5            0.5            0.5           2.0   \n",
       "2               0.5            0.5            0.5           2.0   \n",
       "3               1.0            0.5            1.0           0.5   \n",
       "4               1.0            0.5            1.0           0.5   \n",
       "\n",
       "   against_flying  against_ghost  ...  percentage_male  pokedex_number  \\\n",
       "0             2.0            1.0  ...             88.1               1   \n",
       "1             2.0            1.0  ...             88.1               2   \n",
       "2             2.0            1.0  ...             88.1               3   \n",
       "3             1.0            1.0  ...             88.1               4   \n",
       "4             1.0            1.0  ...             88.1               5   \n",
       "\n",
       "   sp_attack  sp_defense  speed  type1   type2  weight_kg  generation  \\\n",
       "0         65          65     45  grass  poison        6.9           1   \n",
       "1         80          80     60  grass  poison       13.0           1   \n",
       "2        122         120     80  grass  poison      100.0           1   \n",
       "3         60          50     65   fire     NaN        8.5           1   \n",
       "4         80          65     80   fire     NaN       19.0           1   \n",
       "\n",
       "   is_legendary  \n",
       "0             0  \n",
       "1             0  \n",
       "2             0  \n",
       "3             0  \n",
       "4             0  \n",
       "\n",
       "[5 rows x 41 columns]"
      ]
     },
     "metadata": {},
     "output_type": "display_data"
    },
    {
     "name": "stdout",
     "output_type": "stream",
     "text": [
      "\n",
      "Dataset information:\n",
      "<class 'pandas.core.frame.DataFrame'>\n",
      "RangeIndex: 801 entries, 0 to 800\n",
      "Data columns (total 41 columns):\n",
      " #   Column             Non-Null Count  Dtype  \n",
      "---  ------             --------------  -----  \n",
      " 0   abilities          801 non-null    object \n",
      " 1   against_bug        801 non-null    float64\n",
      " 2   against_dark       801 non-null    float64\n",
      " 3   against_dragon     801 non-null    float64\n",
      " 4   against_electric   801 non-null    float64\n",
      " 5   against_fairy      801 non-null    float64\n",
      " 6   against_fight      801 non-null    float64\n",
      " 7   against_fire       801 non-null    float64\n",
      " 8   against_flying     801 non-null    float64\n",
      " 9   against_ghost      801 non-null    float64\n",
      " 10  against_grass      801 non-null    float64\n",
      " 11  against_ground     801 non-null    float64\n",
      " 12  against_ice        801 non-null    float64\n",
      " 13  against_normal     801 non-null    float64\n",
      " 14  against_poison     801 non-null    float64\n",
      " 15  against_psychic    801 non-null    float64\n",
      " 16  against_rock       801 non-null    float64\n",
      " 17  against_steel      801 non-null    float64\n",
      " 18  against_water      801 non-null    float64\n",
      " 19  attack             801 non-null    int64  \n",
      " 20  base_egg_steps     801 non-null    int64  \n",
      " 21  base_happiness     801 non-null    int64  \n",
      " 22  base_total         801 non-null    int64  \n",
      " 23  capture_rate       801 non-null    object \n",
      " 24  classfication      801 non-null    object \n",
      " 25  defense            801 non-null    int64  \n",
      " 26  experience_growth  801 non-null    int64  \n",
      " 27  height_m           781 non-null    float64\n",
      " 28  hp                 801 non-null    int64  \n",
      " 29  japanese_name      801 non-null    object \n",
      " 30  name               801 non-null    object \n",
      " 31  percentage_male    703 non-null    float64\n",
      " 32  pokedex_number     801 non-null    int64  \n",
      " 33  sp_attack          801 non-null    int64  \n",
      " 34  sp_defense         801 non-null    int64  \n",
      " 35  speed              801 non-null    int64  \n",
      " 36  type1              801 non-null    object \n",
      " 37  type2              417 non-null    object \n",
      " 38  weight_kg          781 non-null    float64\n",
      " 39  generation         801 non-null    int64  \n",
      " 40  is_legendary       801 non-null    int64  \n",
      "dtypes: float64(21), int64(13), object(7)\n",
      "memory usage: 256.7+ KB\n"
     ]
    },
    {
     "data": {
      "text/plain": [
       "None"
      ]
     },
     "metadata": {},
     "output_type": "display_data"
    },
    {
     "name": "stdout",
     "output_type": "stream",
     "text": [
      "\n",
      "Missing values in each column:\n"
     ]
    },
    {
     "data": {
      "text/plain": [
       "abilities              0\n",
       "against_bug            0\n",
       "against_dark           0\n",
       "against_dragon         0\n",
       "against_electric       0\n",
       "against_fairy          0\n",
       "against_fight          0\n",
       "against_fire           0\n",
       "against_flying         0\n",
       "against_ghost          0\n",
       "against_grass          0\n",
       "against_ground         0\n",
       "against_ice            0\n",
       "against_normal         0\n",
       "against_poison         0\n",
       "against_psychic        0\n",
       "against_rock           0\n",
       "against_steel          0\n",
       "against_water          0\n",
       "attack                 0\n",
       "base_egg_steps         0\n",
       "base_happiness         0\n",
       "base_total             0\n",
       "capture_rate           0\n",
       "classfication          0\n",
       "defense                0\n",
       "experience_growth      0\n",
       "height_m              20\n",
       "hp                     0\n",
       "japanese_name          0\n",
       "name                   0\n",
       "percentage_male       98\n",
       "pokedex_number         0\n",
       "sp_attack              0\n",
       "sp_defense             0\n",
       "speed                  0\n",
       "type1                  0\n",
       "type2                384\n",
       "weight_kg             20\n",
       "generation             0\n",
       "is_legendary           0\n",
       "dtype: int64"
      ]
     },
     "metadata": {},
     "output_type": "display_data"
    },
    {
     "name": "stdout",
     "output_type": "stream",
     "text": [
      "\n",
      "Statistical summary of numerical features:\n"
     ]
    },
    {
     "data": {
      "text/html": [
       "<div>\n",
       "<style scoped>\n",
       "    .dataframe tbody tr th:only-of-type {\n",
       "        vertical-align: middle;\n",
       "    }\n",
       "\n",
       "    .dataframe tbody tr th {\n",
       "        vertical-align: top;\n",
       "    }\n",
       "\n",
       "    .dataframe thead th {\n",
       "        text-align: right;\n",
       "    }\n",
       "</style>\n",
       "<table border=\"1\" class=\"dataframe\">\n",
       "  <thead>\n",
       "    <tr style=\"text-align: right;\">\n",
       "      <th></th>\n",
       "      <th>against_bug</th>\n",
       "      <th>against_dark</th>\n",
       "      <th>against_dragon</th>\n",
       "      <th>against_electric</th>\n",
       "      <th>against_fairy</th>\n",
       "      <th>against_fight</th>\n",
       "      <th>against_fire</th>\n",
       "      <th>against_flying</th>\n",
       "      <th>against_ghost</th>\n",
       "      <th>against_grass</th>\n",
       "      <th>...</th>\n",
       "      <th>height_m</th>\n",
       "      <th>hp</th>\n",
       "      <th>percentage_male</th>\n",
       "      <th>pokedex_number</th>\n",
       "      <th>sp_attack</th>\n",
       "      <th>sp_defense</th>\n",
       "      <th>speed</th>\n",
       "      <th>weight_kg</th>\n",
       "      <th>generation</th>\n",
       "      <th>is_legendary</th>\n",
       "    </tr>\n",
       "  </thead>\n",
       "  <tbody>\n",
       "    <tr>\n",
       "      <th>count</th>\n",
       "      <td>801.000000</td>\n",
       "      <td>801.000000</td>\n",
       "      <td>801.000000</td>\n",
       "      <td>801.000000</td>\n",
       "      <td>801.000000</td>\n",
       "      <td>801.000000</td>\n",
       "      <td>801.000000</td>\n",
       "      <td>801.000000</td>\n",
       "      <td>801.000000</td>\n",
       "      <td>801.000000</td>\n",
       "      <td>...</td>\n",
       "      <td>781.000000</td>\n",
       "      <td>801.000000</td>\n",
       "      <td>703.000000</td>\n",
       "      <td>801.000000</td>\n",
       "      <td>801.000000</td>\n",
       "      <td>801.000000</td>\n",
       "      <td>801.000000</td>\n",
       "      <td>781.000000</td>\n",
       "      <td>801.000000</td>\n",
       "      <td>801.000000</td>\n",
       "    </tr>\n",
       "    <tr>\n",
       "      <th>mean</th>\n",
       "      <td>0.996255</td>\n",
       "      <td>1.057116</td>\n",
       "      <td>0.968789</td>\n",
       "      <td>1.073970</td>\n",
       "      <td>1.068976</td>\n",
       "      <td>1.065543</td>\n",
       "      <td>1.135456</td>\n",
       "      <td>1.192884</td>\n",
       "      <td>0.985019</td>\n",
       "      <td>1.034020</td>\n",
       "      <td>...</td>\n",
       "      <td>1.163892</td>\n",
       "      <td>68.958801</td>\n",
       "      <td>55.155761</td>\n",
       "      <td>401.000000</td>\n",
       "      <td>71.305868</td>\n",
       "      <td>70.911361</td>\n",
       "      <td>66.334582</td>\n",
       "      <td>61.378105</td>\n",
       "      <td>3.690387</td>\n",
       "      <td>0.087391</td>\n",
       "    </tr>\n",
       "    <tr>\n",
       "      <th>std</th>\n",
       "      <td>0.597248</td>\n",
       "      <td>0.438142</td>\n",
       "      <td>0.353058</td>\n",
       "      <td>0.654962</td>\n",
       "      <td>0.522167</td>\n",
       "      <td>0.717251</td>\n",
       "      <td>0.691853</td>\n",
       "      <td>0.604488</td>\n",
       "      <td>0.558256</td>\n",
       "      <td>0.788896</td>\n",
       "      <td>...</td>\n",
       "      <td>1.080326</td>\n",
       "      <td>26.576015</td>\n",
       "      <td>20.261623</td>\n",
       "      <td>231.373075</td>\n",
       "      <td>32.353826</td>\n",
       "      <td>27.942501</td>\n",
       "      <td>28.907662</td>\n",
       "      <td>109.354766</td>\n",
       "      <td>1.930420</td>\n",
       "      <td>0.282583</td>\n",
       "    </tr>\n",
       "    <tr>\n",
       "      <th>min</th>\n",
       "      <td>0.250000</td>\n",
       "      <td>0.250000</td>\n",
       "      <td>0.000000</td>\n",
       "      <td>0.000000</td>\n",
       "      <td>0.250000</td>\n",
       "      <td>0.000000</td>\n",
       "      <td>0.250000</td>\n",
       "      <td>0.250000</td>\n",
       "      <td>0.000000</td>\n",
       "      <td>0.250000</td>\n",
       "      <td>...</td>\n",
       "      <td>0.100000</td>\n",
       "      <td>1.000000</td>\n",
       "      <td>0.000000</td>\n",
       "      <td>1.000000</td>\n",
       "      <td>10.000000</td>\n",
       "      <td>20.000000</td>\n",
       "      <td>5.000000</td>\n",
       "      <td>0.100000</td>\n",
       "      <td>1.000000</td>\n",
       "      <td>0.000000</td>\n",
       "    </tr>\n",
       "    <tr>\n",
       "      <th>25%</th>\n",
       "      <td>0.500000</td>\n",
       "      <td>1.000000</td>\n",
       "      <td>1.000000</td>\n",
       "      <td>0.500000</td>\n",
       "      <td>1.000000</td>\n",
       "      <td>0.500000</td>\n",
       "      <td>0.500000</td>\n",
       "      <td>1.000000</td>\n",
       "      <td>1.000000</td>\n",
       "      <td>0.500000</td>\n",
       "      <td>...</td>\n",
       "      <td>0.600000</td>\n",
       "      <td>50.000000</td>\n",
       "      <td>50.000000</td>\n",
       "      <td>201.000000</td>\n",
       "      <td>45.000000</td>\n",
       "      <td>50.000000</td>\n",
       "      <td>45.000000</td>\n",
       "      <td>9.000000</td>\n",
       "      <td>2.000000</td>\n",
       "      <td>0.000000</td>\n",
       "    </tr>\n",
       "    <tr>\n",
       "      <th>50%</th>\n",
       "      <td>1.000000</td>\n",
       "      <td>1.000000</td>\n",
       "      <td>1.000000</td>\n",
       "      <td>1.000000</td>\n",
       "      <td>1.000000</td>\n",
       "      <td>1.000000</td>\n",
       "      <td>1.000000</td>\n",
       "      <td>1.000000</td>\n",
       "      <td>1.000000</td>\n",
       "      <td>1.000000</td>\n",
       "      <td>...</td>\n",
       "      <td>1.000000</td>\n",
       "      <td>65.000000</td>\n",
       "      <td>50.000000</td>\n",
       "      <td>401.000000</td>\n",
       "      <td>65.000000</td>\n",
       "      <td>66.000000</td>\n",
       "      <td>65.000000</td>\n",
       "      <td>27.300000</td>\n",
       "      <td>4.000000</td>\n",
       "      <td>0.000000</td>\n",
       "    </tr>\n",
       "    <tr>\n",
       "      <th>75%</th>\n",
       "      <td>1.000000</td>\n",
       "      <td>1.000000</td>\n",
       "      <td>1.000000</td>\n",
       "      <td>1.000000</td>\n",
       "      <td>1.000000</td>\n",
       "      <td>1.000000</td>\n",
       "      <td>2.000000</td>\n",
       "      <td>1.000000</td>\n",
       "      <td>1.000000</td>\n",
       "      <td>1.000000</td>\n",
       "      <td>...</td>\n",
       "      <td>1.500000</td>\n",
       "      <td>80.000000</td>\n",
       "      <td>50.000000</td>\n",
       "      <td>601.000000</td>\n",
       "      <td>91.000000</td>\n",
       "      <td>90.000000</td>\n",
       "      <td>85.000000</td>\n",
       "      <td>64.800000</td>\n",
       "      <td>5.000000</td>\n",
       "      <td>0.000000</td>\n",
       "    </tr>\n",
       "    <tr>\n",
       "      <th>max</th>\n",
       "      <td>4.000000</td>\n",
       "      <td>4.000000</td>\n",
       "      <td>2.000000</td>\n",
       "      <td>4.000000</td>\n",
       "      <td>4.000000</td>\n",
       "      <td>4.000000</td>\n",
       "      <td>4.000000</td>\n",
       "      <td>4.000000</td>\n",
       "      <td>4.000000</td>\n",
       "      <td>4.000000</td>\n",
       "      <td>...</td>\n",
       "      <td>14.500000</td>\n",
       "      <td>255.000000</td>\n",
       "      <td>100.000000</td>\n",
       "      <td>801.000000</td>\n",
       "      <td>194.000000</td>\n",
       "      <td>230.000000</td>\n",
       "      <td>180.000000</td>\n",
       "      <td>999.900000</td>\n",
       "      <td>7.000000</td>\n",
       "      <td>1.000000</td>\n",
       "    </tr>\n",
       "  </tbody>\n",
       "</table>\n",
       "<p>8 rows × 34 columns</p>\n",
       "</div>"
      ],
      "text/plain": [
       "       against_bug  against_dark  against_dragon  against_electric  \\\n",
       "count   801.000000    801.000000      801.000000        801.000000   \n",
       "mean      0.996255      1.057116        0.968789          1.073970   \n",
       "std       0.597248      0.438142        0.353058          0.654962   \n",
       "min       0.250000      0.250000        0.000000          0.000000   \n",
       "25%       0.500000      1.000000        1.000000          0.500000   \n",
       "50%       1.000000      1.000000        1.000000          1.000000   \n",
       "75%       1.000000      1.000000        1.000000          1.000000   \n",
       "max       4.000000      4.000000        2.000000          4.000000   \n",
       "\n",
       "       against_fairy  against_fight  against_fire  against_flying  \\\n",
       "count     801.000000     801.000000    801.000000      801.000000   \n",
       "mean        1.068976       1.065543      1.135456        1.192884   \n",
       "std         0.522167       0.717251      0.691853        0.604488   \n",
       "min         0.250000       0.000000      0.250000        0.250000   \n",
       "25%         1.000000       0.500000      0.500000        1.000000   \n",
       "50%         1.000000       1.000000      1.000000        1.000000   \n",
       "75%         1.000000       1.000000      2.000000        1.000000   \n",
       "max         4.000000       4.000000      4.000000        4.000000   \n",
       "\n",
       "       against_ghost  against_grass  ...    height_m          hp  \\\n",
       "count     801.000000     801.000000  ...  781.000000  801.000000   \n",
       "mean        0.985019       1.034020  ...    1.163892   68.958801   \n",
       "std         0.558256       0.788896  ...    1.080326   26.576015   \n",
       "min         0.000000       0.250000  ...    0.100000    1.000000   \n",
       "25%         1.000000       0.500000  ...    0.600000   50.000000   \n",
       "50%         1.000000       1.000000  ...    1.000000   65.000000   \n",
       "75%         1.000000       1.000000  ...    1.500000   80.000000   \n",
       "max         4.000000       4.000000  ...   14.500000  255.000000   \n",
       "\n",
       "       percentage_male  pokedex_number   sp_attack  sp_defense       speed  \\\n",
       "count       703.000000      801.000000  801.000000  801.000000  801.000000   \n",
       "mean         55.155761      401.000000   71.305868   70.911361   66.334582   \n",
       "std          20.261623      231.373075   32.353826   27.942501   28.907662   \n",
       "min           0.000000        1.000000   10.000000   20.000000    5.000000   \n",
       "25%          50.000000      201.000000   45.000000   50.000000   45.000000   \n",
       "50%          50.000000      401.000000   65.000000   66.000000   65.000000   \n",
       "75%          50.000000      601.000000   91.000000   90.000000   85.000000   \n",
       "max         100.000000      801.000000  194.000000  230.000000  180.000000   \n",
       "\n",
       "        weight_kg  generation  is_legendary  \n",
       "count  781.000000  801.000000    801.000000  \n",
       "mean    61.378105    3.690387      0.087391  \n",
       "std    109.354766    1.930420      0.282583  \n",
       "min      0.100000    1.000000      0.000000  \n",
       "25%      9.000000    2.000000      0.000000  \n",
       "50%     27.300000    4.000000      0.000000  \n",
       "75%     64.800000    5.000000      0.000000  \n",
       "max    999.900000    7.000000      1.000000  \n",
       "\n",
       "[8 rows x 34 columns]"
      ]
     },
     "metadata": {},
     "output_type": "display_data"
    },
    {
     "name": "stdout",
     "output_type": "stream",
     "text": [
      "\n",
      "Unique Pokémon types:\n"
     ]
    },
    {
     "data": {
      "text/plain": [
       "type1\n",
       "water       114\n",
       "normal      105\n",
       "grass        78\n",
       "bug          72\n",
       "psychic      53\n",
       "fire         52\n",
       "rock         45\n",
       "electric     39\n",
       "poison       32\n",
       "ground       32\n",
       "dark         29\n",
       "fighting     28\n",
       "dragon       27\n",
       "ghost        27\n",
       "steel        24\n",
       "ice          23\n",
       "fairy        18\n",
       "flying        3\n",
       "Name: count, dtype: int64"
      ]
     },
     "metadata": {},
     "output_type": "display_data"
    },
    {
     "name": "stdout",
     "output_type": "stream",
     "text": [
      "\n",
      "Unique generations:\n"
     ]
    },
    {
     "data": {
      "text/plain": [
       "generation\n",
       "5    156\n",
       "1    151\n",
       "3    135\n",
       "4    107\n",
       "2    100\n",
       "7     80\n",
       "6     72\n",
       "Name: count, dtype: int64"
      ]
     },
     "metadata": {},
     "output_type": "display_data"
    },
    {
     "name": "stdout",
     "output_type": "stream",
     "text": [
      "\n",
      "Legendary Pokémon count:\n"
     ]
    },
    {
     "data": {
      "text/plain": [
       "is_legendary\n",
       "0    731\n",
       "1     70\n",
       "Name: count, dtype: int64"
      ]
     },
     "metadata": {},
     "output_type": "display_data"
    }
   ],
   "source": [
    "# Load the Pokémon dataset\n",
    "# Note: Adjust the file path if needed\n",
    "try:\n",
    "    df = pd.read_csv('data/pokemon.csv')\n",
    "except FileNotFoundError:\n",
    "    try:\n",
    "        # Alternative path if the file is not in the current directory\n",
    "        df = pd.read_csv('/home/neel/code/python/pr-assignment/pokemon.csv')\n",
    "    except FileNotFoundError:\n",
    "        print(\"Please download the Pokémon dataset and place it in the appropriate directory\")\n",
    "        # You can add code to download the dataset if needed\n",
    "        # For example:\n",
    "        # !wget https://raw.githubusercontent.com/path/to/pokemon.csv\n",
    "\n",
    "# Display the first few rows of the dataset\n",
    "print(\"First 5 rows of the dataset:\")\n",
    "display(df.head())\n",
    "\n",
    "# Get basic information about the dataset\n",
    "print(\"\\nDataset information:\")\n",
    "display(df.info())\n",
    "\n",
    "# Check for missing values\n",
    "print(\"\\nMissing values in each column:\")\n",
    "display(df.isna().sum())\n",
    "\n",
    "# Get statistical summary of numerical features\n",
    "print(\"\\nStatistical summary of numerical features:\")\n",
    "display(df.describe())\n",
    "\n",
    "# Get unique values for categorical columns\n",
    "print(\"\\nUnique Pokémon types:\")\n",
    "if 'type1' in df.columns:\n",
    "    display(df['type1'].value_counts())\n",
    "    \n",
    "print(\"\\nUnique generations:\")\n",
    "if 'generation' in df.columns:\n",
    "    display(df['generation'].value_counts())\n",
    "    \n",
    "print(\"\\nLegendary Pokémon count:\")\n",
    "if 'is_legendary' in df.columns:\n",
    "    display(df['is_legendary'].value_counts())"
   ]
  },
  {
   "cell_type": "markdown",
   "id": "cc143aa7",
   "metadata": {},
   "source": [
    "### Data Visualization\n",
    "\n",
    "Let's visualize the distribution of some important features to better understand our dataset."
   ]
  },
  {
   "cell_type": "markdown",
   "id": "5130c0b5",
   "metadata": {},
   "source": [
    "# Principal Component Analysis on Pokémon Dataset\n",
    "\n",
    "This notebook implements PCA on the Pokémon dataset to analyze:\n",
    "1. Core battle stats (attack, defense, hp, etc.)\n",
    "2. Type effectiveness profiles (weaknesses and resistances)\n",
    "\n",
    "We'll explore how different Pokémon types and generations cluster together in reduced dimensions."
   ]
  },
  {
   "cell_type": "markdown",
   "id": "b03c8542",
   "metadata": {},
   "source": [
    "## 1. Load and Explore Dataset\n",
    "\n",
    "First, let's import necessary libraries and load the Pokémon dataset."
   ]
  },
  {
   "cell_type": "code",
   "execution_count": 4,
   "id": "8c9fc8eb",
   "metadata": {},
   "outputs": [],
   "source": [
    "# Import required libraries\n",
    "import numpy as np\n",
    "import pandas as pd\n",
    "import matplotlib.pyplot as plt\n",
    "import seaborn as sns\n",
    "from sklearn.preprocessing import StandardScaler\n",
    "from sklearn.decomposition import PCA\n",
    "import plotly.express as px\n",
    "import plotly.graph_objects as go\n",
    "from plotly.subplots import make_subplots\n",
    "\n",
    "# Set the style for matplotlib plots\n",
    "plt.style.use('ggplot')\n",
    "sns.set(style=\"whitegrid\")\n",
    "\n",
    "# Suppress warnings\n",
    "import warnings\n",
    "warnings.filterwarnings('ignore')"
   ]
  },
  {
   "cell_type": "code",
   "execution_count": 5,
   "id": "21cba9ec",
   "metadata": {},
   "outputs": [
    {
     "name": "stdout",
     "output_type": "stream",
     "text": [
      "Dataset Preview:\n"
     ]
    },
    {
     "data": {
      "text/html": [
       "<div>\n",
       "<style scoped>\n",
       "    .dataframe tbody tr th:only-of-type {\n",
       "        vertical-align: middle;\n",
       "    }\n",
       "\n",
       "    .dataframe tbody tr th {\n",
       "        vertical-align: top;\n",
       "    }\n",
       "\n",
       "    .dataframe thead th {\n",
       "        text-align: right;\n",
       "    }\n",
       "</style>\n",
       "<table border=\"1\" class=\"dataframe\">\n",
       "  <thead>\n",
       "    <tr style=\"text-align: right;\">\n",
       "      <th></th>\n",
       "      <th>abilities</th>\n",
       "      <th>against_bug</th>\n",
       "      <th>against_dark</th>\n",
       "      <th>against_dragon</th>\n",
       "      <th>against_electric</th>\n",
       "      <th>against_fairy</th>\n",
       "      <th>against_fight</th>\n",
       "      <th>against_fire</th>\n",
       "      <th>against_flying</th>\n",
       "      <th>against_ghost</th>\n",
       "      <th>...</th>\n",
       "      <th>percentage_male</th>\n",
       "      <th>pokedex_number</th>\n",
       "      <th>sp_attack</th>\n",
       "      <th>sp_defense</th>\n",
       "      <th>speed</th>\n",
       "      <th>type1</th>\n",
       "      <th>type2</th>\n",
       "      <th>weight_kg</th>\n",
       "      <th>generation</th>\n",
       "      <th>is_legendary</th>\n",
       "    </tr>\n",
       "  </thead>\n",
       "  <tbody>\n",
       "    <tr>\n",
       "      <th>0</th>\n",
       "      <td>['Overgrow', 'Chlorophyll']</td>\n",
       "      <td>1.0</td>\n",
       "      <td>1.0</td>\n",
       "      <td>1.0</td>\n",
       "      <td>0.5</td>\n",
       "      <td>0.5</td>\n",
       "      <td>0.5</td>\n",
       "      <td>2.0</td>\n",
       "      <td>2.0</td>\n",
       "      <td>1.0</td>\n",
       "      <td>...</td>\n",
       "      <td>88.1</td>\n",
       "      <td>1</td>\n",
       "      <td>65</td>\n",
       "      <td>65</td>\n",
       "      <td>45</td>\n",
       "      <td>grass</td>\n",
       "      <td>poison</td>\n",
       "      <td>6.9</td>\n",
       "      <td>1</td>\n",
       "      <td>0</td>\n",
       "    </tr>\n",
       "    <tr>\n",
       "      <th>1</th>\n",
       "      <td>['Overgrow', 'Chlorophyll']</td>\n",
       "      <td>1.0</td>\n",
       "      <td>1.0</td>\n",
       "      <td>1.0</td>\n",
       "      <td>0.5</td>\n",
       "      <td>0.5</td>\n",
       "      <td>0.5</td>\n",
       "      <td>2.0</td>\n",
       "      <td>2.0</td>\n",
       "      <td>1.0</td>\n",
       "      <td>...</td>\n",
       "      <td>88.1</td>\n",
       "      <td>2</td>\n",
       "      <td>80</td>\n",
       "      <td>80</td>\n",
       "      <td>60</td>\n",
       "      <td>grass</td>\n",
       "      <td>poison</td>\n",
       "      <td>13.0</td>\n",
       "      <td>1</td>\n",
       "      <td>0</td>\n",
       "    </tr>\n",
       "    <tr>\n",
       "      <th>2</th>\n",
       "      <td>['Overgrow', 'Chlorophyll']</td>\n",
       "      <td>1.0</td>\n",
       "      <td>1.0</td>\n",
       "      <td>1.0</td>\n",
       "      <td>0.5</td>\n",
       "      <td>0.5</td>\n",
       "      <td>0.5</td>\n",
       "      <td>2.0</td>\n",
       "      <td>2.0</td>\n",
       "      <td>1.0</td>\n",
       "      <td>...</td>\n",
       "      <td>88.1</td>\n",
       "      <td>3</td>\n",
       "      <td>122</td>\n",
       "      <td>120</td>\n",
       "      <td>80</td>\n",
       "      <td>grass</td>\n",
       "      <td>poison</td>\n",
       "      <td>100.0</td>\n",
       "      <td>1</td>\n",
       "      <td>0</td>\n",
       "    </tr>\n",
       "    <tr>\n",
       "      <th>3</th>\n",
       "      <td>['Blaze', 'Solar Power']</td>\n",
       "      <td>0.5</td>\n",
       "      <td>1.0</td>\n",
       "      <td>1.0</td>\n",
       "      <td>1.0</td>\n",
       "      <td>0.5</td>\n",
       "      <td>1.0</td>\n",
       "      <td>0.5</td>\n",
       "      <td>1.0</td>\n",
       "      <td>1.0</td>\n",
       "      <td>...</td>\n",
       "      <td>88.1</td>\n",
       "      <td>4</td>\n",
       "      <td>60</td>\n",
       "      <td>50</td>\n",
       "      <td>65</td>\n",
       "      <td>fire</td>\n",
       "      <td>NaN</td>\n",
       "      <td>8.5</td>\n",
       "      <td>1</td>\n",
       "      <td>0</td>\n",
       "    </tr>\n",
       "    <tr>\n",
       "      <th>4</th>\n",
       "      <td>['Blaze', 'Solar Power']</td>\n",
       "      <td>0.5</td>\n",
       "      <td>1.0</td>\n",
       "      <td>1.0</td>\n",
       "      <td>1.0</td>\n",
       "      <td>0.5</td>\n",
       "      <td>1.0</td>\n",
       "      <td>0.5</td>\n",
       "      <td>1.0</td>\n",
       "      <td>1.0</td>\n",
       "      <td>...</td>\n",
       "      <td>88.1</td>\n",
       "      <td>5</td>\n",
       "      <td>80</td>\n",
       "      <td>65</td>\n",
       "      <td>80</td>\n",
       "      <td>fire</td>\n",
       "      <td>NaN</td>\n",
       "      <td>19.0</td>\n",
       "      <td>1</td>\n",
       "      <td>0</td>\n",
       "    </tr>\n",
       "  </tbody>\n",
       "</table>\n",
       "<p>5 rows × 41 columns</p>\n",
       "</div>"
      ],
      "text/plain": [
       "                     abilities  against_bug  against_dark  against_dragon  \\\n",
       "0  ['Overgrow', 'Chlorophyll']          1.0           1.0             1.0   \n",
       "1  ['Overgrow', 'Chlorophyll']          1.0           1.0             1.0   \n",
       "2  ['Overgrow', 'Chlorophyll']          1.0           1.0             1.0   \n",
       "3     ['Blaze', 'Solar Power']          0.5           1.0             1.0   \n",
       "4     ['Blaze', 'Solar Power']          0.5           1.0             1.0   \n",
       "\n",
       "   against_electric  against_fairy  against_fight  against_fire  \\\n",
       "0               0.5            0.5            0.5           2.0   \n",
       "1               0.5            0.5            0.5           2.0   \n",
       "2               0.5            0.5            0.5           2.0   \n",
       "3               1.0            0.5            1.0           0.5   \n",
       "4               1.0            0.5            1.0           0.5   \n",
       "\n",
       "   against_flying  against_ghost  ...  percentage_male  pokedex_number  \\\n",
       "0             2.0            1.0  ...             88.1               1   \n",
       "1             2.0            1.0  ...             88.1               2   \n",
       "2             2.0            1.0  ...             88.1               3   \n",
       "3             1.0            1.0  ...             88.1               4   \n",
       "4             1.0            1.0  ...             88.1               5   \n",
       "\n",
       "   sp_attack  sp_defense  speed  type1   type2  weight_kg  generation  \\\n",
       "0         65          65     45  grass  poison        6.9           1   \n",
       "1         80          80     60  grass  poison       13.0           1   \n",
       "2        122         120     80  grass  poison      100.0           1   \n",
       "3         60          50     65   fire     NaN        8.5           1   \n",
       "4         80          65     80   fire     NaN       19.0           1   \n",
       "\n",
       "   is_legendary  \n",
       "0             0  \n",
       "1             0  \n",
       "2             0  \n",
       "3             0  \n",
       "4             0  \n",
       "\n",
       "[5 rows x 41 columns]"
      ]
     },
     "execution_count": 5,
     "metadata": {},
     "output_type": "execute_result"
    }
   ],
   "source": [
    "# Load the Pokémon dataset\n",
    "# Note: You may need to adjust the file path based on your actual data location\n",
    "try:\n",
    "    pokemon_df = pd.read_csv('data/pokemon.csv')\n",
    "except FileNotFoundError:\n",
    "    # Alternative location\n",
    "    pokemon_df = pd.read_csv('../data/pokemon.csv')\n",
    "    \n",
    "# Display the first few rows\n",
    "print(\"Dataset Preview:\")\n",
    "pokemon_df.head()"
   ]
  },
  {
   "cell_type": "code",
   "execution_count": 6,
   "id": "2fad783a",
   "metadata": {},
   "outputs": [
    {
     "name": "stdout",
     "output_type": "stream",
     "text": [
      "Dataset shape: (801, 41)\n",
      "\n",
      "Basic Statistics:\n"
     ]
    },
    {
     "data": {
      "text/html": [
       "<div>\n",
       "<style scoped>\n",
       "    .dataframe tbody tr th:only-of-type {\n",
       "        vertical-align: middle;\n",
       "    }\n",
       "\n",
       "    .dataframe tbody tr th {\n",
       "        vertical-align: top;\n",
       "    }\n",
       "\n",
       "    .dataframe thead th {\n",
       "        text-align: right;\n",
       "    }\n",
       "</style>\n",
       "<table border=\"1\" class=\"dataframe\">\n",
       "  <thead>\n",
       "    <tr style=\"text-align: right;\">\n",
       "      <th></th>\n",
       "      <th>against_bug</th>\n",
       "      <th>against_dark</th>\n",
       "      <th>against_dragon</th>\n",
       "      <th>against_electric</th>\n",
       "      <th>against_fairy</th>\n",
       "      <th>against_fight</th>\n",
       "      <th>against_fire</th>\n",
       "      <th>against_flying</th>\n",
       "      <th>against_ghost</th>\n",
       "      <th>against_grass</th>\n",
       "      <th>...</th>\n",
       "      <th>height_m</th>\n",
       "      <th>hp</th>\n",
       "      <th>percentage_male</th>\n",
       "      <th>pokedex_number</th>\n",
       "      <th>sp_attack</th>\n",
       "      <th>sp_defense</th>\n",
       "      <th>speed</th>\n",
       "      <th>weight_kg</th>\n",
       "      <th>generation</th>\n",
       "      <th>is_legendary</th>\n",
       "    </tr>\n",
       "  </thead>\n",
       "  <tbody>\n",
       "    <tr>\n",
       "      <th>count</th>\n",
       "      <td>801.000000</td>\n",
       "      <td>801.000000</td>\n",
       "      <td>801.000000</td>\n",
       "      <td>801.000000</td>\n",
       "      <td>801.000000</td>\n",
       "      <td>801.000000</td>\n",
       "      <td>801.000000</td>\n",
       "      <td>801.000000</td>\n",
       "      <td>801.000000</td>\n",
       "      <td>801.000000</td>\n",
       "      <td>...</td>\n",
       "      <td>781.000000</td>\n",
       "      <td>801.000000</td>\n",
       "      <td>703.000000</td>\n",
       "      <td>801.000000</td>\n",
       "      <td>801.000000</td>\n",
       "      <td>801.000000</td>\n",
       "      <td>801.000000</td>\n",
       "      <td>781.000000</td>\n",
       "      <td>801.000000</td>\n",
       "      <td>801.000000</td>\n",
       "    </tr>\n",
       "    <tr>\n",
       "      <th>mean</th>\n",
       "      <td>0.996255</td>\n",
       "      <td>1.057116</td>\n",
       "      <td>0.968789</td>\n",
       "      <td>1.073970</td>\n",
       "      <td>1.068976</td>\n",
       "      <td>1.065543</td>\n",
       "      <td>1.135456</td>\n",
       "      <td>1.192884</td>\n",
       "      <td>0.985019</td>\n",
       "      <td>1.034020</td>\n",
       "      <td>...</td>\n",
       "      <td>1.163892</td>\n",
       "      <td>68.958801</td>\n",
       "      <td>55.155761</td>\n",
       "      <td>401.000000</td>\n",
       "      <td>71.305868</td>\n",
       "      <td>70.911361</td>\n",
       "      <td>66.334582</td>\n",
       "      <td>61.378105</td>\n",
       "      <td>3.690387</td>\n",
       "      <td>0.087391</td>\n",
       "    </tr>\n",
       "    <tr>\n",
       "      <th>std</th>\n",
       "      <td>0.597248</td>\n",
       "      <td>0.438142</td>\n",
       "      <td>0.353058</td>\n",
       "      <td>0.654962</td>\n",
       "      <td>0.522167</td>\n",
       "      <td>0.717251</td>\n",
       "      <td>0.691853</td>\n",
       "      <td>0.604488</td>\n",
       "      <td>0.558256</td>\n",
       "      <td>0.788896</td>\n",
       "      <td>...</td>\n",
       "      <td>1.080326</td>\n",
       "      <td>26.576015</td>\n",
       "      <td>20.261623</td>\n",
       "      <td>231.373075</td>\n",
       "      <td>32.353826</td>\n",
       "      <td>27.942501</td>\n",
       "      <td>28.907662</td>\n",
       "      <td>109.354766</td>\n",
       "      <td>1.930420</td>\n",
       "      <td>0.282583</td>\n",
       "    </tr>\n",
       "    <tr>\n",
       "      <th>min</th>\n",
       "      <td>0.250000</td>\n",
       "      <td>0.250000</td>\n",
       "      <td>0.000000</td>\n",
       "      <td>0.000000</td>\n",
       "      <td>0.250000</td>\n",
       "      <td>0.000000</td>\n",
       "      <td>0.250000</td>\n",
       "      <td>0.250000</td>\n",
       "      <td>0.000000</td>\n",
       "      <td>0.250000</td>\n",
       "      <td>...</td>\n",
       "      <td>0.100000</td>\n",
       "      <td>1.000000</td>\n",
       "      <td>0.000000</td>\n",
       "      <td>1.000000</td>\n",
       "      <td>10.000000</td>\n",
       "      <td>20.000000</td>\n",
       "      <td>5.000000</td>\n",
       "      <td>0.100000</td>\n",
       "      <td>1.000000</td>\n",
       "      <td>0.000000</td>\n",
       "    </tr>\n",
       "    <tr>\n",
       "      <th>25%</th>\n",
       "      <td>0.500000</td>\n",
       "      <td>1.000000</td>\n",
       "      <td>1.000000</td>\n",
       "      <td>0.500000</td>\n",
       "      <td>1.000000</td>\n",
       "      <td>0.500000</td>\n",
       "      <td>0.500000</td>\n",
       "      <td>1.000000</td>\n",
       "      <td>1.000000</td>\n",
       "      <td>0.500000</td>\n",
       "      <td>...</td>\n",
       "      <td>0.600000</td>\n",
       "      <td>50.000000</td>\n",
       "      <td>50.000000</td>\n",
       "      <td>201.000000</td>\n",
       "      <td>45.000000</td>\n",
       "      <td>50.000000</td>\n",
       "      <td>45.000000</td>\n",
       "      <td>9.000000</td>\n",
       "      <td>2.000000</td>\n",
       "      <td>0.000000</td>\n",
       "    </tr>\n",
       "    <tr>\n",
       "      <th>50%</th>\n",
       "      <td>1.000000</td>\n",
       "      <td>1.000000</td>\n",
       "      <td>1.000000</td>\n",
       "      <td>1.000000</td>\n",
       "      <td>1.000000</td>\n",
       "      <td>1.000000</td>\n",
       "      <td>1.000000</td>\n",
       "      <td>1.000000</td>\n",
       "      <td>1.000000</td>\n",
       "      <td>1.000000</td>\n",
       "      <td>...</td>\n",
       "      <td>1.000000</td>\n",
       "      <td>65.000000</td>\n",
       "      <td>50.000000</td>\n",
       "      <td>401.000000</td>\n",
       "      <td>65.000000</td>\n",
       "      <td>66.000000</td>\n",
       "      <td>65.000000</td>\n",
       "      <td>27.300000</td>\n",
       "      <td>4.000000</td>\n",
       "      <td>0.000000</td>\n",
       "    </tr>\n",
       "    <tr>\n",
       "      <th>75%</th>\n",
       "      <td>1.000000</td>\n",
       "      <td>1.000000</td>\n",
       "      <td>1.000000</td>\n",
       "      <td>1.000000</td>\n",
       "      <td>1.000000</td>\n",
       "      <td>1.000000</td>\n",
       "      <td>2.000000</td>\n",
       "      <td>1.000000</td>\n",
       "      <td>1.000000</td>\n",
       "      <td>1.000000</td>\n",
       "      <td>...</td>\n",
       "      <td>1.500000</td>\n",
       "      <td>80.000000</td>\n",
       "      <td>50.000000</td>\n",
       "      <td>601.000000</td>\n",
       "      <td>91.000000</td>\n",
       "      <td>90.000000</td>\n",
       "      <td>85.000000</td>\n",
       "      <td>64.800000</td>\n",
       "      <td>5.000000</td>\n",
       "      <td>0.000000</td>\n",
       "    </tr>\n",
       "    <tr>\n",
       "      <th>max</th>\n",
       "      <td>4.000000</td>\n",
       "      <td>4.000000</td>\n",
       "      <td>2.000000</td>\n",
       "      <td>4.000000</td>\n",
       "      <td>4.000000</td>\n",
       "      <td>4.000000</td>\n",
       "      <td>4.000000</td>\n",
       "      <td>4.000000</td>\n",
       "      <td>4.000000</td>\n",
       "      <td>4.000000</td>\n",
       "      <td>...</td>\n",
       "      <td>14.500000</td>\n",
       "      <td>255.000000</td>\n",
       "      <td>100.000000</td>\n",
       "      <td>801.000000</td>\n",
       "      <td>194.000000</td>\n",
       "      <td>230.000000</td>\n",
       "      <td>180.000000</td>\n",
       "      <td>999.900000</td>\n",
       "      <td>7.000000</td>\n",
       "      <td>1.000000</td>\n",
       "    </tr>\n",
       "  </tbody>\n",
       "</table>\n",
       "<p>8 rows × 34 columns</p>\n",
       "</div>"
      ],
      "text/plain": [
       "       against_bug  against_dark  against_dragon  against_electric  \\\n",
       "count   801.000000    801.000000      801.000000        801.000000   \n",
       "mean      0.996255      1.057116        0.968789          1.073970   \n",
       "std       0.597248      0.438142        0.353058          0.654962   \n",
       "min       0.250000      0.250000        0.000000          0.000000   \n",
       "25%       0.500000      1.000000        1.000000          0.500000   \n",
       "50%       1.000000      1.000000        1.000000          1.000000   \n",
       "75%       1.000000      1.000000        1.000000          1.000000   \n",
       "max       4.000000      4.000000        2.000000          4.000000   \n",
       "\n",
       "       against_fairy  against_fight  against_fire  against_flying  \\\n",
       "count     801.000000     801.000000    801.000000      801.000000   \n",
       "mean        1.068976       1.065543      1.135456        1.192884   \n",
       "std         0.522167       0.717251      0.691853        0.604488   \n",
       "min         0.250000       0.000000      0.250000        0.250000   \n",
       "25%         1.000000       0.500000      0.500000        1.000000   \n",
       "50%         1.000000       1.000000      1.000000        1.000000   \n",
       "75%         1.000000       1.000000      2.000000        1.000000   \n",
       "max         4.000000       4.000000      4.000000        4.000000   \n",
       "\n",
       "       against_ghost  against_grass  ...    height_m          hp  \\\n",
       "count     801.000000     801.000000  ...  781.000000  801.000000   \n",
       "mean        0.985019       1.034020  ...    1.163892   68.958801   \n",
       "std         0.558256       0.788896  ...    1.080326   26.576015   \n",
       "min         0.000000       0.250000  ...    0.100000    1.000000   \n",
       "25%         1.000000       0.500000  ...    0.600000   50.000000   \n",
       "50%         1.000000       1.000000  ...    1.000000   65.000000   \n",
       "75%         1.000000       1.000000  ...    1.500000   80.000000   \n",
       "max         4.000000       4.000000  ...   14.500000  255.000000   \n",
       "\n",
       "       percentage_male  pokedex_number   sp_attack  sp_defense       speed  \\\n",
       "count       703.000000      801.000000  801.000000  801.000000  801.000000   \n",
       "mean         55.155761      401.000000   71.305868   70.911361   66.334582   \n",
       "std          20.261623      231.373075   32.353826   27.942501   28.907662   \n",
       "min           0.000000        1.000000   10.000000   20.000000    5.000000   \n",
       "25%          50.000000      201.000000   45.000000   50.000000   45.000000   \n",
       "50%          50.000000      401.000000   65.000000   66.000000   65.000000   \n",
       "75%          50.000000      601.000000   91.000000   90.000000   85.000000   \n",
       "max         100.000000      801.000000  194.000000  230.000000  180.000000   \n",
       "\n",
       "        weight_kg  generation  is_legendary  \n",
       "count  781.000000  801.000000    801.000000  \n",
       "mean    61.378105    3.690387      0.087391  \n",
       "std    109.354766    1.930420      0.282583  \n",
       "min      0.100000    1.000000      0.000000  \n",
       "25%      9.000000    2.000000      0.000000  \n",
       "50%     27.300000    4.000000      0.000000  \n",
       "75%     64.800000    5.000000      0.000000  \n",
       "max    999.900000    7.000000      1.000000  \n",
       "\n",
       "[8 rows x 34 columns]"
      ]
     },
     "execution_count": 6,
     "metadata": {},
     "output_type": "execute_result"
    }
   ],
   "source": [
    "# Check the shape of the dataset\n",
    "print(f\"Dataset shape: {pokemon_df.shape}\")\n",
    "\n",
    "# Check for basic statistics\n",
    "print(\"\\nBasic Statistics:\")\n",
    "pokemon_df.describe()"
   ]
  },
  {
   "cell_type": "code",
   "execution_count": 7,
   "id": "be95d70e",
   "metadata": {},
   "outputs": [
    {
     "name": "stdout",
     "output_type": "stream",
     "text": [
      "Missing values in each column:\n"
     ]
    },
    {
     "data": {
      "text/plain": [
       "abilities              0\n",
       "against_bug            0\n",
       "against_dark           0\n",
       "against_dragon         0\n",
       "against_electric       0\n",
       "against_fairy          0\n",
       "against_fight          0\n",
       "against_fire           0\n",
       "against_flying         0\n",
       "against_ghost          0\n",
       "against_grass          0\n",
       "against_ground         0\n",
       "against_ice            0\n",
       "against_normal         0\n",
       "against_poison         0\n",
       "against_psychic        0\n",
       "against_rock           0\n",
       "against_steel          0\n",
       "against_water          0\n",
       "attack                 0\n",
       "base_egg_steps         0\n",
       "base_happiness         0\n",
       "base_total             0\n",
       "capture_rate           0\n",
       "classfication          0\n",
       "defense                0\n",
       "experience_growth      0\n",
       "height_m              20\n",
       "hp                     0\n",
       "japanese_name          0\n",
       "name                   0\n",
       "percentage_male       98\n",
       "pokedex_number         0\n",
       "sp_attack              0\n",
       "sp_defense             0\n",
       "speed                  0\n",
       "type1                  0\n",
       "type2                384\n",
       "weight_kg             20\n",
       "generation             0\n",
       "is_legendary           0\n",
       "dtype: int64"
      ]
     },
     "execution_count": 7,
     "metadata": {},
     "output_type": "execute_result"
    }
   ],
   "source": [
    "# Check for missing values\n",
    "print(\"Missing values in each column:\")\n",
    "pokemon_df.isnull().sum()"
   ]
  },
  {
   "cell_type": "code",
   "execution_count": 8,
   "id": "9df05463",
   "metadata": {},
   "outputs": [
    {
     "name": "stdout",
     "output_type": "stream",
     "text": [
      "Column names and data types:\n",
      "<class 'pandas.core.frame.DataFrame'>\n",
      "RangeIndex: 801 entries, 0 to 800\n",
      "Data columns (total 41 columns):\n",
      " #   Column             Non-Null Count  Dtype  \n",
      "---  ------             --------------  -----  \n",
      " 0   abilities          801 non-null    object \n",
      " 1   against_bug        801 non-null    float64\n",
      " 2   against_dark       801 non-null    float64\n",
      " 3   against_dragon     801 non-null    float64\n",
      " 4   against_electric   801 non-null    float64\n",
      " 5   against_fairy      801 non-null    float64\n",
      " 6   against_fight      801 non-null    float64\n",
      " 7   against_fire       801 non-null    float64\n",
      " 8   against_flying     801 non-null    float64\n",
      " 9   against_ghost      801 non-null    float64\n",
      " 10  against_grass      801 non-null    float64\n",
      " 11  against_ground     801 non-null    float64\n",
      " 12  against_ice        801 non-null    float64\n",
      " 13  against_normal     801 non-null    float64\n",
      " 14  against_poison     801 non-null    float64\n",
      " 15  against_psychic    801 non-null    float64\n",
      " 16  against_rock       801 non-null    float64\n",
      " 17  against_steel      801 non-null    float64\n",
      " 18  against_water      801 non-null    float64\n",
      " 19  attack             801 non-null    int64  \n",
      " 20  base_egg_steps     801 non-null    int64  \n",
      " 21  base_happiness     801 non-null    int64  \n",
      " 22  base_total         801 non-null    int64  \n",
      " 23  capture_rate       801 non-null    object \n",
      " 24  classfication      801 non-null    object \n",
      " 25  defense            801 non-null    int64  \n",
      " 26  experience_growth  801 non-null    int64  \n",
      " 27  height_m           781 non-null    float64\n",
      " 28  hp                 801 non-null    int64  \n",
      " 29  japanese_name      801 non-null    object \n",
      " 30  name               801 non-null    object \n",
      " 31  percentage_male    703 non-null    float64\n",
      " 32  pokedex_number     801 non-null    int64  \n",
      " 33  sp_attack          801 non-null    int64  \n",
      " 34  sp_defense         801 non-null    int64  \n",
      " 35  speed              801 non-null    int64  \n",
      " 36  type1              801 non-null    object \n",
      " 37  type2              417 non-null    object \n",
      " 38  weight_kg          781 non-null    float64\n",
      " 39  generation         801 non-null    int64  \n",
      " 40  is_legendary       801 non-null    int64  \n",
      "dtypes: float64(21), int64(13), object(7)\n",
      "memory usage: 256.7+ KB\n"
     ]
    }
   ],
   "source": [
    "# Explore the dataset structure\n",
    "print(\"Column names and data types:\")\n",
    "pokemon_df.info()"
   ]
  },
  {
   "cell_type": "markdown",
   "id": "044fc61c",
   "metadata": {},
   "source": [
    "## 2. Preprocess Data\n",
    "\n",
    "Now we'll preprocess the data:\n",
    "- Handle missing values\n",
    "- Log-transform skewed features (e.g., height_m, weight_kg)\n",
    "- Scale numerical features using StandardScaler"
   ]
  },
  {
   "cell_type": "code",
   "execution_count": 9,
   "id": "e74f4150",
   "metadata": {},
   "outputs": [
    {
     "name": "stdout",
     "output_type": "stream",
     "text": [
      "Missing values after handling: 0\n"
     ]
    }
   ],
   "source": [
    "# Create a copy of the original dataframe\n",
    "pokemon_clean = pokemon_df.copy()\n",
    "\n",
    "# Handle missing values\n",
    "# For numerical columns, fill with median\n",
    "numeric_cols = pokemon_clean.select_dtypes(include=['int64', 'float64']).columns\n",
    "pokemon_clean[numeric_cols] = pokemon_clean[numeric_cols].fillna(pokemon_clean[numeric_cols].median())\n",
    "\n",
    "# For categorical columns, fill with mode\n",
    "categorical_cols = pokemon_clean.select_dtypes(include=['object']).columns\n",
    "for col in categorical_cols:\n",
    "    pokemon_clean[col] = pokemon_clean[col].fillna(pokemon_clean[col].mode()[0])\n",
    "\n",
    "# Check if all missing values have been addressed\n",
    "print(f\"Missing values after handling: {pokemon_clean.isnull().sum().sum()}\")"
   ]
  },
  {
   "cell_type": "code",
   "execution_count": 10,
   "id": "e57095ef",
   "metadata": {},
   "outputs": [
    {
     "data": {
      "image/png": "[encoded data removed]",
      "text/plain": [
       "<Figure size 1200x400 with 2 Axes>"
      ]
     },
     "metadata": {},
     "output_type": "display_data"
    },
    {
     "data": {
      "image/png": "[encoded data removed]",
      "text/plain": [
       "<Figure size 1200x400 with 2 Axes>"
      ]
     },
     "metadata": {},
     "output_type": "display_data"
    }
   ],
   "source": [
    "# Log-transform skewed features like height and weight (if they exist)\n",
    "skewed_features = ['height_m', 'weight_kg']\n",
    "for feature in skewed_features:\n",
    "    if feature in pokemon_clean.columns:\n",
    "        # Add a small constant to avoid log(0)\n",
    "        pokemon_clean[f'{feature}_log'] = np.log1p(pokemon_clean[feature].replace(0, 0.01))\n",
    "        \n",
    "        # Plot original vs log-transformed distribution\n",
    "        fig, ax = plt.subplots(1, 2, figsize=(12, 4))\n",
    "        sns.histplot(pokemon_clean[feature], ax=ax[0], kde=True)\n",
    "        ax[0].set_title(f'Original {feature} Distribution')\n",
    "        \n",
    "        sns.histplot(pokemon_clean[f'{feature}_log'], ax=ax[1], kde=True)\n",
    "        ax[1].set_title(f'Log-Transformed {feature} Distribution')\n",
    "        plt.tight_layout()\n",
    "        plt.show()"
   ]
  },
  {
   "cell_type": "markdown",
   "id": "8f352d9f",
   "metadata": {},
   "source": [
    "## 3. PCA on Core Battle Stats\n",
    "\n",
    "In this section, we'll apply PCA to the core battle stats:\n",
    "- HP\n",
    "- Attack\n",
    "- Defense\n",
    "- Special Attack\n",
    "- Special Defense\n",
    "- Speed\n",
    "- Base Total (if available)\n",
    "\n",
    "We'll determine the number of components needed to explain 95% of the variance and interpret the principal components."
   ]
  },
  {
   "cell_type": "code",
   "execution_count": 11,
   "id": "98cc9f6c",
   "metadata": {},
   "outputs": [
    {
     "name": "stdout",
     "output_type": "stream",
     "text": [
      "Core battle stats to analyze: ['hp', 'attack', 'defense', 'sp_attack', 'sp_defense', 'speed', 'base_total']\n"
     ]
    }
   ],
   "source": [
    "# Define core battle stats columns\n",
    "battle_stats = ['hp', 'attack', 'defense', 'sp_attack', 'sp_defense', 'speed']\n",
    "\n",
    "# Add base_total if it exists, otherwise calculate it\n",
    "if 'base_total' in pokemon_clean.columns:\n",
    "    battle_stats.append('base_total')\n",
    "elif all(stat in pokemon_clean.columns for stat in battle_stats):\n",
    "    pokemon_clean['base_total'] = pokemon_clean[battle_stats].sum(axis=1)\n",
    "    battle_stats.append('base_total')\n",
    "\n",
    "# Check if we have all the required columns\n",
    "missing_cols = [col for col in battle_stats if col not in pokemon_clean.columns]\n",
    "if missing_cols:\n",
    "    print(f\"Warning: Missing columns {missing_cols}. Proceeding with available columns.\")\n",
    "    battle_stats = [col for col in battle_stats if col in pokemon_clean.columns]\n",
    "\n",
    "# Extract battle stats data\n",
    "battle_data = pokemon_clean[battle_stats].copy()\n",
    "\n",
    "# Scale the data\n",
    "scaler = StandardScaler()\n",
    "battle_data_scaled = scaler.fit_transform(battle_data)\n",
    "\n",
    "print(\"Core battle stats to analyze:\", battle_stats)"
   ]
  },
  {
   "cell_type": "code",
   "execution_count": 12,
   "id": "0fe43d11",
   "metadata": {},
   "outputs": [
    {
     "name": "stdout",
     "output_type": "stream",
     "text": [
      "Number of components needed for 90% variance: 4\n",
      "Number of components needed for 95% variance: 5\n"
     ]
    },
    {
     "data": {
      "image/png": "[encoded data removed]",
      "text/plain": [
       "<Figure size 1000x600 with 1 Axes>"
      ]
     },
     "metadata": {},
     "output_type": "display_data"
    }
   ],
   "source": [
    "# Apply PCA to battle stats\n",
    "pca_battle = PCA()\n",
    "battle_pca = pca_battle.fit_transform(battle_data_scaled)\n",
    "\n",
    "# Calculate explained variance\n",
    "explained_variance = pca_battle.explained_variance_ratio_\n",
    "cumulative_variance = np.cumsum(explained_variance)\n",
    "\n",
    "# Find number of components for 90% and 95% variance\n",
    "components_90 = np.argmax(cumulative_variance >= 0.9) + 1\n",
    "components_95 = np.argmax(cumulative_variance >= 0.95) + 1\n",
    "\n",
    "print(f\"Number of components needed for 90% variance: {components_90}\")\n",
    "print(f\"Number of components needed for 95% variance: {components_95}\")\n",
    "\n",
    "# Plot explained variance\n",
    "plt.figure(figsize=(10, 6))\n",
    "plt.bar(range(1, len(explained_variance) + 1), explained_variance, alpha=0.7, label='Individual explained variance')\n",
    "plt.step(range(1, len(cumulative_variance) + 1), cumulative_variance, where='mid', label='Cumulative explained variance')\n",
    "plt.axhline(y=0.9, linestyle='--', color='k', label='90% Threshold')\n",
    "plt.axhline(y=0.95, linestyle='--', color='r', label='95% Threshold')\n",
    "plt.xlabel('Number of Principal Components')\n",
    "plt.ylabel('Explained Variance Ratio')\n",
    "plt.title('Explained Variance by Components (Battle Stats)')\n",
    "plt.legend()\n",
    "plt.tight_layout()\n",
    "plt.show()"
   ]
  },
  {
   "cell_type": "code",
   "execution_count": 13,
   "id": "96d770c8",
   "metadata": {},
   "outputs": [
    {
     "data": {
      "image/png": "[encoded data removed]",
      "text/plain": [
       "<Figure size 1200x800 with 2 Axes>"
      ]
     },
     "metadata": {},
     "output_type": "display_data"
    },
    {
     "name": "stdout",
     "output_type": "stream",
     "text": [
      "Top 3 Principal Components Interpretation:\n",
      "\n",
      "PC1 most influential features:\n",
      "  - base_total: 0.521\n",
      "  - sp_attack: 0.388\n",
      "  - sp_defense: 0.383\n",
      "\n",
      "PC2 most influential features:\n",
      "  - speed: 0.701\n",
      "  - defense: -0.603\n",
      "  - sp_attack: 0.293\n",
      "\n",
      "PC3 most influential features:\n",
      "  - attack: 0.643\n",
      "  - sp_defense: -0.582\n",
      "  - sp_attack: -0.362\n"
     ]
    }
   ],
   "source": [
    "# Analyze PCA components for battle stats\n",
    "component_df = pd.DataFrame(\n",
    "    pca_battle.components_,\n",
    "    columns=battle_stats,\n",
    "    index=[f'PC{i+1}' for i in range(len(battle_stats))]\n",
    ")\n",
    "\n",
    "plt.figure(figsize=(12, 8))\n",
    "sns.heatmap(component_df.iloc[:4], cmap='coolwarm', annot=True, fmt='.2f')\n",
    "plt.title('PCA Components for Battle Stats')\n",
    "plt.tight_layout()\n",
    "plt.show()\n",
    "\n",
    "# Detailed analysis of the first 3 principal components\n",
    "print(\"Top 3 Principal Components Interpretation:\")\n",
    "for i in range(3):\n",
    "    pc = component_df.iloc[i].abs().sort_values(ascending=False)\n",
    "    print(f\"\\nPC{i+1} most influential features:\")\n",
    "    for feat, val in pc.head(3).items():\n",
    "        print(f\"  - {feat}: {component_df.iloc[i][feat]:.3f}\")"
   ]
  },
  {
   "cell_type": "markdown",
   "id": "82b730da",
   "metadata": {},
   "source": [
    "## 4. PCA on Type Effectiveness Profile\n",
    "\n",
    "Now, let's apply PCA to the type effectiveness columns (`against_*`). These columns represent how vulnerable a Pokémon is to different attack types."
   ]
  },
  {
   "cell_type": "code",
   "execution_count": 14,
   "id": "31fbfe58",
   "metadata": {},
   "outputs": [
    {
     "name": "stdout",
     "output_type": "stream",
     "text": [
      "Found 18 type effectiveness columns:\n",
      "against_bug, against_dark, against_dragon, against_electric, against_fairy, against_fight, against_fire, against_flying, against_ghost, against_grass, against_ground, against_ice, against_normal, against_poison, against_psychic, against_rock, against_steel, against_water\n"
     ]
    }
   ],
   "source": [
    "# Get type effectiveness columns (columns that start with 'against_')\n",
    "type_cols = [col for col in pokemon_clean.columns if col.startswith('against_')]\n",
    "\n",
    "# Check if we have type effectiveness columns\n",
    "if not type_cols:\n",
    "    print(\"No 'against_*' columns found in the dataset. This part of the analysis will be skipped.\")\n",
    "else:\n",
    "    print(f\"Found {len(type_cols)} type effectiveness columns:\")\n",
    "    print(\", \".join(type_cols))\n",
    "    \n",
    "    # Extract type effectiveness data\n",
    "    type_data = pokemon_clean[type_cols].copy()\n",
    "    \n",
    "    # Scale the data\n",
    "    type_data_scaled = StandardScaler().fit_transform(type_data)"
   ]
  },
  {
   "cell_type": "code",
   "execution_count": 15,
   "id": "6dd4efb2",
   "metadata": {},
   "outputs": [
    {
     "name": "stdout",
     "output_type": "stream",
     "text": [
      "Number of components needed for 90% variance: 10\n",
      "Number of components needed for 95% variance: 12\n"
     ]
    },
    {
     "data": {
      "image/png": "[encoded data removed]",
      "text/plain": [
       "<Figure size 1000x600 with 1 Axes>"
      ]
     },
     "metadata": {},
     "output_type": "display_data"
    }
   ],
   "source": [
    "# If we have type effectiveness columns, apply PCA\n",
    "if len(type_cols) > 0:\n",
    "    # Apply PCA to type effectiveness data\n",
    "    pca_type = PCA()\n",
    "    type_pca = pca_type.fit_transform(type_data_scaled)\n",
    "    \n",
    "    # Calculate explained variance\n",
    "    explained_variance_type = pca_type.explained_variance_ratio_\n",
    "    cumulative_variance_type = np.cumsum(explained_variance_type)\n",
    "    \n",
    "    # Find number of components for 90% and 95% variance\n",
    "    components_90_type = np.argmax(cumulative_variance_type >= 0.9) + 1\n",
    "    components_95_type = np.argmax(cumulative_variance_type >= 0.95) + 1\n",
    "    \n",
    "    print(f\"Number of components needed for 90% variance: {components_90_type}\")\n",
    "    print(f\"Number of components needed for 95% variance: {components_95_type}\")\n",
    "    \n",
    "    # Plot explained variance\n",
    "    plt.figure(figsize=(10, 6))\n",
    "    plt.bar(range(1, len(explained_variance_type) + 1), explained_variance_type, alpha=0.7, label='Individual explained variance')\n",
    "    plt.step(range(1, len(cumulative_variance_type) + 1), cumulative_variance_type, where='mid', label='Cumulative explained variance')\n",
    "    plt.axhline(y=0.9, linestyle='--', color='k', label='90% Threshold')\n",
    "    plt.axhline(y=0.95, linestyle='--', color='r', label='95% Threshold')\n",
    "    plt.xlabel('Number of Principal Components')\n",
    "    plt.ylabel('Explained Variance Ratio')\n",
    "    plt.title('Explained Variance by Components (Type Effectiveness)')\n",
    "    plt.legend()\n",
    "    plt.tight_layout()\n",
    "    plt.show()"
   ]
  },
  {
   "cell_type": "code",
   "execution_count": 16,
   "id": "d89cef98",
   "metadata": {},
   "outputs": [
    {
     "data": {
      "image/png": "[encoded data removed]",
      "text/plain": [
       "<Figure size 1400x1000 with 2 Axes>"
      ]
     },
     "metadata": {},
     "output_type": "display_data"
    },
    {
     "name": "stdout",
     "output_type": "stream",
     "text": [
      "Top 3 Principal Components Interpretation:\n",
      "\n",
      "PC1 most influential features:\n",
      "  - against_flying: 0.410\n",
      "  - against_ground: -0.406\n",
      "  - against_poison: 0.374\n",
      "\n",
      "PC2 most influential features:\n",
      "  - against_ghost: 0.502\n",
      "  - against_dark: 0.491\n",
      "  - against_fight: -0.453\n",
      "\n",
      "PC3 most influential features:\n",
      "  - against_bug: 0.497\n",
      "  - against_electric: -0.407\n",
      "  - against_rock: -0.345\n"
     ]
    }
   ],
   "source": [
    "# Analyze PCA components for type effectiveness\n",
    "if len(type_cols) > 0:\n",
    "    type_component_df = pd.DataFrame(\n",
    "        pca_type.components_,\n",
    "        columns=type_cols,\n",
    "        index=[f'PC{i+1}' for i in range(len(type_cols))]\n",
    "    )\n",
    "    \n",
    "    # Display the first 4 principal components\n",
    "    plt.figure(figsize=(14, 10))\n",
    "    sns.heatmap(type_component_df.iloc[:4], cmap='coolwarm', annot=True, fmt='.2f')\n",
    "    plt.title('PCA Components for Type Effectiveness')\n",
    "    plt.tight_layout()\n",
    "    plt.show()\n",
    "    \n",
    "    # Detailed analysis of the first 3 principal components\n",
    "    print(\"Top 3 Principal Components Interpretation:\")\n",
    "    for i in range(3):\n",
    "        pc = type_component_df.iloc[i].abs().sort_values(ascending=False)\n",
    "        print(f\"\\nPC{i+1} most influential features:\")\n",
    "        for feat, val in pc.head(3).items():\n",
    "            print(f\"  - {feat}: {type_component_df.iloc[i][feat]:.3f}\")"
   ]
  },
  {
   "cell_type": "markdown",
   "id": "a8d001b8",
   "metadata": {},
   "source": [
    "## 5. Visualize PCA Results\n",
    "\n",
    "Let's create scatter plots to visualize the PCA results. We'll color-code the points by type, legendary status, and generation to identify patterns."
   ]
  },
  {
   "cell_type": "code",
   "execution_count": 17,
   "id": "9345394e",
   "metadata": {},
   "outputs": [],
   "source": [
    "# Add principal components to the original dataframe\n",
    "pokemon_clean['battle_pc1'] = battle_pca[:, 0]\n",
    "pokemon_clean['battle_pc2'] = battle_pca[:, 1]\n",
    "\n",
    "if len(type_cols) > 0:\n",
    "    pokemon_clean['type_pc1'] = type_pca[:, 0]\n",
    "    pokemon_clean['type_pc2'] = type_pca[:, 1]"
   ]
  },
  {
   "cell_type": "code",
   "execution_count": 18,
   "id": "70933271",
   "metadata": {},
   "outputs": [
    {
     "data": {
      "application/vnd.plotly.v1+json": {
       "config": {
        "plotlyServerURL": "https://plot.ly"
       },
       "data": [
        {
         "hovertemplate": "<b>%{hovertext}</b><br><br>type1=grass<br>PC1=%{x}<br>PC2=%{y}<extra></extra>",
         "hovertext": [
          "Bulbasaur",
          "Ivysaur",
          "Venusaur",
          "Oddish",
          "Gloom",
          "Vileplume",
          "Bellsprout",
          "Weepinbell",
          "Victreebel",
          "Exeggcute",
          "Exeggutor",
          "Tangela",
          "Chikorita",
          "Bayleef",
          "Meganium",
          "Bellossom",
          "Hoppip",
          "Skiploom",
          "Jumpluff",
          "Sunkern",
          "Sunflora",
          "Treecko",
          "Grovyle",
          "Sceptile",
          "Seedot",
          "Nuzleaf",
          "Shiftry",
          "Shroomish",
          "Breloom",
          "Roselia",
          "Cacnea",
          "Cacturne",
          "Tropius",
          "Turtwig",
          "Grotle",
          "Torterra",
          "Budew",
          "Roserade",
          "Cherubi",
          "Cherrim",
          "Carnivine",
          "Snover",
          "Abomasnow",
          "Tangrowth",
          "Leafeon",
          "Shaymin",
          "Snivy",
          "Servine",
          "Serperior",
          "Pansage",
          "Simisage",
          "Cottonee",
          "Whimsicott",
          "Petilil",
          "Lilligant",
          "Maractus",
          "Foongus",
          "Amoonguss",
          "Ferroseed",
          "Ferrothorn",
          "Virizion",
          "Chespin",
          "Quilladin",
          "Chesnaught",
          "Skiddo",
          "Gogoat",
          "Rowlet",
          "Dartrix",
          "Decidueye",
          "Fomantis",
          "Lurantis",
          "Morelull",
          "Shiinotic",
          "Bounsweet",
          "Steenee",
          "Tsareena",
          "Tapu Bulu",
          "Kartana"
         ],
         "legendgroup": "grass",
         "marker": {
          "color": "#636efa",
          "symbol": "circle"
         },
         "mode": "markers",
         "name": "grass",
         "orientation": "v",
         "showlegend": true,
         "type": "scatter",
         "x": {
          "bdata": "1WzOCZa0+7+xBn984o3VvwjNwxbIlwlAWDBloAKy+r+f6NzMquzdvzgRcdPmGvE/a+YZrZ57AMDtxD+7Z8njv+RltqJnEvA/uKwAMvW5+r9IpXvhH2P7P0PQxiQ61pU/O4x4V8kJ/L8iDJKG/PfWvyFgy9liBfk/HAJDDEMs8T+DlUwhX+YGwFltFtN/Uve/ikgzN2Fm3T8Ldm5XL+UPwPZYxzOnxrY/dZE/SlTT/r+XD4Dyi8bbv0aexr/g3whAhY4Kk63bCsCdG+HbQv72v0Z0Ar2s6+k/akuZUm/FAMB6VPF5FpHdP0ZATw4pV9q/FMWvFQx5979YIWVJGvboP0JL8GLdw+I/GvlPK1a8+78aNc1P5CzVv+OVfOcoePk/4Gz+mWrKAsDpwzESscf2Pz5E/l4HXgPAILeft0Dx1D+47ADJeBzePx+oDeH5bfe/bJfP35SBBkCGLDkuEQb7P4M+arInmPY/ZhCBC3dLBUAHeVFwz3H/vx8Rc7LReNK/ZGG790Fq+D+eT5JVB3H9v5o7kQIuvfA/xJnrOreLA8D88m34L6XmP1QZfs8qtALAfLVJiqpj6T+IFYQwR6PhP3fC7TRaaADAx+ebYGfJ5j+CNyzY2fn9vzQxiCl6xPE/QBWVCa3XA0D5+dkgS5f9vz5Bq8awZ9q/oZBJ3FjI+T98I1BL7r/zv8qclZAWjvs/I640ktR4+79TYsJ+SpK5v9hbQYI1I/s/3ZKGm9PXBsDtse931uTsPwNIiYMedwHAZv70Y1wTz7/fT2ker/ELwCnm6T77CwLApw63hvow9T9vWn2YdSMCQEQN1JBgPgBA",
          "dtype": "f8"
         },
         "xaxis": "x",
         "y": {
          "bdata": "Slf0URt9VL/zhkXP8gayP3LIS5PtXeO/J/IMq3IZ2b+m7xU1X+/dv5fJydigidy/IAuSynKo3T/Gn4rh9nrgP4TsmovF/94/TGNd/zRt5L+0L8KtyvbWvzHA6QLp39u/Awa7Zj1w3b8JQU6cv6/av31Qn/twSNa/eCC78MwH7b/yTwbJfFzAP3nuikXHGuQ/bI4M5p6i6D+OC+1z42t4P/aHuiRhtNa/lnwiVpA87z+uDkjiGXX3P9U0JvNZegNAkp2FrNIh2r90uWbd6WDkP4uZWYtJb+k/JpE2qu/A5b9F7DkprFutvxiPBArsAOg/cW8DotcF0z+eL+n9liLdP/8AaSudSOi/RpqDgUx/6L8+hJm0mnzxvxzIbQzHYvC/8Hwp+lOR1j8DYzizrRfvP5j/GnQOo7e/bMZUBAFW4z94bNw1KTnVv52mN6c+Y8W/EQRz7kOx9L+zq/RW3Jzuv8t99J/uu92/nJcEyeuA/D88gAfLljvMP+1QAskBYtA/E8QEXNYj4T+H+1FO3OvfP83YQDRnU/U/h4CHIcsjxz8gU+wbnVvwP/bMFh/4Rcu/+rkAUF246z9p6ldYGhvTP2fBh0lmGue/gBrnfHMs7L9OGNolM8YBwBhW0FFCcgbAWoWCpsa45T/ervNIjyHgv9QnIjYbh+W/1a943ecd8b85Ca+28GrGP9ubfZAV+dE/9Tcy1iyf0L+w3TWAEmrav69E1ZoqHag/Kcpubot0wj+7nbbIYAvuvxQA/GenWe2/flAuY6vz8L/WxK5qosDIv7ViETI/FtU/IhCJjBUv6b8FR+upvDzmv7aMZmW4kr4/",
          "dtype": "f8"
         },
         "yaxis": "y"
        },
        {
         "hovertemplate": "<b>%{hovertext}</b><br><br>type1=fire<br>PC1=%{x}<br>PC2=%{y}<extra></extra>",
         "hovertext": [
          "Charmander",
          "Charmeleon",
          "Charizard",
          "Vulpix",
          "Ninetales",
          "Growlithe",
          "Arcanine",
          "Ponyta",
          "Rapidash",
          "Magmar",
          "Flareon",
          "Moltres",
          "Cyndaquil",
          "Quilava",
          "Typhlosion",
          "Slugma",
          "Magcargo",
          "Magby",
          "Entei",
          "Ho-Oh",
          "Torchic",
          "Combusken",
          "Blaziken",
          "Numel",
          "Camerupt",
          "Torkoal",
          "Chimchar",
          "Monferno",
          "Infernape",
          "Magmortar",
          "Heatran",
          "Tepig",
          "Pignite",
          "Emboar",
          "Pansear",
          "Simisear",
          "Darumaka",
          "Darmanitan",
          "Heatmor",
          "Fennekin",
          "Braixen",
          "Delphox",
          "Fletchinder",
          "Talonflame",
          "Litleo",
          "Pyroar",
          "Volcanion",
          "Litten",
          "Torracat",
          "Incineroar",
          "Oricorio",
          "Turtonator"
         ],
         "legendgroup": "fire",
         "marker": {
          "color": "#EF553B",
          "symbol": "circle"
         },
         "mode": "markers",
         "name": "fire",
         "orientation": "v",
         "showlegend": true,
         "type": "scatter",
         "x": {
          "bdata": "AtrTuTU5/78n5gg4Virav23sk3NkvgpAqI0ZPFKpAMBCCiPIyCLzP5+gkFGiTfS/4I7SBDMIAEDS3CW7DefWvytzyg3GWPE/azk2vgz28D8hNeYRjm/6P1WgQemNZANAAtrTuTU5/78n5gg4Virav1iNyS7Dk/o/+secoUF8BsCvgh5bfQq0P0OwvpoBG/G/brMWp7QmA0DfotQYVLUQQE3wg2zeEv6/WMWiIr0X17/8erHn0pkJQJS9daO7Av+/VV4kfltGAkDGdH/QTbTmP3q5C5wkPf+/ZjgzKvxZ279I0CAiUej5PzoWtA02SP0/mnCgXtFsBkBnJt4VZbj+vwvoc3Xz78G//0Nyvfcz+j+eT5JVB3H9v5o7kQIuvfA/+zpoI8kt/b/dLx6HOGb+Pyh5lpqgSe0/tZEyv4gq/7/gIWZ+uynUv8HEllZU//o/AW8cDl4R6r85nvh4SxHwP7W+MBAvs++/b6FyTgf98j94LfZgWh8GQN6gzfbgx/y/OAzfRzWOyr8XJcOKjgn7PzKbG0S/9eY/IZk9LN007j8=",
          "dtype": "f8"
         },
         "xaxis": "x",
         "y": {
          "bdata": "ukXaqHAx5j+08nrZtRDpP9ya1hNXTfI/iAGmvZVW4T9IbPqrOyLrP7gKaqnwquI/ipAJnBtP5j+SBgDHHq3uP2TQoCHuKfA/OmbzouTW8T9v/TMFtCi8P6qiefWrWuI/ukXaqHAx5j+08nrZtRDpP/jJHrY17e0/naOEeDLlxb+ewY7upcj6v1fkRX8XfPQ/jS4eiNif4z/LULlVMMLGv0TUffOsvtU/v6E1Ggrjyj83QumE2qXxP3S3YU9WHa0/Sb/PtMVY9L/WRxdPKW8CwHozmUWlA+M/VjpIaX7W7z++PmtcS1f1P24Q3xitruk/03nXw3Ycx7/xU/214vd8P2ikKjcS7sE/l1mEoVEm1T+H+1FO3OvfP83YQDRnU/U/P5VZBl5yxb/TUirCC4jjv2a9GiXGcdo/pOOKyeMb4j8gr8PpTzblP/HHfN4JV/E/WUqJvmEC6j+PEgzx3T/4P8OXyc1qfuM/RlnKJsZ39T93wJMtQFDevyU+zK+XCe4/nlZ27Z6L9D+170YoIDfkvy8zBLIyfO4/cmO3GkfB/b8=",
          "dtype": "f8"
         },
         "yaxis": "y"
        },
        {
         "hovertemplate": "<b>%{hovertext}</b><br><br>type1=water<br>PC1=%{x}<br>PC2=%{y}<extra></extra>",
         "hovertext": [
          "Squirtle",
          "Wartortle",
          "Blastoise",
          "Psyduck",
          "Golduck",
          "Poliwag",
          "Poliwhirl",
          "Poliwrath",
          "Tentacool",
          "Tentacruel",
          "Slowpoke",
          "Slowbro",
          "Seel",
          "Dewgong",
          "Shellder",
          "Cloyster",
          "Krabby",
          "Kingler",
          "Horsea",
          "Seadra",
          "Goldeen",
          "Seaking",
          "Staryu",
          "Starmie",
          "Magikarp",
          "Gyarados",
          "Lapras",
          "Vaporeon",
          "Totodile",
          "Croconaw",
          "Feraligatr",
          "Chinchou",
          "Lanturn",
          "Marill",
          "Azumarill",
          "Politoed",
          "Wooper",
          "Quagsire",
          "Slowking",
          "Qwilfish",
          "Corsola",
          "Remoraid",
          "Octillery",
          "Mantine",
          "Kingdra",
          "Suicune",
          "Mudkip",
          "Marshtomp",
          "Swampert",
          "Lotad",
          "Lombre",
          "Ludicolo",
          "Wingull",
          "Pelipper",
          "Carvanha",
          "Sharpedo",
          "Wailmer",
          "Wailord",
          "Barboach",
          "Whiscash",
          "Corphish",
          "Crawdaunt",
          "Feebas",
          "Milotic",
          "Clamperl",
          "Huntail",
          "Gorebyss",
          "Relicanth",
          "Luvdisc",
          "Kyogre",
          "Piplup",
          "Prinplup",
          "Empoleon",
          "Buizel",
          "Floatzel",
          "Shellos",
          "Gastrodon",
          "Finneon",
          "Lumineon",
          "Mantyke",
          "Palkia",
          "Phione",
          "Manaphy",
          "Oshawott",
          "Dewott",
          "Samurott",
          "Panpour",
          "Simipour",
          "Tympole",
          "Palpitoad",
          "Seismitoad",
          "Basculin",
          "Tirtouga",
          "Carracosta",
          "Ducklett",
          "Swanna",
          "Frillish",
          "Jellicent",
          "Alomomola",
          "Keldeo",
          "Froakie",
          "Frogadier",
          "Greninja",
          "Clauncher",
          "Clawitzer",
          "Popplio",
          "Brionne",
          "Primarina",
          "Wishiwashi",
          "Dewpider",
          "Araquanid",
          "Pyukumuku",
          "Bruxish",
          "Tapu Fini"
         ],
         "legendgroup": "water",
         "marker": {
          "color": "#00cc96",
          "symbol": "circle"
         },
         "mode": "markers",
         "name": "water",
         "orientation": "v",
         "showlegend": true,
         "type": "scatter",
         "x": {
          "bdata": "AkrX3WAI/b/AJSYdI6/Wv/lRTJ2XPQpAaKYrpjX3+79WLvxS3S3yP2G2s6TRZgHAzm76xDRo6b8auJOk4Ff1P049NJMUBfe/tSO1EkPq9j8stCW89g38v9/BzvfJ/wRAbnz/HQW2+b8Ov5i4anzpP5HxyWEfngDAD6D+jO3+9T9/Bmdv/mD8v+2qyRV4JuQ/+fifPFP4AcBDsKvyrxSxP+WA3ABwpPy//U0k0AsT2D/mueO4exL4v9gaRECXEvY/wzT/+xWxDsAjwG7MbL8LQHlDJJzHDf0/rP2kQS28+j+WknAZ83z9v7ZRtGL3sti/S/sI5QTg+T84Q6XO3z35v6v5HvqeUOI/j/7vNyi4BsAXDI/Z52+xvxYLUsBvgfM/kSwAEFDWC8B5tYhZ0Qa3P+CWHClQvPI/ey4e2rrGtz/c96qjfu/Jv2Gknyhn9ADACbCXw6LB7D+SWdqXVujwP8ZwowAXnvw/iOFul6C8A0Ccx/cKVRb+v5JtXrOTvNW/dJg0Q30PC0A1FjceN1oKwEFJ/kAM8fW/uCI08bqp7D+LamuM9TYFwNCzOG0plcQ/uNrkrH9fAMAaRubQHj8AQE5aylSjt9u/aRtgGCh88z9X1t6lCVYCwBAoFzrjzeU/h5UmOZU4/7+gZVyAdtjjP5saImwh2w3Af/1lXSI6/j/VLz2DDkP1vybLlgKtS+0/hcz92X147T96rPDxayzsP/b1HDg1wfq/Ww3KLTKbFkCCNGccm9X8v4HFr97eu9S/Uclnn81v+z8izgQOruL6v1xevMnHce4/86z/HmpG+b8nMFllB/rrPz1Ms0YeqPm/f/m9m+mf3j8WXp3EuDjzv5GsUFHFTRBAppd1iyw86j9+V5UgvPAFQOj2gHpPwP6/7vCOMfjvzb9bUj8FrLj5P55PklUHcf2/mjuRAi698D/sYEbTu54BwE+8MLTlYee//p5yRb4E9T8Z3YrOB5jaP3dJyBoS0vK/NGHSaOFV8T+4FajulNH/vykEq0BFvOQ/uG6Zmz5q9r8hfEAyeBzuP18cQLBud+U/GAtPzyQoA0D/y6fqyUT+v4DCc1X1id2/INv05CBFCkDJgmh5g9X4v8m/AfRSRPM/u3JoO2FR+7/85/uTkOKyv3Y4LWn2Kvw/ejoxbGzlCUA0RILjPdUDwJmfCcOcC+I/J7OUFZHFvb+Ct6nFtx7mPwNPFIBJiQJA",
          "dtype": "f8"
         },
         "xaxis": "x",
         "y": {
          "bdata": "hwXEgZZI37+pXg0O34Hcv9QXbs3futu/N9w8d8Tp1z8NRUNouoTeP9X9XipEIvQ/ie6/ZgoZ5z82XyJanufhvwZrJ00MBd4/k6WqljI65D81+ikZFNHyv7i2iC3gdATAenDneMjI2L/KwwwwpkfTvwMwyVw6Iu6/bEaEktjP+b8E2XRaamnmv62CBzbZqOO/l3D1ad6W1z8A4c5K0rnfP/ongEYjtLA/ViYgVCB7oT8/dgFillvwP3QQQ95TAvI/xkdaZErW5j82pEzZmoHtv6q5DVP5CuC/t4W/XiGSzz9Kg9Svtl3avxhZEyurTti/KqOPASMB1L+F7p9z0anlP6ugtlyPVMg/2ZBaEEnX3r8BGGxGH8vov4MqkEqtyK+/0EoeKJT35r9XAHwJ3RjxvzCHRrBWMvK/B3mu3Fdxyj9y230rlO32v510jsIMYPA/8TKc+ep50796knFtZUzXv2a9u+Kw554/4H+U+4LO479G2G1zIH/Gvz+s8lbtSNy/qmc3Cqxh6r/wl9ClZa+2v91WU4ysSJS/R8TLi/JArj/emBKdOuz4P8TJ78GoVNO/bKB5wYOH9j+Un1iclDD2P92mD12ndOc/Zl/Ru5hx4T97iJKue4nfP7pkBotZG8q/myqeDdcF3b+SNQPtTWfKv4mvFEq07vA/0cL6X+mLgj87mNdGZrvqvy6V1uRLu+i/GdvyTMGe4r8z06oUYW/6v16M0Vax0O0/8m0IP4JK2z9C05FYyF7Hv1MT2Xgfms6/Y763lQlA178UyLWYe2T3P8eXlJE1rvw/i++mHhSb17+y7NnLVR7iv8F8LJbjHNA/zPyg5Bqz2T+/YnSMM9XYv5g2EoqL7OE/IRsKP+jHxj89/GeAhZbPP1i+rxB/X8k/VHMLvlIg0j8/8wA8tpjBP4f7UU7c698/zdhANGdT9T8TJBu6gi/mPwHGWqDLm94/IG8ggTzcwz+FcBCZZSLyPxbdpaHraPm/MrDzji/m/b8y04TYntC9PzpTtNxllfI/SAfCOMjr1L8WPyo6mhrUvwf09d9RXd2/oVDmPL0/8D+k0Fm2FbzuP5g3PFNV0fY/G8IXhvORA0AaiZEQG7LVv1KC68HEGca/GXmi/j01w7+3Ky9lx4HJv+OZ5eSaNLC/CSHy3cSo/b++UKsbYpzovyEuESBPh/q/hnd6ilR9C8DFz0QzQ5TlPwg87pMdIOS/",
          "dtype": "f8"
         },
         "yaxis": "y"
        },
        {
         "hovertemplate": "<b>%{hovertext}</b><br><br>type1=bug<br>PC1=%{x}<br>PC2=%{y}<extra></extra>",
         "hovertext": [
          "Caterpie",
          "Metapod",
          "Butterfree",
          "Weedle",
          "Kakuna",
          "Beedrill",
          "Paras",
          "Parasect",
          "Venonat",
          "Venomoth",
          "Scyther",
          "Pinsir",
          "Ledyba",
          "Ledian",
          "Spinarak",
          "Ariados",
          "Yanma",
          "Pineco",
          "Forretress",
          "Scizor",
          "Shuckle",
          "Heracross",
          "Wurmple",
          "Silcoon",
          "Beautifly",
          "Cascoon",
          "Dustox",
          "Surskit",
          "Masquerain",
          "Nincada",
          "Ninjask",
          "Shedinja",
          "Volbeat",
          "Illumise",
          "Kricketot",
          "Kricketune",
          "Burmy",
          "Wormadam",
          "Mothim",
          "Combee",
          "Vespiquen",
          "Yanmega",
          "Sewaddle",
          "Swadloon",
          "Leavanny",
          "Venipede",
          "Whirlipede",
          "Scolipede",
          "Dwebble",
          "Crustle",
          "Karrablast",
          "Escavalier",
          "Joltik",
          "Galvantula",
          "Shelmet",
          "Accelgor",
          "Durant",
          "Larvesta",
          "Volcarona",
          "Genesect",
          "Scatterbug",
          "Spewpa",
          "Vivillon",
          "Grubbin",
          "Charjabug",
          "Vikavolt",
          "Cutiefly",
          "Ribombee",
          "Wimpod",
          "Golisopod",
          "Buzzwole",
          "Pheromosa"
         ],
         "legendgroup": "bug",
         "marker": {
          "color": "#ab63fa",
          "symbol": "circle"
         },
         "mode": "markers",
         "name": "bug",
         "orientation": "v",
         "showlegend": true,
         "type": "scatter",
         "x": {
          "bdata": "7TsuP4BhDsDrHmhEeN0MwCvTER6GJOC/bzV6HHx1DsBtGLQhdPEMwNv61ds5mu0/l2WLlRsKAsAxqt+xpJ7Svw6VeanfVP+/b65UT+iI1D+XR3VCwiDxPyk5IRKOQQVApGgNoqqKBMBCmwC4mVDiv5jcVwQDvAbAB3/TLH5q2b/o84lr9aTmvyQVUppnwgHAj0Ca3GLq4T/j6Ob3SNQFQJx2fEHRqvc/V7q8O1UdBkBAF7BSOMMNwMVweakLlwzAb4e5iRqb4b/FcHmpC5cMwF7jZR5TSuW/4Jm8+QGnBMArqhamxQ7bP+bDTP03gAXAkD04mAtFyj/lVwVa3ycJwBp+rpX2dwg/vEHsvEhSfT/UYqg7ruMNwA2kMXXEQee/TjCEycgsCsD5Vfx3y1eSP89FtfkGs7S/TRgvYRpNCMD3cnBUrIvqP/BOTlR87vQ/p6DAraJE/r9Y+BvGCpXnv4XeTL6sufE/ygQsUxMxBsBjjgxhVYLxvxtvKGXzzeg/f0kEh7zl+798tHjiNjrtP5LknxjXp/2/0EylZ4te8z9y6MBHW6j8v48AKYgvX+M/aVTTi4H2/r+jYFr2rmXtP8ZNKDKWTuY/ClnN02zS8b/Nvvhh2bz/P9Jn8sj4zQVAOl4Z+dOJDcBP5HcQO80LwL/O8PnAj9W/tDHLNBF8AMC8Ai3Qhn3av/rGovB4jPM/CXVuvX6+AMDsSnDXXPfcP9PpGDmwggrAJXJ/yYyk+j/9POq6cFQBQIqga3XlkwBA",
          "dtype": "f8"
         },
         "xaxis": "x",
         "y": {
          "bdata": "LkoDg+yezT+IaiDIadrgv5PMEEm9R+U/2fhPczd23T9NgXJeEg7Tvwch5zOaRP8/ZjOpLK4s5r/zkkU0CAHzv5sDpiEkN8q/diQNT8AW7z/4GCZl20LiP7xhH8Vljcm/+Vi/UW3Q0T/BCMkQdXLeP9PIHBRv5sq/o0bTLBQC5r8hO5P38xL4P52hAru3PPm/TrZIvKei/79a8WOaUJv2v7lAQHPWKxnAD1igVxa48789MtOwI9Xdv0O/h+Mquuy/Bn4FmeP46z9Dv4fjKrrsv+1bKQxVI9O/5xqtG+uz6T9cFxdVTDHnPzOR3AaEiO2/LFa8+t+RBkAql/JXd5VzP8ZcZ2+GVLY/Abv2WfB41T9VZEYkB8Tev1oWk7d31tg/gyT7m9LM0r+baikvYdb1v4z2GxWUBeo/WZihCo/U5D+xIYLKPyn2v87iiApyQO4/45aoWayO5b9jEgXpyI/yv0LxP7PEfdg/Ip1g9KOMlz/oZAoqnCz0v5ulQTIC2eU/19yOvW8a4L9RD9OGASb6vw3YapeT2tY/K3WXc6BEAcDdOGQF3jbgPzAfFeizhvk/8l5E4bHb9r+7XUdMdCkHQGXn+SuRa9E/82NJ+cxIxD+Lf/F5zhX0P18MWHmCVOM/4KnWEmGGsr+oiF3mhiHlv4ixE2ekQvU/+LP50G4OxT8TVxtbUTv1vzp2EJzMM9G/i+ADBt0H9D/EzVA45KL+P1aLzOC7Zu4/O0FpuD7hAcBc4pq3g5fxvxGu2qpSCg1A",
          "dtype": "f8"
         },
         "yaxis": "y"
        },
        {
         "hovertemplate": "<b>%{hovertext}</b><br><br>type1=normal<br>PC1=%{x}<br>PC2=%{y}<extra></extra>",
         "hovertext": [
          "Pidgey",
          "Pidgeotto",
          "Pidgeot",
          "Rattata",
          "Raticate",
          "Spearow",
          "Fearow",
          "Jigglypuff",
          "Wigglytuff",
          "Meowth",
          "Persian",
          "Farfetch'd",
          "Doduo",
          "Dodrio",
          "Lickitung",
          "Chansey",
          "Kangaskhan",
          "Tauros",
          "Ditto",
          "Eevee",
          "Porygon",
          "Snorlax",
          "Sentret",
          "Furret",
          "Hoothoot",
          "Noctowl",
          "Igglybuff",
          "Aipom",
          "Girafarig",
          "Dunsparce",
          "Teddiursa",
          "Ursaring",
          "Porygon2",
          "Stantler",
          "Smeargle",
          "Miltank",
          "Blissey",
          "Zigzagoon",
          "Linoone",
          "Taillow",
          "Swellow",
          "Slakoth",
          "Vigoroth",
          "Slaking",
          "Whismur",
          "Loudred",
          "Exploud",
          "Azurill",
          "Skitty",
          "Delcatty",
          "Spinda",
          "Swablu",
          "Zangoose",
          "Castform",
          "Kecleon",
          "Starly",
          "Staravia",
          "Staraptor",
          "Bidoof",
          "Bibarel",
          "Ambipom",
          "Buneary",
          "Lopunny",
          "Glameow",
          "Purugly",
          "Happiny",
          "Chatot",
          "Munchlax",
          "Lickilicky",
          "Porygon-Z",
          "Regigigas",
          "Arceus",
          "Patrat",
          "Watchog",
          "Lillipup",
          "Herdier",
          "Stoutland",
          "Pidove",
          "Tranquill",
          "Unfezant",
          "Audino",
          "Minccino",
          "Cinccino",
          "Deerling",
          "Sawsbuck",
          "Bouffalant",
          "Rufflet",
          "Braviary",
          "Meloetta",
          "Bunnelby",
          "Diggersby",
          "Fletchling",
          "Furfrou",
          "Pikipek",
          "Trumbeak",
          "Toucannon",
          "Yungoos",
          "Gumshoos",
          "Stufful",
          "Bewear",
          "Oranguru",
          "Type: Null",
          "Silvally",
          "Komala",
          "Drampa"
         ],
         "legendgroup": "normal",
         "marker": {
          "color": "#FFA15A",
          "symbol": "circle"
         },
         "mode": "markers",
         "name": "normal",
         "orientation": "v",
         "showlegend": true,
         "type": "scatter",
         "x": {
          "bdata": "5JBDs2UsB8Bq4rxcySD1v/qccmpqrgJA2/jFycU+B8CRT0Qc4FDQv2oTkS1kAQbAd7sZq6Hzvz9vLziAgqEDwFoapYsw8cg/891gVRWgAsD4AKL4/ECzP/sFqpB2ceq/JqzZbJv//796QSvc9FLhP2hE2QeeGeO/wS5BhsZk5D+Hjpk9+JcEQEiB1VPPlus/BYPiP0MNAsCKriLA4kP6v1/G7XSAtN2/wh+ZND40AEDUEf6qo/YKwGmWPtajcNK/76M2MVceBcCX4AXDmB3eP6JCcDImcgvA311tY2DI8r8V9wXu3c7YP2/o8bj348O/PITn1bzU+L+5umFn8TDzP5JxNN5BVvc/fTYNm9Gr4T+AVIoTdmYHwJ5vJJbYbuw/H+rja8IjAUBBW/r5qJgIwAtW62hGCMy/+Zq7z/ZEBcDKtpt2IqbQP15KgpkYBQPAKSKRr+TJuD+jgVZynKYOQIq6ffzw9QfA6ZGL/X8o8b88r6YBdH/wP6Vr5h9+Qg7AyeXu80HkBcAdDU5W1jbhv1gXtbVLpfG/2L9fl/zq/b/pvsWqSnXaPxIu6b/VHMK/lS9MXI+11T8g6IcICQcIwKpZCiyjJPi/LnLEIQc96j+fwW5D1KgGwO0vOAQz/NO/ASt7WyL65z8pYcHuNyD1vxROwi/+agJASeQHdq8IAMDy8j85baXQP4VX26wNognAz7/URo6w1r+9cWZE+C7YvxSaD3xUyfc/GckU1CU0+z9tUOUiGgkPQIqkJo82qRJAt7w/UG5NBsCWwvbnxoTFvwSfz39h8QPAczsVnz8Z7r8Bl9rMMVLyPxzfPPoLXgXA/JklU0L58r8CPl2xXKvrP1oGJZw46f8/Y1vLKFULAcCP82MnmqjhP7ZEKsc13/i/Z6G8el4T5j8e7GEFjdTwP7XxEJWBXfS/3J/K9t3g9D8TBm8LVBcFQEe3STVq+gjAkfc00q+Yub87n8Omdb8DwEXDPeggj+U/Vq3zV8aSBcAGWw1Uvcfzv6NfRsWNE+4/fA/+JuCtBsC8ZRbuISq+v1xiOWRmifa/Yih3wRaw8j9hVYzxXonxP3fsm5kjP/w/GVsn4U8YAkDtpCNLAGrsP9BpxzCZgfA/",
          "dtype": "f8"
         },
         "xaxis": "x",
         "y": {
          "bdata": "nVCoPDcr2z/qRIA05VLdP27rxXRM4/o/wQW1RKPZ6j/zzPc5k9Csv69rIN4Rd+4/mAp0RUYE7z+I0Hhzj3iuv8vzfrEZH8U/yEfVvuM99z/08gtRLJ74P10PjJexB8c/1qxsG51H6T8yK89CdOzxPyBs3b9rqvG/okuAe81fs7/hhIi0aCLCvyr5Rsf8j9U/I5m0eQxhsT+K9Tj9x8uNPxu9Vd44jd6/6v1xbPY19b95h1L3kzTav/RvhVl/YeM/xZlTy8cy0T+5KQOHSO/ZP0MLhGmCbZ2/gV63yi/O5T8azQNwdI3qP/IMeUbiQeG/AePG0brEyb9emNQfMDvYv4/Mpj3qJdq/SJdiEByT6j9qFdFMhKfnP4uSqt1x8sG/6DwCFgFCrj/t4Z2BD6faP0uKgm3Whe0/kUQk/mMa9T8Y6BGZlo3+P+SX1SmNwuS/clomewZo2T+qpS858OHWP8ycguoowtA/WI0xi3cp1T9x9uL7Ik3UP+PnFvjZw+S/pOw4ZNRFxD/bWe70kObmPwt0WPuV8rs/nlvb6UTO2b+sIb9wB3TpP5IqW56ZYMI/lQgxAsY58b8dud1N9qrmP7jWonHA5+g/+JHcotgu5z9sy8KZBETRv4OHUEEZ/9E/J80UJBjY8z8mdcOJG5vtP+cG2KoHl+w/1ZglhYPm8T+8+vvkQgr1P1hmK/IcZrW/rMDZSegF+T8Vqaj+Ppb2v0pNR1N7nfC/IbQv81l48j+8SFUfRF/Qv6ru4mCRMtQ/m4yH8g8LrD9jI5bBcx/RP9xV/WRBxbw/d/jrgI3C0b/QuOlSyFHcvyMJj3jaArC/0ObAAlmAzj9EaP1Sg6bhPyrmfGxJ9f2/vvJ2uwB46z8PKOfrdUP3P0g9TVlrKOI/VEBOu4Uo5D+PQAloyij0vwmdP/nhZcI/Qm0WKDVPpz8yyJU5wnzxPzfAu6pqY90/hMAdz3eOsb8OQIwLy6/gP+ejE5sun+w/h/Gekpa76j/IrpY/y0PiP5R/x1VRj82/pYhBZJ1w1D+SKUVRFnDYv50wxLwXrpi/nKxP8yPD3r9ttiBCB8nevyukvgjnyeS/74MQMN5izT+WE844m2mmvy8Xt2SDGeK/",
          "dtype": "f8"
         },
         "yaxis": "y"
        },
        {
         "hovertemplate": "<b>%{hovertext}</b><br><br>type1=poison<br>PC1=%{x}<br>PC2=%{y}<extra></extra>",
         "hovertext": [
          "Ekans",
          "Arbok",
          "Nidoran♀",
          "Nidorina",
          "Nidoqueen",
          "Nidoran♂",
          "Nidorino",
          "Nidoking",
          "Zubat",
          "Golbat",
          "Grimer",
          "Muk",
          "Koffing",
          "Weezing",
          "Crobat",
          "Gulpin",
          "Swalot",
          "Seviper",
          "Stunky",
          "Skuntank",
          "Skorupi",
          "Drapion",
          "Croagunk",
          "Toxicroak",
          "Trubbish",
          "Garbodor",
          "Skrelp",
          "Dragalge",
          "Mareanie",
          "Toxapex",
          "Salandit",
          "Salazzle"
         ],
         "legendgroup": "poison",
         "marker": {
          "color": "#19d3f3",
          "symbol": "circle"
         },
         "mode": "markers",
         "name": "poison",
         "orientation": "v",
         "showlegend": true,
         "type": "scatter",
         "x": {
          "bdata": "C4d4uegjAsD0m5wvqvzSP5/L2IdgvAPA36wdkzdm8L9k7aDwfdTzP1xMCKnqGwTAyYYdTfSp8L/3zkTtJErzP3jQnjYq0QfAYLIYK1zO2D+Y8jpATmT5v1DUdkNZS/Q/HbIx+Rsm97+wUzQCPZzuPzo1VEuWcvk/nrfPdxXp/79758XgaNnlP1/Wem+L094/ky9pMYyU+r9+E7sSvhDpP1u2dx5Wjfq/sFOesTbd8D/6ocASBpQAwNlKFd7Gqu4/OAHt8uz4+b8ndIRHqGbnP15UI4i08vq/NEh8Yg8p8z+rHkdYmLj/v2Qll6DI+vI/S0Qd4dv0/L9QZ8ugUOjmPw==",
          "dtype": "f8"
         },
         "xaxis": "x",
         "y": {
          "bdata": "bLr0wTn/yz+slH47Mk3TPzDpKBJnJcq/XYAiIXGKw7+ZmGwcNKrFv4Obz+DOAtE/e7vO8WrT0T+qe7RNKvDbP7XZhdHuPNo/Vv9bNdz44D8j6LQyBY7mvxd7RAoAYuq/+G3C94I98L+ZhRfLdLrtv+BiOAjErfQ/ZUcI5ZEF178ZbKdiZe7jv0ezL8ja4uE/eb0oCkSp5T82OoExqXfhP9mbZOBkReG/7KwOEcbexL8xrfe+BA7dP9kC7LogLeg/nsXz+Lo8kT90XfGf9SzIvw3jdvE7POO/XNhRme/p8L+PF/SYCzXXvyHpbFmfDgjARDgCxKRg8z8J6riGsT//Pw==",
          "dtype": "f8"
         },
         "yaxis": "y"
        },
        {
         "hovertemplate": "<b>%{hovertext}</b><br><br>type1=electric<br>PC1=%{x}<br>PC2=%{y}<extra></extra>",
         "hovertext": [
          "Pikachu",
          "Raichu",
          "Magnemite",
          "Magneton",
          "Voltorb",
          "Electrode",
          "Electabuzz",
          "Jolteon",
          "Zapdos",
          "Pichu",
          "Mareep",
          "Flaaffy",
          "Ampharos",
          "Elekid",
          "Raikou",
          "Electrike",
          "Manectric",
          "Plusle",
          "Minun",
          "Shinx",
          "Luxio",
          "Luxray",
          "Pachirisu",
          "Magnezone",
          "Electivire",
          "Rotom",
          "Blitzle",
          "Zebstrika",
          "Emolga",
          "Tynamo",
          "Eelektrik",
          "Eelektross",
          "Thundurus",
          "Helioptile",
          "Heliolisk",
          "Dedenne",
          "Togedemaru",
          "Tapu Koko",
          "Xurkitree"
         ],
         "legendgroup": "electric",
         "marker": {
          "color": "#FF6692",
          "symbol": "circle"
         },
         "mode": "markers",
         "name": "electric",
         "orientation": "v",
         "showlegend": true,
         "type": "scatter",
         "x": {
          "bdata": "4L06ISZZ/b+p9JTJ6JrrP2rjdkcfqPq/HTUlXhLP4T8QNcSqyRH7vzJ5VKPcIuo/HCykOMhs7j8U6XG6S6P3P0XSxu2RVANAvctPLNcRDcB5MmgC1b8CwBBmHHEcD++/wciSJxpxCECh06I8qtryvwWQ3mR5RgNA/HmjFSGIAcAVl9JzrtYBQBmRaJDdutm/J8y51ZtI2b8BdRWJJ1sFwFfGHfZpC/G/mXu4MHeZ+D/PYAczzHvav1u4pcmh2/s/tLk/KBtk/D+Ia4I06GP3P+Zf/i4QzQHA9ZEIvZO07z92FpaZGmy7v649DZKiFQTA+WyPOOw51L/C5fwde2P3PwQwdtRCQgNA8CPv291GAsAKy2VpvEvqPzBfi+7VApy/YDK5JedWpT8hlHwZGBQBQJbbgoLGOwJA",
          "dtype": "f8"
         },
         "xaxis": "x",
         "y": {
          "bdata": "jeASMxFz9D8nj+yQcSb6P74RYbFvsky/Lwf/gdhsxT+JL50QU0b1PxSwULj0FgFAUKyExavZ9T9f2fH3aa3/Py3ozodaEOw/lu4DYj3f8D/VpRAckwmzP2NUheG8km8/tOL1lYva5L9tKteh3n74P5/nBwEZPPQ/BF/Z9dYq7D/K3G/fzWwAQIQhJjDBafc/M/Lzk2WP8T8c4f+CwszTP1Z9Htn19Nk/JEUURu1btj+EL9U4UObYP18nEb4JvuK/zN9iBbaL7D9bQtEC+Ze+v8yxJd6bc/M/XTKQg4aE+D9u8GoqrN70P/o5dMKFm+I/pzHeoaIq4b/rW829/CXWv7xh6cVprfc/plHQuMke8T+fdgN60Rn6P5RiiaNFpPQ/rIRYYpOw4z/aDtiqS+P3P3Hj6kpbl/U/",
          "dtype": "f8"
         },
         "yaxis": "y"
        },
        {
         "hovertemplate": "<b>%{hovertext}</b><br><br>type1=ground<br>PC1=%{x}<br>PC2=%{y}<extra></extra>",
         "hovertext": [
          "Sandshrew",
          "Sandslash",
          "Diglett",
          "Dugtrio",
          "Cubone",
          "Marowak",
          "Rhyhorn",
          "Rhydon",
          "Gligar",
          "Phanpy",
          "Donphan",
          "Trapinch",
          "Vibrava",
          "Flygon",
          "Baltoy",
          "Claydol",
          "Groudon",
          "Hippopotas",
          "Hippowdon",
          "Rhyperior",
          "Gliscor",
          "Drilbur",
          "Excadrill",
          "Sandile",
          "Krokorok",
          "Krookodile",
          "Stunfisk",
          "Golett",
          "Golurk",
          "Landorus",
          "Mudbray",
          "Mudsdale"
         ],
         "legendgroup": "ground",
         "marker": {
          "color": "#B6E880",
          "symbol": "circle"
         },
         "mode": "markers",
         "name": "ground",
         "orientation": "v",
         "showlegend": true,
         "type": "scatter",
         "x": {
          "bdata": "QTs/yGf8AMCTd9kYZBDSP0JR7Q4X6wXAnhoAgskDxr99UWsCCh38v/zYAeXjCqO/K6GCw9Wq9b9RCSxCCW/sP6yJkYxX8LK/VynB4Y0H+b9C8KMRKBfyP2WRwFXWJAHA1XQN6cJ397/qXxoQUK32PzWHDwtPZwDAzbIdLVIN8z/bMhNoCboVQHbdUjrHN/m/G9fLjFBI+T9QhSo+WmT7P/D3VrMiLvM/pqktv6x0+r+fA3PbfRP0P+bu1zOm9wHAtapuwBfG9L9G+FZeD372P/KFb8042uo/zC+aGAus/7+cmTmdc5ftP9SxjrqN0QVArgIn53fi5b82MPRLHdvzPw==",
          "dtype": "f8"
         },
         "xaxis": "x",
         "y": {
          "bdata": "8SFbqVA287+xBTo4x4b1v0t7aEPF5fY/EPnsEc4v8z9n2V1p8SL0v3CGJPWq3/e/LsPQ30ck+L+UawuGee/6v5K2PMONVty/E9vcTbne3b+Vd60hfzL2v05xc0C6EOq/j4NxtGbS4T/6t/Ss4R/lPwsTxlHX18C/HonZtpK16b/Ga+FvEKLkv77dZo1wBfC/1byosgjA978ct9fU7Er+v90MaPNmY+O/1K9aBRAE4T8OYO+Og8PgP9HMI+khveY/COe78OIO5z/fEbjYPKbXP5783Oe1efS/pv1LZOxM3b9FNYRCwVHmv6wbj+ASUtw/tSVIXIGv4r/X8mb0hED6vw==",
          "dtype": "f8"
         },
         "yaxis": "y"
        },
        {
         "hovertemplate": "<b>%{hovertext}</b><br><br>type1=fairy<br>PC1=%{x}<br>PC2=%{y}<extra></extra>",
         "hovertext": [
          "Clefairy",
          "Clefable",
          "Cleffa",
          "Togepi",
          "Togetic",
          "Snubbull",
          "Granbull",
          "Togekiss",
          "Flabébé",
          "Floette",
          "Florges",
          "Spritzee",
          "Aromatisse",
          "Swirlix",
          "Slurpuff",
          "Sylveon",
          "Xerneas",
          "Comfey"
         ],
         "legendgroup": "fairy",
         "marker": {
          "color": "#FF97FF",
          "symbol": "circle"
         },
         "mode": "markers",
         "name": "fairy",
         "orientation": "v",
         "showlegend": true,
         "type": "scatter",
         "x": {
          "bdata": "gwv27X/I+b/S03eNYJPuP/tBOIQqLArAFZXd0A8HB8BzYOmnuBbRv062WfoPRgDACfbUkyOW2D8iDeKFI/L+P9WHm+xA3/6/msfkqMFpAEDHVkZOGUEBQMo9+0CwzvS/omHxF3wt5j+y951J6072vymDg1OUZOo/Mr2bCSqS+z8p1l8iVDwQQMlJydy6T+w/",
          "dtype": "f8"
         },
         "xaxis": "x",
         "y": {
          "bdata": "byw65ILt1L/EdaTjxQbDv/4BIOD1o9u/+79voDT08b8jJXy7s4fwv1fV+20sKd2/1zKvuY9Q5L/k1RsAjFKhv9CdpAV6MJu/FgZt5Gpn6D9kIksBC3eOv1ZpgEM8EOu/GaNI3hRe678rLOv1KbrQv+3CNZ2rN6q//slxPGJOx78RsTZNN7zhP0x8hM2QU9Q/",
          "dtype": "f8"
         },
         "yaxis": "y"
        },
        {
         "hovertemplate": "<b>%{hovertext}</b><br><br>type1=fighting<br>PC1=%{x}<br>PC2=%{y}<extra></extra>",
         "hovertext": [
          "Mankey",
          "Primeape",
          "Machop",
          "Machoke",
          "Machamp",
          "Hitmonlee",
          "Hitmonchan",
          "Tyrogue",
          "Hitmontop",
          "Makuhita",
          "Hariyama",
          "Meditite",
          "Medicham",
          "Riolu",
          "Lucario",
          "Timburr",
          "Gurdurr",
          "Conkeldurr",
          "Throh",
          "Sawk",
          "Mienfoo",
          "Mienshao",
          "Pancham",
          "Pangoro",
          "Hawlucha",
          "Crabrawler",
          "Crabominable",
          "Passimian"
         ],
         "legendgroup": "fighting",
         "marker": {
          "color": "#FECB52",
          "symbol": "circle"
         },
         "mode": "markers",
         "name": "fighting",
         "orientation": "v",
         "showlegend": true,
         "type": "scatter",
         "x": {
          "bdata": "9IGkFhFIAMAzYAs0YZDXP58F8nIfhP+/fG3tj4UE1r8n4quF6Kv0P8HgWtwUN90/6BX8l/Qe3T+leQAYwwwMwMrHjXY389w/NTpJU+JCCMAHsL+10MfpP5Vm+g3xXAPAVZ3hhUb28z8CDbaf1soCwNzm3l6heghAC0coAE+W/79UA4/k6IDXvxF9OW8HRvQ/zVzv4pat5T/zHenuHXLhPwCQm81+vvS/XvZhv8CC8z/vqB/vyYL0vyEJUehfpfE/EiON5WFc8D+vK/HhJQH4v8d7Q2wuZ+s/plFl4wjd7T8=",
          "dtype": "f8"
         },
         "xaxis": "x",
         "y": {
          "bdata": "4Au2zq6m6D84YiPzP2frP/tw1aVfGte/bD5P3so947/hyxQe/8/kv7cLQxvoBtE/NBzQBlga4L8tBbdfM7iXP9/+KvF8pO6/J1QIcCP507/V+Ww+gNzgv/pJZ0sHc8E/tUxmgCIi4j8yd25VGkneP2Cc04C4E/c/gPhLWZX54b9b2vk25prwv7imTsqHafK/wWzadAz39b84gqD8Eeqav5KuzrLeMt8/N56jZf3+9z+ZEDMQNXrZv1+g/gF+T9m/vPQ8Ghyd9D85A54Y5hHKP84bVQf8/ui/XVJP58rV0b8=",
          "dtype": "f8"
         },
         "yaxis": "y"
        },
        {
         "hovertemplate": "<b>%{hovertext}</b><br><br>type1=psychic<br>PC1=%{x}<br>PC2=%{y}<extra></extra>",
         "hovertext": [
          "Abra",
          "Kadabra",
          "Alakazam",
          "Drowzee",
          "Hypno",
          "Mr. Mime",
          "Mewtwo",
          "Mew",
          "Natu",
          "Xatu",
          "Espeon",
          "Unown",
          "Wobbuffet",
          "Lugia",
          "Celebi",
          "Ralts",
          "Kirlia",
          "Gardevoir",
          "Spoink",
          "Grumpig",
          "Chimecho",
          "Wynaut",
          "Deoxys",
          "Chingling",
          "Mime Jr.",
          "Gallade",
          "Uxie",
          "Mesprit",
          "Azelf",
          "Cresselia",
          "Victini",
          "Munna",
          "Musharna",
          "Woobat",
          "Swoobat",
          "Sigilyph",
          "Gothita",
          "Gothorita",
          "Gothitelle",
          "Solosis",
          "Duosion",
          "Reuniclus",
          "Elgyem",
          "Beheeyem",
          "Espurr",
          "Meowstic",
          "Hoopa",
          "Tapu Lele",
          "Cosmog",
          "Cosmoem",
          "Solgaleo",
          "Lunala",
          "Necrozma"
         ],
         "legendgroup": "psychic",
         "marker": {
          "color": "#636efa",
          "symbol": "circle"
         },
         "mode": "markers",
         "name": "psychic",
         "orientation": "v",
         "showlegend": true,
         "type": "scatter",
         "x": {
          "bdata": "m5M8x1c4/791UlGVnEvgv7YgVczZTgVARaGAmdQW+L/Yjvx7wVjvP9e73jIpjuE/qgUEkNqVFkB+V5UgvPAFQE3wrATVtvy/UNc968p64z8pOvdtgHX4PwfzS4Kbpfe/N5YauPdjzr9Su0IRu1YQQH5XlSC88AVAWmWgt7GeDcDXMLBZlSwDwKnH3h3aEQlAcehabJ1F+L8TPWZ5GJbnP3+Y6Kh/Qt4/u0WOaCj+BMAEo01DPxwEQEchwBa0WALAnW3MgLCz/b8RsGq3/xkIQPS8hWH/fwNA7CGSyomsA0Di4KzWzcYCQFjaS4jplQZAfleVILzwBUBE56Ri7sMAwG+Tzdols/E/bNCntInW+7/O/Vr27ZzGv2cnB/8IKe4/h2chcUF8AcD+/PzDkBXiv0jCjNrJ6PA/bR6urzUTAcAbj3Tt2+/qv+qOASHvSvI/Dl73dmcA978UAyagLpPwPypo8l6WF/O/0LLmH/db4T8NMbItzbkQQG6OVSKthAJA/4bwlpxfDcAbn86WsenWv0AMZrOuJBBAUHeQYiRjEEDDyH03JC8GQA==",
          "dtype": "f8"
         },
         "xaxis": "x",
         "y": {
          "bdata": "Y6w5xQ4dAkDwEkokvoYCQOreD594VAdAkA2PLJQW3L9yvu0O86DTvwjKC6ZmceU/EDEWHlzZA0A9/GeAhZbPPx/BJNqQE+0/dheS/iHU7z+XKPSGLtH6PzKy8BK4C9I/mupIU0Jv8L+R1O5hsHHkvz38Z4CFls8/5LvN+TXa3D+X8bTDN7PfP2Y+giivDfU/YfZELNYV4T+r76ZD/d7UP+ORDOBpiLy/wMwvO4ff67//wBO3jVsEQFetmJDp0bs/sT9Qpq801j/mQy7VL7DIP1r+G+x06Ou/c71eUmyY0r8EvBVKSY37P70SsaI3V/C/PfxngIWWzz8GRsoSU3LZv4oN3TJQyfG/N7I6v/076j/a6PZaPlb7P593p1zCkuo/vJKNNeBnu7/e16Zgt0LRv5l/jnsH2uG/JyfQmEGprz/HY1HYGUXFP/LGr2h3SuS/NuEGE7Hrzr+kqz2BSWXZv1rKgwK7rtw/e0BXE9FQ7D9Q+/5efsPuPwYHiZIBwuo/2s/gcr13vD+LYl83Pz0FwJc+ADcAo8M/BVEMkT6z4j/CwCTIrxquPw==",
          "dtype": "f8"
         },
         "yaxis": "y"
        },
        {
         "hovertemplate": "<b>%{hovertext}</b><br><br>type1=rock<br>PC1=%{x}<br>PC2=%{y}<extra></extra>",
         "hovertext": [
          "Geodude",
          "Graveler",
          "Golem",
          "Onix",
          "Omanyte",
          "Omastar",
          "Kabuto",
          "Kabutops",
          "Aerodactyl",
          "Sudowoodo",
          "Larvitar",
          "Pupitar",
          "Tyranitar",
          "Nosepass",
          "Lunatone",
          "Solrock",
          "Lileep",
          "Cradily",
          "Anorith",
          "Armaldo",
          "Regirock",
          "Cranidos",
          "Rampardos",
          "Shieldon",
          "Bastiodon",
          "Bonsly",
          "Probopass",
          "Roggenrola",
          "Boldore",
          "Gigalith",
          "Archen",
          "Archeops",
          "Terrakion",
          "Binacle",
          "Barbaracle",
          "Tyrunt",
          "Tyrantrum",
          "Amaura",
          "Aurorus",
          "Carbink",
          "Diancie",
          "Rockruff",
          "Lycanroc",
          "Minior",
          "Nihilego"
         ],
         "legendgroup": "rock",
         "marker": {
          "color": "#EF553B",
          "symbol": "circle"
         },
         "mode": "markers",
         "name": "rock",
         "orientation": "v",
         "showlegend": true,
         "type": "scatter",
         "x": {
          "bdata": "IiaeEdLKAMDHw1BNNQblv6U1WH/n2fA/Uynczp027L+/+O8Unfnyv3SKhZ8T4fA/eiS9U28S9L9eM9CDo+zvP3IRsTE/0gZAo+IJcMjG0b8PjGo9ClwAwIWXIoA3ptC/LUUCakieEUD43b6E2LTqv4gl2smt1uE/dITjZjUb3z/tHqdv2+vwv3p24ZQJ/fI/J+wEgNLj87+5zgWJh9XxP3pwxP1mPgNArrizl5PU9L9RC6vzYUbxPxcOK92OlfO/nMk2+hfb8j/qLbkLipoBwOxf+KO3F/s/Mxt2dcIoA8DEdarxx4rjv05o/D+USfc/Jt/5ujbB3r8vYcPj3CABQB7aCGk2CANAMSxaA+q0/7/yK6WZmx7yP69H3RV9ifG/Dos4Jv+o9j9arqF36SPwvwBe9etri/k/S13AFND98z8B2KFVbUcRQBivUcNOawPAkkgO5Cpt7T+PWOmJtVrwPyzoXIaDEANA",
          "dtype": "f8"
         },
         "xaxis": "x",
         "y": {
          "bdata": "9oVT488w+r/buDIlcV35v297f1+ITPy/a/mf1t/t+r9bO3NwMb/sv6m1vrvo7+u/EnqgfodN3b/Gy0Y9tCTVv6iUREf/6vg/9E8pEn1dAMDDCHhJ9wnJv0G6lY8hv9e/8lNq8xqg+r9Brnwe9icDwOo4slVSuNM/6WwKtUYT07/BlWZo94X1vzsUZjfqhfS/PXzW6KTh4j9lVGojzJLyv/wu6x/ArQrAZFc5Ldl82D8zn59ehKGyP1ZDHztmmADAQbgcqH7aC8AFLj/mZuoAwLBmQthXDQXAhGNkTM4S+L+JZ9Vw7U77v2czxoFezQLAYtf6TuuO7D+Uwtu+jND5P9mdbSsSKd4/VP3jOsrp2L/c26m6HTLxv25vUudJF+G/xOEMZ7Lf579EPHCbQIuiv7HUDEXse8y/cpQmXd2HBcCx8tCez5LrP00HaNfBtto/P/aGyNeuvD+CUDnsyOb+Pwhfn6j7bPU/",
          "dtype": "f8"
         },
         "yaxis": "y"
        },
        {
         "hovertemplate": "<b>%{hovertext}</b><br><br>type1=ghost<br>PC1=%{x}<br>PC2=%{y}<extra></extra>",
         "hovertext": [
          "Gastly",
          "Haunter",
          "Gengar",
          "Misdreavus",
          "Shuppet",
          "Banette",
          "Duskull",
          "Dusclops",
          "Drifloon",
          "Drifblim",
          "Mismagius",
          "Spiritomb",
          "Dusknoir",
          "Giratina",
          "Yamask",
          "Cofagrigus",
          "Litwick",
          "Lampent",
          "Chandelure",
          "Phantump",
          "Trevenant",
          "Pumpkaboo",
          "Gourgeist",
          "Sandygast",
          "Palossand",
          "Mimikyu",
          "Dhelmise"
         ],
         "legendgroup": "ghost",
         "marker": {
          "color": "#00cc96",
          "symbol": "circle"
         },
         "mode": "markers",
         "name": "ghost",
         "orientation": "v",
         "showlegend": true,
         "type": "scatter",
         "x": {
          "bdata": "p6m57rO0/78nQRLBhb/cvzcMJgqHaAVAZ9mKdMFSuj/gZJKK2zcBwKPcFAB0VABAX6+4vJmYAMCZucy1fOfhP1qmhFQJ2/S/o8OrmUdS8j9TfuBU8hPxP+yxk8yONvA/yl0WtsNi+j+f7T80D14QQF9ORpwZuv+/anJFg++O7j/q6gO4vhsDwNVRdMXAeO2/3uGJAoqh9z+NmBG43P79vx1PODg3Jek/JsizMXfJ97/nixKmX8jwPwOdovpsG/u/X9uqMhKE7D+GwzmlIMrnP1bd+P1wA/g/",
          "dtype": "f8"
         },
         "xaxis": "x",
         "y": {
          "bdata": "+3XLdhNL/T8okuzO/XX9P8ony51QQAFAS4vJhdXW5z/LuuAlEk/gPyG6BwJse9A/eiW4adIa/L+6/6XZLR8FwFB1WCK4o+0/XuzR8W1u8D+Q93BF0g70P5SgzREsV/i/o+3xlMkdAsAEmaqbuaGxP/l6aBQUNfK/w8xm/dOEAsDNufH5Y9jkv0AlLed8QtQ/a9LGBuS84T+5DumjiyXQv/JHPlCLMeC/eG07btL55L9zkpqV5j73v2Nyxr2wZvK/fGTRKG2b9L/5uTDilcnBPxV/FL+EVPO/",
          "dtype": "f8"
         },
         "yaxis": "y"
        },
        {
         "hovertemplate": "<b>%{hovertext}</b><br><br>type1=ice<br>PC1=%{x}<br>PC2=%{y}<extra></extra>",
         "hovertext": [
          "Jynx",
          "Articuno",
          "Swinub",
          "Piloswine",
          "Delibird",
          "Smoochum",
          "Snorunt",
          "Glalie",
          "Spheal",
          "Sealeo",
          "Walrein",
          "Regice",
          "Glaceon",
          "Mamoswine",
          "Froslass",
          "Vanillite",
          "Vanillish",
          "Vanilluxe",
          "Cubchoo",
          "Beartic",
          "Cryogonal",
          "Bergmite",
          "Avalugg"
         ],
         "legendgroup": "ice",
         "marker": {
          "color": "#ab63fa",
          "symbol": "circle"
         },
         "mode": "markers",
         "name": "ice",
         "orientation": "v",
         "showlegend": true,
         "type": "scatter",
         "x": {
          "bdata": "JNnDV3ld3T/x+Ygy1PkDQNTezOxgOgfAkkOARpT21z/jIgYXlkr6v0HVSsRmI/+/doS2WX6DAMADvGUBVSUDQJGNqzWdOAHAvL85f8Nuzb8xq4iLiRX7PwfK5UW3xQVApG4cytBJ+T++chksSKH5PxAhBhMUgec/cxD5FfdJ/78lTMoy227gv60v/aCrvPs/19ztpTtu/7+P/O0ImMX0P1Q0Ydjohfc/CNt9TnUiAMDh5LiWePz0Pw==",
          "dtype": "f8"
         },
         "xaxis": "x",
         "y": {
          "bdata": "MhzpH9GW+j+QsIE37wfWvy4g54FH3c8/oLVGalwI5L8reNhG+xjvPxlHd7ZJa/U/75L6ufgjsz87ZtwIKF/wP/kBc/aMAOG/YxM3TMuZ3b/XIoirfDLZv36IAKwIyPu/3Q7RfNAp2b8TuoDXdmXFP6W/Ie7jWvM/kdtRcetBkD+QSGG+ZkaxP6Mk/Bay3Mw/k3z6CZZLxz9xxskaBEnmv44vnzMyE/E/QavRfLw+87/K2hm96bAJwA==",
          "dtype": "f8"
         },
         "yaxis": "y"
        },
        {
         "hovertemplate": "<b>%{hovertext}</b><br><br>type1=dragon<br>PC1=%{x}<br>PC2=%{y}<extra></extra>",
         "hovertext": [
          "Dratini",
          "Dragonair",
          "Dragonite",
          "Altaria",
          "Bagon",
          "Shelgon",
          "Salamence",
          "Latias",
          "Latios",
          "Rayquaza",
          "Gible",
          "Gabite",
          "Garchomp",
          "Axew",
          "Fraxure",
          "Haxorus",
          "Druddigon",
          "Reshiram",
          "Zekrom",
          "Kyurem",
          "Goomy",
          "Sliggoo",
          "Goodra",
          "Zygarde",
          "Jangmo-o",
          "Hakamo-o",
          "Kommo-o"
         ],
         "legendgroup": "dragon",
         "marker": {
          "color": "#FFA15A",
          "symbol": "circle"
         },
         "mode": "markers",
         "name": "dragon",
         "orientation": "v",
         "showlegend": true,
         "type": "scatter",
         "x": {
          "bdata": "wC2gg56FAMCnwoNe2D7Cv2eWlBqCTAZAd7WkWC/nBEBqly8s9PYAwKIO9VOOFsa/zxRRO2kGEUC3hDikMJ4RQOIqFU10exFAjFh9qHmDFkCAkASxPmIAwLX2+k8MI9e/JosN60JrEUCx5drNtMD8v3teGVqoKta/WGuVGX5R+z8j4+MZwTnvP+bKSCVEbBBAki7yz+4lEEC0l4owqqIRQA0ggwTspf+/CMtVAxYN4D9dQH/PzFEHQLXYHKHWPBJAdI4CLdSpAMClkFDCycPEv1lZ/5Lz8wVA",
          "dtype": "f8"
         },
         "xaxis": "x",
         "y": {
          "bdata": "r7ftuwwHyD9jzKX+1GrQPyUEJAhwSMG/qIAiF0E+1b9so6ignpKmv4we0KpRR+u/EiKGuWCi2j+VmgXiJfG6P7H53E2eT+0/LRuz0lUM9T9lyl8bRlC5v4GdLvgLIN4/YQmfWk3Kq78n1Le2LoSrv6LmEyDFmai/DLW02j0x0j9lYMr5rCHxv6K2xUdiyNI/NmomVljNy78jcA4STObsP/8HOXd5zpq/ut+6aTUIUL8knXyiufumPwF3KE0Gjeq/A1kscxdl1b8jT3Bsh2jYv8wFpSGG/+K/",
          "dtype": "f8"
         },
         "yaxis": "y"
        },
        {
         "hovertemplate": "<b>%{hovertext}</b><br><br>type1=dark<br>PC1=%{x}<br>PC2=%{y}<extra></extra>",
         "hovertext": [
          "Umbreon",
          "Murkrow",
          "Sneasel",
          "Houndour",
          "Houndoom",
          "Poochyena",
          "Mightyena",
          "Sableye",
          "Absol",
          "Honchkrow",
          "Weavile",
          "Darkrai",
          "Purrloin",
          "Liepard",
          "Scraggy",
          "Scrafty",
          "Zorua",
          "Zoroark",
          "Pawniard",
          "Bisharp",
          "Vullaby",
          "Mandibuzz",
          "Deino",
          "Zweilous",
          "Hydreigon",
          "Inkay",
          "Malamar",
          "Yveltal",
          "Guzzlord"
         ],
         "legendgroup": "dark",
         "marker": {
          "color": "#19d3f3",
          "symbol": "circle"
         },
         "mode": "markers",
         "name": "dark",
         "orientation": "v",
         "showlegend": true,
         "type": "scatter",
         "x": {
          "bdata": "nvBLkvxt+j8hbX37Nn7dv/3QJ70UDLS/07qymudz+b/W+yEou4kFQGM+/oKj2grAr1dnaPsExb8UyLEy9MfuP4Q8GLA1sQBAFyeFdk/G8z9T7/lQfVTzP18zub31UAVAOFF82epmA8C0VltNP3fGP6iFWNFyW/S//AqRJoU18D+GG5WKzv35v6mOBrC4kPM/9ECRxQPZ97+zDuQXm1DuPzNQy7zZOu6/ysC97DIg9T9SdAiaJUsAwIRXEIqTLr2/tBLXNgPpBUBnMR4qAxECwP6Jji/bOOs/KdZfIlQ8EECIr/82yW0DQA==",
          "dtype": "f8"
         },
         "xaxis": "x",
         "y": {
          "bdata": "e61UoEBX9r+7wSnsFWX5P3m22+sFIfM/CjNsjrvW8T+XZW3fxBf1P/Xk1JCDN4g/1trh8bBHwD/UjNQQVLQCwPpgVkihu/4/WCA2vRvy7D+QZnbesmzzP5uoOFXqcPg/oJ94wLcM6z/4hO62HQD8P0jlj0jSjuW/K1X39Fbs+b+3blYjBDPwP+Dl4W5K+Ps/dkPTsadhtL9pr8a00zbhv878hSmqgNi/5vSlPaUw57+qq8tZBoTRvzh2OXJvOcq/2UpsUrsY5z/OroHDVrPJv3tVlRcPIc6/EbE2TTe84T84tOPb1BHDvw==",
          "dtype": "f8"
         },
         "yaxis": "y"
        },
        {
         "hovertemplate": "<b>%{hovertext}</b><br><br>type1=steel<br>PC1=%{x}<br>PC2=%{y}<extra></extra>",
         "hovertext": [
          "Steelix",
          "Skarmory",
          "Mawile",
          "Aron",
          "Lairon",
          "Aggron",
          "Beldum",
          "Metang",
          "Metagross",
          "Registeel",
          "Jirachi",
          "Bronzor",
          "Bronzong",
          "Dialga",
          "Klink",
          "Klang",
          "Klinklang",
          "Cobalion",
          "Honedge",
          "Doublade",
          "Aegislash",
          "Klefki",
          "Celesteela",
          "Magearna"
         ],
         "legendgroup": "steel",
         "marker": {
          "color": "#FF6692",
          "symbol": "circle"
         },
         "mode": "markers",
         "name": "steel",
         "orientation": "v",
         "showlegend": true,
         "type": "scatter",
         "x": {
          "bdata": "BQwiQ7EgB0DxanWoR+vfP2nBSRsUCus/xNJ42CvC+b8r0SYUC3OivxyF1Qb4EwlAlI+afDNSAMDPv1PcTxC+vxiJ35EJIxFAQB3VIQ+CBEB+V5UgvPAFQGrY01XEg/+/kr3vInZm9D/UflX4VS4QQMRlVXSTNwDAtxZrSNSZzD94ZGtoll32P3WwkDysdgJAFHs8BPUk+78dbreE6AnQPx/MMtPdw/c/AiiaRmsJ5T+yFGVeMskCQGoSoH+bpwZA",
          "dtype": "f8"
         },
         "xaxis": "x",
         "y": {
          "bdata": "4vrclk5DEcBwHJ2oRMb3v2AHWddDlvu/u1Ot9ghu9r+bX1xCRkL/v29D4v+3NQ3A+Jx9F6gl87/U4FFv1Avyv7AuOVqrHd+/nbn1OuJIBMA9/GeAhZbPPzTNNS67P/2/q9ngnZQt/7+M5F9yzruxP2lkahekHu2/pLOpBaDq7b9vhAbFPJfWv81B4sIoYqQ/Yg9U3CNt97/meSssSX8CwNNVVXJmBPM/FHmCvnb8xL+zk6xzL3Dmv6sBg+FIYua/",
          "dtype": "f8"
         },
         "yaxis": "y"
        },
        {
         "hovertemplate": "<b>%{hovertext}</b><br><br>type1=flying<br>PC1=%{x}<br>PC2=%{y}<extra></extra>",
         "hovertext": [
          "Tornadus",
          "Noibat",
          "Noivern"
         ],
         "legendgroup": "flying",
         "marker": {
          "color": "#B6E880",
          "symbol": "circle"
         },
         "mode": "markers",
         "name": "flying",
         "orientation": "v",
         "showlegend": true,
         "type": "scatter",
         "x": {
          "bdata": "AfCSpKPkAkA2gDsOw8gHwLH4DymR0vk/",
          "dtype": "f8"
         },
         "xaxis": "x",
         "y": {
          "bdata": "8Wu4R7jr9T9ruK1a37PhPz510R+OCPY/",
          "dtype": "f8"
         },
         "yaxis": "y"
        }
       ],
       "layout": {
        "legend": {
         "title": {
          "text": "Type"
         },
         "tracegroupgap": 0
        },
        "template": {
         "data": {
          "bar": [
           {
            "error_x": {
             "color": "#2a3f5f"
            },
            "error_y": {
             "color": "#2a3f5f"
            },
            "marker": {
             "line": {
              "color": "white",
              "width": 0.5
             },
             "pattern": {
              "fillmode": "overlay",
              "size": 10,
              "solidity": 0.2
             }
            },
            "type": "bar"
           }
          ],
          "barpolar": [
           {
            "marker": {
             "line": {
              "color": "white",
              "width": 0.5
             },
             "pattern": {
              "fillmode": "overlay",
              "size": 10,
              "solidity": 0.2
             }
            },
            "type": "barpolar"
           }
          ],
          "carpet": [
           {
            "aaxis": {
             "endlinecolor": "#2a3f5f",
             "gridcolor": "#C8D4E3",
             "linecolor": "#C8D4E3",
             "minorgridcolor": "#C8D4E3",
             "startlinecolor": "#2a3f5f"
            },
            "baxis": {
             "endlinecolor": "#2a3f5f",
             "gridcolor": "#C8D4E3",
             "linecolor": "#C8D4E3",
             "minorgridcolor": "#C8D4E3",
             "startlinecolor": "#2a3f5f"
            },
            "type": "carpet"
           }
          ],
          "choropleth": [
           {
            "colorbar": {
             "outlinewidth": 0,
             "ticks": ""
            },
            "type": "choropleth"
           }
          ],
          "contour": [
           {
            "colorbar": {
             "outlinewidth": 0,
             "ticks": ""
            },
            "colorscale": [
             [
              0,
              "#0d0887"
             ],
             [
              0.1111111111111111,
              "#46039f"
             ],
             [
              0.2222222222222222,
              "#7201a8"
             ],
             [
              0.3333333333333333,
              "#9c179e"
             ],
             [
              0.4444444444444444,
              "#bd3786"
             ],
             [
              0.5555555555555556,
              "#d8576b"
             ],
             [
              0.6666666666666666,
              "#ed7953"
             ],
             [
              0.7777777777777778,
              "#fb9f3a"
             ],
             [
              0.8888888888888888,
              "#fdca26"
             ],
             [
              1,
              "#f0f921"
             ]
            ],
            "type": "contour"
           }
          ],
          "contourcarpet": [
           {
            "colorbar": {
             "outlinewidth": 0,
             "ticks": ""
            },
            "type": "contourcarpet"
           }
          ],
          "heatmap": [
           {
            "colorbar": {
             "outlinewidth": 0,
             "ticks": ""
            },
            "colorscale": [
             [
              0,
              "#0d0887"
             ],
             [
              0.1111111111111111,
              "#46039f"
             ],
             [
              0.2222222222222222,
              "#7201a8"
             ],
             [
              0.3333333333333333,
              "#9c179e"
             ],
             [
              0.4444444444444444,
              "#bd3786"
             ],
             [
              0.5555555555555556,
              "#d8576b"
             ],
             [
              0.6666666666666666,
              "#ed7953"
             ],
             [
              0.7777777777777778,
              "#fb9f3a"
             ],
             [
              0.8888888888888888,
              "#fdca26"
             ],
             [
              1,
              "#f0f921"
             ]
            ],
            "type": "heatmap"
           }
          ],
          "histogram": [
           {
            "marker": {
             "pattern": {
              "fillmode": "overlay",
              "size": 10,
              "solidity": 0.2
             }
            },
            "type": "histogram"
           }
          ],
          "histogram2d": [
           {
            "colorbar": {
             "outlinewidth": 0,
             "ticks": ""
            },
            "colorscale": [
             [
              0,
              "#0d0887"
             ],
             [
              0.1111111111111111,
              "#46039f"
             ],
             [
              0.2222222222222222,
              "#7201a8"
             ],
             [
              0.3333333333333333,
              "#9c179e"
             ],
             [
              0.4444444444444444,
              "#bd3786"
             ],
             [
              0.5555555555555556,
              "#d8576b"
             ],
             [
              0.6666666666666666,
              "#ed7953"
             ],
             [
              0.7777777777777778,
              "#fb9f3a"
             ],
             [
              0.8888888888888888,
              "#fdca26"
             ],
             [
              1,
              "#f0f921"
             ]
            ],
            "type": "histogram2d"
           }
          ],
          "histogram2dcontour": [
           {
            "colorbar": {
             "outlinewidth": 0,
             "ticks": ""
            },
            "colorscale": [
             [
              0,
              "#0d0887"
             ],
             [
              0.1111111111111111,
              "#46039f"
             ],
             [
              0.2222222222222222,
              "#7201a8"
             ],
             [
              0.3333333333333333,
              "#9c179e"
             ],
             [
              0.4444444444444444,
              "#bd3786"
             ],
             [
              0.5555555555555556,
              "#d8576b"
             ],
             [
              0.6666666666666666,
              "#ed7953"
             ],
             [
              0.7777777777777778,
              "#fb9f3a"
             ],
             [
              0.8888888888888888,
              "#fdca26"
             ],
             [
              1,
              "#f0f921"
             ]
            ],
            "type": "histogram2dcontour"
           }
          ],
          "mesh3d": [
           {
            "colorbar": {
             "outlinewidth": 0,
             "ticks": ""
            },
            "type": "mesh3d"
           }
          ],
          "parcoords": [
           {
            "line": {
             "colorbar": {
              "outlinewidth": 0,
              "ticks": ""
             }
            },
            "type": "parcoords"
           }
          ],
          "pie": [
           {
            "automargin": true,
            "type": "pie"
           }
          ],
          "scatter": [
           {
            "fillpattern": {
             "fillmode": "overlay",
             "size": 10,
             "solidity": 0.2
            },
            "type": "scatter"
           }
          ],
          "scatter3d": [
           {
            "line": {
             "colorbar": {
              "outlinewidth": 0,
              "ticks": ""
             }
            },
            "marker": {
             "colorbar": {
              "outlinewidth": 0,
              "ticks": ""
             }
            },
            "type": "scatter3d"
           }
          ],
          "scattercarpet": [
           {
            "marker": {
             "colorbar": {
              "outlinewidth": 0,
              "ticks": ""
             }
            },
            "type": "scattercarpet"
           }
          ],
          "scattergeo": [
           {
            "marker": {
             "colorbar": {
              "outlinewidth": 0,
              "ticks": ""
             }
            },
            "type": "scattergeo"
           }
          ],
          "scattergl": [
           {
            "marker": {
             "colorbar": {
              "outlinewidth": 0,
              "ticks": ""
             }
            },
            "type": "scattergl"
           }
          ],
          "scattermap": [
           {
            "marker": {
             "colorbar": {
              "outlinewidth": 0,
              "ticks": ""
             }
            },
            "type": "scattermap"
           }
          ],
          "scattermapbox": [
           {
            "marker": {
             "colorbar": {
              "outlinewidth": 0,
              "ticks": ""
             }
            },
            "type": "scattermapbox"
           }
          ],
          "scatterpolar": [
           {
            "marker": {
             "colorbar": {
              "outlinewidth": 0,
              "ticks": ""
             }
            },
            "type": "scatterpolar"
           }
          ],
          "scatterpolargl": [
           {
            "marker": {
             "colorbar": {
              "outlinewidth": 0,
              "ticks": ""
             }
            },
            "type": "scatterpolargl"
           }
          ],
          "scatterternary": [
           {
            "marker": {
             "colorbar": {
              "outlinewidth": 0,
              "ticks": ""
             }
            },
            "type": "scatterternary"
           }
          ],
          "surface": [
           {
            "colorbar": {
             "outlinewidth": 0,
             "ticks": ""
            },
            "colorscale": [
             [
              0,
              "#0d0887"
             ],
             [
              0.1111111111111111,
              "#46039f"
             ],
             [
              0.2222222222222222,
              "#7201a8"
             ],
             [
              0.3333333333333333,
              "#9c179e"
             ],
             [
              0.4444444444444444,
              "#bd3786"
             ],
             [
              0.5555555555555556,
              "#d8576b"
             ],
             [
              0.6666666666666666,
              "#ed7953"
             ],
             [
              0.7777777777777778,
              "#fb9f3a"
             ],
             [
              0.8888888888888888,
              "#fdca26"
             ],
             [
              1,
              "#f0f921"
             ]
            ],
            "type": "surface"
           }
          ],
          "table": [
           {
            "cells": {
             "fill": {
              "color": "#EBF0F8"
             },
             "line": {
              "color": "white"
             }
            },
            "header": {
             "fill": {
              "color": "#C8D4E3"
             },
             "line": {
              "color": "white"
             }
            },
            "type": "table"
           }
          ]
         },
         "layout": {
          "annotationdefaults": {
           "arrowcolor": "#2a3f5f",
           "arrowhead": 0,
           "arrowwidth": 1
          },
          "autotypenumbers": "strict",
          "coloraxis": {
           "colorbar": {
            "outlinewidth": 0,
            "ticks": ""
           }
          },
          "colorscale": {
           "diverging": [
            [
             0,
             "#8e0152"
            ],
            [
             0.1,
             "#c51b7d"
            ],
            [
             0.2,
             "#de77ae"
            ],
            [
             0.3,
             "#f1b6da"
            ],
            [
             0.4,
             "#fde0ef"
            ],
            [
             0.5,
             "#f7f7f7"
            ],
            [
             0.6,
             "#e6f5d0"
            ],
            [
             0.7,
             "#b8e186"
            ],
            [
             0.8,
             "#7fbc41"
            ],
            [
             0.9,
             "#4d9221"
            ],
            [
             1,
             "#276419"
            ]
           ],
           "sequential": [
            [
             0,
             "#0d0887"
            ],
            [
             0.1111111111111111,
             "#46039f"
            ],
            [
             0.2222222222222222,
             "#7201a8"
            ],
            [
             0.3333333333333333,
             "#9c179e"
            ],
            [
             0.4444444444444444,
             "#bd3786"
            ],
            [
             0.5555555555555556,
             "#d8576b"
            ],
            [
             0.6666666666666666,
             "#ed7953"
            ],
            [
             0.7777777777777778,
             "#fb9f3a"
            ],
            [
             0.8888888888888888,
             "#fdca26"
            ],
            [
             1,
             "#f0f921"
            ]
           ],
           "sequentialminus": [
            [
             0,
             "#0d0887"
            ],
            [
             0.1111111111111111,
             "#46039f"
            ],
            [
             0.2222222222222222,
             "#7201a8"
            ],
            [
             0.3333333333333333,
             "#9c179e"
            ],
            [
             0.4444444444444444,
             "#bd3786"
            ],
            [
             0.5555555555555556,
             "#d8576b"
            ],
            [
             0.6666666666666666,
             "#ed7953"
            ],
            [
             0.7777777777777778,
             "#fb9f3a"
            ],
            [
             0.8888888888888888,
             "#fdca26"
            ],
            [
             1,
             "#f0f921"
            ]
           ]
          },
          "colorway": [
           "#636efa",
           "#EF553B",
           "#00cc96",
           "#ab63fa",
           "#FFA15A",
           "#19d3f3",
           "#FF6692",
           "#B6E880",
           "#FF97FF",
           "#FECB52"
          ],
          "font": {
           "color": "#2a3f5f"
          },
          "geo": {
           "bgcolor": "white",
           "lakecolor": "white",
           "landcolor": "white",
           "showlakes": true,
           "showland": true,
           "subunitcolor": "#C8D4E3"
          },
          "hoverlabel": {
           "align": "left"
          },
          "hovermode": "closest",
          "mapbox": {
           "style": "light"
          },
          "paper_bgcolor": "white",
          "plot_bgcolor": "white",
          "polar": {
           "angularaxis": {
            "gridcolor": "#EBF0F8",
            "linecolor": "#EBF0F8",
            "ticks": ""
           },
           "bgcolor": "white",
           "radialaxis": {
            "gridcolor": "#EBF0F8",
            "linecolor": "#EBF0F8",
            "ticks": ""
           }
          },
          "scene": {
           "xaxis": {
            "backgroundcolor": "white",
            "gridcolor": "#DFE8F3",
            "gridwidth": 2,
            "linecolor": "#EBF0F8",
            "showbackground": true,
            "ticks": "",
            "zerolinecolor": "#EBF0F8"
           },
           "yaxis": {
            "backgroundcolor": "white",
            "gridcolor": "#DFE8F3",
            "gridwidth": 2,
            "linecolor": "#EBF0F8",
            "showbackground": true,
            "ticks": "",
            "zerolinecolor": "#EBF0F8"
           },
           "zaxis": {
            "backgroundcolor": "white",
            "gridcolor": "#DFE8F3",
            "gridwidth": 2,
            "linecolor": "#EBF0F8",
            "showbackground": true,
            "ticks": "",
            "zerolinecolor": "#EBF0F8"
           }
          },
          "shapedefaults": {
           "line": {
            "color": "#2a3f5f"
           }
          },
          "ternary": {
           "aaxis": {
            "gridcolor": "#DFE8F3",
            "linecolor": "#A2B1C6",
            "ticks": ""
           },
           "baxis": {
            "gridcolor": "#DFE8F3",
            "linecolor": "#A2B1C6",
            "ticks": ""
           },
           "bgcolor": "white",
           "caxis": {
            "gridcolor": "#DFE8F3",
            "linecolor": "#A2B1C6",
            "ticks": ""
           }
          },
          "title": {
           "x": 0.05
          },
          "xaxis": {
           "automargin": true,
           "gridcolor": "#EBF0F8",
           "linecolor": "#EBF0F8",
           "ticks": "",
           "title": {
            "standoff": 15
           },
           "zerolinecolor": "#EBF0F8",
           "zerolinewidth": 2
          },
          "yaxis": {
           "automargin": true,
           "gridcolor": "#EBF0F8",
           "linecolor": "#EBF0F8",
           "ticks": "",
           "title": {
            "standoff": 15
           },
           "zerolinecolor": "#EBF0F8",
           "zerolinewidth": 2
          }
         }
        },
        "title": {
         "text": "PCA of Battle Stats by Primary Type"
        },
        "xaxis": {
         "anchor": "y",
         "domain": [
          0,
          1
         ],
         "title": {
          "text": "PC1"
         }
        },
        "yaxis": {
         "anchor": "x",
         "domain": [
          0,
          1
         ],
         "title": {
          "text": "PC2"
         }
        }
       }
      }
     },
     "metadata": {},
     "output_type": "display_data"
    }
   ],
   "source": [
    "# Create interactive scatter plot for Battle Stats PCA colored by type1\n",
    "if 'type1' in pokemon_clean.columns:\n",
    "    fig = px.scatter(\n",
    "        pokemon_clean, \n",
    "        x='battle_pc1', \n",
    "        y='battle_pc2',\n",
    "        color='type1',\n",
    "        hover_name='name' if 'name' in pokemon_clean.columns else None,\n",
    "        title='PCA of Battle Stats by Primary Type',\n",
    "        labels={'battle_pc1': 'PC1', 'battle_pc2': 'PC2'},\n",
    "        template='plotly_white'\n",
    "    )\n",
    "    fig.update_layout(legend_title_text='Type')\n",
    "    fig.show()"
   ]
  },
  {
   "cell_type": "code",
   "execution_count": 19,
   "id": "d86a69ab",
   "metadata": {},
   "outputs": [
    {
     "data": {
      "application/vnd.plotly.v1+json": {
       "config": {
        "plotlyServerURL": "https://plot.ly"
       },
       "data": [
        {
         "hovertemplate": "<b>%{hovertext}</b><br><br>PC1=%{x}<br>PC2=%{y}<br>is_legendary=%{marker.color}<extra></extra>",
         "hovertext": [
          "Bulbasaur",
          "Ivysaur",
          "Venusaur",
          "Charmander",
          "Charmeleon",
          "Charizard",
          "Squirtle",
          "Wartortle",
          "Blastoise",
          "Caterpie",
          "Metapod",
          "Butterfree",
          "Weedle",
          "Kakuna",
          "Beedrill",
          "Pidgey",
          "Pidgeotto",
          "Pidgeot",
          "Rattata",
          "Raticate",
          "Spearow",
          "Fearow",
          "Ekans",
          "Arbok",
          "Pikachu",
          "Raichu",
          "Sandshrew",
          "Sandslash",
          "Nidoran♀",
          "Nidorina",
          "Nidoqueen",
          "Nidoran♂",
          "Nidorino",
          "Nidoking",
          "Clefairy",
          "Clefable",
          "Vulpix",
          "Ninetales",
          "Jigglypuff",
          "Wigglytuff",
          "Zubat",
          "Golbat",
          "Oddish",
          "Gloom",
          "Vileplume",
          "Paras",
          "Parasect",
          "Venonat",
          "Venomoth",
          "Diglett",
          "Dugtrio",
          "Meowth",
          "Persian",
          "Psyduck",
          "Golduck",
          "Mankey",
          "Primeape",
          "Growlithe",
          "Arcanine",
          "Poliwag",
          "Poliwhirl",
          "Poliwrath",
          "Abra",
          "Kadabra",
          "Alakazam",
          "Machop",
          "Machoke",
          "Machamp",
          "Bellsprout",
          "Weepinbell",
          "Victreebel",
          "Tentacool",
          "Tentacruel",
          "Geodude",
          "Graveler",
          "Golem",
          "Ponyta",
          "Rapidash",
          "Slowpoke",
          "Slowbro",
          "Magnemite",
          "Magneton",
          "Farfetch'd",
          "Doduo",
          "Dodrio",
          "Seel",
          "Dewgong",
          "Grimer",
          "Muk",
          "Shellder",
          "Cloyster",
          "Gastly",
          "Haunter",
          "Gengar",
          "Onix",
          "Drowzee",
          "Hypno",
          "Krabby",
          "Kingler",
          "Voltorb",
          "Electrode",
          "Exeggcute",
          "Exeggutor",
          "Cubone",
          "Marowak",
          "Hitmonlee",
          "Hitmonchan",
          "Lickitung",
          "Koffing",
          "Weezing",
          "Rhyhorn",
          "Rhydon",
          "Chansey",
          "Tangela",
          "Kangaskhan",
          "Horsea",
          "Seadra",
          "Goldeen",
          "Seaking",
          "Staryu",
          "Starmie",
          "Mr. Mime",
          "Scyther",
          "Jynx",
          "Electabuzz",
          "Magmar",
          "Pinsir",
          "Tauros",
          "Magikarp",
          "Gyarados",
          "Lapras",
          "Ditto",
          "Eevee",
          "Vaporeon",
          "Jolteon",
          "Flareon",
          "Porygon",
          "Omanyte",
          "Omastar",
          "Kabuto",
          "Kabutops",
          "Aerodactyl",
          "Snorlax",
          "Articuno",
          "Zapdos",
          "Moltres",
          "Dratini",
          "Dragonair",
          "Dragonite",
          "Mewtwo",
          "Mew",
          "Chikorita",
          "Bayleef",
          "Meganium",
          "Cyndaquil",
          "Quilava",
          "Typhlosion",
          "Totodile",
          "Croconaw",
          "Feraligatr",
          "Sentret",
          "Furret",
          "Hoothoot",
          "Noctowl",
          "Ledyba",
          "Ledian",
          "Spinarak",
          "Ariados",
          "Crobat",
          "Chinchou",
          "Lanturn",
          "Pichu",
          "Cleffa",
          "Igglybuff",
          "Togepi",
          "Togetic",
          "Natu",
          "Xatu",
          "Mareep",
          "Flaaffy",
          "Ampharos",
          "Bellossom",
          "Marill",
          "Azumarill",
          "Sudowoodo",
          "Politoed",
          "Hoppip",
          "Skiploom",
          "Jumpluff",
          "Aipom",
          "Sunkern",
          "Sunflora",
          "Yanma",
          "Wooper",
          "Quagsire",
          "Espeon",
          "Umbreon",
          "Murkrow",
          "Slowking",
          "Misdreavus",
          "Unown",
          "Wobbuffet",
          "Girafarig",
          "Pineco",
          "Forretress",
          "Dunsparce",
          "Gligar",
          "Steelix",
          "Snubbull",
          "Granbull",
          "Qwilfish",
          "Scizor",
          "Shuckle",
          "Heracross",
          "Sneasel",
          "Teddiursa",
          "Ursaring",
          "Slugma",
          "Magcargo",
          "Swinub",
          "Piloswine",
          "Corsola",
          "Remoraid",
          "Octillery",
          "Delibird",
          "Mantine",
          "Skarmory",
          "Houndour",
          "Houndoom",
          "Kingdra",
          "Phanpy",
          "Donphan",
          "Porygon2",
          "Stantler",
          "Smeargle",
          "Tyrogue",
          "Hitmontop",
          "Smoochum",
          "Elekid",
          "Magby",
          "Miltank",
          "Blissey",
          "Raikou",
          "Entei",
          "Suicune",
          "Larvitar",
          "Pupitar",
          "Tyranitar",
          "Lugia",
          "Ho-Oh",
          "Celebi",
          "Treecko",
          "Grovyle",
          "Sceptile",
          "Torchic",
          "Combusken",
          "Blaziken",
          "Mudkip",
          "Marshtomp",
          "Swampert",
          "Poochyena",
          "Mightyena",
          "Zigzagoon",
          "Linoone",
          "Wurmple",
          "Silcoon",
          "Beautifly",
          "Cascoon",
          "Dustox",
          "Lotad",
          "Lombre",
          "Ludicolo",
          "Seedot",
          "Nuzleaf",
          "Shiftry",
          "Taillow",
          "Swellow",
          "Wingull",
          "Pelipper",
          "Ralts",
          "Kirlia",
          "Gardevoir",
          "Surskit",
          "Masquerain",
          "Shroomish",
          "Breloom",
          "Slakoth",
          "Vigoroth",
          "Slaking",
          "Nincada",
          "Ninjask",
          "Shedinja",
          "Whismur",
          "Loudred",
          "Exploud",
          "Makuhita",
          "Hariyama",
          "Azurill",
          "Nosepass",
          "Skitty",
          "Delcatty",
          "Sableye",
          "Mawile",
          "Aron",
          "Lairon",
          "Aggron",
          "Meditite",
          "Medicham",
          "Electrike",
          "Manectric",
          "Plusle",
          "Minun",
          "Volbeat",
          "Illumise",
          "Roselia",
          "Gulpin",
          "Swalot",
          "Carvanha",
          "Sharpedo",
          "Wailmer",
          "Wailord",
          "Numel",
          "Camerupt",
          "Torkoal",
          "Spoink",
          "Grumpig",
          "Spinda",
          "Trapinch",
          "Vibrava",
          "Flygon",
          "Cacnea",
          "Cacturne",
          "Swablu",
          "Altaria",
          "Zangoose",
          "Seviper",
          "Lunatone",
          "Solrock",
          "Barboach",
          "Whiscash",
          "Corphish",
          "Crawdaunt",
          "Baltoy",
          "Claydol",
          "Lileep",
          "Cradily",
          "Anorith",
          "Armaldo",
          "Feebas",
          "Milotic",
          "Castform",
          "Kecleon",
          "Shuppet",
          "Banette",
          "Duskull",
          "Dusclops",
          "Tropius",
          "Chimecho",
          "Absol",
          "Wynaut",
          "Snorunt",
          "Glalie",
          "Spheal",
          "Sealeo",
          "Walrein",
          "Clamperl",
          "Huntail",
          "Gorebyss",
          "Relicanth",
          "Luvdisc",
          "Bagon",
          "Shelgon",
          "Salamence",
          "Beldum",
          "Metang",
          "Metagross",
          "Regirock",
          "Regice",
          "Registeel",
          "Latias",
          "Latios",
          "Kyogre",
          "Groudon",
          "Rayquaza",
          "Jirachi",
          "Deoxys",
          "Turtwig",
          "Grotle",
          "Torterra",
          "Chimchar",
          "Monferno",
          "Infernape",
          "Piplup",
          "Prinplup",
          "Empoleon",
          "Starly",
          "Staravia",
          "Staraptor",
          "Bidoof",
          "Bibarel",
          "Kricketot",
          "Kricketune",
          "Shinx",
          "Luxio",
          "Luxray",
          "Budew",
          "Roserade",
          "Cranidos",
          "Rampardos",
          "Shieldon",
          "Bastiodon",
          "Burmy",
          "Wormadam",
          "Mothim",
          "Combee",
          "Vespiquen",
          "Pachirisu",
          "Buizel",
          "Floatzel",
          "Cherubi",
          "Cherrim",
          "Shellos",
          "Gastrodon",
          "Ambipom",
          "Drifloon",
          "Drifblim",
          "Buneary",
          "Lopunny",
          "Mismagius",
          "Honchkrow",
          "Glameow",
          "Purugly",
          "Chingling",
          "Stunky",
          "Skuntank",
          "Bronzor",
          "Bronzong",
          "Bonsly",
          "Mime Jr.",
          "Happiny",
          "Chatot",
          "Spiritomb",
          "Gible",
          "Gabite",
          "Garchomp",
          "Munchlax",
          "Riolu",
          "Lucario",
          "Hippopotas",
          "Hippowdon",
          "Skorupi",
          "Drapion",
          "Croagunk",
          "Toxicroak",
          "Carnivine",
          "Finneon",
          "Lumineon",
          "Mantyke",
          "Snover",
          "Abomasnow",
          "Weavile",
          "Magnezone",
          "Lickilicky",
          "Rhyperior",
          "Tangrowth",
          "Electivire",
          "Magmortar",
          "Togekiss",
          "Yanmega",
          "Leafeon",
          "Glaceon",
          "Gliscor",
          "Mamoswine",
          "Porygon-Z",
          "Gallade",
          "Probopass",
          "Dusknoir",
          "Froslass",
          "Rotom",
          "Uxie",
          "Mesprit",
          "Azelf",
          "Dialga",
          "Palkia",
          "Heatran",
          "Regigigas",
          "Giratina",
          "Cresselia",
          "Phione",
          "Manaphy",
          "Darkrai",
          "Shaymin",
          "Arceus",
          "Victini",
          "Snivy",
          "Servine",
          "Serperior",
          "Tepig",
          "Pignite",
          "Emboar",
          "Oshawott",
          "Dewott",
          "Samurott",
          "Patrat",
          "Watchog",
          "Lillipup",
          "Herdier",
          "Stoutland",
          "Purrloin",
          "Liepard",
          "Pansage",
          "Simisage",
          "Pansear",
          "Simisear",
          "Panpour",
          "Simipour",
          "Munna",
          "Musharna",
          "Pidove",
          "Tranquill",
          "Unfezant",
          "Blitzle",
          "Zebstrika",
          "Roggenrola",
          "Boldore",
          "Gigalith",
          "Woobat",
          "Swoobat",
          "Drilbur",
          "Excadrill",
          "Audino",
          "Timburr",
          "Gurdurr",
          "Conkeldurr",
          "Tympole",
          "Palpitoad",
          "Seismitoad",
          "Throh",
          "Sawk",
          "Sewaddle",
          "Swadloon",
          "Leavanny",
          "Venipede",
          "Whirlipede",
          "Scolipede",
          "Cottonee",
          "Whimsicott",
          "Petilil",
          "Lilligant",
          "Basculin",
          "Sandile",
          "Krokorok",
          "Krookodile",
          "Darumaka",
          "Darmanitan",
          "Maractus",
          "Dwebble",
          "Crustle",
          "Scraggy",
          "Scrafty",
          "Sigilyph",
          "Yamask",
          "Cofagrigus",
          "Tirtouga",
          "Carracosta",
          "Archen",
          "Archeops",
          "Trubbish",
          "Garbodor",
          "Zorua",
          "Zoroark",
          "Minccino",
          "Cinccino",
          "Gothita",
          "Gothorita",
          "Gothitelle",
          "Solosis",
          "Duosion",
          "Reuniclus",
          "Ducklett",
          "Swanna",
          "Vanillite",
          "Vanillish",
          "Vanilluxe",
          "Deerling",
          "Sawsbuck",
          "Emolga",
          "Karrablast",
          "Escavalier",
          "Foongus",
          "Amoonguss",
          "Frillish",
          "Jellicent",
          "Alomomola",
          "Joltik",
          "Galvantula",
          "Ferroseed",
          "Ferrothorn",
          "Klink",
          "Klang",
          "Klinklang",
          "Tynamo",
          "Eelektrik",
          "Eelektross",
          "Elgyem",
          "Beheeyem",
          "Litwick",
          "Lampent",
          "Chandelure",
          "Axew",
          "Fraxure",
          "Haxorus",
          "Cubchoo",
          "Beartic",
          "Cryogonal",
          "Shelmet",
          "Accelgor",
          "Stunfisk",
          "Mienfoo",
          "Mienshao",
          "Druddigon",
          "Golett",
          "Golurk",
          "Pawniard",
          "Bisharp",
          "Bouffalant",
          "Rufflet",
          "Braviary",
          "Vullaby",
          "Mandibuzz",
          "Heatmor",
          "Durant",
          "Deino",
          "Zweilous",
          "Hydreigon",
          "Larvesta",
          "Volcarona",
          "Cobalion",
          "Terrakion",
          "Virizion",
          "Tornadus",
          "Thundurus",
          "Reshiram",
          "Zekrom",
          "Landorus",
          "Kyurem",
          "Keldeo",
          "Meloetta",
          "Genesect",
          "Chespin",
          "Quilladin",
          "Chesnaught",
          "Fennekin",
          "Braixen",
          "Delphox",
          "Froakie",
          "Frogadier",
          "Greninja",
          "Bunnelby",
          "Diggersby",
          "Fletchling",
          "Fletchinder",
          "Talonflame",
          "Scatterbug",
          "Spewpa",
          "Vivillon",
          "Litleo",
          "Pyroar",
          "Flabébé",
          "Floette",
          "Florges",
          "Skiddo",
          "Gogoat",
          "Pancham",
          "Pangoro",
          "Furfrou",
          "Espurr",
          "Meowstic",
          "Honedge",
          "Doublade",
          "Aegislash",
          "Spritzee",
          "Aromatisse",
          "Swirlix",
          "Slurpuff",
          "Inkay",
          "Malamar",
          "Binacle",
          "Barbaracle",
          "Skrelp",
          "Dragalge",
          "Clauncher",
          "Clawitzer",
          "Helioptile",
          "Heliolisk",
          "Tyrunt",
          "Tyrantrum",
          "Amaura",
          "Aurorus",
          "Sylveon",
          "Hawlucha",
          "Dedenne",
          "Carbink",
          "Goomy",
          "Sliggoo",
          "Goodra",
          "Klefki",
          "Phantump",
          "Trevenant",
          "Pumpkaboo",
          "Gourgeist",
          "Bergmite",
          "Avalugg",
          "Noibat",
          "Noivern",
          "Xerneas",
          "Yveltal",
          "Zygarde",
          "Diancie",
          "Hoopa",
          "Volcanion",
          "Rowlet",
          "Dartrix",
          "Decidueye",
          "Litten",
          "Torracat",
          "Incineroar",
          "Popplio",
          "Brionne",
          "Primarina",
          "Pikipek",
          "Trumbeak",
          "Toucannon",
          "Yungoos",
          "Gumshoos",
          "Grubbin",
          "Charjabug",
          "Vikavolt",
          "Crabrawler",
          "Crabominable",
          "Oricorio",
          "Cutiefly",
          "Ribombee",
          "Rockruff",
          "Lycanroc",
          "Wishiwashi",
          "Mareanie",
          "Toxapex",
          "Mudbray",
          "Mudsdale",
          "Dewpider",
          "Araquanid",
          "Fomantis",
          "Lurantis",
          "Morelull",
          "Shiinotic",
          "Salandit",
          "Salazzle",
          "Stufful",
          "Bewear",
          "Bounsweet",
          "Steenee",
          "Tsareena",
          "Comfey",
          "Oranguru",
          "Passimian",
          "Wimpod",
          "Golisopod",
          "Sandygast",
          "Palossand",
          "Pyukumuku",
          "Type: Null",
          "Silvally",
          "Minior",
          "Komala",
          "Turtonator",
          "Togedemaru",
          "Mimikyu",
          "Bruxish",
          "Drampa",
          "Dhelmise",
          "Jangmo-o",
          "Hakamo-o",
          "Kommo-o",
          "Tapu Koko",
          "Tapu Lele",
          "Tapu Bulu",
          "Tapu Fini",
          "Cosmog",
          "Cosmoem",
          "Solgaleo",
          "Lunala",
          "Nihilego",
          "Buzzwole",
          "Pheromosa",
          "Xurkitree",
          "Celesteela",
          "Kartana",
          "Guzzlord",
          "Necrozma",
          "Magearna"
         ],
         "legendgroup": "",
         "marker": {
          "color": {
           "bdata": "AAAAAAAAAAAAAAAAAAAAAAAAAAAAAAAAAAAAAAAAAAAAAAAAAAAAAAAAAAAAAAAAAAAAAAAAAAAAAAAAAAAAAAAAAAAAAAAAAAAAAAAAAAAAAAAAAAAAAAAAAAAAAAAAAAAAAAAAAAAAAAAAAAAAAAAAAAAAAAAAAAAAAAAAAAAAAAAAAAAAAAAAAAAAAAABAQEAAAABAQAAAAAAAAAAAAAAAAAAAAAAAAAAAAAAAAAAAAAAAAAAAAAAAAAAAAAAAAAAAAAAAAAAAAAAAAAAAAAAAAAAAAAAAAAAAAAAAAAAAAAAAAAAAAAAAAAAAAAAAAABAQEAAAABAQEAAAAAAAAAAAAAAAAAAAAAAAAAAAAAAAAAAAAAAAAAAAAAAAAAAAAAAAAAAAAAAAAAAAAAAAAAAAAAAAAAAAAAAAAAAAAAAAAAAAAAAAAAAAAAAAAAAAAAAAAAAAAAAAAAAAAAAAAAAAAAAAAAAAAAAAAAAAAAAAAAAAAAAAEBAQEBAQEBAQEAAAAAAAAAAAAAAAAAAAAAAAAAAAAAAAAAAAAAAAAAAAAAAAAAAAAAAAAAAAAAAAAAAAAAAAAAAAAAAAAAAAAAAAAAAAAAAAAAAAAAAAAAAAAAAAAAAAAAAAAAAAABAQEBAQEBAQEAAQEBAQEAAAAAAAAAAAAAAAAAAAAAAAAAAAAAAAAAAAAAAAAAAAAAAAAAAAAAAAAAAAAAAAAAAAAAAAAAAAAAAAAAAAAAAAAAAAAAAAAAAAAAAAAAAAAAAAAAAAAAAAAAAAAAAAAAAAAAAAAAAAAAAAAAAAAAAAAAAAAAAAAAAAAAAAAAAAAAAAAAAAAAAAAAAAAAAAEBAQEBAQEBAQEBAQAAAAAAAAAAAAAAAAAAAAAAAAAAAAAAAAAAAAAAAAAAAAAAAAAAAAAAAAAAAAAAAAAAAAAAAAAAAAAAAAAAAAAAAAEBAQEBAQAAAAAAAAAAAAAAAAAAAAAAAAAAAAAAAAAAAAAAAAAAAAAAAAAAAAAAAAAAAAAAAAAAAAAAAAAAAAAAAAAAAAEBAQEBAQEBAQEBAQEBAQEB",
           "dtype": "i1"
          },
          "coloraxis": "coloraxis",
          "symbol": "circle"
         },
         "mode": "markers",
         "name": "",
         "orientation": "v",
         "showlegend": false,
         "type": "scatter",
         "x": {
          "bdata": "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",
          "dtype": "f8"
         },
         "xaxis": "x",
         "y": {
          "bdata": "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",
          "dtype": "f8"
         },
         "yaxis": "y"
        }
       ],
       "layout": {
        "coloraxis": {
         "colorbar": {
          "title": {
           "text": "is_legendary"
          }
         },
         "colorscale": [
          [
           0,
           "#0d0887"
          ],
          [
           0.1111111111111111,
           "#46039f"
          ],
          [
           0.2222222222222222,
           "#7201a8"
          ],
          [
           0.3333333333333333,
           "#9c179e"
          ],
          [
           0.4444444444444444,
           "#bd3786"
          ],
          [
           0.5555555555555556,
           "#d8576b"
          ],
          [
           0.6666666666666666,
           "#ed7953"
          ],
          [
           0.7777777777777778,
           "#fb9f3a"
          ],
          [
           0.8888888888888888,
           "#fdca26"
          ],
          [
           1,
           "#f0f921"
          ]
         ]
        },
        "legend": {
         "title": {
          "text": "Legendary"
         },
         "tracegroupgap": 0
        },
        "template": {
         "data": {
          "bar": [
           {
            "error_x": {
             "color": "#2a3f5f"
            },
            "error_y": {
             "color": "#2a3f5f"
            },
            "marker": {
             "line": {
              "color": "white",
              "width": 0.5
             },
             "pattern": {
              "fillmode": "overlay",
              "size": 10,
              "solidity": 0.2
             }
            },
            "type": "bar"
           }
          ],
          "barpolar": [
           {
            "marker": {
             "line": {
              "color": "white",
              "width": 0.5
             },
             "pattern": {
              "fillmode": "overlay",
              "size": 10,
              "solidity": 0.2
             }
            },
            "type": "barpolar"
           }
          ],
          "carpet": [
           {
            "aaxis": {
             "endlinecolor": "#2a3f5f",
             "gridcolor": "#C8D4E3",
             "linecolor": "#C8D4E3",
             "minorgridcolor": "#C8D4E3",
             "startlinecolor": "#2a3f5f"
            },
            "baxis": {
             "endlinecolor": "#2a3f5f",
             "gridcolor": "#C8D4E3",
             "linecolor": "#C8D4E3",
             "minorgridcolor": "#C8D4E3",
             "startlinecolor": "#2a3f5f"
            },
            "type": "carpet"
           }
          ],
          "choropleth": [
           {
            "colorbar": {
             "outlinewidth": 0,
             "ticks": ""
            },
            "type": "choropleth"
           }
          ],
          "contour": [
           {
            "colorbar": {
             "outlinewidth": 0,
             "ticks": ""
            },
            "colorscale": [
             [
              0,
              "#0d0887"
             ],
             [
              0.1111111111111111,
              "#46039f"
             ],
             [
              0.2222222222222222,
              "#7201a8"
             ],
             [
              0.3333333333333333,
              "#9c179e"
             ],
             [
              0.4444444444444444,
              "#bd3786"
             ],
             [
              0.5555555555555556,
              "#d8576b"
             ],
             [
              0.6666666666666666,
              "#ed7953"
             ],
             [
              0.7777777777777778,
              "#fb9f3a"
             ],
             [
              0.8888888888888888,
              "#fdca26"
             ],
             [
              1,
              "#f0f921"
             ]
            ],
            "type": "contour"
           }
          ],
          "contourcarpet": [
           {
            "colorbar": {
             "outlinewidth": 0,
             "ticks": ""
            },
            "type": "contourcarpet"
           }
          ],
          "heatmap": [
           {
            "colorbar": {
             "outlinewidth": 0,
             "ticks": ""
            },
            "colorscale": [
             [
              0,
              "#0d0887"
             ],
             [
              0.1111111111111111,
              "#46039f"
             ],
             [
              0.2222222222222222,
              "#7201a8"
             ],
             [
              0.3333333333333333,
              "#9c179e"
             ],
             [
              0.4444444444444444,
              "#bd3786"
             ],
             [
              0.5555555555555556,
              "#d8576b"
             ],
             [
              0.6666666666666666,
              "#ed7953"
             ],
             [
              0.7777777777777778,
              "#fb9f3a"
             ],
             [
              0.8888888888888888,
              "#fdca26"
             ],
             [
              1,
              "#f0f921"
             ]
            ],
            "type": "heatmap"
           }
          ],
          "histogram": [
           {
            "marker": {
             "pattern": {
              "fillmode": "overlay",
              "size": 10,
              "solidity": 0.2
             }
            },
            "type": "histogram"
           }
          ],
          "histogram2d": [
           {
            "colorbar": {
             "outlinewidth": 0,
             "ticks": ""
            },
            "colorscale": [
             [
              0,
              "#0d0887"
             ],
             [
              0.1111111111111111,
              "#46039f"
             ],
             [
              0.2222222222222222,
              "#7201a8"
             ],
             [
              0.3333333333333333,
              "#9c179e"
             ],
             [
              0.4444444444444444,
              "#bd3786"
             ],
             [
              0.5555555555555556,
              "#d8576b"
             ],
             [
              0.6666666666666666,
              "#ed7953"
             ],
             [
              0.7777777777777778,
              "#fb9f3a"
             ],
             [
              0.8888888888888888,
              "#fdca26"
             ],
             [
              1,
              "#f0f921"
             ]
            ],
            "type": "histogram2d"
           }
          ],
          "histogram2dcontour": [
           {
            "colorbar": {
             "outlinewidth": 0,
             "ticks": ""
            },
            "colorscale": [
             [
              0,
              "#0d0887"
             ],
             [
              0.1111111111111111,
              "#46039f"
             ],
             [
              0.2222222222222222,
              "#7201a8"
             ],
             [
              0.3333333333333333,
              "#9c179e"
             ],
             [
              0.4444444444444444,
              "#bd3786"
             ],
             [
              0.5555555555555556,
              "#d8576b"
             ],
             [
              0.6666666666666666,
              "#ed7953"
             ],
             [
              0.7777777777777778,
              "#fb9f3a"
             ],
             [
              0.8888888888888888,
              "#fdca26"
             ],
             [
              1,
              "#f0f921"
             ]
            ],
            "type": "histogram2dcontour"
           }
          ],
          "mesh3d": [
           {
            "colorbar": {
             "outlinewidth": 0,
             "ticks": ""
            },
            "type": "mesh3d"
           }
          ],
          "parcoords": [
           {
            "line": {
             "colorbar": {
              "outlinewidth": 0,
              "ticks": ""
             }
            },
            "type": "parcoords"
           }
          ],
          "pie": [
           {
            "automargin": true,
            "type": "pie"
           }
          ],
          "scatter": [
           {
            "fillpattern": {
             "fillmode": "overlay",
             "size": 10,
             "solidity": 0.2
            },
            "type": "scatter"
           }
          ],
          "scatter3d": [
           {
            "line": {
             "colorbar": {
              "outlinewidth": 0,
              "ticks": ""
             }
            },
            "marker": {
             "colorbar": {
              "outlinewidth": 0,
              "ticks": ""
             }
            },
            "type": "scatter3d"
           }
          ],
          "scattercarpet": [
           {
            "marker": {
             "colorbar": {
              "outlinewidth": 0,
              "ticks": ""
             }
            },
            "type": "scattercarpet"
           }
          ],
          "scattergeo": [
           {
            "marker": {
             "colorbar": {
              "outlinewidth": 0,
              "ticks": ""
             }
            },
            "type": "scattergeo"
           }
          ],
          "scattergl": [
           {
            "marker": {
             "colorbar": {
              "outlinewidth": 0,
              "ticks": ""
             }
            },
            "type": "scattergl"
           }
          ],
          "scattermap": [
           {
            "marker": {
             "colorbar": {
              "outlinewidth": 0,
              "ticks": ""
             }
            },
            "type": "scattermap"
           }
          ],
          "scattermapbox": [
           {
            "marker": {
             "colorbar": {
              "outlinewidth": 0,
              "ticks": ""
             }
            },
            "type": "scattermapbox"
           }
          ],
          "scatterpolar": [
           {
            "marker": {
             "colorbar": {
              "outlinewidth": 0,
              "ticks": ""
             }
            },
            "type": "scatterpolar"
           }
          ],
          "scatterpolargl": [
           {
            "marker": {
             "colorbar": {
              "outlinewidth": 0,
              "ticks": ""
             }
            },
            "type": "scatterpolargl"
           }
          ],
          "scatterternary": [
           {
            "marker": {
             "colorbar": {
              "outlinewidth": 0,
              "ticks": ""
             }
            },
            "type": "scatterternary"
           }
          ],
          "surface": [
           {
            "colorbar": {
             "outlinewidth": 0,
             "ticks": ""
            },
            "colorscale": [
             [
              0,
              "#0d0887"
             ],
             [
              0.1111111111111111,
              "#46039f"
             ],
             [
              0.2222222222222222,
              "#7201a8"
             ],
             [
              0.3333333333333333,
              "#9c179e"
             ],
             [
              0.4444444444444444,
              "#bd3786"
             ],
             [
              0.5555555555555556,
              "#d8576b"
             ],
             [
              0.6666666666666666,
              "#ed7953"
             ],
             [
              0.7777777777777778,
              "#fb9f3a"
             ],
             [
              0.8888888888888888,
              "#fdca26"
             ],
             [
              1,
              "#f0f921"
             ]
            ],
            "type": "surface"
           }
          ],
          "table": [
           {
            "cells": {
             "fill": {
              "color": "#EBF0F8"
             },
             "line": {
              "color": "white"
             }
            },
            "header": {
             "fill": {
              "color": "#C8D4E3"
             },
             "line": {
              "color": "white"
             }
            },
            "type": "table"
           }
          ]
         },
         "layout": {
          "annotationdefaults": {
           "arrowcolor": "#2a3f5f",
           "arrowhead": 0,
           "arrowwidth": 1
          },
          "autotypenumbers": "strict",
          "coloraxis": {
           "colorbar": {
            "outlinewidth": 0,
            "ticks": ""
           }
          },
          "colorscale": {
           "diverging": [
            [
             0,
             "#8e0152"
            ],
            [
             0.1,
             "#c51b7d"
            ],
            [
             0.2,
             "#de77ae"
            ],
            [
             0.3,
             "#f1b6da"
            ],
            [
             0.4,
             "#fde0ef"
            ],
            [
             0.5,
             "#f7f7f7"
            ],
            [
             0.6,
             "#e6f5d0"
            ],
            [
             0.7,
             "#b8e186"
            ],
            [
             0.8,
             "#7fbc41"
            ],
            [
             0.9,
             "#4d9221"
            ],
            [
             1,
             "#276419"
            ]
           ],
           "sequential": [
            [
             0,
             "#0d0887"
            ],
            [
             0.1111111111111111,
             "#46039f"
            ],
            [
             0.2222222222222222,
             "#7201a8"
            ],
            [
             0.3333333333333333,
             "#9c179e"
            ],
            [
             0.4444444444444444,
             "#bd3786"
            ],
            [
             0.5555555555555556,
             "#d8576b"
            ],
            [
             0.6666666666666666,
             "#ed7953"
            ],
            [
             0.7777777777777778,
             "#fb9f3a"
            ],
            [
             0.8888888888888888,
             "#fdca26"
            ],
            [
             1,
             "#f0f921"
            ]
           ],
           "sequentialminus": [
            [
             0,
             "#0d0887"
            ],
            [
             0.1111111111111111,
             "#46039f"
            ],
            [
             0.2222222222222222,
             "#7201a8"
            ],
            [
             0.3333333333333333,
             "#9c179e"
            ],
            [
             0.4444444444444444,
             "#bd3786"
            ],
            [
             0.5555555555555556,
             "#d8576b"
            ],
            [
             0.6666666666666666,
             "#ed7953"
            ],
            [
             0.7777777777777778,
             "#fb9f3a"
            ],
            [
             0.8888888888888888,
             "#fdca26"
            ],
            [
             1,
             "#f0f921"
            ]
           ]
          },
          "colorway": [
           "#636efa",
           "#EF553B",
           "#00cc96",
           "#ab63fa",
           "#FFA15A",
           "#19d3f3",
           "#FF6692",
           "#B6E880",
           "#FF97FF",
           "#FECB52"
          ],
          "font": {
           "color": "#2a3f5f"
          },
          "geo": {
           "bgcolor": "white",
           "lakecolor": "white",
           "landcolor": "white",
           "showlakes": true,
           "showland": true,
           "subunitcolor": "#C8D4E3"
          },
          "hoverlabel": {
           "align": "left"
          },
          "hovermode": "closest",
          "mapbox": {
           "style": "light"
          },
          "paper_bgcolor": "white",
          "plot_bgcolor": "white",
          "polar": {
           "angularaxis": {
            "gridcolor": "#EBF0F8",
            "linecolor": "#EBF0F8",
            "ticks": ""
           },
           "bgcolor": "white",
           "radialaxis": {
            "gridcolor": "#EBF0F8",
            "linecolor": "#EBF0F8",
            "ticks": ""
           }
          },
          "scene": {
           "xaxis": {
            "backgroundcolor": "white",
            "gridcolor": "#DFE8F3",
            "gridwidth": 2,
            "linecolor": "#EBF0F8",
            "showbackground": true,
            "ticks": "",
            "zerolinecolor": "#EBF0F8"
           },
           "yaxis": {
            "backgroundcolor": "white",
            "gridcolor": "#DFE8F3",
            "gridwidth": 2,
            "linecolor": "#EBF0F8",
            "showbackground": true,
            "ticks": "",
            "zerolinecolor": "#EBF0F8"
           },
           "zaxis": {
            "backgroundcolor": "white",
            "gridcolor": "#DFE8F3",
            "gridwidth": 2,
            "linecolor": "#EBF0F8",
            "showbackground": true,
            "ticks": "",
            "zerolinecolor": "#EBF0F8"
           }
          },
          "shapedefaults": {
           "line": {
            "color": "#2a3f5f"
           }
          },
          "ternary": {
           "aaxis": {
            "gridcolor": "#DFE8F3",
            "linecolor": "#A2B1C6",
            "ticks": ""
           },
           "baxis": {
            "gridcolor": "#DFE8F3",
            "linecolor": "#A2B1C6",
            "ticks": ""
           },
           "bgcolor": "white",
           "caxis": {
            "gridcolor": "#DFE8F3",
            "linecolor": "#A2B1C6",
            "ticks": ""
           }
          },
          "title": {
           "x": 0.05
          },
          "xaxis": {
           "automargin": true,
           "gridcolor": "#EBF0F8",
           "linecolor": "#EBF0F8",
           "ticks": "",
           "title": {
            "standoff": 15
           },
           "zerolinecolor": "#EBF0F8",
           "zerolinewidth": 2
          },
          "yaxis": {
           "automargin": true,
           "gridcolor": "#EBF0F8",
           "linecolor": "#EBF0F8",
           "ticks": "",
           "title": {
            "standoff": 15
           },
           "zerolinecolor": "#EBF0F8",
           "zerolinewidth": 2
          }
         }
        },
        "title": {
         "text": "PCA of Battle Stats by Legendary Status"
        },
        "xaxis": {
         "anchor": "y",
         "domain": [
          0,
          1
         ],
         "title": {
          "text": "PC1"
         }
        },
        "yaxis": {
         "anchor": "x",
         "domain": [
          0,
          1
         ],
         "title": {
          "text": "PC2"
         }
        }
       }
      }
     },
     "metadata": {},
     "output_type": "display_data"
    }
   ],
   "source": [
    "# Create interactive scatter plot for Battle Stats PCA colored by legendary status\n",
    "if 'is_legendary' in pokemon_clean.columns:\n",
    "    fig = px.scatter(\n",
    "        pokemon_clean, \n",
    "        x='battle_pc1', \n",
    "        y='battle_pc2',\n",
    "        color='is_legendary',\n",
    "        hover_name='name' if 'name' in pokemon_clean.columns else None,\n",
    "        title='PCA of Battle Stats by Legendary Status',\n",
    "        labels={'battle_pc1': 'PC1', 'battle_pc2': 'PC2'},\n",
    "        template='plotly_white'\n",
    "    )\n",
    "    fig.update_layout(legend_title_text='Legendary')\n",
    "    fig.show()"
   ]
  },
  {
   "cell_type": "code",
   "execution_count": 20,
   "id": "c4217752",
   "metadata": {},
   "outputs": [
    {
     "data": {
      "application/vnd.plotly.v1+json": {
       "config": {
        "plotlyServerURL": "https://plot.ly"
       },
       "data": [
        {
         "hovertemplate": "<b>%{hovertext}</b><br><br>PC1=%{x}<br>PC2=%{y}<br>generation=%{marker.color}<extra></extra>",
         "hovertext": [
          "Bulbasaur",
          "Ivysaur",
          "Venusaur",
          "Charmander",
          "Charmeleon",
          "Charizard",
          "Squirtle",
          "Wartortle",
          "Blastoise",
          "Caterpie",
          "Metapod",
          "Butterfree",
          "Weedle",
          "Kakuna",
          "Beedrill",
          "Pidgey",
          "Pidgeotto",
          "Pidgeot",
          "Rattata",
          "Raticate",
          "Spearow",
          "Fearow",
          "Ekans",
          "Arbok",
          "Pikachu",
          "Raichu",
          "Sandshrew",
          "Sandslash",
          "Nidoran♀",
          "Nidorina",
          "Nidoqueen",
          "Nidoran♂",
          "Nidorino",
          "Nidoking",
          "Clefairy",
          "Clefable",
          "Vulpix",
          "Ninetales",
          "Jigglypuff",
          "Wigglytuff",
          "Zubat",
          "Golbat",
          "Oddish",
          "Gloom",
          "Vileplume",
          "Paras",
          "Parasect",
          "Venonat",
          "Venomoth",
          "Diglett",
          "Dugtrio",
          "Meowth",
          "Persian",
          "Psyduck",
          "Golduck",
          "Mankey",
          "Primeape",
          "Growlithe",
          "Arcanine",
          "Poliwag",
          "Poliwhirl",
          "Poliwrath",
          "Abra",
          "Kadabra",
          "Alakazam",
          "Machop",
          "Machoke",
          "Machamp",
          "Bellsprout",
          "Weepinbell",
          "Victreebel",
          "Tentacool",
          "Tentacruel",
          "Geodude",
          "Graveler",
          "Golem",
          "Ponyta",
          "Rapidash",
          "Slowpoke",
          "Slowbro",
          "Magnemite",
          "Magneton",
          "Farfetch'd",
          "Doduo",
          "Dodrio",
          "Seel",
          "Dewgong",
          "Grimer",
          "Muk",
          "Shellder",
          "Cloyster",
          "Gastly",
          "Haunter",
          "Gengar",
          "Onix",
          "Drowzee",
          "Hypno",
          "Krabby",
          "Kingler",
          "Voltorb",
          "Electrode",
          "Exeggcute",
          "Exeggutor",
          "Cubone",
          "Marowak",
          "Hitmonlee",
          "Hitmonchan",
          "Lickitung",
          "Koffing",
          "Weezing",
          "Rhyhorn",
          "Rhydon",
          "Chansey",
          "Tangela",
          "Kangaskhan",
          "Horsea",
          "Seadra",
          "Goldeen",
          "Seaking",
          "Staryu",
          "Starmie",
          "Mr. Mime",
          "Scyther",
          "Jynx",
          "Electabuzz",
          "Magmar",
          "Pinsir",
          "Tauros",
          "Magikarp",
          "Gyarados",
          "Lapras",
          "Ditto",
          "Eevee",
          "Vaporeon",
          "Jolteon",
          "Flareon",
          "Porygon",
          "Omanyte",
          "Omastar",
          "Kabuto",
          "Kabutops",
          "Aerodactyl",
          "Snorlax",
          "Articuno",
          "Zapdos",
          "Moltres",
          "Dratini",
          "Dragonair",
          "Dragonite",
          "Mewtwo",
          "Mew",
          "Chikorita",
          "Bayleef",
          "Meganium",
          "Cyndaquil",
          "Quilava",
          "Typhlosion",
          "Totodile",
          "Croconaw",
          "Feraligatr",
          "Sentret",
          "Furret",
          "Hoothoot",
          "Noctowl",
          "Ledyba",
          "Ledian",
          "Spinarak",
          "Ariados",
          "Crobat",
          "Chinchou",
          "Lanturn",
          "Pichu",
          "Cleffa",
          "Igglybuff",
          "Togepi",
          "Togetic",
          "Natu",
          "Xatu",
          "Mareep",
          "Flaaffy",
          "Ampharos",
          "Bellossom",
          "Marill",
          "Azumarill",
          "Sudowoodo",
          "Politoed",
          "Hoppip",
          "Skiploom",
          "Jumpluff",
          "Aipom",
          "Sunkern",
          "Sunflora",
          "Yanma",
          "Wooper",
          "Quagsire",
          "Espeon",
          "Umbreon",
          "Murkrow",
          "Slowking",
          "Misdreavus",
          "Unown",
          "Wobbuffet",
          "Girafarig",
          "Pineco",
          "Forretress",
          "Dunsparce",
          "Gligar",
          "Steelix",
          "Snubbull",
          "Granbull",
          "Qwilfish",
          "Scizor",
          "Shuckle",
          "Heracross",
          "Sneasel",
          "Teddiursa",
          "Ursaring",
          "Slugma",
          "Magcargo",
          "Swinub",
          "Piloswine",
          "Corsola",
          "Remoraid",
          "Octillery",
          "Delibird",
          "Mantine",
          "Skarmory",
          "Houndour",
          "Houndoom",
          "Kingdra",
          "Phanpy",
          "Donphan",
          "Porygon2",
          "Stantler",
          "Smeargle",
          "Tyrogue",
          "Hitmontop",
          "Smoochum",
          "Elekid",
          "Magby",
          "Miltank",
          "Blissey",
          "Raikou",
          "Entei",
          "Suicune",
          "Larvitar",
          "Pupitar",
          "Tyranitar",
          "Lugia",
          "Ho-Oh",
          "Celebi",
          "Treecko",
          "Grovyle",
          "Sceptile",
          "Torchic",
          "Combusken",
          "Blaziken",
          "Mudkip",
          "Marshtomp",
          "Swampert",
          "Poochyena",
          "Mightyena",
          "Zigzagoon",
          "Linoone",
          "Wurmple",
          "Silcoon",
          "Beautifly",
          "Cascoon",
          "Dustox",
          "Lotad",
          "Lombre",
          "Ludicolo",
          "Seedot",
          "Nuzleaf",
          "Shiftry",
          "Taillow",
          "Swellow",
          "Wingull",
          "Pelipper",
          "Ralts",
          "Kirlia",
          "Gardevoir",
          "Surskit",
          "Masquerain",
          "Shroomish",
          "Breloom",
          "Slakoth",
          "Vigoroth",
          "Slaking",
          "Nincada",
          "Ninjask",
          "Shedinja",
          "Whismur",
          "Loudred",
          "Exploud",
          "Makuhita",
          "Hariyama",
          "Azurill",
          "Nosepass",
          "Skitty",
          "Delcatty",
          "Sableye",
          "Mawile",
          "Aron",
          "Lairon",
          "Aggron",
          "Meditite",
          "Medicham",
          "Electrike",
          "Manectric",
          "Plusle",
          "Minun",
          "Volbeat",
          "Illumise",
          "Roselia",
          "Gulpin",
          "Swalot",
          "Carvanha",
          "Sharpedo",
          "Wailmer",
          "Wailord",
          "Numel",
          "Camerupt",
          "Torkoal",
          "Spoink",
          "Grumpig",
          "Spinda",
          "Trapinch",
          "Vibrava",
          "Flygon",
          "Cacnea",
          "Cacturne",
          "Swablu",
          "Altaria",
          "Zangoose",
          "Seviper",
          "Lunatone",
          "Solrock",
          "Barboach",
          "Whiscash",
          "Corphish",
          "Crawdaunt",
          "Baltoy",
          "Claydol",
          "Lileep",
          "Cradily",
          "Anorith",
          "Armaldo",
          "Feebas",
          "Milotic",
          "Castform",
          "Kecleon",
          "Shuppet",
          "Banette",
          "Duskull",
          "Dusclops",
          "Tropius",
          "Chimecho",
          "Absol",
          "Wynaut",
          "Snorunt",
          "Glalie",
          "Spheal",
          "Sealeo",
          "Walrein",
          "Clamperl",
          "Huntail",
          "Gorebyss",
          "Relicanth",
          "Luvdisc",
          "Bagon",
          "Shelgon",
          "Salamence",
          "Beldum",
          "Metang",
          "Metagross",
          "Regirock",
          "Regice",
          "Registeel",
          "Latias",
          "Latios",
          "Kyogre",
          "Groudon",
          "Rayquaza",
          "Jirachi",
          "Deoxys",
          "Turtwig",
          "Grotle",
          "Torterra",
          "Chimchar",
          "Monferno",
          "Infernape",
          "Piplup",
          "Prinplup",
          "Empoleon",
          "Starly",
          "Staravia",
          "Staraptor",
          "Bidoof",
          "Bibarel",
          "Kricketot",
          "Kricketune",
          "Shinx",
          "Luxio",
          "Luxray",
          "Budew",
          "Roserade",
          "Cranidos",
          "Rampardos",
          "Shieldon",
          "Bastiodon",
          "Burmy",
          "Wormadam",
          "Mothim",
          "Combee",
          "Vespiquen",
          "Pachirisu",
          "Buizel",
          "Floatzel",
          "Cherubi",
          "Cherrim",
          "Shellos",
          "Gastrodon",
          "Ambipom",
          "Drifloon",
          "Drifblim",
          "Buneary",
          "Lopunny",
          "Mismagius",
          "Honchkrow",
          "Glameow",
          "Purugly",
          "Chingling",
          "Stunky",
          "Skuntank",
          "Bronzor",
          "Bronzong",
          "Bonsly",
          "Mime Jr.",
          "Happiny",
          "Chatot",
          "Spiritomb",
          "Gible",
          "Gabite",
          "Garchomp",
          "Munchlax",
          "Riolu",
          "Lucario",
          "Hippopotas",
          "Hippowdon",
          "Skorupi",
          "Drapion",
          "Croagunk",
          "Toxicroak",
          "Carnivine",
          "Finneon",
          "Lumineon",
          "Mantyke",
          "Snover",
          "Abomasnow",
          "Weavile",
          "Magnezone",
          "Lickilicky",
          "Rhyperior",
          "Tangrowth",
          "Electivire",
          "Magmortar",
          "Togekiss",
          "Yanmega",
          "Leafeon",
          "Glaceon",
          "Gliscor",
          "Mamoswine",
          "Porygon-Z",
          "Gallade",
          "Probopass",
          "Dusknoir",
          "Froslass",
          "Rotom",
          "Uxie",
          "Mesprit",
          "Azelf",
          "Dialga",
          "Palkia",
          "Heatran",
          "Regigigas",
          "Giratina",
          "Cresselia",
          "Phione",
          "Manaphy",
          "Darkrai",
          "Shaymin",
          "Arceus",
          "Victini",
          "Snivy",
          "Servine",
          "Serperior",
          "Tepig",
          "Pignite",
          "Emboar",
          "Oshawott",
          "Dewott",
          "Samurott",
          "Patrat",
          "Watchog",
          "Lillipup",
          "Herdier",
          "Stoutland",
          "Purrloin",
          "Liepard",
          "Pansage",
          "Simisage",
          "Pansear",
          "Simisear",
          "Panpour",
          "Simipour",
          "Munna",
          "Musharna",
          "Pidove",
          "Tranquill",
          "Unfezant",
          "Blitzle",
          "Zebstrika",
          "Roggenrola",
          "Boldore",
          "Gigalith",
          "Woobat",
          "Swoobat",
          "Drilbur",
          "Excadrill",
          "Audino",
          "Timburr",
          "Gurdurr",
          "Conkeldurr",
          "Tympole",
          "Palpitoad",
          "Seismitoad",
          "Throh",
          "Sawk",
          "Sewaddle",
          "Swadloon",
          "Leavanny",
          "Venipede",
          "Whirlipede",
          "Scolipede",
          "Cottonee",
          "Whimsicott",
          "Petilil",
          "Lilligant",
          "Basculin",
          "Sandile",
          "Krokorok",
          "Krookodile",
          "Darumaka",
          "Darmanitan",
          "Maractus",
          "Dwebble",
          "Crustle",
          "Scraggy",
          "Scrafty",
          "Sigilyph",
          "Yamask",
          "Cofagrigus",
          "Tirtouga",
          "Carracosta",
          "Archen",
          "Archeops",
          "Trubbish",
          "Garbodor",
          "Zorua",
          "Zoroark",
          "Minccino",
          "Cinccino",
          "Gothita",
          "Gothorita",
          "Gothitelle",
          "Solosis",
          "Duosion",
          "Reuniclus",
          "Ducklett",
          "Swanna",
          "Vanillite",
          "Vanillish",
          "Vanilluxe",
          "Deerling",
          "Sawsbuck",
          "Emolga",
          "Karrablast",
          "Escavalier",
          "Foongus",
          "Amoonguss",
          "Frillish",
          "Jellicent",
          "Alomomola",
          "Joltik",
          "Galvantula",
          "Ferroseed",
          "Ferrothorn",
          "Klink",
          "Klang",
          "Klinklang",
          "Tynamo",
          "Eelektrik",
          "Eelektross",
          "Elgyem",
          "Beheeyem",
          "Litwick",
          "Lampent",
          "Chandelure",
          "Axew",
          "Fraxure",
          "Haxorus",
          "Cubchoo",
          "Beartic",
          "Cryogonal",
          "Shelmet",
          "Accelgor",
          "Stunfisk",
          "Mienfoo",
          "Mienshao",
          "Druddigon",
          "Golett",
          "Golurk",
          "Pawniard",
          "Bisharp",
          "Bouffalant",
          "Rufflet",
          "Braviary",
          "Vullaby",
          "Mandibuzz",
          "Heatmor",
          "Durant",
          "Deino",
          "Zweilous",
          "Hydreigon",
          "Larvesta",
          "Volcarona",
          "Cobalion",
          "Terrakion",
          "Virizion",
          "Tornadus",
          "Thundurus",
          "Reshiram",
          "Zekrom",
          "Landorus",
          "Kyurem",
          "Keldeo",
          "Meloetta",
          "Genesect",
          "Chespin",
          "Quilladin",
          "Chesnaught",
          "Fennekin",
          "Braixen",
          "Delphox",
          "Froakie",
          "Frogadier",
          "Greninja",
          "Bunnelby",
          "Diggersby",
          "Fletchling",
          "Fletchinder",
          "Talonflame",
          "Scatterbug",
          "Spewpa",
          "Vivillon",
          "Litleo",
          "Pyroar",
          "Flabébé",
          "Floette",
          "Florges",
          "Skiddo",
          "Gogoat",
          "Pancham",
          "Pangoro",
          "Furfrou",
          "Espurr",
          "Meowstic",
          "Honedge",
          "Doublade",
          "Aegislash",
          "Spritzee",
          "Aromatisse",
          "Swirlix",
          "Slurpuff",
          "Inkay",
          "Malamar",
          "Binacle",
          "Barbaracle",
          "Skrelp",
          "Dragalge",
          "Clauncher",
          "Clawitzer",
          "Helioptile",
          "Heliolisk",
          "Tyrunt",
          "Tyrantrum",
          "Amaura",
          "Aurorus",
          "Sylveon",
          "Hawlucha",
          "Dedenne",
          "Carbink",
          "Goomy",
          "Sliggoo",
          "Goodra",
          "Klefki",
          "Phantump",
          "Trevenant",
          "Pumpkaboo",
          "Gourgeist",
          "Bergmite",
          "Avalugg",
          "Noibat",
          "Noivern",
          "Xerneas",
          "Yveltal",
          "Zygarde",
          "Diancie",
          "Hoopa",
          "Volcanion",
          "Rowlet",
          "Dartrix",
          "Decidueye",
          "Litten",
          "Torracat",
          "Incineroar",
          "Popplio",
          "Brionne",
          "Primarina",
          "Pikipek",
          "Trumbeak",
          "Toucannon",
          "Yungoos",
          "Gumshoos",
          "Grubbin",
          "Charjabug",
          "Vikavolt",
          "Crabrawler",
          "Crabominable",
          "Oricorio",
          "Cutiefly",
          "Ribombee",
          "Rockruff",
          "Lycanroc",
          "Wishiwashi",
          "Mareanie",
          "Toxapex",
          "Mudbray",
          "Mudsdale",
          "Dewpider",
          "Araquanid",
          "Fomantis",
          "Lurantis",
          "Morelull",
          "Shiinotic",
          "Salandit",
          "Salazzle",
          "Stufful",
          "Bewear",
          "Bounsweet",
          "Steenee",
          "Tsareena",
          "Comfey",
          "Oranguru",
          "Passimian",
          "Wimpod",
          "Golisopod",
          "Sandygast",
          "Palossand",
          "Pyukumuku",
          "Type: Null",
          "Silvally",
          "Minior",
          "Komala",
          "Turtonator",
          "Togedemaru",
          "Mimikyu",
          "Bruxish",
          "Drampa",
          "Dhelmise",
          "Jangmo-o",
          "Hakamo-o",
          "Kommo-o",
          "Tapu Koko",
          "Tapu Lele",
          "Tapu Bulu",
          "Tapu Fini",
          "Cosmog",
          "Cosmoem",
          "Solgaleo",
          "Lunala",
          "Nihilego",
          "Buzzwole",
          "Pheromosa",
          "Xurkitree",
          "Celesteela",
          "Kartana",
          "Guzzlord",
          "Necrozma",
          "Magearna"
         ],
         "legendgroup": "",
         "marker": {
          "color": {
           "bdata": "AQEBAQEBAQEBAQEBAQEBAQEBAQEBAQEBAQEBAQEBAQEBAQEBAQEBAQEBAQEBAQEBAQEBAQEBAQEBAQEBAQEBAQEBAQEBAQEBAQEBAQEBAQEBAQEBAQEBAQEBAQEBAQEBAQEBAQEBAQEBAQEBAQEBAQEBAQEBAQEBAQEBAQEBAQEBAQEBAQEBAQEBAQEBAQEBAQEBAQEBAQICAgICAgICAgICAgICAgICAgICAgICAgICAgICAgICAgICAgICAgICAgICAgICAgICAgICAgICAgICAgICAgICAgICAgICAgICAgICAgICAgICAgICAgICAgICAgICAgICAgIDAwMDAwMDAwMDAwMDAwMDAwMDAwMDAwMDAwMDAwMDAwMDAwMDAwMDAwMDAwMDAwMDAwMDAwMDAwMDAwMDAwMDAwMDAwMDAwMDAwMDAwMDAwMDAwMDAwMDAwMDAwMDAwMDAwMDAwMDAwMDAwMDAwMDAwMDAwMDAwMDAwMDAwMDAwMDAwMDAwMEBAQEBAQEBAQEBAQEBAQEBAQEBAQEBAQEBAQEBAQEBAQEBAQEBAQEBAQEBAQEBAQEBAQEBAQEBAQEBAQEBAQEBAQEBAQEBAQEBAQEBAQEBAQEBAQEBAQEBAQEBAQEBAQEBAQEBAQEBAQEBAUFBQUFBQUFBQUFBQUFBQUFBQUFBQUFBQUFBQUFBQUFBQUFBQUFBQUFBQUFBQUFBQUFBQUFBQUFBQUFBQUFBQUFBQUFBQUFBQUFBQUFBQUFBQUFBQUFBQUFBQUFBQUFBQUFBQUFBQUFBQUFBQUFBQUFBQUFBQUFBQUFBQUFBQUFBQUFBQUFBQUFBQUFBQUFBQUFBQUFBQUFBQUFBQYGBgYGBgYGBgYGBgYGBgYGBgYGBgYGBgYGBgYGBgYGBgYGBgYGBgYGBgYGBgYGBgYGBgYGBgYGBgYGBgYGBgYGBgYGBgYGBgcHBwcHBwcHBwcHBwcHBwcHBwcHBwcHBwcHBwcHBwcHBwcHBwcHBwcHBwcHBwcHBwcHBwcHBwcHBwcHBwcHBwcHBwcHBwcHBwcHBwcHBwcH",
           "dtype": "i1"
          },
          "coloraxis": "coloraxis",
          "symbol": "circle"
         },
         "mode": "markers",
         "name": "",
         "orientation": "v",
         "showlegend": false,
         "type": "scatter",
         "x": {
          "bdata": "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",
          "dtype": "f8"
         },
         "xaxis": "x",
         "y": {
          "bdata": "Slf0URt9VL/zhkXP8gayP3LIS5PtXeO/ukXaqHAx5j+08nrZtRDpP9ya1hNXTfI/hwXEgZZI37+pXg0O34Hcv9QXbs3futu/LkoDg+yezT+IaiDIadrgv5PMEEm9R+U/2fhPczd23T9NgXJeEg7Tvwch5zOaRP8/nVCoPDcr2z/qRIA05VLdP27rxXRM4/o/wQW1RKPZ6j/zzPc5k9Csv69rIN4Rd+4/mAp0RUYE7z9suvTBOf/LP6yUfjsyTdM/jeASMxFz9D8nj+yQcSb6P/EhW6lQNvO/sQU6OMeG9b8w6SgSZyXKv12AIiFxisO/mZhsHDSqxb+Dm8/gzgLRP3u7zvFq09E/qnu0TSrw2z9vLDrkgu3Uv8R1pOPFBsO/iAGmvZVW4T9IbPqrOyLrP4jQeHOPeK6/y/N+sRkfxT+12YXR7jzaP1b/WzXc+OA/J/IMq3IZ2b+m7xU1X+/dv5fJydigidy/ZjOpLK4s5r/zkkU0CAHzv5sDpiEkN8q/diQNT8AW7z9Le2hDxeX2PxD57BHOL/M/yEfVvuM99z/08gtRLJ74PzfcPHfE6dc/DUVDaLqE3j/gC7bOrqboPzhiI/M/Z+s/uApqqfCq4j+KkAmcG0/mP9X9XipEIvQ/ie6/ZgoZ5z82XyJanufhv2OsOcUOHQJA8BJKJL6GAkDq3g+feFQHQPtw1aVfGte/bD5P3so947/hyxQe/8/kvyALkspyqN0/xp+K4fZ64D+E7JqLxf/ePwZrJ00MBd4/k6WqljI65D/2hVPjzzD6v9u4MiVxXfm/b3t/X4hM/L+SBgDHHq3uP2TQoCHuKfA/NfopGRTR8r+4togt4HQEwL4RYbFvsky/Lwf/gdhsxT9dD4yXsQfHP9asbBudR+k/MivPQnTs8T96cOd4yMjYv8rDDDCmR9O/I+i0MgWO5r8Xe0QKAGLqvwMwyVw6Iu6/bEaEktjP+b/7dct2E0v9PyiS7M79df0/yifLnVBAAUBr+Z/W3+36v5ANjyyUFty/cr7tDvOg078E2XRaamnmv62CBzbZqOO/iS+dEFNG9T8UsFC49BYBQExjXf80beS/tC/Crcr21r9n2V1p8SL0v3CGJPWq3/e/twtDG+gG0T80HNAGWBrgvyBs3b9rqvG/+G3C94I98L+ZhRfLdLrtvy7D0N9HJPi/lGsLhnnv+r+iS4B7zV+zvzHA6QLp39u/4YSItGgiwr+XcPVp3pbXPwDhzkrSud8/+ieARiO0sD9WJiBUIHuhPz92AWKWW/A/dBBD3lMC8j8IygumZnHlP/gYJmXbQuI/MhzpH9GW+j9QrITFq9n1Pzpm86Lk1vE/vGEfxWWNyb8q+UbH/I/VP8ZHWmRK1uY/NqRM2ZqB7b+quQ1T+QrgvyOZtHkMYbE/ivU4/cfLjT+3hb9eIZLPP1/Z8fdprf8/b/0zBbQovD8bvVXeOI3ev1s7c3Axv+y/qbW+u+jv678SeqB+h03dv8bLRj20JNW/qJRER//q+D/q/XFs9jX1v5CwgTfvB9a/LejOh1oQ7D+qonn1q1riP6+37bsMB8g/Y8yl/tRq0D8lBCQIcEjBvxAxFh5c2QNAPfxngIWWzz8DBrtmPXDdvwlBTpy/r9q/fVCf+3BI1r+6RdqocDHmP7Tyetm1EOk/+MketjXt7T9Kg9Svtl3avxhZEyurTti/KqOPASMB1L95h1L3kzTav/RvhVl/YeM/xZlTy8cy0T+5KQOHSO/ZP/lYv1Ft0NE/wQjJEHVy3j/TyBwUb+bKv6NG0ywUAua/4GI4CMSt9D+F7p9z0anlP6ugtlyPVMg/lu4DYj3f8D/+ASDg9aPbv0MLhGmCbZ2/+79voDT08b8jJXy7s4fwvx/BJNqQE+0/dheS/iHU7z/VpRAckwmzP2NUheG8km8/tOL1lYva5L94ILvwzAftv9mQWhBJ196/ARhsRh/L6L/0TykSfV0AwIMqkEqtyK+/8k8GyXxcwD957opFxxrkP2yODOaeoug/gV63yi/O5T+OC+1z42t4P/aHuiRhtNa/ITuT9/MS+D/QSh4olPfmv1cAfAndGPG/lyj0hi7R+j97rVSgQFf2v7vBKewVZfk/MIdGsFYy8r9Li8mF1dbnPzKy8BK4C9I/mupIU0Jv8L8azQNwdI3qP52hAru3PPm/TrZIvKei/7/yDHlG4kHhv5K2PMONVty/4vrclk5DEcBX1fttLCndv9cyr7mPUOS/B3mu3Fdxyj9a8WOaUJv2v7lAQHPWKxnAD1igVxa48795ttvrBSHzPwHjxtG6xMm/XpjUHzA72L+do4R4MuXFv57Bju6lyPq/LiDngUfdzz+gtUZqXAjkv3LbfSuU7fa/nXSOwgxg8D/xMpz56nnTvyt42Eb7GO8/epJxbWVM179wHJ2oRMb3vwozbI671vE/l2Vt38QX9T9mvbvisOeePxPb3E253t2/lXetIX8y9r+PzKY96iXav0iXYhAck+o/ahXRTISn5z8tBbdfM7iXP9/+KvF8pO6/GUd3tklr9T9tKteh3n74P1fkRX8XfPQ/i5Kq3XHywb/oPAIWAUKuP5/nBwEZPPQ/jS4eiNif4z/gf5T7gs7jv8MIeEn3Ccm/QbqVjyG/17/yU2rzGqD6v5HU7mGwceS/y1C5VTDCxr89/GeAhZbPP5Z8IlaQPO8/rg5I4hl19z/VNCbzWXoDQETUffOsvtU/v6E1Ggrjyj83QumE2qXxP0bYbXMgf8a/P6zyVu1I3L+qZzcKrGHqv/Xk1JCDN4g/1trh8bBHwD/t4Z2BD6faP0uKgm3Whe0/PTLTsCPV3b9Dv4fjKrrsvwZ+BZnj+Os/Q7+H4yq67L/tWykMVSPTv/CX0KVlr7a/3VZTjKxIlL9HxMuL8kCuP5KdhazSIdq/dLlm3elg5D+LmVmLSW/pP5FEJP5jGvU/GOgRmZaN/j/emBKdOuz4P8TJ78GoVNO/5LvN+TXa3D+X8bTDN7PfP2Y+giivDfU/5xqtG+uz6T9cFxdVTDHnPyaRNqrvwOW/Rew5Kaxbrb/kl9UpjcLkv3JaJnsGaNk/qqUvOfDh1j8zkdwGhIjtvyxWvPrfkQZAKpfyV3eVcz/MnILqKMLQP1iNMYt3KdU/cfbi+yJN1D8nVAhwI/nTv9X5bD6A3OC/4+cW+NnD5L9Brnwe9icDwKTsOGTURcQ/21nu9JDm5j/UjNQQVLQCwGAHWddDlvu/u1Ot9ghu9r+bX1xCRkL/v29D4v+3NQ3A+klnSwdzwT+1TGaAIiLiPwRf2fXWKuw/ytxv381sAECEISYwwWn3PzPy85Nlj/E/xlxnb4ZUtj8Bu/ZZ8HjVPxiPBArsAOg/ZUcI5ZEF178ZbKdiZe7jv2ygecGDh/Y/lJ9YnJQw9j/dpg9dp3TnP2Zf0buYceE/dLdhT1YdrT9Jv8+0xVj0v9ZHF08pbwLAYfZELNYV4T+r76ZD/d7UPwt0WPuV8rs/TnFzQLoQ6r+Pg3G0ZtLhP/q39KzhH+U/cW8DotcF0z+eL+n9liLdP55b2+lEztm/qIAiF0E+1b+sIb9wB3TpP0ezL8ja4uE/6jiyVVK40z/pbAq1RhPTv3uIkq57id8/umQGi1kbyr+bKp4N1wXdv5I1A+1NZ8q/CxPGUdfXwL8eidm2krXpv8GVZmj3hfW/OxRmN+qF9L89fNbopOHiP2VUaiPMkvK/ia8USrTu8D/Rwvpf6YuCP5IqW56ZYMI/lQgxAsY58b/LuuAlEk/gPyG6BwJse9A/eiW4adIa/L+6/6XZLR8FwP8AaSudSOi/45EM4GmIvL/6YFZIobv+P8DMLzuH3+u/75L6ufgjsz87ZtwIKF/wP/kBc/aMAOG/YxM3TMuZ3b/XIoirfDLZvzuY10Zmu+q/LpXW5Eu76L8Z2/JMwZ7ivzPTqhRhb/q/XozRVrHQ7T9so6ignpKmv4we0KpRR+u/EiKGuWCi2j/4nH0XqCXzv9TgUW/UC/K/sC45Wqsd37/8LusfwK0KwH6IAKwIyPu/nbn1OuJIBMCVmgXiJfG6P7H53E2eT+0/8m0IP4JK2z/Ga+FvEKLkvy0bs9JVDPU/PfxngIWWzz//wBO3jVsEQEaag4FMf+i/PoSZtJp88b8cyG0Mx2Lwv3ozmUWlA+M/VjpIaX7W7z++PmtcS1f1P0LTkVjIXse/UxPZeB+azr9jvreVCUDXvx253U32quY/uNaiccDn6D/4kdyi2C7nP2zLwpkERNG/g4dQQRn/0T9VZEYkB8Tev1oWk7d31tg/HOH/gsLM0z9WfR7Z9fTZPyRFFEbtW7Y/8Hwp+lOR1j8DYzizrRfvP2RXOS3ZfNg/M5+fXoShsj9WQx87ZpgAwEG4HKh+2gvAgyT7m9LM0r+baikvYdb1v4z2GxWUBeo/WZihCo/U5D+xIYLKPyn2v4Qv1ThQ5tg/FMi1mHtk9z/Hl5SRNa78P5j/GnQOo7e/bMZUBAFW4z+L76YeFJvXv7Ls2ctVHuK/J80UJBjY8z9QdVgiuKPtP17s0fFtbvA/JnXDiRub7T/nBtiqB5fsP5D3cEXSDvQ/WCA2vRvy7D/VmCWFg+bxP7z6++RCCvU/V62YkOnRuz95vSgKRKnlPzY6gTGpd+E/NM01Lrs//b+r2eCdlC3/vwUuP+Zm6gDAsT9Qpq801j9YZivyHGa1v6zA2UnoBfk/lKDNESxX+L9lyl8bRlC5v4GdLvgLIN4/YQmfWk3Kq78Vqaj+Ppb2vzJ3blUaSd4/YJzTgLgT9z++3WaNcAXwv9W8qLIIwPe/2Ztk4GRF4b/srA4Rxt7EvzGt974EDt0/2QLsuiAt6D94bNw1KTnVv8F8LJbjHNA/zPyg5Bqz2T+/YnSMM9XYv52mN6c+Y8W/EQRz7kOx9L+QZnbesmzzP18nEb4JvuK/Sk1HU3ud8L8ct9fU7Er+v7Or9FbcnO6/zN9iBbaL7D9uEN8Yra7pP+TVGwCMUqG/zuKICnJA7j/LffSf7rvdv90O0XzQKdm/3Qxo82Zj478TuoDXdmXFPyG0L/NZePI/5kMu1S+wyD+wZkLYVw0FwKPt8ZTJHQLApb8h7uNa8z9bQtEC+Ze+v1r+G+x06Ou/c71eUmyY0r8EvBVKSY37P4zkX3LOu7E/mDYSiovs4T/TedfDdhzHv7xIVR9EX9C/BJmqm7mhsT+9ErGiN1fwvyEbCj/ox8Y/PfxngIWWzz+bqDhV6nD4P5yXBMnrgPw/qu7iYJEy1D89/GeAhZbPPzyAB8uWO8w/7VACyQFi0D8TxARc1iPhP/FT/bXi93w/aKQqNxLuwT+XWYShUSbVP1i+rxB/X8k/VHMLvlIg0j8/8wA8tpjBP5uMh/IPC6w/YyOWwXMf0T/cVf1kQcW8P3f464CNwtG/0LjpUshR3L+gn3jAtwzrP/iE7rYdAPw/h/tRTtzr3z/N2EA0Z1P1P4f7UU7c698/zdhANGdT9T+H+1FO3OvfP83YQDRnU/U/BkbKElNy2b+KDd0yUMnxvyMJj3jaArC/0ObAAlmAzj9EaP1Sg6bhP8yxJd6bc/M/XTKQg4aE+D+EY2RMzhL4v4ln1XDtTvu/ZzPGgV7NAsA3sjq//TvqP9ro9lo+Vvs/1K9aBRAE4T8OYO+Og8PgPyrmfGxJ9f2/gPhLWZX54b9b2vk25prwv7imTsqHafK/EyQbuoIv5j8Bxlqgy5vePyBvIIE83MM/wWzadAz39b84gqD8Eeqav+OWqFmsjuW/YxIF6ciP8r9C8T+zxH3YPyKdYPSjjJc/6GQKKpws9L+bpUEyAtnlP4eAhyHLI8c/IFPsG51b8D/2zBYf+EXLv/q5AFBduOs/hXAQmWUi8j/RzCPpIb3mPwjnu/DiDuc/3xG42Dym1z8/lVkGXnLFv9NSKsILiOO/aepXWBob0z/X3I69bxrgv1EP04YBJvq/SOWPSNKO5b8rVff0Vuz5v593p1zCkuo/+XpoFBQ18r/DzGb904QCwBbdpaHraPm/MrDzji/m/b9i1/pO647sP5TC276M0Pk/nsXz+Lo8kT90XfGf9SzIv7duViMEM/A/4OXhbkr4+z++8na7AHjrPw8o5+t1Q/c/vJKNNeBnu7/e16Zgt0LRv5l/jnsH2uG/JyfQmEGprz/HY1HYGUXFP/LGr2h3SuS/MtOE2J7QvT86U7TcZZXyP5HbUXHrQZA/kEhhvmZGsT+jJPwWstzMP0g9TVlrKOI/VEBOu4Uo5D9u8GoqrN70Pw3YapeT2tY/K3WXc6BEAcBnwYdJZhrnv4Aa53xzLOy/SAfCOMjr1L8WPyo6mhrUvwf09d9RXd2/3ThkBd424D8wHxXos4b5P04Y2iUzxgHAGFbQUUJyBsBpZGoXpB7tv6SzqQWg6u2/b4QGxTyX1r/6OXTChZviP6cx3qGiKuG/61vNvfwl1r824QYTsevOv6SrPYFJZdm/zbnx+WPY5L9AJS3nfELUP2vSxgbkvOE/J9S3ti6Eq7+i5hMgxZmovwy1tNo9MdI/k3z6CZZLxz9xxskaBEnmv44vnzMyE/E/8l5E4bHb9r+7XUdMdCkHQJ783Oe1efS/kq7Ost4y3z83nqNl/f73P2VgyvmsIfG/pv1LZOxM3b9FNYRCwVHmv3ZD07GnYbS/aa/GtNM24b+PQAloyij0vwmdP/nhZcI/Qm0WKDVPpz/O/IUpqoDYv+b0pT2lMOe/Zr0aJcZx2j9l5/krkWvRP6qry1kGhNG/OHY5cm85yr/ZSmxSuxjnP/NjSfnMSMQ/i3/xec4V9D/NQeLCKGKkP9mdbSsSKd4/WoWCpsa45T/xa7hHuOv1P7xh6cVprfc/orbFR2LI0j82aiZWWM3Lv6wbj+ASUtw/I3AOEkzm7D+hUOY8vT/wPzLIlTnCfPE/XwxYeYJU4z/ervNIjyHgv9QnIjYbh+W/1a943ecd8b+k44rJ4xviPyCvw+lPNuU/8cd83glX8T+k0Fm2FbzuP5g3PFNV0fY/G8IXhvORA0A3wLuqamPdP4TAHc93jrG/DkCMC8uv4D9ZSom+YQLqP48SDPHdP/g/4KnWEmGGsr+oiF3mhiHlv4ixE2ekQvU/w5fJzWp+4z9GWcomxnf1P9CdpAV6MJu/FgZt5Gpn6D9kIksBC3eOvzkJr7bwasY/25t9kBX50T+ZEDMQNXrZv1+g/gF+T9m/56MTmy6f7D9ayoMCu67cP3tAVxPRUOw/Yg9U3CNt97/meSssSX8CwNNVVXJmBPM/VmmAQzwQ678Zo0jeFF7rvyss6/UputC/7cI1nas3qr/OroHDVrPJv3tVlRcPIc6/VP3jOsrp2L/c26m6HTLxvw3jdvE7POO/XNhRme/p8L8aiZEQG7LVv1KC68HEGca/plHQuMke8T+fdgN60Rn6P25vUudJF+G/xOEMZ7Lf579EPHCbQIuiv7HUDEXse8y//slxPGJOx7+89DwaHJ30P5RiiaNFpPQ/cpQmXd2HBcD/Bzl3ec6av7rfumk1CFC/JJ18orn7pj8UeYK+dvzEv7kO6aOLJdC/8kc+UIsx4L94bTtu0vnkv3OSmpXmPve/QavRfLw+87/K2hm96bAJwGu4rVrfs+E/PnXRH44I9j8RsTZNN7zhPxGxNk03vOE/AXcoTQaN6r+x8tCez5LrP1D7/l5+w+4/d8CTLUBQ3r/1NzLWLJ/Qv7DdNYASatq/r0TVmiodqD8lPsyvlwnuP55Wdu2ei/Q/te9GKCA35L8ZeaL+PTXDv7crL2XHgcm/45nl5Jo0sL+H8Z6SlrvqP8iulj/LQ+I/lH/HVVGPzb+liEFknXDUP5IpRVEWcNi/+LP50G4OxT8TVxtbUTv1vzp2EJzMM9G/OQOeGOYRyj/OG1UH/P7ovy8zBLIyfO4/i+ADBt0H9D/EzVA45KL+P00HaNfBtto/P/aGyNeuvD8JIfLdxKj9v48X9JgLNde/IelsWZ8OCMC1JUhcga/iv9fyZvSEQPq/vlCrG2Kc6L8hLhEgT4f6vynKbm6LdMI/u522yGAL7r8UAPxnp1ntv35QLmOr8/C/RDgCxKRg8z8J6riGsT//P50wxLwXrpi/nKxP8yPD3r/WxK5qosDIv7ViETI/FtU/IhCJjBUv6b9MfITNkFPUP222IEIHyd6/XVJP58rV0b9Wi8zgu2buPztBabg+4QHAY3LGvbBm8r98ZNEobZv0v4Z3eopUfQvAK6S+COfJ5L/vgxAw3mLNP4JQOezI5v4/lhPOOJtppr9yY7caR8H9v6yEWGKTsOM/+bkw4pXJwT/Fz0QzQ5TlPy8Xt2SDGeK/FX8Uv4RU878DWSxzF2XVvyNPcGyHaNi/zAWlIYb/4r/aDtiqS+P3PwYHiZIBwuo/BUfrqbw85r8IPO6THSDkv9rP4HK9d7w/i2JfNz89BcCXPgA3AKPDPwVRDJE+s+I/CF+fqPts9T9c4pq3g5fxvxGu2qpSCg1AcePqSluX9T+zk6xzL3Dmv7aMZmW4kr4/OLTj29QRw7/CwCTIrxquP6sBg+FIYua/",
          "dtype": "f8"
         },
         "yaxis": "y"
        }
       ],
       "layout": {
        "coloraxis": {
         "colorbar": {
          "title": {
           "text": "generation"
          }
         },
         "colorscale": [
          [
           0,
           "#0d0887"
          ],
          [
           0.1111111111111111,
           "#46039f"
          ],
          [
           0.2222222222222222,
           "#7201a8"
          ],
          [
           0.3333333333333333,
           "#9c179e"
          ],
          [
           0.4444444444444444,
           "#bd3786"
          ],
          [
           0.5555555555555556,
           "#d8576b"
          ],
          [
           0.6666666666666666,
           "#ed7953"
          ],
          [
           0.7777777777777778,
           "#fb9f3a"
          ],
          [
           0.8888888888888888,
           "#fdca26"
          ],
          [
           1,
           "#f0f921"
          ]
         ]
        },
        "legend": {
         "title": {
          "text": "Generation"
         },
         "tracegroupgap": 0
        },
        "template": {
         "data": {
          "bar": [
           {
            "error_x": {
             "color": "#2a3f5f"
            },
            "error_y": {
             "color": "#2a3f5f"
            },
            "marker": {
             "line": {
              "color": "white",
              "width": 0.5
             },
             "pattern": {
              "fillmode": "overlay",
              "size": 10,
              "solidity": 0.2
             }
            },
            "type": "bar"
           }
          ],
          "barpolar": [
           {
            "marker": {
             "line": {
              "color": "white",
              "width": 0.5
             },
             "pattern": {
              "fillmode": "overlay",
              "size": 10,
              "solidity": 0.2
             }
            },
            "type": "barpolar"
           }
          ],
          "carpet": [
           {
            "aaxis": {
             "endlinecolor": "#2a3f5f",
             "gridcolor": "#C8D4E3",
             "linecolor": "#C8D4E3",
             "minorgridcolor": "#C8D4E3",
             "startlinecolor": "#2a3f5f"
            },
            "baxis": {
             "endlinecolor": "#2a3f5f",
             "gridcolor": "#C8D4E3",
             "linecolor": "#C8D4E3",
             "minorgridcolor": "#C8D4E3",
             "startlinecolor": "#2a3f5f"
            },
            "type": "carpet"
           }
          ],
          "choropleth": [
           {
            "colorbar": {
             "outlinewidth": 0,
             "ticks": ""
            },
            "type": "choropleth"
           }
          ],
          "contour": [
           {
            "colorbar": {
             "outlinewidth": 0,
             "ticks": ""
            },
            "colorscale": [
             [
              0,
              "#0d0887"
             ],
             [
              0.1111111111111111,
              "#46039f"
             ],
             [
              0.2222222222222222,
              "#7201a8"
             ],
             [
              0.3333333333333333,
              "#9c179e"
             ],
             [
              0.4444444444444444,
              "#bd3786"
             ],
             [
              0.5555555555555556,
              "#d8576b"
             ],
             [
              0.6666666666666666,
              "#ed7953"
             ],
             [
              0.7777777777777778,
              "#fb9f3a"
             ],
             [
              0.8888888888888888,
              "#fdca26"
             ],
             [
              1,
              "#f0f921"
             ]
            ],
            "type": "contour"
           }
          ],
          "contourcarpet": [
           {
            "colorbar": {
             "outlinewidth": 0,
             "ticks": ""
            },
            "type": "contourcarpet"
           }
          ],
          "heatmap": [
           {
            "colorbar": {
             "outlinewidth": 0,
             "ticks": ""
            },
            "colorscale": [
             [
              0,
              "#0d0887"
             ],
             [
              0.1111111111111111,
              "#46039f"
             ],
             [
              0.2222222222222222,
              "#7201a8"
             ],
             [
              0.3333333333333333,
              "#9c179e"
             ],
             [
              0.4444444444444444,
              "#bd3786"
             ],
             [
              0.5555555555555556,
              "#d8576b"
             ],
             [
              0.6666666666666666,
              "#ed7953"
             ],
             [
              0.7777777777777778,
              "#fb9f3a"
             ],
             [
              0.8888888888888888,
              "#fdca26"
             ],
             [
              1,
              "#f0f921"
             ]
            ],
            "type": "heatmap"
           }
          ],
          "histogram": [
           {
            "marker": {
             "pattern": {
              "fillmode": "overlay",
              "size": 10,
              "solidity": 0.2
             }
            },
            "type": "histogram"
           }
          ],
          "histogram2d": [
           {
            "colorbar": {
             "outlinewidth": 0,
             "ticks": ""
            },
            "colorscale": [
             [
              0,
              "#0d0887"
             ],
             [
              0.1111111111111111,
              "#46039f"
             ],
             [
              0.2222222222222222,
              "#7201a8"
             ],
             [
              0.3333333333333333,
              "#9c179e"
             ],
             [
              0.4444444444444444,
              "#bd3786"
             ],
             [
              0.5555555555555556,
              "#d8576b"
             ],
             [
              0.6666666666666666,
              "#ed7953"
             ],
             [
              0.7777777777777778,
              "#fb9f3a"
             ],
             [
              0.8888888888888888,
              "#fdca26"
             ],
             [
              1,
              "#f0f921"
             ]
            ],
            "type": "histogram2d"
           }
          ],
          "histogram2dcontour": [
           {
            "colorbar": {
             "outlinewidth": 0,
             "ticks": ""
            },
            "colorscale": [
             [
              0,
              "#0d0887"
             ],
             [
              0.1111111111111111,
              "#46039f"
             ],
             [
              0.2222222222222222,
              "#7201a8"
             ],
             [
              0.3333333333333333,
              "#9c179e"
             ],
             [
              0.4444444444444444,
              "#bd3786"
             ],
             [
              0.5555555555555556,
              "#d8576b"
             ],
             [
              0.6666666666666666,
              "#ed7953"
             ],
             [
              0.7777777777777778,
              "#fb9f3a"
             ],
             [
              0.8888888888888888,
              "#fdca26"
             ],
             [
              1,
              "#f0f921"
             ]
            ],
            "type": "histogram2dcontour"
           }
          ],
          "mesh3d": [
           {
            "colorbar": {
             "outlinewidth": 0,
             "ticks": ""
            },
            "type": "mesh3d"
           }
          ],
          "parcoords": [
           {
            "line": {
             "colorbar": {
              "outlinewidth": 0,
              "ticks": ""
             }
            },
            "type": "parcoords"
           }
          ],
          "pie": [
           {
            "automargin": true,
            "type": "pie"
           }
          ],
          "scatter": [
           {
            "fillpattern": {
             "fillmode": "overlay",
             "size": 10,
             "solidity": 0.2
            },
            "type": "scatter"
           }
          ],
          "scatter3d": [
           {
            "line": {
             "colorbar": {
              "outlinewidth": 0,
              "ticks": ""
             }
            },
            "marker": {
             "colorbar": {
              "outlinewidth": 0,
              "ticks": ""
             }
            },
            "type": "scatter3d"
           }
          ],
          "scattercarpet": [
           {
            "marker": {
             "colorbar": {
              "outlinewidth": 0,
              "ticks": ""
             }
            },
            "type": "scattercarpet"
           }
          ],
          "scattergeo": [
           {
            "marker": {
             "colorbar": {
              "outlinewidth": 0,
              "ticks": ""
             }
            },
            "type": "scattergeo"
           }
          ],
          "scattergl": [
           {
            "marker": {
             "colorbar": {
              "outlinewidth": 0,
              "ticks": ""
             }
            },
            "type": "scattergl"
           }
          ],
          "scattermap": [
           {
            "marker": {
             "colorbar": {
              "outlinewidth": 0,
              "ticks": ""
             }
            },
            "type": "scattermap"
           }
          ],
          "scattermapbox": [
           {
            "marker": {
             "colorbar": {
              "outlinewidth": 0,
              "ticks": ""
             }
            },
            "type": "scattermapbox"
           }
          ],
          "scatterpolar": [
           {
            "marker": {
             "colorbar": {
              "outlinewidth": 0,
              "ticks": ""
             }
            },
            "type": "scatterpolar"
           }
          ],
          "scatterpolargl": [
           {
            "marker": {
             "colorbar": {
              "outlinewidth": 0,
              "ticks": ""
             }
            },
            "type": "scatterpolargl"
           }
          ],
          "scatterternary": [
           {
            "marker": {
             "colorbar": {
              "outlinewidth": 0,
              "ticks": ""
             }
            },
            "type": "scatterternary"
           }
          ],
          "surface": [
           {
            "colorbar": {
             "outlinewidth": 0,
             "ticks": ""
            },
            "colorscale": [
             [
              0,
              "#0d0887"
             ],
             [
              0.1111111111111111,
              "#46039f"
             ],
             [
              0.2222222222222222,
              "#7201a8"
             ],
             [
              0.3333333333333333,
              "#9c179e"
             ],
             [
              0.4444444444444444,
              "#bd3786"
             ],
             [
              0.5555555555555556,
              "#d8576b"
             ],
             [
              0.6666666666666666,
              "#ed7953"
             ],
             [
              0.7777777777777778,
              "#fb9f3a"
             ],
             [
              0.8888888888888888,
              "#fdca26"
             ],
             [
              1,
              "#f0f921"
             ]
            ],
            "type": "surface"
           }
          ],
          "table": [
           {
            "cells": {
             "fill": {
              "color": "#EBF0F8"
             },
             "line": {
              "color": "white"
             }
            },
            "header": {
             "fill": {
              "color": "#C8D4E3"
             },
             "line": {
              "color": "white"
             }
            },
            "type": "table"
           }
          ]
         },
         "layout": {
          "annotationdefaults": {
           "arrowcolor": "#2a3f5f",
           "arrowhead": 0,
           "arrowwidth": 1
          },
          "autotypenumbers": "strict",
          "coloraxis": {
           "colorbar": {
            "outlinewidth": 0,
            "ticks": ""
           }
          },
          "colorscale": {
           "diverging": [
            [
             0,
             "#8e0152"
            ],
            [
             0.1,
             "#c51b7d"
            ],
            [
             0.2,
             "#de77ae"
            ],
            [
             0.3,
             "#f1b6da"
            ],
            [
             0.4,
             "#fde0ef"
            ],
            [
             0.5,
             "#f7f7f7"
            ],
            [
             0.6,
             "#e6f5d0"
            ],
            [
             0.7,
             "#b8e186"
            ],
            [
             0.8,
             "#7fbc41"
            ],
            [
             0.9,
             "#4d9221"
            ],
            [
             1,
             "#276419"
            ]
           ],
           "sequential": [
            [
             0,
             "#0d0887"
            ],
            [
             0.1111111111111111,
             "#46039f"
            ],
            [
             0.2222222222222222,
             "#7201a8"
            ],
            [
             0.3333333333333333,
             "#9c179e"
            ],
            [
             0.4444444444444444,
             "#bd3786"
            ],
            [
             0.5555555555555556,
             "#d8576b"
            ],
            [
             0.6666666666666666,
             "#ed7953"
            ],
            [
             0.7777777777777778,
             "#fb9f3a"
            ],
            [
             0.8888888888888888,
             "#fdca26"
            ],
            [
             1,
             "#f0f921"
            ]
           ],
           "sequentialminus": [
            [
             0,
             "#0d0887"
            ],
            [
             0.1111111111111111,
             "#46039f"
            ],
            [
             0.2222222222222222,
             "#7201a8"
            ],
            [
             0.3333333333333333,
             "#9c179e"
            ],
            [
             0.4444444444444444,
             "#bd3786"
            ],
            [
             0.5555555555555556,
             "#d8576b"
            ],
            [
             0.6666666666666666,
             "#ed7953"
            ],
            [
             0.7777777777777778,
             "#fb9f3a"
            ],
            [
             0.8888888888888888,
             "#fdca26"
            ],
            [
             1,
             "#f0f921"
            ]
           ]
          },
          "colorway": [
           "#636efa",
           "#EF553B",
           "#00cc96",
           "#ab63fa",
           "#FFA15A",
           "#19d3f3",
           "#FF6692",
           "#B6E880",
           "#FF97FF",
           "#FECB52"
          ],
          "font": {
           "color": "#2a3f5f"
          },
          "geo": {
           "bgcolor": "white",
           "lakecolor": "white",
           "landcolor": "white",
           "showlakes": true,
           "showland": true,
           "subunitcolor": "#C8D4E3"
          },
          "hoverlabel": {
           "align": "left"
          },
          "hovermode": "closest",
          "mapbox": {
           "style": "light"
          },
          "paper_bgcolor": "white",
          "plot_bgcolor": "white",
          "polar": {
           "angularaxis": {
            "gridcolor": "#EBF0F8",
            "linecolor": "#EBF0F8",
            "ticks": ""
           },
           "bgcolor": "white",
           "radialaxis": {
            "gridcolor": "#EBF0F8",
            "linecolor": "#EBF0F8",
            "ticks": ""
           }
          },
          "scene": {
           "xaxis": {
            "backgroundcolor": "white",
            "gridcolor": "#DFE8F3",
            "gridwidth": 2,
            "linecolor": "#EBF0F8",
            "showbackground": true,
            "ticks": "",
            "zerolinecolor": "#EBF0F8"
           },
           "yaxis": {
            "backgroundcolor": "white",
            "gridcolor": "#DFE8F3",
            "gridwidth": 2,
            "linecolor": "#EBF0F8",
            "showbackground": true,
            "ticks": "",
            "zerolinecolor": "#EBF0F8"
           },
           "zaxis": {
            "backgroundcolor": "white",
            "gridcolor": "#DFE8F3",
            "gridwidth": 2,
            "linecolor": "#EBF0F8",
            "showbackground": true,
            "ticks": "",
            "zerolinecolor": "#EBF0F8"
           }
          },
          "shapedefaults": {
           "line": {
            "color": "#2a3f5f"
           }
          },
          "ternary": {
           "aaxis": {
            "gridcolor": "#DFE8F3",
            "linecolor": "#A2B1C6",
            "ticks": ""
           },
           "baxis": {
            "gridcolor": "#DFE8F3",
            "linecolor": "#A2B1C6",
            "ticks": ""
           },
           "bgcolor": "white",
           "caxis": {
            "gridcolor": "#DFE8F3",
            "linecolor": "#A2B1C6",
            "ticks": ""
           }
          },
          "title": {
           "x": 0.05
          },
          "xaxis": {
           "automargin": true,
           "gridcolor": "#EBF0F8",
           "linecolor": "#EBF0F8",
           "ticks": "",
           "title": {
            "standoff": 15
           },
           "zerolinecolor": "#EBF0F8",
           "zerolinewidth": 2
          },
          "yaxis": {
           "automargin": true,
           "gridcolor": "#EBF0F8",
           "linecolor": "#EBF0F8",
           "ticks": "",
           "title": {
            "standoff": 15
           },
           "zerolinecolor": "#EBF0F8",
           "zerolinewidth": 2
          }
         }
        },
        "title": {
         "text": "PCA of Battle Stats by Generation"
        },
        "xaxis": {
         "anchor": "y",
         "domain": [
          0,
          1
         ],
         "title": {
          "text": "PC1"
         }
        },
        "yaxis": {
         "anchor": "x",
         "domain": [
          0,
          1
         ],
         "title": {
          "text": "PC2"
         }
        }
       }
      }
     },
     "metadata": {},
     "output_type": "display_data"
    }
   ],
   "source": [
    "# Create interactive scatter plot for Battle Stats PCA colored by generation\n",
    "if 'generation' in pokemon_clean.columns:\n",
    "    fig = px.scatter(\n",
    "        pokemon_clean, \n",
    "        x='battle_pc1', \n",
    "        y='battle_pc2',\n",
    "        color='generation',\n",
    "        hover_name='name' if 'name' in pokemon_clean.columns else None,\n",
    "        title='PCA of Battle Stats by Generation',\n",
    "        labels={'battle_pc1': 'PC1', 'battle_pc2': 'PC2'},\n",
    "        template='plotly_white'\n",
    "    )\n",
    "    fig.update_layout(legend_title_text='Generation')\n",
    "    fig.show()"
   ]
  },
  {
   "cell_type": "code",
   "execution_count": 21,
   "id": "2fe9d841",
   "metadata": {},
   "outputs": [
    {
     "data": {
      "application/vnd.plotly.v1+json": {
       "config": {
        "plotlyServerURL": "https://plot.ly"
       },
       "data": [
        {
         "hovertemplate": "<b>%{hovertext}</b><br><br>type1=grass<br>PC1=%{x}<br>PC2=%{y}<extra></extra>",
         "hovertext": [
          "Bulbasaur",
          "Ivysaur",
          "Venusaur",
          "Oddish",
          "Gloom",
          "Vileplume",
          "Bellsprout",
          "Weepinbell",
          "Victreebel",
          "Exeggcute",
          "Exeggutor",
          "Tangela",
          "Chikorita",
          "Bayleef",
          "Meganium",
          "Bellossom",
          "Hoppip",
          "Skiploom",
          "Jumpluff",
          "Sunkern",
          "Sunflora",
          "Treecko",
          "Grovyle",
          "Sceptile",
          "Seedot",
          "Nuzleaf",
          "Shiftry",
          "Shroomish",
          "Breloom",
          "Roselia",
          "Cacnea",
          "Cacturne",
          "Tropius",
          "Turtwig",
          "Grotle",
          "Torterra",
          "Budew",
          "Roserade",
          "Cherubi",
          "Cherrim",
          "Carnivine",
          "Snover",
          "Abomasnow",
          "Tangrowth",
          "Leafeon",
          "Shaymin",
          "Snivy",
          "Servine",
          "Serperior",
          "Pansage",
          "Simisage",
          "Cottonee",
          "Whimsicott",
          "Petilil",
          "Lilligant",
          "Maractus",
          "Foongus",
          "Amoonguss",
          "Ferroseed",
          "Ferrothorn",
          "Virizion",
          "Chespin",
          "Quilladin",
          "Chesnaught",
          "Skiddo",
          "Gogoat",
          "Rowlet",
          "Dartrix",
          "Decidueye",
          "Fomantis",
          "Lurantis",
          "Morelull",
          "Shiinotic",
          "Bounsweet",
          "Steenee",
          "Tsareena",
          "Tapu Bulu",
          "Kartana"
         ],
         "legendgroup": "grass",
         "marker": {
          "color": "#636efa",
          "symbol": "circle"
         },
         "mode": "markers",
         "name": "grass",
         "orientation": "v",
         "showlegend": true,
         "type": "scatter",
         "x": {
          "bdata": "ZbtxHI3T/z9lu3EcjdP/P2W7cRyN0/8/ZbtxHI3T/z9lu3EcjdP/P2W7cRyN0/8/ZbtxHI3T/z9lu3EcjdP/P2W7cRyN0/8/ExiC1L2VCUATGILUvZUJQCPvA3+Y0wdAI+8Df5jTB0Aj7wN/mNMHQCPvA3+Y0wdAI+8Df5jTB0AfjuP+8+IQQB+O4/7z4hBAH47j/vPiEEAj7wN/mNMHQCPvA3+Y0wdAI+8Df5jTB0Aj7wN/mNMHQCPvA3+Y0wdAI+8Df5jTB0ATtwUub4QMQBO3BS5vhAxAI+8Df5jTB0BU0YAdAx4SQGW7cRyN0/8/I+8Df5jTB0ATtwUub4QMQB+O4/7z4hBAI+8Df5jTB0Aj7wN/mNMHQFMsU/sDDgRAZbtxHI3T/z9lu3EcjdP/PyPvA3+Y0wdAI+8Df5jTB0Aj7wN/mNMHQMUWXFZ/2wpAxRZcVn/bCkAj7wN/mNMHQCPvA3+Y0wdAI+8Df5jTB0Aj7wN/mNMHQCPvA3+Y0wdAI+8Df5jTB0Aj7wN/mNMHQCPvA3+Y0wdAO5fgr8ClEEA7l+CvwKUQQCPvA3+Y0wdAI+8Df5jTB0Aj7wN/mNMHQGW7cRyN0/8/ZbtxHI3T/z9nbq3PRP7cv2durc9E/ty/VNGAHQMeEkAj7wN/mNMHQCPvA3+Y0wdAVNGAHQMeEkAj7wN/mNMHQCPvA3+Y0wdAH47j/vPiEEAfjuP+8+IQQLcazCE7ruw/I+8Df5jTB0Aj7wN/mNMHQDuX4K/ApRBAO5fgr8ClEEAj7wN/mNMHQCPvA3+Y0wdAI+8Df5jTB0A7l+CvwKUQQGdurc9E/ty/",
          "dtype": "f8"
         },
         "xaxis": "x",
         "y": {
          "bdata": "M6kVu5L/7T8zqRW7kv/tPzOpFbuS/+0/M6kVu5L/7T8zqRW7kv/tPzOpFbuS/+0/M6kVu5L/7T8zqRW7kv/tPzOpFbuS/+0/JrForv/YAUAmsWiu/9gBQHDZcKLvr60/cNlwou+vrT9w2XCi76+tP3DZcKLvr60/cNlwou+vrT80OXo0r0bpPzQ5ejSvRuk/NDl6NK9G6T9w2XCi76+tP3DZcKLvr60/cNlwou+vrT9w2XCi76+tP3DZcKLvr60/cNlwou+vrT8cu3mF+8YCwBy7eYX7xgLAcNlwou+vrT8NuH6rVErtvzOpFbuS/+0/cNlwou+vrT8cu3mF+8YCwDQ5ejSvRuk/cNlwou+vrT9w2XCi76+tP5EFurb7l7a/M6kVu5L/7T8zqRW7kv/tP3DZcKLvr60/cNlwou+vrT9w2XCi76+tP1r7kRWIK4q/WvuRFYgrir9w2XCi76+tP3DZcKLvr60/cNlwou+vrT9w2XCi76+tP3DZcKLvr60/cNlwou+vrT9w2XCi76+tP3DZcKLvr60/8XHiuZKL1b/xceK5kovVv3DZcKLvr60/cNlwou+vrT9w2XCi76+tPzOpFbuS/+0/M6kVu5L/7T/3Sh8NgVTzP/dKHw2BVPM/Dbh+q1RK7b9w2XCi76+tP3DZcKLvr60/Dbh+q1RK7b9w2XCi76+tP3DZcKLvr60/NDl6NK9G6T80OXo0r0bpP4qZ8HZ2GBBAcNlwou+vrT9w2XCi76+tP/Fx4rmSi9W/8XHiuZKL1b9w2XCi76+tP3DZcKLvr60/cNlwou+vrT/xceK5kovVv/dKHw2BVPM/",
          "dtype": "f8"
         },
         "yaxis": "y"
        },
        {
         "hovertemplate": "<b>%{hovertext}</b><br><br>type1=fire<br>PC1=%{x}<br>PC2=%{y}<extra></extra>",
         "hovertext": [
          "Charmander",
          "Charmeleon",
          "Charizard",
          "Vulpix",
          "Ninetales",
          "Growlithe",
          "Arcanine",
          "Ponyta",
          "Rapidash",
          "Magmar",
          "Flareon",
          "Moltres",
          "Cyndaquil",
          "Quilava",
          "Typhlosion",
          "Slugma",
          "Magcargo",
          "Magby",
          "Entei",
          "Ho-Oh",
          "Torchic",
          "Combusken",
          "Blaziken",
          "Numel",
          "Camerupt",
          "Torkoal",
          "Chimchar",
          "Monferno",
          "Infernape",
          "Magmortar",
          "Heatran",
          "Tepig",
          "Pignite",
          "Emboar",
          "Pansear",
          "Simisear",
          "Darumaka",
          "Darmanitan",
          "Heatmor",
          "Fennekin",
          "Braixen",
          "Delphox",
          "Fletchinder",
          "Talonflame",
          "Litleo",
          "Pyroar",
          "Volcanion",
          "Litten",
          "Torracat",
          "Incineroar",
          "Oricorio",
          "Turtonator"
         ],
         "legendgroup": "fire",
         "marker": {
          "color": "#EF553B",
          "symbol": "circle"
         },
         "mode": "markers",
         "name": "fire",
         "orientation": "v",
         "showlegend": true,
         "type": "scatter",
         "x": {
          "bdata": "RSYX9KwK9r9FJhf0rAr2v3epWMmHY+I/RSYX9KwK9r9FJhf0rAr2v0UmF/SsCva/RSYX9KwK9r9FJhf0rAr2v0UmF/SsCva/RSYX9KwK9r9FJhf0rAr2v3epWMmHY+I/RSYX9KwK9r9FJhf0rAr2v0UmF/SsCva/RSYX9KwK9r+Kk6IfMagUwEUmF/SsCva/RSYX9KwK9r93qVjJh2PiP0UmF/SsCva/ofdIsjOV4r+h90iyM5XivwHC49/HiQfAAcLj38eJB8BFJhf0rAr2v0UmF/SsCva/ofdIsjOV4r+h90iyM5Xiv0UmF/SsCva/2PjpWejVEsBFJhf0rAr2v6H3SLIzleK/ofdIsjOV4r9FJhf0rAr2v0UmF/SsCva/RSYX9KwK9r9FJhf0rAr2v0UmF/SsCva/RSYX9KwK9r9FJhf0rAr2vxBbLwAv6fi/d6lYyYdj4j93qVjJh2PiP6Tl0+L6Wfi/pOXT4vpZ+L8B5Pn2OPrzv0UmF/SsCva/RSYX9KwK9r+MuSwfSHj1v3epWMmHY+I/5xZLvhxj1b8=",
          "dtype": "f8"
         },
         "xaxis": "x",
         "y": {
          "bdata": "Dk6Ho7w20z8OToejvDbTP+O/VvBIkfU/Dk6Ho7w20z8OToejvDbTPw5Oh6O8NtM/Dk6Ho7w20z8OToejvDbTPw5Oh6O8NtM/Dk6Ho7w20z8OToejvDbTP+O/VvBIkfU/Dk6Ho7w20z8OToejvDbTPw5Oh6O8NtM/Dk6Ho7w20z/A/m359tDSvw5Oh6O8NtM/Dk6Ho7w20z/jv1bwSJH1Pw5Oh6O8NtM/g6gBd3CU5L+DqAF3cJTkv+hawtt87sK/6FrC23zuwr8OToejvDbTPw5Oh6O8NtM/g6gBd3CU5L+DqAF3cJTkvw5Oh6O8NtM/qpTPx96K3j8OToejvDbTP4OoAXdwlOS/g6gBd3CU5L8OToejvDbTPw5Oh6O8NtM/Dk6Ho7w20z8OToejvDbTPw5Oh6O8NtM/Dk6Ho7w20z8OToejvDbTP26Ozq1ouQRA479W8EiR9T/jv1bwSJH1PznsPnZ+svO/Oew+dn6y8785C38I92rTPw5Oh6O8NtM/Dk6Ho7w20z+D3XHHthT7v+O/VvBIkfU/JUnXJI4+0L8=",
          "dtype": "f8"
         },
         "yaxis": "y"
        },
        {
         "hovertemplate": "<b>%{hovertext}</b><br><br>type1=water<br>PC1=%{x}<br>PC2=%{y}<extra></extra>",
         "hovertext": [
          "Squirtle",
          "Wartortle",
          "Blastoise",
          "Psyduck",
          "Golduck",
          "Poliwag",
          "Poliwhirl",
          "Poliwrath",
          "Tentacool",
          "Tentacruel",
          "Slowpoke",
          "Slowbro",
          "Seel",
          "Dewgong",
          "Shellder",
          "Cloyster",
          "Krabby",
          "Kingler",
          "Horsea",
          "Seadra",
          "Goldeen",
          "Seaking",
          "Staryu",
          "Starmie",
          "Magikarp",
          "Gyarados",
          "Lapras",
          "Vaporeon",
          "Totodile",
          "Croconaw",
          "Feraligatr",
          "Chinchou",
          "Lanturn",
          "Marill",
          "Azumarill",
          "Politoed",
          "Wooper",
          "Quagsire",
          "Slowking",
          "Qwilfish",
          "Corsola",
          "Remoraid",
          "Octillery",
          "Mantine",
          "Kingdra",
          "Suicune",
          "Mudkip",
          "Marshtomp",
          "Swampert",
          "Lotad",
          "Lombre",
          "Ludicolo",
          "Wingull",
          "Pelipper",
          "Carvanha",
          "Sharpedo",
          "Wailmer",
          "Wailord",
          "Barboach",
          "Whiscash",
          "Corphish",
          "Crawdaunt",
          "Feebas",
          "Milotic",
          "Clamperl",
          "Huntail",
          "Gorebyss",
          "Relicanth",
          "Luvdisc",
          "Kyogre",
          "Piplup",
          "Prinplup",
          "Empoleon",
          "Buizel",
          "Floatzel",
          "Shellos",
          "Gastrodon",
          "Finneon",
          "Lumineon",
          "Mantyke",
          "Palkia",
          "Phione",
          "Manaphy",
          "Oshawott",
          "Dewott",
          "Samurott",
          "Panpour",
          "Simipour",
          "Tympole",
          "Palpitoad",
          "Seismitoad",
          "Basculin",
          "Tirtouga",
          "Carracosta",
          "Ducklett",
          "Swanna",
          "Frillish",
          "Jellicent",
          "Alomomola",
          "Keldeo",
          "Froakie",
          "Frogadier",
          "Greninja",
          "Clauncher",
          "Clawitzer",
          "Popplio",
          "Brionne",
          "Primarina",
          "Wishiwashi",
          "Dewpider",
          "Araquanid",
          "Pyukumuku",
          "Bruxish",
          "Tapu Fini"
         ],
         "legendgroup": "water",
         "marker": {
          "color": "#00cc96",
          "symbol": "circle"
         },
         "mode": "markers",
         "name": "water",
         "orientation": "v",
         "showlegend": true,
         "type": "scatter",
         "x": {
          "bdata": "eSKVfAIc4r95IpV8Ahziv3kilXwCHOK/eSKVfAIc4r95IpV8Ahziv3kilXwCHOK/eSKVfAIc4r8o/69YmyXcPxkLxNo9h/G/GQvE2j2H8b+Zh2LFKJfjv5mHYsUol+O/eSKVfAIc4r+dLjnwdGvev3kilXwCHOK/nS458HRr3r95IpV8Ahziv3kilXwCHOK/eSKVfAIc4r95IpV8Ahziv3kilXwCHOK/eSKVfAIc4r95IpV8Ahziv5mHYsUol+O/eSKVfAIc4r+GEXf7C3jpP50uOfB0a96/eSKVfAIc4r95IpV8Ahziv3kilXwCHOK/eSKVfAIc4r94Ui0lJLD3v3hSLSUksPe/wgjbhirMpT/CCNuGKsylP3kilXwCHOK/0BiDT/bk/L/QGINP9uT8v5mHYsUol+O/GQvE2j2H8b+vR6I5VbgMwHkilXwCHOK/eSKVfAIc4r+GEXf7C3jpP71GwtY7heA/eSKVfAIc4r95IpV8Ahziv9AYg0/25Py/0BiDT/bk/L9mrA03HE4BQGasDTccTgFAZqwNNxxOAUCGEXf7C3jpP4YRd/sLeOk/Zi5QfY1xz79mLlB9jXHPv3kilXwCHOK/eSKVfAIc4r/QGINP9uT8v9AYg0/25Py/eSKVfAIc4r9mLlB9jXHPv3kilXwCHOK/eSKVfAIc4r95IpV8Ahziv3kilXwCHOK/eSKVfAIc4r+vR6I5VbgMwHkilXwCHOK/eSKVfAIc4r95IpV8Ahziv3kilXwCHOK/pSNkSLLXCMB5IpV8Ahziv3kilXwCHOK/eSKVfAIc4r/QGINP9uT8v3kilXwCHOK/eSKVfAIc4r+GEXf7C3jpP71GwtY7heA/eSKVfAIc4r95IpV8Ahziv3kilXwCHOK/eSKVfAIc4r95IpV8Ahziv3kilXwCHOK/eSKVfAIc4r95IpV8Ahziv9AYg0/25Py/0BiDT/bk/L95IpV8Ahziv69HojlVuAzAr0eiOVW4DMCGEXf7C3jpP4YRd/sLeOk/SeWpoYtlAcBJ5amhi2UBwHkilXwCHOK/KP+vWJsl3D95IpV8Ahziv3kilXwCHOK/Zi5QfY1xz795IpV8Ahziv3kilXwCHOK/eSKVfAIc4r95IpV8Ahziv8II24YqzKU/eSKVfAIc4r8Mg4G0Oc30PwyDgbQ5zfQ/eSKVfAIc4r+Zh2LFKJfjv8II24YqzKU/",
          "dtype": "f8"
         },
         "xaxis": "x",
         "y": {
          "bdata": "zkRDLlPS1r/OREMuU9LWv85EQy5T0ta/zkRDLlPS1r/OREMuU9LWv85EQy5T0ta/zkRDLlPS1r+u7bc8o3P3v6VO6UHCQOE/pU7pQcJA4T/aqIBLV1D+P9qogEtXUP4/zkRDLlPS1r8Y9XY9OmDnv85EQy5T0ta/GPV2PTpg57/OREMuU9LWv85EQy5T0ta/zkRDLlPS1r/OREMuU9LWv85EQy5T0ta/zkRDLlPS1r/OREMuU9LWv9qogEtXUP4/zkRDLlPS1r9QaptXKTjlPxj1dj06YOe/zkRDLlPS1r/OREMuU9LWv85EQy5T0ta/zkRDLlPS1r/NWwMUnzLgv81bAxSfMuC/4AoLxAFg4b/gCgvEAWDhv85EQy5T0ta/qO/PRENY8L+o789EQ1jwv9qogEtXUP4/pU7pQcJA4T8DBu//jRLyv85EQy5T0ta/zkRDLlPS1r9QaptXKTjlP2GCJOBs4vG/zkRDLlPS1r/OREMuU9LWv6jvz0RDWPC/qO/PRENY8L8uUS+UcRDFvy5RL5RxEMW/LlEvlHEQxb9QaptXKTjlP1Bqm1cpOOU/0xcijs93BcDTFyKOz3cFwM5EQy5T0ta/zkRDLlPS1r+o789EQ1jwv6jvz0RDWPC/zkRDLlPS1r/TFyKOz3cFwM5EQy5T0ta/zkRDLlPS1r/OREMuU9LWv85EQy5T0ta/zkRDLlPS1r8DBu//jRLyv85EQy5T0ta/zkRDLlPS1r/OREMuU9LWv85EQy5T0ta/kxIfKDym1T/OREMuU9LWv85EQy5T0ta/zkRDLlPS1r+o789EQ1jwv85EQy5T0ta/zkRDLlPS1r9QaptXKTjlP2GCJOBs4vG/zkRDLlPS1r/OREMuU9LWv85EQy5T0ta/zkRDLlPS1r/OREMuU9LWv85EQy5T0ta/zkRDLlPS1r/OREMuU9LWv6jvz0RDWPC/qO/PRENY8L/OREMuU9LWvwMG7/+NEvK/Awbv/40S8r9QaptXKTjlP1Bqm1cpOOU/+EvsOdLxC0D4S+w50vELQM5EQy5T0ta/ru23PKNz97/OREMuU9LWv85EQy5T0ta/0xcijs93BcDOREMuU9LWv85EQy5T0ta/zkRDLlPS1r/OREMuU9LWv+AKC8QBYOG/zkRDLlPS1r/Dg41xr1rlP8ODjXGvWuU/zkRDLlPS1r/aqIBLV1D+P+AKC8QBYOG/",
          "dtype": "f8"
         },
         "yaxis": "y"
        },
        {
         "hovertemplate": "<b>%{hovertext}</b><br><br>type1=bug<br>PC1=%{x}<br>PC2=%{y}<extra></extra>",
         "hovertext": [
          "Caterpie",
          "Metapod",
          "Butterfree",
          "Weedle",
          "Kakuna",
          "Beedrill",
          "Paras",
          "Parasect",
          "Venonat",
          "Venomoth",
          "Scyther",
          "Pinsir",
          "Ledyba",
          "Ledian",
          "Spinarak",
          "Ariados",
          "Yanma",
          "Pineco",
          "Forretress",
          "Scizor",
          "Shuckle",
          "Heracross",
          "Wurmple",
          "Silcoon",
          "Beautifly",
          "Cascoon",
          "Dustox",
          "Surskit",
          "Masquerain",
          "Nincada",
          "Ninjask",
          "Shedinja",
          "Volbeat",
          "Illumise",
          "Kricketot",
          "Kricketune",
          "Burmy",
          "Wormadam",
          "Mothim",
          "Combee",
          "Vespiquen",
          "Yanmega",
          "Sewaddle",
          "Swadloon",
          "Leavanny",
          "Venipede",
          "Whirlipede",
          "Scolipede",
          "Dwebble",
          "Crustle",
          "Karrablast",
          "Escavalier",
          "Joltik",
          "Galvantula",
          "Shelmet",
          "Accelgor",
          "Durant",
          "Larvesta",
          "Volcarona",
          "Genesect",
          "Scatterbug",
          "Spewpa",
          "Vivillon",
          "Grubbin",
          "Charjabug",
          "Vikavolt",
          "Cutiefly",
          "Ribombee",
          "Wimpod",
          "Golisopod",
          "Buzzwole",
          "Pheromosa"
         ],
         "legendgroup": "bug",
         "marker": {
          "color": "#ab63fa",
          "symbol": "circle"
         },
         "mode": "markers",
         "name": "bug",
         "orientation": "v",
         "showlegend": true,
         "type": "scatter",
         "x": {
          "bdata": "PH7KxO7A/D88fsrE7sD8P6ZBCt/b1wdAeZaBAVBq8z95loEBUGrzP3mWgQFQavM/4/IbMqGtFkDj8hsyoa0WQHmWgQFQavM/eZaBAVBq8z+mQQrf29cHQDx+ysTuwPw/pkEK39vXB0CmQQrf29cHQHmWgQFQavM/eZaBAVBq8z+mQQrf29cHQDx+ysTuwPw/Q39bUafP479Df1tRp8/jvzsgV704/PG/Jq6PRLTbCkA8fsrE7sD8Pzx+ysTuwPw/pkEK39vXB0A8fsrE7sD8P3mWgQFQavM/DIOBtDnN9D+mQQrf29cHQEk/ryNtLu0/pkEK39vXB0Cgf1GFBf2qPzx+ysTuwPw/PH7KxO7A/D88fsrE7sD8Pzx+ysTuwPw/PH7KxO7A/D/j8hsyoa0WQKZBCt/b1wdApkEK39vXB0CmQQrf29cHQKZBCt/b1wdA4/IbMqGtFkDj8hsyoa0WQOPyGzKhrRZAeZaBAVBq8z95loEBUGrzP3mWgQFQavM/OyBXvTj88b87IFe9OPzxvzx+ysTuwPw/Q39bUafP47/gExaRxe/pP+ATFpHF7+k/PH7KxO7A/D88fsrE7sD8P0N/W1Gnz+O/3+XBsIr/5z/f5cGwiv/nP0N/W1Gnz+O/PH7KxO7A/D88fsrE7sD8P6ZBCt/b1wdAPH7KxO7A/D/gExaRxe/pP+ATFpHF7+k/+nuuEc3rAkD6e64RzesCQAyDgbQ5zfQ/DIOBtDnN9D8mro9EtNsKQCauj0S02wpA",
          "dtype": "f8"
         },
         "xaxis": "x",
         "y": {
          "bdata": "HV1RjIbn6j8dXVGMhufqPwyyHvsXN/o/cJjvE4ki9z9wmO8TiSL3P3CY7xOJIvc/7AjBSysj9j/sCMFLKyP2P3CY7xOJIvc/cJjvE4ki9z8Msh77Fzf6Px1dUYyG5+o/DLIe+xc3+j8Msh77Fzf6P3CY7xOJIvc/cJjvE4ki9z8Msh77Fzf6Px1dUYyG5+o/kisFhRICAECSKwWFEgIAQHDvo/M2Ddk/aRXCSSMB0r8dXVGMhufqPx1dUYyG5+o/DLIe+xc3+j8dXVGMhufqP3CY7xOJIvc/w4ONca9a5T8Msh77Fzf6P3I0l4gsn9w/DLIe+xc3+j8TD6+nTX8RQB1dUYyG5+o/HV1RjIbn6j8dXVGMhufqPx1dUYyG5+o/HV1RjIbn6j/sCMFLKyP2PwyyHvsXN/o/DLIe+xc3+j8Msh77Fzf6PwyyHvsXN/o/7AjBSysj9j/sCMFLKyP2P+wIwUsrI/Y/cJjvE4ki9z9wmO8TiSL3P3CY7xOJIvc/cO+j8zYN2T9w76PzNg3ZPx1dUYyG5+o/kisFhRICAECTyS9IimzoP5PJL0iKbOg/HV1RjIbn6j8dXVGMhufqP5IrBYUSAgBAQcke1iaT9j9ByR7WJpP2P5IrBYUSAgBAHV1RjIbn6j8dXVGMhufqPwyyHvsXN/o/HV1RjIbn6j+TyS9IimzoP5PJL0iKbOg/i3D8SnDO2T+LcPxKcM7ZP8ODjXGvWuU/w4ONca9a5T9pFcJJIwHSv2kVwkkjAdK/",
          "dtype": "f8"
         },
         "yaxis": "y"
        },
        {
         "hovertemplate": "<b>%{hovertext}</b><br><br>type1=normal<br>PC1=%{x}<br>PC2=%{y}<extra></extra>",
         "hovertext": [
          "Pidgey",
          "Pidgeotto",
          "Pidgeot",
          "Rattata",
          "Raticate",
          "Spearow",
          "Fearow",
          "Jigglypuff",
          "Wigglytuff",
          "Meowth",
          "Persian",
          "Farfetch'd",
          "Doduo",
          "Dodrio",
          "Lickitung",
          "Chansey",
          "Kangaskhan",
          "Tauros",
          "Ditto",
          "Eevee",
          "Porygon",
          "Snorlax",
          "Sentret",
          "Furret",
          "Hoothoot",
          "Noctowl",
          "Igglybuff",
          "Aipom",
          "Girafarig",
          "Dunsparce",
          "Teddiursa",
          "Ursaring",
          "Porygon2",
          "Stantler",
          "Smeargle",
          "Miltank",
          "Blissey",
          "Zigzagoon",
          "Linoone",
          "Taillow",
          "Swellow",
          "Slakoth",
          "Vigoroth",
          "Slaking",
          "Whismur",
          "Loudred",
          "Exploud",
          "Azurill",
          "Skitty",
          "Delcatty",
          "Spinda",
          "Swablu",
          "Zangoose",
          "Castform",
          "Kecleon",
          "Starly",
          "Staravia",
          "Staraptor",
          "Bidoof",
          "Bibarel",
          "Ambipom",
          "Buneary",
          "Lopunny",
          "Glameow",
          "Purugly",
          "Happiny",
          "Chatot",
          "Munchlax",
          "Lickilicky",
          "Porygon-Z",
          "Regigigas",
          "Arceus",
          "Patrat",
          "Watchog",
          "Lillipup",
          "Herdier",
          "Stoutland",
          "Pidove",
          "Tranquill",
          "Unfezant",
          "Audino",
          "Minccino",
          "Cinccino",
          "Deerling",
          "Sawsbuck",
          "Bouffalant",
          "Rufflet",
          "Braviary",
          "Meloetta",
          "Bunnelby",
          "Diggersby",
          "Fletchling",
          "Furfrou",
          "Pikipek",
          "Trumbeak",
          "Toucannon",
          "Yungoos",
          "Gumshoos",
          "Stufful",
          "Bewear",
          "Oranguru",
          "Type: Null",
          "Silvally",
          "Komala",
          "Drampa"
         ],
         "legendgroup": "normal",
         "marker": {
          "color": "#FFA15A",
          "symbol": "circle"
         },
         "mode": "markers",
         "name": "normal",
         "orientation": "v",
         "showlegend": true,
         "type": "scatter",
         "x": {
          "bdata": "4zaS6vB59D/jNpLq8Hn0P+M2kurwefQ/RCyZ0wlMzL9ELJnTCUzMv+M2kurwefQ/4zaS6vB59D8S0wIDJp7hPxLTAgMmnuE/RCyZ0wlMzL9ELJnTCUzMv+M2kurwefQ/4zaS6vB59D/jNpLq8Hn0P0QsmdMJTMy/RCyZ0wlMzL9ELJnTCUzMv0QsmdMJTMy/RCyZ0wlMzL9ELJnTCUzMv0QsmdMJTMy/RCyZ0wlMzL9ELJnTCUzMv0QsmdMJTMy/4zaS6vB59D/jNpLq8Hn0PxLTAgMmnuE/RCyZ0wlMzL9QxGzSkpByv0QsmdMJTMy/RCyZ0wlMzL9ELJnTCUzMv0QsmdMJTMy/RCyZ0wlMzL9ELJnTCUzMv0QsmdMJTMy/RCyZ0wlMzL9ELJnTCUzMv0QsmdMJTMy/4zaS6vB59D/jNpLq8Hn0P0QsmdMJTMy/RCyZ0wlMzL9ELJnTCUzMv0QsmdMJTMy/RCyZ0wlMzL9ELJnTCUzMvxLTAgMmnuE/RCyZ0wlMzL9ELJnTCUzMv0QsmdMJTMy/4zaS6vB59D9ELJnTCUzMv0QsmdMJTMy/RCyZ0wlMzL/jNpLq8Hn0P+M2kurwefQ/4zaS6vB59D9ELJnTCUzMvzWhDlqeuua/RCyZ0wlMzL9ELJnTCUzMv0QsmdMJTMy/RCyZ0wlMzL9ELJnTCUzMv0QsmdMJTMy/4zaS6vB59D9ELJnTCUzMv0QsmdMJTMy/RCyZ0wlMzL9ELJnTCUzMv0QsmdMJTMy/RCyZ0wlMzL9ELJnTCUzMv0QsmdMJTMy/RCyZ0wlMzL9ELJnTCUzMv+M2kurwefQ/4zaS6vB59D/jNpLq8Hn0P0QsmdMJTMy/RCyZ0wlMzL9ELJnTCUzMv3SPpYfxqwZAdI+lh/GrBkBELJnTCUzMv+M2kurwefQ/4zaS6vB59D9QxGzSkpByv0QsmdMJTMy/2a0Ug06A8r/jNpLq8Hn0P0QsmdMJTMy/4zaS6vB59D/jNpLq8Hn0P+M2kurwefQ/RCyZ0wlMzL9ELJnTCUzMv/nWBrTNG+k/+dYGtM0b6T9QxGzSkpByv0QsmdMJTMy/RCyZ0wlMzL9ELJnTCUzMv+FD76yqQ+0/",
          "dtype": "f8"
         },
         "xaxis": "x",
         "y": {
          "bdata": "l61qHo3N4r+XrWoejc3iv5etah6NzeK/WiFghoy4+79aIWCGjLj7v5etah6NzeK/l61qHo3N4r+o6ojfiiL7v6jqiN+KIvu/WiFghoy4+79aIWCGjLj7v5etah6NzeK/l61qHo3N4r+XrWoejc3iv1ohYIaMuPu/WiFghoy4+79aIWCGjLj7v1ohYIaMuPu/WiFghoy4+79aIWCGjLj7v1ohYIaMuPu/WiFghoy4+79aIWCGjLj7v1ohYIaMuPu/l61qHo3N4r+XrWoejc3iv6jqiN+KIvu/WiFghoy4+7+2TN2exXewv1ohYIaMuPu/WiFghoy4+79aIWCGjLj7v1ohYIaMuPu/WiFghoy4+79aIWCGjLj7v1ohYIaMuPu/WiFghoy4+79aIWCGjLj7v1ohYIaMuPu/l61qHo3N4r+XrWoejc3iv1ohYIaMuPu/WiFghoy4+79aIWCGjLj7v1ohYIaMuPu/WiFghoy4+79aIWCGjLj7v6jqiN+KIvu/WiFghoy4+79aIWCGjLj7v1ohYIaMuPu/l61qHo3N4r9aIWCGjLj7v1ohYIaMuPu/WiFghoy4+7+XrWoejc3iv5etah6NzeK/l61qHo3N4r9aIWCGjLj7v/CQsWrCNP6/WiFghoy4+79aIWCGjLj7v1ohYIaMuPu/WiFghoy4+79aIWCGjLj7v1ohYIaMuPu/l61qHo3N4r9aIWCGjLj7v1ohYIaMuPu/WiFghoy4+79aIWCGjLj7v1ohYIaMuPu/WiFghoy4+79aIWCGjLj7v1ohYIaMuPu/WiFghoy4+79aIWCGjLj7v5etah6NzeK/l61qHo3N4r+XrWoejc3iv1ohYIaMuPu/WiFghoy4+79aIWCGjLj7v+84DSKukve/7zgNIq6S979aIWCGjLj7v5etah6NzeK/l61qHo3N4r+2TN2exXewv1ohYIaMuPu/HmkDugcIAcCXrWoejc3iv1ohYIaMuPu/l61qHo3N4r+XrWoejc3iv5etah6NzeK/WiFghoy4+79aIWCGjLj7v+uew3vNuwbA657De827BsC2TN2exXewv1ohYIaMuPu/WiFghoy4+79aIWCGjLj7v1SDct23+gTA",
          "dtype": "f8"
         },
         "yaxis": "y"
        },
        {
         "hovertemplate": "<b>%{hovertext}</b><br><br>type1=poison<br>PC1=%{x}<br>PC2=%{y}<extra></extra>",
         "hovertext": [
          "Ekans",
          "Arbok",
          "Nidoran♀",
          "Nidorina",
          "Nidoqueen",
          "Nidoran♂",
          "Nidorino",
          "Nidoking",
          "Zubat",
          "Golbat",
          "Grimer",
          "Muk",
          "Koffing",
          "Weezing",
          "Crobat",
          "Gulpin",
          "Swalot",
          "Seviper",
          "Stunky",
          "Skuntank",
          "Skorupi",
          "Drapion",
          "Croagunk",
          "Toxicroak",
          "Trubbish",
          "Garbodor",
          "Skrelp",
          "Dragalge",
          "Mareanie",
          "Toxapex",
          "Salandit",
          "Salazzle"
         ],
         "legendgroup": "poison",
         "marker": {
          "color": "#19d3f3",
          "symbol": "circle"
         },
         "mode": "markers",
         "name": "poison",
         "orientation": "v",
         "showlegend": true,
         "type": "scatter",
         "x": {
          "bdata": "5SltMqv36L/lKW0yq/fov+UpbTKr9+i/5SltMqv36L+r3Z3wNfH1v+UpbTKr9+i/5SltMqv36L+r3Z3wNfH1v6AUzqJVvPA/oBTOolW88D/lKW0yq/fov+UpbTKr9+i/5SltMqv36L/lKW0yq/fov6AUzqJVvPA/5SltMqv36L/lKW0yq/fov+UpbTKr9+i/SgWCY7yi6L9KBYJjvKLov3mWgQFQavM/SgWCY7yi6L8Q0H54sE3TPxDQfniwTdM/5SltMqv36L/lKW0yq/fovxkLxNo9h/G/YbnD0iTtvT8ZC8TaPYfxvxkLxNo9h/G//80lCxWaBMD/zSULFZoEwA==",
          "dtype": "f8"
         },
         "xaxis": "x",
         "y": {
          "bdata": "V4sLI8Cf4j9XiwsjwJ/iP1eLCyPAn+I/V4sLI8Cf4j88SkZXepzQP1eLCyPAn+I/V4sLI8Cf4j88SkZXepzQP7BoVCuR/fM/sGhUK5H98z9XiwsjwJ/iP1eLCyPAn+I/V4sLI8Cf4j9XiwsjwJ/iP7BoVCuR/fM/V4sLI8Cf4j9XiwsjwJ/iP1eLCyPAn+I/E2jFNn3E8b8TaMU2fcTxv3CY7xOJIvc/E2jFNn3E8b9kQZhP7zDOv2RBmE/vMM6/V4sLI8Cf4j9XiwsjwJ/iP6VO6UHCQOE/sKGWggWvsb+lTulBwkDhP6VO6UHCQOE/SZP65Ws16T9Jk/rlazXpPw==",
          "dtype": "f8"
         },
         "yaxis": "y"
        },
        {
         "hovertemplate": "<b>%{hovertext}</b><br><br>type1=electric<br>PC1=%{x}<br>PC2=%{y}<extra></extra>",
         "hovertext": [
          "Pikachu",
          "Raichu",
          "Magnemite",
          "Magneton",
          "Voltorb",
          "Electrode",
          "Electabuzz",
          "Jolteon",
          "Zapdos",
          "Pichu",
          "Mareep",
          "Flaaffy",
          "Ampharos",
          "Elekid",
          "Raikou",
          "Electrike",
          "Manectric",
          "Plusle",
          "Minun",
          "Shinx",
          "Luxio",
          "Luxray",
          "Pachirisu",
          "Magnezone",
          "Electivire",
          "Rotom",
          "Blitzle",
          "Zebstrika",
          "Emolga",
          "Tynamo",
          "Eelektrik",
          "Eelektross",
          "Thundurus",
          "Helioptile",
          "Heliolisk",
          "Dedenne",
          "Togedemaru",
          "Tapu Koko",
          "Xurkitree"
         ],
         "legendgroup": "electric",
         "marker": {
          "color": "#FF6692",
          "symbol": "circle"
         },
         "mode": "markers",
         "name": "electric",
         "orientation": "v",
         "showlegend": true,
         "type": "scatter",
         "x": {
          "bdata": "iljBnXn277+KWMGdefbvvyyS8e4pBRDALJLx7ikFEMCKWMGdefbvv4pYwZ159u+/iljBnXn277+KWMGdefbvvzyD5lnQGu0/iljBnXn277+KWMGdefbvv4pYwZ159u+/iljBnXn277+KWMGdefbvv4pYwZ159u+/iljBnXn277+KWMGdefbvv4pYwZ159u+/iljBnXn277+KWMGdefbvv4pYwZ159u+/iljBnXn277+KWMGdefbvvyyS8e4pBRDAiljBnXn277/N8vRpKdwEwIpYwZ159u+/iljBnXn27788g+ZZ0BrtP4pYwZ159u+/iljBnXn277+KWMGdefbvvzyD5lnQGu0/oGudvYpK8r+ga529ikryvwULffFo+9i/LJLx7ikFEMAFC33xaPvYv4pYwZ159u+/",
          "dtype": "f8"
         },
         "xaxis": "x",
         "y": {
          "bdata": "fjwfKSwQ0b9+PB8pLBDRv2lizQ2Zk9k/aWLNDZmT2T9+PB8pLBDRv348HyksENG/fjwfKSwQ0b9+PB8pLBDRv8u1Bgg6GuM/fjwfKSwQ0b9+PB8pLBDRv348HyksENG/fjwfKSwQ0b9+PB8pLBDRv348HyksENG/fjwfKSwQ0b9+PB8pLBDRv348HyksENG/fjwfKSwQ0b9+PB8pLBDRv348HyksENG/fjwfKSwQ0b9+PB8pLBDRv2lizQ2Zk9k/fjwfKSwQ0b8CzZAaF6oMQH48HyksENG/fjwfKSwQ0b/LtQYIOhrjP348HyksENG/fjwfKSwQ0b9+PB8pLBDRv8u1Bgg6GuM/2o5oqTjE/L/ajmipOMT8v3AN8oLc/dy/aWLNDZmT2T9wDfKC3P3cv348HyksENG/",
          "dtype": "f8"
         },
         "yaxis": "y"
        },
        {
         "hovertemplate": "<b>%{hovertext}</b><br><br>type1=ground<br>PC1=%{x}<br>PC2=%{y}<extra></extra>",
         "hovertext": [
          "Sandshrew",
          "Sandslash",
          "Diglett",
          "Dugtrio",
          "Cubone",
          "Marowak",
          "Rhyhorn",
          "Rhydon",
          "Gligar",
          "Phanpy",
          "Donphan",
          "Trapinch",
          "Vibrava",
          "Flygon",
          "Baltoy",
          "Claydol",
          "Groudon",
          "Hippopotas",
          "Hippowdon",
          "Rhyperior",
          "Gliscor",
          "Drilbur",
          "Excadrill",
          "Sandile",
          "Krokorok",
          "Krookodile",
          "Stunfisk",
          "Golett",
          "Golurk",
          "Landorus",
          "Mudbray",
          "Mudsdale"
         ],
         "legendgroup": "ground",
         "marker": {
          "color": "#B6E880",
          "symbol": "circle"
         },
         "mode": "markers",
         "name": "ground",
         "orientation": "v",
         "showlegend": true,
         "type": "scatter",
         "x": {
          "bdata": "eu5XlAAx8L967leUADHwv3ruV5QAMfC/eu5XlAAx8L967leUADHwv3ruV5QAMfC/HUGIejKoEsAdQYh6MqgSwCd94vmTo+g/eu5XlAAx8L967leUADHwv3ruV5QAMfC/DeJzfBGw7T8N4nN8EbDtPwuhvriT7vC/C6G+uJPu8L967leUADHwv3ruV5QAMfC/eu5XlAAx8L8dQYh6MqgSwCd94vmTo+g/eu5XlAAx8L99FkhVfx8KwBfGbgtiIua/F8ZuC2Ii5r8Xxm4LYiLmvxqD2yjQ2P6/ks6WrIeaA8CSzpash5oDwCd94vmTo+g/eu5XlAAx8L967leUADHwvw==",
          "dtype": "f8"
         },
         "xaxis": "x",
         "y": {
          "bdata": "ASXMqcMf478BJcypwx/jvwElzKnDH+O/ASXMqcMf478BJcypwx/jvwElzKnDH+O/qtKKDC12+r+q0ooMLXb6v0BwOF5JjMM/ASXMqcMf478BJcypwx/jvwElzKnDH+O//hTfVywI9b/+FN9XLAj1v49nK0IKdfo/j2crQgp1+j8BJcypwx/jvwElzKnDH+O/ASXMqcMf47+q0ooMLXb6v0BwOF5JjMM/ASXMqcMf47/mn/lyJ2vQP3u4zBJ2ZQfAe7jMEnZlB8B7uMwSdmUHwBcSluJWAuS/lcFa9DC1CUCVwVr0MLUJQEBwOF5JjMM/ASXMqcMf478BJcypwx/jvw==",
          "dtype": "f8"
         },
         "yaxis": "y"
        },
        {
         "hovertemplate": "<b>%{hovertext}</b><br><br>type1=fairy<br>PC1=%{x}<br>PC2=%{y}<extra></extra>",
         "hovertext": [
          "Clefairy",
          "Clefable",
          "Cleffa",
          "Togepi",
          "Togetic",
          "Snubbull",
          "Granbull",
          "Togekiss",
          "Flabébé",
          "Floette",
          "Florges",
          "Spritzee",
          "Aromatisse",
          "Swirlix",
          "Slurpuff",
          "Sylveon",
          "Xerneas",
          "Comfey"
         ],
         "legendgroup": "fairy",
         "marker": {
          "color": "#FF97FF",
          "symbol": "circle"
         },
         "mode": "markers",
         "name": "fairy",
         "orientation": "v",
         "showlegend": true,
         "type": "scatter",
         "x": {
          "bdata": "AuBOueDk4T8C4E654OThPwLgTrng5OE/AuBOueDk4T8weCMYccT+PwLgTrng5OE/AuBOueDk4T8weCMYccT+PwLgTrng5OE/AuBOueDk4T8C4E654OThPwLgTrng5OE/AuBOueDk4T8C4E654OThPwLgTrng5OE/AuBOueDk4T8C4E654OThPwLgTrng5OE/",
          "dtype": "f8"
         },
         "xaxis": "x",
         "y": {
          "bdata": "Vxn4nIzE3r9XGficjMTev1cZ+JyMxN6/Vxn4nIzE3r+um7g+99LFP1cZ+JyMxN6/Vxn4nIzE3r+um7g+99LFP1cZ+JyMxN6/Vxn4nIzE3r9XGficjMTev1cZ+JyMxN6/Vxn4nIzE3r9XGficjMTev1cZ+JyMxN6/Vxn4nIzE3r9XGficjMTev1cZ+JyMxN6/",
          "dtype": "f8"
         },
         "yaxis": "y"
        },
        {
         "hovertemplate": "<b>%{hovertext}</b><br><br>type1=fighting<br>PC1=%{x}<br>PC2=%{y}<extra></extra>",
         "hovertext": [
          "Mankey",
          "Primeape",
          "Machop",
          "Machoke",
          "Machamp",
          "Hitmonlee",
          "Hitmonchan",
          "Tyrogue",
          "Hitmontop",
          "Makuhita",
          "Hariyama",
          "Meditite",
          "Medicham",
          "Riolu",
          "Lucario",
          "Timburr",
          "Gurdurr",
          "Conkeldurr",
          "Throh",
          "Sawk",
          "Mienfoo",
          "Mienshao",
          "Pancham",
          "Pangoro",
          "Hawlucha",
          "Crabrawler",
          "Crabominable",
          "Passimian"
         ],
         "legendgroup": "fighting",
         "marker": {
          "color": "#FECB52",
          "symbol": "circle"
         },
         "mode": "markers",
         "name": "fighting",
         "orientation": "v",
         "showlegend": true,
         "type": "scatter",
         "x": {
          "bdata": "tVWAkWm67T+1VYCRabrtP7VVgJFpuu0/tVWAkWm67T+1VYCRabrtP7VVgJFpuu0/tVWAkWm67T+1VYCRabrtP7VVgJFpuu0/tVWAkWm67T+1VYCRabrtP6JMrsZmQuk/okyuxmZC6T+1VYCRabrtP9YGuw8HOwHAtVWAkWm67T+1VYCRabrtP7VVgJFpuu0/tVWAkWm67T+1VYCRabrtP7VVgJFpuu0/tVWAkWm67T+1VYCRabrtP8dcEj/3KvM/JsJXme7kAUC1VYCRabrtP0AGXiJsKfA/tVWAkWm67T8=",
          "dtype": "f8"
         },
         "xaxis": "x",
         "y": {
          "bdata": "GX5mWG339L8ZfmZYbff0vxl+Zlht9/S/GX5mWG339L8ZfmZYbff0vxl+Zlht9/S/GX5mWG339L8ZfmZYbff0vxl+Zlht9/S/GX5mWG339L8ZfmZYbff0v/i7toC6TNo/+Lu2gLpM2j8ZfmZYbff0v/vCD5t2n9G/GX5mWG339L8ZfmZYbff0vxl+Zlht9/S/GX5mWG339L8ZfmZYbff0vxl+Zlht9/S/GX5mWG339L8ZfmZYbff0v8t0JMRjYw/AyPAFAGmL478ZfmZYbff0v1+fZa92FPy/GX5mWG339L8=",
          "dtype": "f8"
         },
         "yaxis": "y"
        },
        {
         "hovertemplate": "<b>%{hovertext}</b><br><br>type1=psychic<br>PC1=%{x}<br>PC2=%{y}<extra></extra>",
         "hovertext": [
          "Abra",
          "Kadabra",
          "Alakazam",
          "Drowzee",
          "Hypno",
          "Mr. Mime",
          "Mewtwo",
          "Mew",
          "Natu",
          "Xatu",
          "Espeon",
          "Unown",
          "Wobbuffet",
          "Lugia",
          "Celebi",
          "Ralts",
          "Kirlia",
          "Gardevoir",
          "Spoink",
          "Grumpig",
          "Chimecho",
          "Wynaut",
          "Deoxys",
          "Chingling",
          "Mime Jr.",
          "Gallade",
          "Uxie",
          "Mesprit",
          "Azelf",
          "Cresselia",
          "Victini",
          "Munna",
          "Musharna",
          "Woobat",
          "Swoobat",
          "Sigilyph",
          "Gothita",
          "Gothorita",
          "Gothitelle",
          "Solosis",
          "Duosion",
          "Reuniclus",
          "Elgyem",
          "Beheeyem",
          "Espurr",
          "Meowstic",
          "Hoopa",
          "Tapu Lele",
          "Cosmog",
          "Cosmoem",
          "Solgaleo",
          "Lunala",
          "Necrozma"
         ],
         "legendgroup": "psychic",
         "marker": {
          "color": "#636efa",
          "symbol": "circle"
         },
         "mode": "markers",
         "name": "psychic",
         "orientation": "v",
         "showlegend": true,
         "type": "scatter",
         "x": {
          "bdata": "t4vRAWd8v7+3i9EBZ3y/v7eL0QFnfL+/t4vRAWd8v7+3i9EBZ3y/v7di47eWqds/t4vRAWd8v7+3i9EBZ3y/vx6s1O/TqPA/HqzU79Oo8D+3i9EBZ3y/v7eL0QFnfL+/t4vRAWd8v78erNTv06jwPxMYgtS9lQlAt2Ljt5ap2z+3YuO3lqnbP7di47eWqds/t4vRAWd8v7+3i9EBZ3y/v7eL0QFnfL+/t4vRAWd8v7+3i9EBZ3y/v7eL0QFnfL+/t2Ljt5ap2z+iTK7GZkLpP7eL0QFnfL+/t4vRAWd8v7+3i9EBZ3y/v7eL0QFnfL+/EFsvAC/p+L+3i9EBZ3y/v7eL0QFnfL+/HqzU79Oo8D8erNTv06jwPx6s1O/TqPA/t4vRAWd8v7+3i9EBZ3y/v7eL0QFnfL+/t4vRAWd8v7+3i9EBZ3y/v7eL0QFnfL+/t4vRAWd8v7+3i9EBZ3y/v7eL0QFnfL+/t4vRAWd8v7+5maQ7l/ECwLdi47eWqds/t4vRAWd8v7+3i9EBZ3y/vxo1xfrJwgXAuZmkO5fxAsC3i9EBZ3y/vw==",
          "dtype": "f8"
         },
         "xaxis": "x",
         "y": {
          "bdata": "Nwzpl0ZmAEA3DOmXRmYAQDcM6ZdGZgBANwzpl0ZmAEA3DOmXRmYAQB3lUX10cvE/Nwzpl0ZmAEA3DOmXRmYAQJX0MjQwFAZAlfQyNDAUBkA3DOmXRmYAQDcM6ZdGZgBANwzpl0ZmAECV9DI0MBQGQCaxaK7/2AFAHeVRfXRy8T8d5VF9dHLxPx3lUX10cvE/Nwzpl0ZmAEA3DOmXRmYAQDcM6ZdGZgBANwzpl0ZmAEA3DOmXRmYAQDcM6ZdGZgBAHeVRfXRy8T/4u7aAukzaPzcM6ZdGZgBANwzpl0ZmAEA3DOmXRmYAQDcM6ZdGZgBAbo7OrWi5BEA3DOmXRmYAQDcM6ZdGZgBAlfQyNDAUBkCV9DI0MBQGQJX0MjQwFAZANwzpl0ZmAEA3DOmXRmYAQDcM6ZdGZgBANwzpl0ZmAEA3DOmXRmYAQDcM6ZdGZgBANwzpl0ZmAEA3DOmXRmYAQDcM6ZdGZgBANwzpl0ZmAECvV8HqSZMeQB3lUX10cvE/Nwzpl0ZmAEA3DOmXRmYAQDEoOmRqXAlAr1fB6kmTHkA3DOmXRmYAQA==",
          "dtype": "f8"
         },
         "yaxis": "y"
        },
        {
         "hovertemplate": "<b>%{hovertext}</b><br><br>type1=rock<br>PC1=%{x}<br>PC2=%{y}<extra></extra>",
         "hovertext": [
          "Geodude",
          "Graveler",
          "Golem",
          "Onix",
          "Omanyte",
          "Omastar",
          "Kabuto",
          "Kabutops",
          "Aerodactyl",
          "Sudowoodo",
          "Larvitar",
          "Pupitar",
          "Tyranitar",
          "Nosepass",
          "Lunatone",
          "Solrock",
          "Lileep",
          "Cradily",
          "Anorith",
          "Armaldo",
          "Regirock",
          "Cranidos",
          "Rampardos",
          "Shieldon",
          "Bastiodon",
          "Bonsly",
          "Probopass",
          "Roggenrola",
          "Boldore",
          "Gigalith",
          "Archen",
          "Archeops",
          "Terrakion",
          "Binacle",
          "Barbaracle",
          "Tyrunt",
          "Tyrantrum",
          "Amaura",
          "Aurorus",
          "Carbink",
          "Diancie",
          "Rockruff",
          "Lycanroc",
          "Minior",
          "Nihilego"
         ],
         "legendgroup": "rock",
         "marker": {
          "color": "#EF553B",
          "symbol": "circle"
         },
         "mode": "markers",
         "name": "rock",
         "orientation": "v",
         "showlegend": true,
         "type": "scatter",
         "x": {
          "bdata": "HUGIejKoEsAdQYh6MqgSwB1BiHoyqBLAHUGIejKoEsCvR6I5VbgMwK9HojlVuAzAr0eiOVW4DMCvR6I5VbgMwBpkGTdZyuq/nF9S5bB9CMAdQYh6MqgSwB1BiHoyqBLAy9KYsbkZCMCcX1LlsH0IwHFcui2CxgfAcVy6LYLGB8B3/LjsUUTGv3f8uOxRRMa/OyBXvTj88b87IFe9OPzxv5xfUuWwfQjAnF9S5bB9CMCcX1LlsH0IwPfTX5OxJhfA99Nfk7EmF8CcX1LlsH0IwPfTX5OxJhfAnF9S5bB9CMCcX1LlsH0IwJxfUuWwfQjAGmQZN1nK6r8aZBk3Wcrqvyet5G2VKAPAr0eiOVW4DMCvR6I5VbgMwG0R1cYTqPa/bRHVxhOo9r8Pe+/PwgkKwA9778/CCQrAFTav8SyaBMAVNq/xLJoEwJxfUuWwfQjAnF9S5bB9CMAaZBk3Wcrqv674L/YBrQ7A",
          "dtype": "f8"
         },
         "xaxis": "x",
         "y": {
          "bdata": "qtKKDC12+r+q0ooMLXb6v6rSigwtdvq/qtKKDC12+r8DBu//jRLyvwMG7/+NEvK/Awbv/40S8r8DBu//jRLyvwjdIgHTLdk/uix4XiX37b+q0ooMLXb6v6rSigwtdvq/0pXNZhQqD8C6LHheJfftvxs/q04fGPo/Gz+rTh8Y+j9EK3PY7T/jv0Qrc9jtP+O/cO+j8zYN2T9w76PzNg3ZP7oseF4l9+2/uix4XiX37b+6LHheJfftv3h1anAwDPK/eHVqcDAM8r+6LHheJfftv3h1anAwDPK/uix4XiX37b+6LHheJfftv7oseF4l9+2/CN0iAdMt2T8I3SIB0y3ZPwU03DBcwADAAwbv/40S8r8DBu//jRLyv4Z4a55u6vm/hnhrnm7q+b/6jddMTMMBwPqN10xMwwHAtBndV1Yk8L+0Gd1XViTwv7oseF4l9+2/uix4XiX37b8I3SIB0y3ZPyfCve1IDcU/",
          "dtype": "f8"
         },
         "yaxis": "y"
        },
        {
         "hovertemplate": "<b>%{hovertext}</b><br><br>type1=ghost<br>PC1=%{x}<br>PC2=%{y}<extra></extra>",
         "hovertext": [
          "Gastly",
          "Haunter",
          "Gengar",
          "Misdreavus",
          "Shuppet",
          "Banette",
          "Duskull",
          "Dusclops",
          "Drifloon",
          "Drifblim",
          "Mismagius",
          "Spiritomb",
          "Dusknoir",
          "Giratina",
          "Yamask",
          "Cofagrigus",
          "Litwick",
          "Lampent",
          "Chandelure",
          "Phantump",
          "Trevenant",
          "Pumpkaboo",
          "Gourgeist",
          "Sandygast",
          "Palossand",
          "Mimikyu",
          "Dhelmise"
         ],
         "legendgroup": "ghost",
         "marker": {
          "color": "#00cc96",
          "symbol": "circle"
         },
         "mode": "markers",
         "name": "ghost",
         "orientation": "v",
         "showlegend": true,
         "type": "scatter",
         "x": {
          "bdata": "sx3lvq5NAsCzHeW+rk0CwLMd5b6uTQLAgZ+/UEn3+r+Bn79QSff6v4Gfv1BJ9/q/gZ+/UEn3+r+Bn79QSff6vx/PO3wD7di/H887fAPt2L+Bn79QSff6v17RNT/Or/C/gZ+/UEn3+r8SsKl/5Zfhv4Gfv1BJ9/q/gZ+/UEn3+r8/z6PCpVsHwD/Po8KlWwfAP8+jwqVbB8C3GswhO67sP7cazCE7ruw/txrMITuu7D+3GswhO67sP5LOlqyHmgPAks6WrIeaA8CQ3FGhvWv1v7cazCE7ruw/",
          "dtype": "f8"
         },
         "xaxis": "x",
         "y": {
          "bdata": "FKadttA6EEAUpp220DoQQBSmnbbQOhBAwgMVLO0vDUDCAxUs7S8NQMIDFSztLw1AwgMVLO0vDUDCAxUs7S8NQOgM9Vz+kBBA6Az1XP6QEEDCAxUs7S8NQBh1otoybu8/wgMVLO0vDUAckdKRexEGQMIDFSztLw1AwgMVLO0vDUBBlZ1Wc4UQQEGVnVZzhRBAQZWdVnOFEECKmfB2dhgQQIqZ8HZ2GBBAipnwdnYYEECKmfB2dhgQQJXBWvQwtQlAlcFa9DC1CUBA6y1G/GQEQIqZ8HZ2GBBA",
          "dtype": "f8"
         },
         "yaxis": "y"
        },
        {
         "hovertemplate": "<b>%{hovertext}</b><br><br>type1=ice<br>PC1=%{x}<br>PC2=%{y}<extra></extra>",
         "hovertext": [
          "Jynx",
          "Articuno",
          "Swinub",
          "Piloswine",
          "Delibird",
          "Smoochum",
          "Snorunt",
          "Glalie",
          "Spheal",
          "Sealeo",
          "Walrein",
          "Regice",
          "Glaceon",
          "Mamoswine",
          "Froslass",
          "Vanillite",
          "Vanillish",
          "Vanilluxe",
          "Cubchoo",
          "Beartic",
          "Cryogonal",
          "Bergmite",
          "Avalugg"
         ],
         "legendgroup": "ice",
         "marker": {
          "color": "#ab63fa",
          "symbol": "circle"
         },
         "mode": "markers",
         "name": "ice",
         "orientation": "v",
         "showlegend": true,
         "type": "scatter",
         "x": {
          "bdata": "AjZ8w5Ddyz/UUTghFP/6P3e0dh4d7fG/d7R2Hh3t8b/UUTghFP/6PwI2fMOQ3cs/UwP8SaVqwD9TA/xJpWrAP50uOfB0a96/nS458HRr3r+dLjnwdGvev1MD/EmlasA/UwP8SaVqwD93tHYeHe3xvyBHnDTgV/O/UwP8SaVqwD9TA/xJpWrAP1MD/EmlasA/UwP8SaVqwD9TA/xJpWrAP1MD/EmlasA/UwP8SaVqwD9TA/xJpWrAPw==",
          "dtype": "f8"
         },
         "xaxis": "x",
         "y": {
          "bdata": "MKri9Lo/AEA7Sog6H5jqP7Xb4sW9oPC/tdvixb2g8L87Sog6H5jqPzCq4vS6PwBAMAJEKHgo4b8wAkQoeCjhvxj1dj06YOe/GPV2PTpg578Y9XY9OmDnvzACRCh4KOG/MAJEKHgo4b+12+LFvaDwv3CPeXzEkA9AMAJEKHgo4b8wAkQoeCjhvzACRCh4KOG/MAJEKHgo4b8wAkQoeCjhvzACRCh4KOG/MAJEKHgo4b8wAkQoeCjhvw==",
          "dtype": "f8"
         },
         "yaxis": "y"
        },
        {
         "hovertemplate": "<b>%{hovertext}</b><br><br>type1=dragon<br>PC1=%{x}<br>PC2=%{y}<extra></extra>",
         "hovertext": [
          "Dratini",
          "Dragonair",
          "Dragonite",
          "Altaria",
          "Bagon",
          "Shelgon",
          "Salamence",
          "Latias",
          "Latios",
          "Rayquaza",
          "Gible",
          "Gabite",
          "Garchomp",
          "Axew",
          "Fraxure",
          "Haxorus",
          "Druddigon",
          "Reshiram",
          "Zekrom",
          "Kyurem",
          "Goomy",
          "Sliggoo",
          "Goodra",
          "Zygarde",
          "Jangmo-o",
          "Hakamo-o",
          "Kommo-o"
         ],
         "legendgroup": "dragon",
         "marker": {
          "color": "#FFA15A",
          "symbol": "circle"
         },
         "mode": "markers",
         "name": "dragon",
         "orientation": "v",
         "showlegend": true,
         "type": "scatter",
         "x": {
          "bdata": "T2E0RSPx8D9PYTRFI/HwP9UdeevvrQVA1R156++tBUBPYTRFI/HwP09hNEUj8fA/1R156++tBUC+rs0gkDPwP76uzSCQM/A/1R156++tBUAN4nN8EbDtPw3ic3wRsO0/DeJzfBGw7T9PYTRFI/HwP09hNEUj8fA/T2E0RSPx8D9PYTRFI/HwP+cWS74cY9W/mJ/ryrXlwT/3QmQPFZDsP09hNEUj8fA/T2E0RSPx8D9PYTRFI/HwPw3ic3wRsO0/T2E0RSPx8D+nFdp+wfACQKcV2n7B8AJA",
          "dtype": "f8"
         },
         "xaxis": "x",
         "y": {
          "bdata": "60bEG0J18b/rRsQbQnXxv+2d3l9rLde/7Z3eX2st17/rRsQbQnXxv+tGxBtCdfG/7Z3eX2st178iM037qY/yPyIzTfupj/I/7Z3eX2st17/+FN9XLAj1v/4U31csCPW//hTfVywI9b/rRsQbQnXxv+tGxBtCdfG/60bEG0J18b/rRsQbQnXxvyVJ1ySOPtC/8vh6+7wz8r+pXHV/3tv4v+tGxBtCdfG/60bEG0J18b/rRsQbQnXxv/4U31csCPW/60bEG0J18b/YjyuLllIGwNiPK4uWUgbA",
          "dtype": "f8"
         },
         "yaxis": "y"
        },
        {
         "hovertemplate": "<b>%{hovertext}</b><br><br>type1=dark<br>PC1=%{x}<br>PC2=%{y}<extra></extra>",
         "hovertext": [
          "Umbreon",
          "Murkrow",
          "Sneasel",
          "Houndour",
          "Houndoom",
          "Poochyena",
          "Mightyena",
          "Sableye",
          "Absol",
          "Honchkrow",
          "Weavile",
          "Darkrai",
          "Purrloin",
          "Liepard",
          "Scraggy",
          "Scrafty",
          "Zorua",
          "Zoroark",
          "Pawniard",
          "Bisharp",
          "Vullaby",
          "Mandibuzz",
          "Deino",
          "Zweilous",
          "Hydreigon",
          "Inkay",
          "Malamar",
          "Yveltal",
          "Guzzlord"
         ],
         "legendgroup": "dark",
         "marker": {
          "color": "#19d3f3",
          "symbol": "circle"
         },
         "mode": "markers",
         "name": "dark",
         "orientation": "v",
         "showlegend": true,
         "type": "scatter",
         "x": {
          "bdata": "IypRF+Iszz93/z2AH8j5P2XQlIUYqsY/jLksH0h49b+MuSwfSHj1vyMqURfiLM8/IypRF+Iszz9e0TU/zq/wvyMqURfiLM8/d/89gB/I+T9l0JSFGKrGPyMqURfiLM8/IypRF+Iszz8jKlEX4izPP8dcEj/3KvM/x1wSP/cq8z8jKlEX4izPPyMqURfiLM8/SIeEp8P5BsBIh4Snw/kGwHf/PYAfyPk/d/89gB/I+T+6Jd536un6P7ol3nfq6fo/uiXed+rp+j+nmeCK/6DrP6eZ4Ir/oOs/d/89gB/I+T+6Jd536un6Pw==",
          "dtype": "f8"
         },
         "xaxis": "x",
         "y": {
          "bdata": "CWD5m7Q5BMA8Jh4lbYH1vy+LQBlp9gvAg91xx7YU+7+D3XHHthT7vwlg+Zu0OQTACWD5m7Q5BMAYdaLaMm7vPwlg+Zu0OQTAPCYeJW2B9b8vi0AZafYLwAlg+Zu0OQTACWD5m7Q5BMAJYPmbtDkEwMt0JMRjYw/Ay3QkxGNjD8AJYPmbtDkEwAlg+Zu0OQTAGXO032p1AMAZc7TfanUAwDwmHiVtgfW/PCYeJW2B9b9p2Hg9SggQwGnYeD1KCBDAadh4PUoIEMC9UXNVPavwv71Rc1U9q/C/PCYeJW2B9b9p2Hg9SggQwA==",
          "dtype": "f8"
         },
         "yaxis": "y"
        },
        {
         "hovertemplate": "<b>%{hovertext}</b><br><br>type1=steel<br>PC1=%{x}<br>PC2=%{y}<extra></extra>",
         "hovertext": [
          "Steelix",
          "Skarmory",
          "Mawile",
          "Aron",
          "Lairon",
          "Aggron",
          "Beldum",
          "Metang",
          "Metagross",
          "Registeel",
          "Jirachi",
          "Bronzor",
          "Bronzong",
          "Dialga",
          "Klink",
          "Klang",
          "Klinklang",
          "Cobalion",
          "Honedge",
          "Doublade",
          "Aegislash",
          "Klefki",
          "Celesteela",
          "Magearna"
         ],
         "legendgroup": "steel",
         "marker": {
          "color": "#FF6692",
          "symbol": "circle"
         },
         "mode": "markers",
         "name": "steel",
         "orientation": "v",
         "showlegend": true,
         "type": "scatter",
         "x": {
          "bdata": "fRZIVX8fCsDNwPliigHwv421Q/zKzQPA99Nfk7EmF8D301+TsSYXwPfTX5OxJhfAGjXF+snCBcAaNcX6ycIFwBo1xfrJwgXAkuml/vy7BcAaNcX6ycIFwBo1xfrJwgXAGjXF+snCBcAfbIGa1GoCwJLppf78uwXAkuml/vy7BcCS6aX+/LsFwNYGuw8HOwHAyAYjpDIFCcDIBiOkMgUJwMgGI6QyBQnAjbVD/MrNA8DNwPliigHwv421Q/zKzQPA",
          "dtype": "f8"
         },
         "xaxis": "x",
         "y": {
          "bdata": "5p/5cidr0D/7FyWPmIP5P1l2WZ+2GuY/eHVqcDAM8r94dWpwMAzyv3h1anAwDPK/MSg6ZGpcCUAxKDpkalwJQDEoOmRqXAlALKtfvnrp4T8xKDpkalwJQDEoOmRqXAlAMSg6ZGpcCUCDinKAtuW1vyyrX7566eE/LKtfvnrp4T8sq1++eunhP/vCD5t2n9G/ZM9EraueEUBkz0Stq54RQGTPRK2rnhFAWXZZn7Ya5j/7FyWPmIP5P1p2WZ+2GuY/",
          "dtype": "f8"
         },
         "yaxis": "y"
        },
        {
         "hovertemplate": "<b>%{hovertext}</b><br><br>type1=flying<br>PC1=%{x}<br>PC2=%{y}<extra></extra>",
         "hovertext": [
          "Tornadus",
          "Noibat",
          "Noivern"
         ],
         "legendgroup": "flying",
         "marker": {
          "color": "#B6E880",
          "symbol": "circle"
         },
         "mode": "markers",
         "name": "flying",
         "orientation": "v",
         "showlegend": true,
         "type": "scatter",
         "x": {
          "bdata": "Wj24RU6d9D/VHXnr760FQNUdeevvrQVA",
          "dtype": "f8"
         },
         "xaxis": "x",
         "y": {
          "bdata": "CxsrUkIV5D/tnd5fay3Xv+2d3l9rLde/",
          "dtype": "f8"
         },
         "yaxis": "y"
        }
       ],
       "layout": {
        "legend": {
         "title": {
          "text": "Type"
         },
         "tracegroupgap": 0
        },
        "template": {
         "data": {
          "bar": [
           {
            "error_x": {
             "color": "#2a3f5f"
            },
            "error_y": {
             "color": "#2a3f5f"
            },
            "marker": {
             "line": {
              "color": "white",
              "width": 0.5
             },
             "pattern": {
              "fillmode": "overlay",
              "size": 10,
              "solidity": 0.2
             }
            },
            "type": "bar"
           }
          ],
          "barpolar": [
           {
            "marker": {
             "line": {
              "color": "white",
              "width": 0.5
             },
             "pattern": {
              "fillmode": "overlay",
              "size": 10,
              "solidity": 0.2
             }
            },
            "type": "barpolar"
           }
          ],
          "carpet": [
           {
            "aaxis": {
             "endlinecolor": "#2a3f5f",
             "gridcolor": "#C8D4E3",
             "linecolor": "#C8D4E3",
             "minorgridcolor": "#C8D4E3",
             "startlinecolor": "#2a3f5f"
            },
            "baxis": {
             "endlinecolor": "#2a3f5f",
             "gridcolor": "#C8D4E3",
             "linecolor": "#C8D4E3",
             "minorgridcolor": "#C8D4E3",
             "startlinecolor": "#2a3f5f"
            },
            "type": "carpet"
           }
          ],
          "choropleth": [
           {
            "colorbar": {
             "outlinewidth": 0,
             "ticks": ""
            },
            "type": "choropleth"
           }
          ],
          "contour": [
           {
            "colorbar": {
             "outlinewidth": 0,
             "ticks": ""
            },
            "colorscale": [
             [
              0,
              "#0d0887"
             ],
             [
              0.1111111111111111,
              "#46039f"
             ],
             [
              0.2222222222222222,
              "#7201a8"
             ],
             [
              0.3333333333333333,
              "#9c179e"
             ],
             [
              0.4444444444444444,
              "#bd3786"
             ],
             [
              0.5555555555555556,
              "#d8576b"
             ],
             [
              0.6666666666666666,
              "#ed7953"
             ],
             [
              0.7777777777777778,
              "#fb9f3a"
             ],
             [
              0.8888888888888888,
              "#fdca26"
             ],
             [
              1,
              "#f0f921"
             ]
            ],
            "type": "contour"
           }
          ],
          "contourcarpet": [
           {
            "colorbar": {
             "outlinewidth": 0,
             "ticks": ""
            },
            "type": "contourcarpet"
           }
          ],
          "heatmap": [
           {
            "colorbar": {
             "outlinewidth": 0,
             "ticks": ""
            },
            "colorscale": [
             [
              0,
              "#0d0887"
             ],
             [
              0.1111111111111111,
              "#46039f"
             ],
             [
              0.2222222222222222,
              "#7201a8"
             ],
             [
              0.3333333333333333,
              "#9c179e"
             ],
             [
              0.4444444444444444,
              "#bd3786"
             ],
             [
              0.5555555555555556,
              "#d8576b"
             ],
             [
              0.6666666666666666,
              "#ed7953"
             ],
             [
              0.7777777777777778,
              "#fb9f3a"
             ],
             [
              0.8888888888888888,
              "#fdca26"
             ],
             [
              1,
              "#f0f921"
             ]
            ],
            "type": "heatmap"
           }
          ],
          "histogram": [
           {
            "marker": {
             "pattern": {
              "fillmode": "overlay",
              "size": 10,
              "solidity": 0.2
             }
            },
            "type": "histogram"
           }
          ],
          "histogram2d": [
           {
            "colorbar": {
             "outlinewidth": 0,
             "ticks": ""
            },
            "colorscale": [
             [
              0,
              "#0d0887"
             ],
             [
              0.1111111111111111,
              "#46039f"
             ],
             [
              0.2222222222222222,
              "#7201a8"
             ],
             [
              0.3333333333333333,
              "#9c179e"
             ],
             [
              0.4444444444444444,
              "#bd3786"
             ],
             [
              0.5555555555555556,
              "#d8576b"
             ],
             [
              0.6666666666666666,
              "#ed7953"
             ],
             [
              0.7777777777777778,
              "#fb9f3a"
             ],
             [
              0.8888888888888888,
              "#fdca26"
             ],
             [
              1,
              "#f0f921"
             ]
            ],
            "type": "histogram2d"
           }
          ],
          "histogram2dcontour": [
           {
            "colorbar": {
             "outlinewidth": 0,
             "ticks": ""
            },
            "colorscale": [
             [
              0,
              "#0d0887"
             ],
             [
              0.1111111111111111,
              "#46039f"
             ],
             [
              0.2222222222222222,
              "#7201a8"
             ],
             [
              0.3333333333333333,
              "#9c179e"
             ],
             [
              0.4444444444444444,
              "#bd3786"
             ],
             [
              0.5555555555555556,
              "#d8576b"
             ],
             [
              0.6666666666666666,
              "#ed7953"
             ],
             [
              0.7777777777777778,
              "#fb9f3a"
             ],
             [
              0.8888888888888888,
              "#fdca26"
             ],
             [
              1,
              "#f0f921"
             ]
            ],
            "type": "histogram2dcontour"
           }
          ],
          "mesh3d": [
           {
            "colorbar": {
             "outlinewidth": 0,
             "ticks": ""
            },
            "type": "mesh3d"
           }
          ],
          "parcoords": [
           {
            "line": {
             "colorbar": {
              "outlinewidth": 0,
              "ticks": ""
             }
            },
            "type": "parcoords"
           }
          ],
          "pie": [
           {
            "automargin": true,
            "type": "pie"
           }
          ],
          "scatter": [
           {
            "fillpattern": {
             "fillmode": "overlay",
             "size": 10,
             "solidity": 0.2
            },
            "type": "scatter"
           }
          ],
          "scatter3d": [
           {
            "line": {
             "colorbar": {
              "outlinewidth": 0,
              "ticks": ""
             }
            },
            "marker": {
             "colorbar": {
              "outlinewidth": 0,
              "ticks": ""
             }
            },
            "type": "scatter3d"
           }
          ],
          "scattercarpet": [
           {
            "marker": {
             "colorbar": {
              "outlinewidth": 0,
              "ticks": ""
             }
            },
            "type": "scattercarpet"
           }
          ],
          "scattergeo": [
           {
            "marker": {
             "colorbar": {
              "outlinewidth": 0,
              "ticks": ""
             }
            },
            "type": "scattergeo"
           }
          ],
          "scattergl": [
           {
            "marker": {
             "colorbar": {
              "outlinewidth": 0,
              "ticks": ""
             }
            },
            "type": "scattergl"
           }
          ],
          "scattermap": [
           {
            "marker": {
             "colorbar": {
              "outlinewidth": 0,
              "ticks": ""
             }
            },
            "type": "scattermap"
           }
          ],
          "scattermapbox": [
           {
            "marker": {
             "colorbar": {
              "outlinewidth": 0,
              "ticks": ""
             }
            },
            "type": "scattermapbox"
           }
          ],
          "scatterpolar": [
           {
            "marker": {
             "colorbar": {
              "outlinewidth": 0,
              "ticks": ""
             }
            },
            "type": "scatterpolar"
           }
          ],
          "scatterpolargl": [
           {
            "marker": {
             "colorbar": {
              "outlinewidth": 0,
              "ticks": ""
             }
            },
            "type": "scatterpolargl"
           }
          ],
          "scatterternary": [
           {
            "marker": {
             "colorbar": {
              "outlinewidth": 0,
              "ticks": ""
             }
            },
            "type": "scatterternary"
           }
          ],
          "surface": [
           {
            "colorbar": {
             "outlinewidth": 0,
             "ticks": ""
            },
            "colorscale": [
             [
              0,
              "#0d0887"
             ],
             [
              0.1111111111111111,
              "#46039f"
             ],
             [
              0.2222222222222222,
              "#7201a8"
             ],
             [
              0.3333333333333333,
              "#9c179e"
             ],
             [
              0.4444444444444444,
              "#bd3786"
             ],
             [
              0.5555555555555556,
              "#d8576b"
             ],
             [
              0.6666666666666666,
              "#ed7953"
             ],
             [
              0.7777777777777778,
              "#fb9f3a"
             ],
             [
              0.8888888888888888,
              "#fdca26"
             ],
             [
              1,
              "#f0f921"
             ]
            ],
            "type": "surface"
           }
          ],
          "table": [
           {
            "cells": {
             "fill": {
              "color": "#EBF0F8"
             },
             "line": {
              "color": "white"
             }
            },
            "header": {
             "fill": {
              "color": "#C8D4E3"
             },
             "line": {
              "color": "white"
             }
            },
            "type": "table"
           }
          ]
         },
         "layout": {
          "annotationdefaults": {
           "arrowcolor": "#2a3f5f",
           "arrowhead": 0,
           "arrowwidth": 1
          },
          "autotypenumbers": "strict",
          "coloraxis": {
           "colorbar": {
            "outlinewidth": 0,
            "ticks": ""
           }
          },
          "colorscale": {
           "diverging": [
            [
             0,
             "#8e0152"
            ],
            [
             0.1,
             "#c51b7d"
            ],
            [
             0.2,
             "#de77ae"
            ],
            [
             0.3,
             "#f1b6da"
            ],
            [
             0.4,
             "#fde0ef"
            ],
            [
             0.5,
             "#f7f7f7"
            ],
            [
             0.6,
             "#e6f5d0"
            ],
            [
             0.7,
             "#b8e186"
            ],
            [
             0.8,
             "#7fbc41"
            ],
            [
             0.9,
             "#4d9221"
            ],
            [
             1,
             "#276419"
            ]
           ],
           "sequential": [
            [
             0,
             "#0d0887"
            ],
            [
             0.1111111111111111,
             "#46039f"
            ],
            [
             0.2222222222222222,
             "#7201a8"
            ],
            [
             0.3333333333333333,
             "#9c179e"
            ],
            [
             0.4444444444444444,
             "#bd3786"
            ],
            [
             0.5555555555555556,
             "#d8576b"
            ],
            [
             0.6666666666666666,
             "#ed7953"
            ],
            [
             0.7777777777777778,
             "#fb9f3a"
            ],
            [
             0.8888888888888888,
             "#fdca26"
            ],
            [
             1,
             "#f0f921"
            ]
           ],
           "sequentialminus": [
            [
             0,
             "#0d0887"
            ],
            [
             0.1111111111111111,
             "#46039f"
            ],
            [
             0.2222222222222222,
             "#7201a8"
            ],
            [
             0.3333333333333333,
             "#9c179e"
            ],
            [
             0.4444444444444444,
             "#bd3786"
            ],
            [
             0.5555555555555556,
             "#d8576b"
            ],
            [
             0.6666666666666666,
             "#ed7953"
            ],
            [
             0.7777777777777778,
             "#fb9f3a"
            ],
            [
             0.8888888888888888,
             "#fdca26"
            ],
            [
             1,
             "#f0f921"
            ]
           ]
          },
          "colorway": [
           "#636efa",
           "#EF553B",
           "#00cc96",
           "#ab63fa",
           "#FFA15A",
           "#19d3f3",
           "#FF6692",
           "#B6E880",
           "#FF97FF",
           "#FECB52"
          ],
          "font": {
           "color": "#2a3f5f"
          },
          "geo": {
           "bgcolor": "white",
           "lakecolor": "white",
           "landcolor": "white",
           "showlakes": true,
           "showland": true,
           "subunitcolor": "#C8D4E3"
          },
          "hoverlabel": {
           "align": "left"
          },
          "hovermode": "closest",
          "mapbox": {
           "style": "light"
          },
          "paper_bgcolor": "white",
          "plot_bgcolor": "white",
          "polar": {
           "angularaxis": {
            "gridcolor": "#EBF0F8",
            "linecolor": "#EBF0F8",
            "ticks": ""
           },
           "bgcolor": "white",
           "radialaxis": {
            "gridcolor": "#EBF0F8",
            "linecolor": "#EBF0F8",
            "ticks": ""
           }
          },
          "scene": {
           "xaxis": {
            "backgroundcolor": "white",
            "gridcolor": "#DFE8F3",
            "gridwidth": 2,
            "linecolor": "#EBF0F8",
            "showbackground": true,
            "ticks": "",
            "zerolinecolor": "#EBF0F8"
           },
           "yaxis": {
            "backgroundcolor": "white",
            "gridcolor": "#DFE8F3",
            "gridwidth": 2,
            "linecolor": "#EBF0F8",
            "showbackground": true,
            "ticks": "",
            "zerolinecolor": "#EBF0F8"
           },
           "zaxis": {
            "backgroundcolor": "white",
            "gridcolor": "#DFE8F3",
            "gridwidth": 2,
            "linecolor": "#EBF0F8",
            "showbackground": true,
            "ticks": "",
            "zerolinecolor": "#EBF0F8"
           }
          },
          "shapedefaults": {
           "line": {
            "color": "#2a3f5f"
           }
          },
          "ternary": {
           "aaxis": {
            "gridcolor": "#DFE8F3",
            "linecolor": "#A2B1C6",
            "ticks": ""
           },
           "baxis": {
            "gridcolor": "#DFE8F3",
            "linecolor": "#A2B1C6",
            "ticks": ""
           },
           "bgcolor": "white",
           "caxis": {
            "gridcolor": "#DFE8F3",
            "linecolor": "#A2B1C6",
            "ticks": ""
           }
          },
          "title": {
           "x": 0.05
          },
          "xaxis": {
           "automargin": true,
           "gridcolor": "#EBF0F8",
           "linecolor": "#EBF0F8",
           "ticks": "",
           "title": {
            "standoff": 15
           },
           "zerolinecolor": "#EBF0F8",
           "zerolinewidth": 2
          },
          "yaxis": {
           "automargin": true,
           "gridcolor": "#EBF0F8",
           "linecolor": "#EBF0F8",
           "ticks": "",
           "title": {
            "standoff": 15
           },
           "zerolinecolor": "#EBF0F8",
           "zerolinewidth": 2
          }
         }
        },
        "title": {
         "text": "PCA of Type Effectiveness by Primary Type"
        },
        "xaxis": {
         "anchor": "y",
         "domain": [
          0,
          1
         ],
         "title": {
          "text": "PC1"
         }
        },
        "yaxis": {
         "anchor": "x",
         "domain": [
          0,
          1
         ],
         "title": {
          "text": "PC2"
         }
        }
       }
      }
     },
     "metadata": {},
     "output_type": "display_data"
    },
    {
     "data": {
      "application/vnd.plotly.v1+json": {
       "config": {
        "plotlyServerURL": "https://plot.ly"
       },
       "data": [
        {
         "hovertemplate": "<b>%{hovertext}</b><br><br>PC1=%{x}<br>PC2=%{y}<br>generation=%{marker.color}<extra></extra>",
         "hovertext": [
          "Bulbasaur",
          "Ivysaur",
          "Venusaur",
          "Charmander",
          "Charmeleon",
          "Charizard",
          "Squirtle",
          "Wartortle",
          "Blastoise",
          "Caterpie",
          "Metapod",
          "Butterfree",
          "Weedle",
          "Kakuna",
          "Beedrill",
          "Pidgey",
          "Pidgeotto",
          "Pidgeot",
          "Rattata",
          "Raticate",
          "Spearow",
          "Fearow",
          "Ekans",
          "Arbok",
          "Pikachu",
          "Raichu",
          "Sandshrew",
          "Sandslash",
          "Nidoran♀",
          "Nidorina",
          "Nidoqueen",
          "Nidoran♂",
          "Nidorino",
          "Nidoking",
          "Clefairy",
          "Clefable",
          "Vulpix",
          "Ninetales",
          "Jigglypuff",
          "Wigglytuff",
          "Zubat",
          "Golbat",
          "Oddish",
          "Gloom",
          "Vileplume",
          "Paras",
          "Parasect",
          "Venonat",
          "Venomoth",
          "Diglett",
          "Dugtrio",
          "Meowth",
          "Persian",
          "Psyduck",
          "Golduck",
          "Mankey",
          "Primeape",
          "Growlithe",
          "Arcanine",
          "Poliwag",
          "Poliwhirl",
          "Poliwrath",
          "Abra",
          "Kadabra",
          "Alakazam",
          "Machop",
          "Machoke",
          "Machamp",
          "Bellsprout",
          "Weepinbell",
          "Victreebel",
          "Tentacool",
          "Tentacruel",
          "Geodude",
          "Graveler",
          "Golem",
          "Ponyta",
          "Rapidash",
          "Slowpoke",
          "Slowbro",
          "Magnemite",
          "Magneton",
          "Farfetch'd",
          "Doduo",
          "Dodrio",
          "Seel",
          "Dewgong",
          "Grimer",
          "Muk",
          "Shellder",
          "Cloyster",
          "Gastly",
          "Haunter",
          "Gengar",
          "Onix",
          "Drowzee",
          "Hypno",
          "Krabby",
          "Kingler",
          "Voltorb",
          "Electrode",
          "Exeggcute",
          "Exeggutor",
          "Cubone",
          "Marowak",
          "Hitmonlee",
          "Hitmonchan",
          "Lickitung",
          "Koffing",
          "Weezing",
          "Rhyhorn",
          "Rhydon",
          "Chansey",
          "Tangela",
          "Kangaskhan",
          "Horsea",
          "Seadra",
          "Goldeen",
          "Seaking",
          "Staryu",
          "Starmie",
          "Mr. Mime",
          "Scyther",
          "Jynx",
          "Electabuzz",
          "Magmar",
          "Pinsir",
          "Tauros",
          "Magikarp",
          "Gyarados",
          "Lapras",
          "Ditto",
          "Eevee",
          "Vaporeon",
          "Jolteon",
          "Flareon",
          "Porygon",
          "Omanyte",
          "Omastar",
          "Kabuto",
          "Kabutops",
          "Aerodactyl",
          "Snorlax",
          "Articuno",
          "Zapdos",
          "Moltres",
          "Dratini",
          "Dragonair",
          "Dragonite",
          "Mewtwo",
          "Mew",
          "Chikorita",
          "Bayleef",
          "Meganium",
          "Cyndaquil",
          "Quilava",
          "Typhlosion",
          "Totodile",
          "Croconaw",
          "Feraligatr",
          "Sentret",
          "Furret",
          "Hoothoot",
          "Noctowl",
          "Ledyba",
          "Ledian",
          "Spinarak",
          "Ariados",
          "Crobat",
          "Chinchou",
          "Lanturn",
          "Pichu",
          "Cleffa",
          "Igglybuff",
          "Togepi",
          "Togetic",
          "Natu",
          "Xatu",
          "Mareep",
          "Flaaffy",
          "Ampharos",
          "Bellossom",
          "Marill",
          "Azumarill",
          "Sudowoodo",
          "Politoed",
          "Hoppip",
          "Skiploom",
          "Jumpluff",
          "Aipom",
          "Sunkern",
          "Sunflora",
          "Yanma",
          "Wooper",
          "Quagsire",
          "Espeon",
          "Umbreon",
          "Murkrow",
          "Slowking",
          "Misdreavus",
          "Unown",
          "Wobbuffet",
          "Girafarig",
          "Pineco",
          "Forretress",
          "Dunsparce",
          "Gligar",
          "Steelix",
          "Snubbull",
          "Granbull",
          "Qwilfish",
          "Scizor",
          "Shuckle",
          "Heracross",
          "Sneasel",
          "Teddiursa",
          "Ursaring",
          "Slugma",
          "Magcargo",
          "Swinub",
          "Piloswine",
          "Corsola",
          "Remoraid",
          "Octillery",
          "Delibird",
          "Mantine",
          "Skarmory",
          "Houndour",
          "Houndoom",
          "Kingdra",
          "Phanpy",
          "Donphan",
          "Porygon2",
          "Stantler",
          "Smeargle",
          "Tyrogue",
          "Hitmontop",
          "Smoochum",
          "Elekid",
          "Magby",
          "Miltank",
          "Blissey",
          "Raikou",
          "Entei",
          "Suicune",
          "Larvitar",
          "Pupitar",
          "Tyranitar",
          "Lugia",
          "Ho-Oh",
          "Celebi",
          "Treecko",
          "Grovyle",
          "Sceptile",
          "Torchic",
          "Combusken",
          "Blaziken",
          "Mudkip",
          "Marshtomp",
          "Swampert",
          "Poochyena",
          "Mightyena",
          "Zigzagoon",
          "Linoone",
          "Wurmple",
          "Silcoon",
          "Beautifly",
          "Cascoon",
          "Dustox",
          "Lotad",
          "Lombre",
          "Ludicolo",
          "Seedot",
          "Nuzleaf",
          "Shiftry",
          "Taillow",
          "Swellow",
          "Wingull",
          "Pelipper",
          "Ralts",
          "Kirlia",
          "Gardevoir",
          "Surskit",
          "Masquerain",
          "Shroomish",
          "Breloom",
          "Slakoth",
          "Vigoroth",
          "Slaking",
          "Nincada",
          "Ninjask",
          "Shedinja",
          "Whismur",
          "Loudred",
          "Exploud",
          "Makuhita",
          "Hariyama",
          "Azurill",
          "Nosepass",
          "Skitty",
          "Delcatty",
          "Sableye",
          "Mawile",
          "Aron",
          "Lairon",
          "Aggron",
          "Meditite",
          "Medicham",
          "Electrike",
          "Manectric",
          "Plusle",
          "Minun",
          "Volbeat",
          "Illumise",
          "Roselia",
          "Gulpin",
          "Swalot",
          "Carvanha",
          "Sharpedo",
          "Wailmer",
          "Wailord",
          "Numel",
          "Camerupt",
          "Torkoal",
          "Spoink",
          "Grumpig",
          "Spinda",
          "Trapinch",
          "Vibrava",
          "Flygon",
          "Cacnea",
          "Cacturne",
          "Swablu",
          "Altaria",
          "Zangoose",
          "Seviper",
          "Lunatone",
          "Solrock",
          "Barboach",
          "Whiscash",
          "Corphish",
          "Crawdaunt",
          "Baltoy",
          "Claydol",
          "Lileep",
          "Cradily",
          "Anorith",
          "Armaldo",
          "Feebas",
          "Milotic",
          "Castform",
          "Kecleon",
          "Shuppet",
          "Banette",
          "Duskull",
          "Dusclops",
          "Tropius",
          "Chimecho",
          "Absol",
          "Wynaut",
          "Snorunt",
          "Glalie",
          "Spheal",
          "Sealeo",
          "Walrein",
          "Clamperl",
          "Huntail",
          "Gorebyss",
          "Relicanth",
          "Luvdisc",
          "Bagon",
          "Shelgon",
          "Salamence",
          "Beldum",
          "Metang",
          "Metagross",
          "Regirock",
          "Regice",
          "Registeel",
          "Latias",
          "Latios",
          "Kyogre",
          "Groudon",
          "Rayquaza",
          "Jirachi",
          "Deoxys",
          "Turtwig",
          "Grotle",
          "Torterra",
          "Chimchar",
          "Monferno",
          "Infernape",
          "Piplup",
          "Prinplup",
          "Empoleon",
          "Starly",
          "Staravia",
          "Staraptor",
          "Bidoof",
          "Bibarel",
          "Kricketot",
          "Kricketune",
          "Shinx",
          "Luxio",
          "Luxray",
          "Budew",
          "Roserade",
          "Cranidos",
          "Rampardos",
          "Shieldon",
          "Bastiodon",
          "Burmy",
          "Wormadam",
          "Mothim",
          "Combee",
          "Vespiquen",
          "Pachirisu",
          "Buizel",
          "Floatzel",
          "Cherubi",
          "Cherrim",
          "Shellos",
          "Gastrodon",
          "Ambipom",
          "Drifloon",
          "Drifblim",
          "Buneary",
          "Lopunny",
          "Mismagius",
          "Honchkrow",
          "Glameow",
          "Purugly",
          "Chingling",
          "Stunky",
          "Skuntank",
          "Bronzor",
          "Bronzong",
          "Bonsly",
          "Mime Jr.",
          "Happiny",
          "Chatot",
          "Spiritomb",
          "Gible",
          "Gabite",
          "Garchomp",
          "Munchlax",
          "Riolu",
          "Lucario",
          "Hippopotas",
          "Hippowdon",
          "Skorupi",
          "Drapion",
          "Croagunk",
          "Toxicroak",
          "Carnivine",
          "Finneon",
          "Lumineon",
          "Mantyke",
          "Snover",
          "Abomasnow",
          "Weavile",
          "Magnezone",
          "Lickilicky",
          "Rhyperior",
          "Tangrowth",
          "Electivire",
          "Magmortar",
          "Togekiss",
          "Yanmega",
          "Leafeon",
          "Glaceon",
          "Gliscor",
          "Mamoswine",
          "Porygon-Z",
          "Gallade",
          "Probopass",
          "Dusknoir",
          "Froslass",
          "Rotom",
          "Uxie",
          "Mesprit",
          "Azelf",
          "Dialga",
          "Palkia",
          "Heatran",
          "Regigigas",
          "Giratina",
          "Cresselia",
          "Phione",
          "Manaphy",
          "Darkrai",
          "Shaymin",
          "Arceus",
          "Victini",
          "Snivy",
          "Servine",
          "Serperior",
          "Tepig",
          "Pignite",
          "Emboar",
          "Oshawott",
          "Dewott",
          "Samurott",
          "Patrat",
          "Watchog",
          "Lillipup",
          "Herdier",
          "Stoutland",
          "Purrloin",
          "Liepard",
          "Pansage",
          "Simisage",
          "Pansear",
          "Simisear",
          "Panpour",
          "Simipour",
          "Munna",
          "Musharna",
          "Pidove",
          "Tranquill",
          "Unfezant",
          "Blitzle",
          "Zebstrika",
          "Roggenrola",
          "Boldore",
          "Gigalith",
          "Woobat",
          "Swoobat",
          "Drilbur",
          "Excadrill",
          "Audino",
          "Timburr",
          "Gurdurr",
          "Conkeldurr",
          "Tympole",
          "Palpitoad",
          "Seismitoad",
          "Throh",
          "Sawk",
          "Sewaddle",
          "Swadloon",
          "Leavanny",
          "Venipede",
          "Whirlipede",
          "Scolipede",
          "Cottonee",
          "Whimsicott",
          "Petilil",
          "Lilligant",
          "Basculin",
          "Sandile",
          "Krokorok",
          "Krookodile",
          "Darumaka",
          "Darmanitan",
          "Maractus",
          "Dwebble",
          "Crustle",
          "Scraggy",
          "Scrafty",
          "Sigilyph",
          "Yamask",
          "Cofagrigus",
          "Tirtouga",
          "Carracosta",
          "Archen",
          "Archeops",
          "Trubbish",
          "Garbodor",
          "Zorua",
          "Zoroark",
          "Minccino",
          "Cinccino",
          "Gothita",
          "Gothorita",
          "Gothitelle",
          "Solosis",
          "Duosion",
          "Reuniclus",
          "Ducklett",
          "Swanna",
          "Vanillite",
          "Vanillish",
          "Vanilluxe",
          "Deerling",
          "Sawsbuck",
          "Emolga",
          "Karrablast",
          "Escavalier",
          "Foongus",
          "Amoonguss",
          "Frillish",
          "Jellicent",
          "Alomomola",
          "Joltik",
          "Galvantula",
          "Ferroseed",
          "Ferrothorn",
          "Klink",
          "Klang",
          "Klinklang",
          "Tynamo",
          "Eelektrik",
          "Eelektross",
          "Elgyem",
          "Beheeyem",
          "Litwick",
          "Lampent",
          "Chandelure",
          "Axew",
          "Fraxure",
          "Haxorus",
          "Cubchoo",
          "Beartic",
          "Cryogonal",
          "Shelmet",
          "Accelgor",
          "Stunfisk",
          "Mienfoo",
          "Mienshao",
          "Druddigon",
          "Golett",
          "Golurk",
          "Pawniard",
          "Bisharp",
          "Bouffalant",
          "Rufflet",
          "Braviary",
          "Vullaby",
          "Mandibuzz",
          "Heatmor",
          "Durant",
          "Deino",
          "Zweilous",
          "Hydreigon",
          "Larvesta",
          "Volcarona",
          "Cobalion",
          "Terrakion",
          "Virizion",
          "Tornadus",
          "Thundurus",
          "Reshiram",
          "Zekrom",
          "Landorus",
          "Kyurem",
          "Keldeo",
          "Meloetta",
          "Genesect",
          "Chespin",
          "Quilladin",
          "Chesnaught",
          "Fennekin",
          "Braixen",
          "Delphox",
          "Froakie",
          "Frogadier",
          "Greninja",
          "Bunnelby",
          "Diggersby",
          "Fletchling",
          "Fletchinder",
          "Talonflame",
          "Scatterbug",
          "Spewpa",
          "Vivillon",
          "Litleo",
          "Pyroar",
          "Flabébé",
          "Floette",
          "Florges",
          "Skiddo",
          "Gogoat",
          "Pancham",
          "Pangoro",
          "Furfrou",
          "Espurr",
          "Meowstic",
          "Honedge",
          "Doublade",
          "Aegislash",
          "Spritzee",
          "Aromatisse",
          "Swirlix",
          "Slurpuff",
          "Inkay",
          "Malamar",
          "Binacle",
          "Barbaracle",
          "Skrelp",
          "Dragalge",
          "Clauncher",
          "Clawitzer",
          "Helioptile",
          "Heliolisk",
          "Tyrunt",
          "Tyrantrum",
          "Amaura",
          "Aurorus",
          "Sylveon",
          "Hawlucha",
          "Dedenne",
          "Carbink",
          "Goomy",
          "Sliggoo",
          "Goodra",
          "Klefki",
          "Phantump",
          "Trevenant",
          "Pumpkaboo",
          "Gourgeist",
          "Bergmite",
          "Avalugg",
          "Noibat",
          "Noivern",
          "Xerneas",
          "Yveltal",
          "Zygarde",
          "Diancie",
          "Hoopa",
          "Volcanion",
          "Rowlet",
          "Dartrix",
          "Decidueye",
          "Litten",
          "Torracat",
          "Incineroar",
          "Popplio",
          "Brionne",
          "Primarina",
          "Pikipek",
          "Trumbeak",
          "Toucannon",
          "Yungoos",
          "Gumshoos",
          "Grubbin",
          "Charjabug",
          "Vikavolt",
          "Crabrawler",
          "Crabominable",
          "Oricorio",
          "Cutiefly",
          "Ribombee",
          "Rockruff",
          "Lycanroc",
          "Wishiwashi",
          "Mareanie",
          "Toxapex",
          "Mudbray",
          "Mudsdale",
          "Dewpider",
          "Araquanid",
          "Fomantis",
          "Lurantis",
          "Morelull",
          "Shiinotic",
          "Salandit",
          "Salazzle",
          "Stufful",
          "Bewear",
          "Bounsweet",
          "Steenee",
          "Tsareena",
          "Comfey",
          "Oranguru",
          "Passimian",
          "Wimpod",
          "Golisopod",
          "Sandygast",
          "Palossand",
          "Pyukumuku",
          "Type: Null",
          "Silvally",
          "Minior",
          "Komala",
          "Turtonator",
          "Togedemaru",
          "Mimikyu",
          "Bruxish",
          "Drampa",
          "Dhelmise",
          "Jangmo-o",
          "Hakamo-o",
          "Kommo-o",
          "Tapu Koko",
          "Tapu Lele",
          "Tapu Bulu",
          "Tapu Fini",
          "Cosmog",
          "Cosmoem",
          "Solgaleo",
          "Lunala",
          "Nihilego",
          "Buzzwole",
          "Pheromosa",
          "Xurkitree",
          "Celesteela",
          "Kartana",
          "Guzzlord",
          "Necrozma",
          "Magearna"
         ],
         "legendgroup": "",
         "marker": {
          "color": {
           "bdata": "AQEBAQEBAQEBAQEBAQEBAQEBAQEBAQEBAQEBAQEBAQEBAQEBAQEBAQEBAQEBAQEBAQEBAQEBAQEBAQEBAQEBAQEBAQEBAQEBAQEBAQEBAQEBAQEBAQEBAQEBAQEBAQEBAQEBAQEBAQEBAQEBAQEBAQEBAQEBAQEBAQEBAQEBAQEBAQEBAQEBAQEBAQEBAQEBAQEBAQEBAQICAgICAgICAgICAgICAgICAgICAgICAgICAgICAgICAgICAgICAgICAgICAgICAgICAgICAgICAgICAgICAgICAgICAgICAgICAgICAgICAgICAgICAgICAgICAgICAgICAgIDAwMDAwMDAwMDAwMDAwMDAwMDAwMDAwMDAwMDAwMDAwMDAwMDAwMDAwMDAwMDAwMDAwMDAwMDAwMDAwMDAwMDAwMDAwMDAwMDAwMDAwMDAwMDAwMDAwMDAwMDAwMDAwMDAwMDAwMDAwMDAwMDAwMDAwMDAwMDAwMDAwMDAwMDAwMDAwMDAwMEBAQEBAQEBAQEBAQEBAQEBAQEBAQEBAQEBAQEBAQEBAQEBAQEBAQEBAQEBAQEBAQEBAQEBAQEBAQEBAQEBAQEBAQEBAQEBAQEBAQEBAQEBAQEBAQEBAQEBAQEBAQEBAQEBAQEBAQEBAQEBAUFBQUFBQUFBQUFBQUFBQUFBQUFBQUFBQUFBQUFBQUFBQUFBQUFBQUFBQUFBQUFBQUFBQUFBQUFBQUFBQUFBQUFBQUFBQUFBQUFBQUFBQUFBQUFBQUFBQUFBQUFBQUFBQUFBQUFBQUFBQUFBQUFBQUFBQUFBQUFBQUFBQUFBQUFBQUFBQUFBQUFBQUFBQUFBQUFBQUFBQUFBQUFBQYGBgYGBgYGBgYGBgYGBgYGBgYGBgYGBgYGBgYGBgYGBgYGBgYGBgYGBgYGBgYGBgYGBgYGBgYGBgYGBgYGBgYGBgYGBgYGBgcHBwcHBwcHBwcHBwcHBwcHBwcHBwcHBwcHBwcHBwcHBwcHBwcHBwcHBwcHBwcHBwcHBwcHBwcHBwcHBwcHBwcHBwcHBwcHBwcHBwcHBwcH",
           "dtype": "i1"
          },
          "coloraxis": "coloraxis",
          "symbol": "circle"
         },
         "mode": "markers",
         "name": "",
         "orientation": "v",
         "showlegend": false,
         "type": "scatter",
         "x": {
          "bdata": "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",
          "dtype": "f8"
         },
         "xaxis": "x",
         "y": {
          "bdata": "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",
          "dtype": "f8"
         },
         "yaxis": "y"
        }
       ],
       "layout": {
        "coloraxis": {
         "colorbar": {
          "title": {
           "text": "generation"
          }
         },
         "colorscale": [
          [
           0,
           "#0d0887"
          ],
          [
           0.1111111111111111,
           "#46039f"
          ],
          [
           0.2222222222222222,
           "#7201a8"
          ],
          [
           0.3333333333333333,
           "#9c179e"
          ],
          [
           0.4444444444444444,
           "#bd3786"
          ],
          [
           0.5555555555555556,
           "#d8576b"
          ],
          [
           0.6666666666666666,
           "#ed7953"
          ],
          [
           0.7777777777777778,
           "#fb9f3a"
          ],
          [
           0.8888888888888888,
           "#fdca26"
          ],
          [
           1,
           "#f0f921"
          ]
         ]
        },
        "legend": {
         "title": {
          "text": "Generation"
         },
         "tracegroupgap": 0
        },
        "template": {
         "data": {
          "bar": [
           {
            "error_x": {
             "color": "#2a3f5f"
            },
            "error_y": {
             "color": "#2a3f5f"
            },
            "marker": {
             "line": {
              "color": "white",
              "width": 0.5
             },
             "pattern": {
              "fillmode": "overlay",
              "size": 10,
              "solidity": 0.2
             }
            },
            "type": "bar"
           }
          ],
          "barpolar": [
           {
            "marker": {
             "line": {
              "color": "white",
              "width": 0.5
             },
             "pattern": {
              "fillmode": "overlay",
              "size": 10,
              "solidity": 0.2
             }
            },
            "type": "barpolar"
           }
          ],
          "carpet": [
           {
            "aaxis": {
             "endlinecolor": "#2a3f5f",
             "gridcolor": "#C8D4E3",
             "linecolor": "#C8D4E3",
             "minorgridcolor": "#C8D4E3",
             "startlinecolor": "#2a3f5f"
            },
            "baxis": {
             "endlinecolor": "#2a3f5f",
             "gridcolor": "#C8D4E3",
             "linecolor": "#C8D4E3",
             "minorgridcolor": "#C8D4E3",
             "startlinecolor": "#2a3f5f"
            },
            "type": "carpet"
           }
          ],
          "choropleth": [
           {
            "colorbar": {
             "outlinewidth": 0,
             "ticks": ""
            },
            "type": "choropleth"
           }
          ],
          "contour": [
           {
            "colorbar": {
             "outlinewidth": 0,
             "ticks": ""
            },
            "colorscale": [
             [
              0,
              "#0d0887"
             ],
             [
              0.1111111111111111,
              "#46039f"
             ],
             [
              0.2222222222222222,
              "#7201a8"
             ],
             [
              0.3333333333333333,
              "#9c179e"
             ],
             [
              0.4444444444444444,
              "#bd3786"
             ],
             [
              0.5555555555555556,
              "#d8576b"
             ],
             [
              0.6666666666666666,
              "#ed7953"
             ],
             [
              0.7777777777777778,
              "#fb9f3a"
             ],
             [
              0.8888888888888888,
              "#fdca26"
             ],
             [
              1,
              "#f0f921"
             ]
            ],
            "type": "contour"
           }
          ],
          "contourcarpet": [
           {
            "colorbar": {
             "outlinewidth": 0,
             "ticks": ""
            },
            "type": "contourcarpet"
           }
          ],
          "heatmap": [
           {
            "colorbar": {
             "outlinewidth": 0,
             "ticks": ""
            },
            "colorscale": [
             [
              0,
              "#0d0887"
             ],
             [
              0.1111111111111111,
              "#46039f"
             ],
             [
              0.2222222222222222,
              "#7201a8"
             ],
             [
              0.3333333333333333,
              "#9c179e"
             ],
             [
              0.4444444444444444,
              "#bd3786"
             ],
             [
              0.5555555555555556,
              "#d8576b"
             ],
             [
              0.6666666666666666,
              "#ed7953"
             ],
             [
              0.7777777777777778,
              "#fb9f3a"
             ],
             [
              0.8888888888888888,
              "#fdca26"
             ],
             [
              1,
              "#f0f921"
             ]
            ],
            "type": "heatmap"
           }
          ],
          "histogram": [
           {
            "marker": {
             "pattern": {
              "fillmode": "overlay",
              "size": 10,
              "solidity": 0.2
             }
            },
            "type": "histogram"
           }
          ],
          "histogram2d": [
           {
            "colorbar": {
             "outlinewidth": 0,
             "ticks": ""
            },
            "colorscale": [
             [
              0,
              "#0d0887"
             ],
             [
              0.1111111111111111,
              "#46039f"
             ],
             [
              0.2222222222222222,
              "#7201a8"
             ],
             [
              0.3333333333333333,
              "#9c179e"
             ],
             [
              0.4444444444444444,
              "#bd3786"
             ],
             [
              0.5555555555555556,
              "#d8576b"
             ],
             [
              0.6666666666666666,
              "#ed7953"
             ],
             [
              0.7777777777777778,
              "#fb9f3a"
             ],
             [
              0.8888888888888888,
              "#fdca26"
             ],
             [
              1,
              "#f0f921"
             ]
            ],
            "type": "histogram2d"
           }
          ],
          "histogram2dcontour": [
           {
            "colorbar": {
             "outlinewidth": 0,
             "ticks": ""
            },
            "colorscale": [
             [
              0,
              "#0d0887"
             ],
             [
              0.1111111111111111,
              "#46039f"
             ],
             [
              0.2222222222222222,
              "#7201a8"
             ],
             [
              0.3333333333333333,
              "#9c179e"
             ],
             [
              0.4444444444444444,
              "#bd3786"
             ],
             [
              0.5555555555555556,
              "#d8576b"
             ],
             [
              0.6666666666666666,
              "#ed7953"
             ],
             [
              0.7777777777777778,
              "#fb9f3a"
             ],
             [
              0.8888888888888888,
              "#fdca26"
             ],
             [
              1,
              "#f0f921"
             ]
            ],
            "type": "histogram2dcontour"
           }
          ],
          "mesh3d": [
           {
            "colorbar": {
             "outlinewidth": 0,
             "ticks": ""
            },
            "type": "mesh3d"
           }
          ],
          "parcoords": [
           {
            "line": {
             "colorbar": {
              "outlinewidth": 0,
              "ticks": ""
             }
            },
            "type": "parcoords"
           }
          ],
          "pie": [
           {
            "automargin": true,
            "type": "pie"
           }
          ],
          "scatter": [
           {
            "fillpattern": {
             "fillmode": "overlay",
             "size": 10,
             "solidity": 0.2
            },
            "type": "scatter"
           }
          ],
          "scatter3d": [
           {
            "line": {
             "colorbar": {
              "outlinewidth": 0,
              "ticks": ""
             }
            },
            "marker": {
             "colorbar": {
              "outlinewidth": 0,
              "ticks": ""
             }
            },
            "type": "scatter3d"
           }
          ],
          "scattercarpet": [
           {
            "marker": {
             "colorbar": {
              "outlinewidth": 0,
              "ticks": ""
             }
            },
            "type": "scattercarpet"
           }
          ],
          "scattergeo": [
           {
            "marker": {
             "colorbar": {
              "outlinewidth": 0,
              "ticks": ""
             }
            },
            "type": "scattergeo"
           }
          ],
          "scattergl": [
           {
            "marker": {
             "colorbar": {
              "outlinewidth": 0,
              "ticks": ""
             }
            },
            "type": "scattergl"
           }
          ],
          "scattermap": [
           {
            "marker": {
             "colorbar": {
              "outlinewidth": 0,
              "ticks": ""
             }
            },
            "type": "scattermap"
           }
          ],
          "scattermapbox": [
           {
            "marker": {
             "colorbar": {
              "outlinewidth": 0,
              "ticks": ""
             }
            },
            "type": "scattermapbox"
           }
          ],
          "scatterpolar": [
           {
            "marker": {
             "colorbar": {
              "outlinewidth": 0,
              "ticks": ""
             }
            },
            "type": "scatterpolar"
           }
          ],
          "scatterpolargl": [
           {
            "marker": {
             "colorbar": {
              "outlinewidth": 0,
              "ticks": ""
             }
            },
            "type": "scatterpolargl"
           }
          ],
          "scatterternary": [
           {
            "marker": {
             "colorbar": {
              "outlinewidth": 0,
              "ticks": ""
             }
            },
            "type": "scatterternary"
           }
          ],
          "surface": [
           {
            "colorbar": {
             "outlinewidth": 0,
             "ticks": ""
            },
            "colorscale": [
             [
              0,
              "#0d0887"
             ],
             [
              0.1111111111111111,
              "#46039f"
             ],
             [
              0.2222222222222222,
              "#7201a8"
             ],
             [
              0.3333333333333333,
              "#9c179e"
             ],
             [
              0.4444444444444444,
              "#bd3786"
             ],
             [
              0.5555555555555556,
              "#d8576b"
             ],
             [
              0.6666666666666666,
              "#ed7953"
             ],
             [
              0.7777777777777778,
              "#fb9f3a"
             ],
             [
              0.8888888888888888,
              "#fdca26"
             ],
             [
              1,
              "#f0f921"
             ]
            ],
            "type": "surface"
           }
          ],
          "table": [
           {
            "cells": {
             "fill": {
              "color": "#EBF0F8"
             },
             "line": {
              "color": "white"
             }
            },
            "header": {
             "fill": {
              "color": "#C8D4E3"
             },
             "line": {
              "color": "white"
             }
            },
            "type": "table"
           }
          ]
         },
         "layout": {
          "annotationdefaults": {
           "arrowcolor": "#2a3f5f",
           "arrowhead": 0,
           "arrowwidth": 1
          },
          "autotypenumbers": "strict",
          "coloraxis": {
           "colorbar": {
            "outlinewidth": 0,
            "ticks": ""
           }
          },
          "colorscale": {
           "diverging": [
            [
             0,
             "#8e0152"
            ],
            [
             0.1,
             "#c51b7d"
            ],
            [
             0.2,
             "#de77ae"
            ],
            [
             0.3,
             "#f1b6da"
            ],
            [
             0.4,
             "#fde0ef"
            ],
            [
             0.5,
             "#f7f7f7"
            ],
            [
             0.6,
             "#e6f5d0"
            ],
            [
             0.7,
             "#b8e186"
            ],
            [
             0.8,
             "#7fbc41"
            ],
            [
             0.9,
             "#4d9221"
            ],
            [
             1,
             "#276419"
            ]
           ],
           "sequential": [
            [
             0,
             "#0d0887"
            ],
            [
             0.1111111111111111,
             "#46039f"
            ],
            [
             0.2222222222222222,
             "#7201a8"
            ],
            [
             0.3333333333333333,
             "#9c179e"
            ],
            [
             0.4444444444444444,
             "#bd3786"
            ],
            [
             0.5555555555555556,
             "#d8576b"
            ],
            [
             0.6666666666666666,
             "#ed7953"
            ],
            [
             0.7777777777777778,
             "#fb9f3a"
            ],
            [
             0.8888888888888888,
             "#fdca26"
            ],
            [
             1,
             "#f0f921"
            ]
           ],
           "sequentialminus": [
            [
             0,
             "#0d0887"
            ],
            [
             0.1111111111111111,
             "#46039f"
            ],
            [
             0.2222222222222222,
             "#7201a8"
            ],
            [
             0.3333333333333333,
             "#9c179e"
            ],
            [
             0.4444444444444444,
             "#bd3786"
            ],
            [
             0.5555555555555556,
             "#d8576b"
            ],
            [
             0.6666666666666666,
             "#ed7953"
            ],
            [
             0.7777777777777778,
             "#fb9f3a"
            ],
            [
             0.8888888888888888,
             "#fdca26"
            ],
            [
             1,
             "#f0f921"
            ]
           ]
          },
          "colorway": [
           "#636efa",
           "#EF553B",
           "#00cc96",
           "#ab63fa",
           "#FFA15A",
           "#19d3f3",
           "#FF6692",
           "#B6E880",
           "#FF97FF",
           "#FECB52"
          ],
          "font": {
           "color": "#2a3f5f"
          },
          "geo": {
           "bgcolor": "white",
           "lakecolor": "white",
           "landcolor": "white",
           "showlakes": true,
           "showland": true,
           "subunitcolor": "#C8D4E3"
          },
          "hoverlabel": {
           "align": "left"
          },
          "hovermode": "closest",
          "mapbox": {
           "style": "light"
          },
          "paper_bgcolor": "white",
          "plot_bgcolor": "white",
          "polar": {
           "angularaxis": {
            "gridcolor": "#EBF0F8",
            "linecolor": "#EBF0F8",
            "ticks": ""
           },
           "bgcolor": "white",
           "radialaxis": {
            "gridcolor": "#EBF0F8",
            "linecolor": "#EBF0F8",
            "ticks": ""
           }
          },
          "scene": {
           "xaxis": {
            "backgroundcolor": "white",
            "gridcolor": "#DFE8F3",
            "gridwidth": 2,
            "linecolor": "#EBF0F8",
            "showbackground": true,
            "ticks": "",
            "zerolinecolor": "#EBF0F8"
           },
           "yaxis": {
            "backgroundcolor": "white",
            "gridcolor": "#DFE8F3",
            "gridwidth": 2,
            "linecolor": "#EBF0F8",
            "showbackground": true,
            "ticks": "",
            "zerolinecolor": "#EBF0F8"
           },
           "zaxis": {
            "backgroundcolor": "white",
            "gridcolor": "#DFE8F3",
            "gridwidth": 2,
            "linecolor": "#EBF0F8",
            "showbackground": true,
            "ticks": "",
            "zerolinecolor": "#EBF0F8"
           }
          },
          "shapedefaults": {
           "line": {
            "color": "#2a3f5f"
           }
          },
          "ternary": {
           "aaxis": {
            "gridcolor": "#DFE8F3",
            "linecolor": "#A2B1C6",
            "ticks": ""
           },
           "baxis": {
            "gridcolor": "#DFE8F3",
            "linecolor": "#A2B1C6",
            "ticks": ""
           },
           "bgcolor": "white",
           "caxis": {
            "gridcolor": "#DFE8F3",
            "linecolor": "#A2B1C6",
            "ticks": ""
           }
          },
          "title": {
           "x": 0.05
          },
          "xaxis": {
           "automargin": true,
           "gridcolor": "#EBF0F8",
           "linecolor": "#EBF0F8",
           "ticks": "",
           "title": {
            "standoff": 15
           },
           "zerolinecolor": "#EBF0F8",
           "zerolinewidth": 2
          },
          "yaxis": {
           "automargin": true,
           "gridcolor": "#EBF0F8",
           "linecolor": "#EBF0F8",
           "ticks": "",
           "title": {
            "standoff": 15
           },
           "zerolinecolor": "#EBF0F8",
           "zerolinewidth": 2
          }
         }
        },
        "title": {
         "text": "PCA of Type Effectiveness by Generation"
        },
        "xaxis": {
         "anchor": "y",
         "domain": [
          0,
          1
         ],
         "title": {
          "text": "PC1"
         }
        },
        "yaxis": {
         "anchor": "x",
         "domain": [
          0,
          1
         ],
         "title": {
          "text": "PC2"
         }
        }
       }
      }
     },
     "metadata": {},
     "output_type": "display_data"
    }
   ],
   "source": [
    "# Create interactive scatter plots for Type Effectiveness PCA if available\n",
    "if len(type_cols) > 0:\n",
    "    # By primary type\n",
    "    if 'type1' in pokemon_clean.columns:\n",
    "        fig = px.scatter(\n",
    "            pokemon_clean, \n",
    "            x='type_pc1', \n",
    "            y='type_pc2',\n",
    "            color='type1',\n",
    "            hover_name='name' if 'name' in pokemon_clean.columns else None,\n",
    "            title='PCA of Type Effectiveness by Primary Type',\n",
    "            labels={'type_pc1': 'PC1', 'type_pc2': 'PC2'},\n",
    "            template='plotly_white'\n",
    "        )\n",
    "        fig.update_layout(legend_title_text='Type')\n",
    "        fig.show()\n",
    "        \n",
    "    # By generation\n",
    "    if 'generation' in pokemon_clean.columns:\n",
    "        fig = px.scatter(\n",
    "            pokemon_clean, \n",
    "            x='type_pc1', \n",
    "            y='type_pc2',\n",
    "            color='generation',\n",
    "            hover_name='name' if 'name' in pokemon_clean.columns else None,\n",
    "            title='PCA of Type Effectiveness by Generation',\n",
    "            labels={'type_pc1': 'PC1', 'type_pc2': 'PC2'},\n",
    "            template='plotly_white'\n",
    "        )\n",
    "        fig.update_layout(legend_title_text='Generation')\n",
    "        fig.show()"
   ]
  },
  {
   "cell_type": "markdown",
   "id": "1e3da1b3",
   "metadata": {},
   "source": [
    "## Conclusion\n",
    "\n",
    "In this notebook, we've applied PCA to two different aspects of Pokémon data:\n",
    "\n",
    "1. **Battle Stats Analysis**:\n",
    "   - Identified the principal components that explain the variance in battle statistics\n",
    "   - Visualized how different types and generations of Pokémon cluster in this space\n",
    "   - Observed patterns related to legendary status\n",
    "\n",
    "2. **Type Effectiveness Analysis**:\n",
    "   - Analyzed the patterns of resistances and weaknesses\n",
    "   - Identified the key combinations of type effectiveness that explain most variance\n",
    "   - Visualized how Pokémon cluster based on their defensive profiles\n",
    "\n",
    "This analysis helps us understand the underlying structure of the Pokémon dataset and how different attributes relate to each other in lower-dimensional space."
   ]
  }
 ],
 "metadata": {
  "kernelspec": {
   "display_name": ".venv",
   "language": "python",
   "name": "python3"
  },
  "language_info": {
   "codemirror_mode": {
    "name": "ipython",
    "version": 3
   },
   "file_extension": ".py",
   "mimetype": "text/x-python",
   "name": "python",
   "nbconvert_exporter": "python",
   "pygments_lexer": "ipython3",
   "version": "3.13.3"
  }
 },
 "nbformat": 4,
 "nbformat_minor": 5
}
